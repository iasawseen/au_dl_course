{
 "cells": [
  {
   "cell_type": "code",
   "execution_count": 1,
   "metadata": {
    "collapsed": true
   },
   "outputs": [],
   "source": [
    "%matplotlib inline\n",
    "import matplotlib.pyplot as plt\n",
    "import tensorflow as tf\n",
    "import numpy as np\n",
    "from sklearn.metrics import confusion_matrix\n",
    "import time\n",
    "from datetime import timedelta\n",
    "import math\n",
    "import os\n",
    "\n",
    "# Use PrettyTensor to simplify Neural Network construction.\n",
    "import prettytensor as pt"
   ]
  },
  {
   "cell_type": "markdown",
   "metadata": {},
   "source": [
    "## Load Data"
   ]
  },
  {
   "cell_type": "code",
   "execution_count": 2,
   "metadata": {
    "collapsed": true
   },
   "outputs": [],
   "source": [
    "import cifar10"
   ]
  },
  {
   "cell_type": "markdown",
   "metadata": {},
   "source": [
    "Set the path for storing the data-set on your computer."
   ]
  },
  {
   "cell_type": "markdown",
   "metadata": {},
   "source": [
    "The CIFAR-10 data-set is about 163 MB and will be downloaded automatically if it is not located in the given path."
   ]
  },
  {
   "cell_type": "code",
   "execution_count": 3,
   "metadata": {
    "scrolled": true
   },
   "outputs": [
    {
     "name": "stdout",
     "output_type": "stream",
     "text": [
      "Data has apparently already been downloaded and unpacked.\n"
     ]
    }
   ],
   "source": [
    "cifar10.maybe_download_and_extract()"
   ]
  },
  {
   "cell_type": "markdown",
   "metadata": {},
   "source": [
    "Load the class-names."
   ]
  },
  {
   "cell_type": "code",
   "execution_count": 4,
   "metadata": {},
   "outputs": [
    {
     "name": "stdout",
     "output_type": "stream",
     "text": [
      "Loading data: data/CIFAR-10/cifar-10-batches-py/batches.meta\n"
     ]
    },
    {
     "data": {
      "text/plain": [
       "['airplane',\n",
       " 'automobile',\n",
       " 'bird',\n",
       " 'cat',\n",
       " 'deer',\n",
       " 'dog',\n",
       " 'frog',\n",
       " 'horse',\n",
       " 'ship',\n",
       " 'truck']"
      ]
     },
     "execution_count": 4,
     "metadata": {},
     "output_type": "execute_result"
    }
   ],
   "source": [
    "class_names = cifar10.load_class_names()\n",
    "class_names"
   ]
  },
  {
   "cell_type": "markdown",
   "metadata": {},
   "source": [
    "Load the training-set. This returns the images, the class-numbers as integers, and the class-numbers as One-Hot encoded arrays called labels."
   ]
  },
  {
   "cell_type": "code",
   "execution_count": 5,
   "metadata": {},
   "outputs": [
    {
     "name": "stdout",
     "output_type": "stream",
     "text": [
      "Loading data: data/CIFAR-10/cifar-10-batches-py/data_batch_1\n",
      "Loading data: data/CIFAR-10/cifar-10-batches-py/data_batch_2\n",
      "Loading data: data/CIFAR-10/cifar-10-batches-py/data_batch_3\n",
      "Loading data: data/CIFAR-10/cifar-10-batches-py/data_batch_4\n",
      "Loading data: data/CIFAR-10/cifar-10-batches-py/data_batch_5\n"
     ]
    }
   ],
   "source": [
    "images_train, cls_train, labels_train = cifar10.load_training_data()"
   ]
  },
  {
   "cell_type": "markdown",
   "metadata": {},
   "source": [
    "Load the test-set."
   ]
  },
  {
   "cell_type": "code",
   "execution_count": 6,
   "metadata": {},
   "outputs": [
    {
     "name": "stdout",
     "output_type": "stream",
     "text": [
      "Loading data: data/CIFAR-10/cifar-10-batches-py/test_batch\n"
     ]
    }
   ],
   "source": [
    "images_test, cls_test, labels_test = cifar10.load_test_data()"
   ]
  },
  {
   "cell_type": "markdown",
   "metadata": {},
   "source": [
    "The CIFAR-10 data-set has now been loaded and consists of 60,000 images and associated labels (i.e. classifications of the images). The data-set is split into 2 mutually exclusive sub-sets, the training-set and the test-set."
   ]
  },
  {
   "cell_type": "code",
   "execution_count": 7,
   "metadata": {
    "scrolled": false
   },
   "outputs": [
    {
     "name": "stdout",
     "output_type": "stream",
     "text": [
      "Size of:\n",
      "- Training-set:\t\t50000\n",
      "- Test-set:\t\t10000\n"
     ]
    }
   ],
   "source": [
    "print(\"Size of:\")\n",
    "print(\"- Training-set:\\t\\t{}\".format(len(images_train)))\n",
    "print(\"- Test-set:\\t\\t{}\".format(len(images_test)))"
   ]
  },
  {
   "cell_type": "markdown",
   "metadata": {},
   "source": [
    "The data dimensions are used in several places in the source-code below. They have already been defined in the cifar10 module, so we just need to import them."
   ]
  },
  {
   "cell_type": "code",
   "execution_count": 8,
   "metadata": {
    "collapsed": true
   },
   "outputs": [],
   "source": [
    "from cifar10 import img_size, num_channels, num_classes"
   ]
  },
  {
   "cell_type": "markdown",
   "metadata": {},
   "source": [
    "The images are 32 x 32 pixels, but we will crop the images to 24 x 24 pixels."
   ]
  },
  {
   "cell_type": "code",
   "execution_count": 9,
   "metadata": {
    "collapsed": true
   },
   "outputs": [],
   "source": [
    "img_size_cropped = 24"
   ]
  },
  {
   "cell_type": "markdown",
   "metadata": {},
   "source": [
    "Function used to plot 9 images in a 3x3 grid, and writing the true and predicted classes below each image."
   ]
  },
  {
   "cell_type": "code",
   "execution_count": 10,
   "metadata": {
    "collapsed": true
   },
   "outputs": [],
   "source": [
    "def plot_images(images, cls_true, cls_pred=None, smooth=True):\n",
    "\n",
    "    assert len(images) == len(cls_true) == 9\n",
    "\n",
    "    # Create figure with sub-plots.\n",
    "    fig, axes = plt.subplots(3, 3)\n",
    "\n",
    "    # Adjust vertical spacing if we need to print ensemble and best-net.\n",
    "    if cls_pred is None:\n",
    "        hspace = 0.3\n",
    "    else:\n",
    "        hspace = 0.6\n",
    "    fig.subplots_adjust(hspace=hspace, wspace=0.3)\n",
    "\n",
    "    for i, ax in enumerate(axes.flat):\n",
    "        # Interpolation type.\n",
    "        if smooth:\n",
    "            interpolation = 'spline16'\n",
    "        else:\n",
    "            interpolation = 'nearest'\n",
    "\n",
    "        # Plot image.\n",
    "        ax.imshow(images[i, :, :, :],\n",
    "                  interpolation=interpolation)\n",
    "            \n",
    "        # Name of the true class.\n",
    "        cls_true_name = class_names[cls_true[i]]\n",
    "\n",
    "        # Show true and predicted classes.\n",
    "        if cls_pred is None:\n",
    "            xlabel = \"True: {0}\".format(cls_true_name)\n",
    "        else:\n",
    "            # Name of the predicted class.\n",
    "            cls_pred_name = class_names[cls_pred[i]]\n",
    "\n",
    "            xlabel = \"True: {0}\\nPred: {1}\".format(cls_true_name, cls_pred_name)\n",
    "\n",
    "        # Show the classes as the label on the x-axis.\n",
    "        ax.set_xlabel(xlabel)\n",
    "        \n",
    "        # Remove ticks from the plot.\n",
    "        ax.set_xticks([])\n",
    "        ax.set_yticks([])\n",
    "    \n",
    "    # Ensure the plot is shown correctly with multiple plots\n",
    "    # in a single Notebook cell.\n",
    "    plt.show()"
   ]
  },
  {
   "cell_type": "markdown",
   "metadata": {},
   "source": [
    "### Plot a few images to see if data is correct"
   ]
  },
  {
   "cell_type": "code",
   "execution_count": 11,
   "metadata": {
    "scrolled": true
   },
   "outputs": [
    {
     "data": {
      "image/png": "[encoded data removed]",
      "text/plain": [
       "<matplotlib.figure.Figure at 0x7fce77660470>"
      ]
     },
     "metadata": {},
     "output_type": "display_data"
    }
   ],
   "source": [
    "# Get the first images from the test-set.\n",
    "images = images_test[0:9]\n",
    "\n",
    "# Get the true classes for those images.\n",
    "cls_true = cls_test[0:9]\n",
    "\n",
    "# Plot the images and labels using our helper-function above.\n",
    "plot_images(images=images, cls_true=cls_true, smooth=False)"
   ]
  },
  {
   "cell_type": "markdown",
   "metadata": {},
   "source": [
    "The pixelated images above are what the neural network will get as input. The images might be a bit easier for the human eye to recognize if we smoothen the pixels."
   ]
  },
  {
   "cell_type": "code",
   "execution_count": 12,
   "metadata": {},
   "outputs": [
    {
     "data": {
      "image/png": "[encoded data removed]",
      "text/plain": [
       "<matplotlib.figure.Figure at 0x7fce7766bbe0>"
      ]
     },
     "metadata": {},
     "output_type": "display_data"
    }
   ],
   "source": [
    "plot_images(images=images, cls_true=cls_true, smooth=True)"
   ]
  },
  {
   "cell_type": "code",
   "execution_count": 13,
   "metadata": {
    "collapsed": true
   },
   "outputs": [],
   "source": [
    "x = tf.placeholder(tf.float32, shape=[None, img_size, img_size, num_channels], name='x')"
   ]
  },
  {
   "cell_type": "code",
   "execution_count": 14,
   "metadata": {
    "collapsed": true
   },
   "outputs": [],
   "source": [
    "y_true = tf.placeholder(tf.float32, shape=[None, num_classes], name='y_true')"
   ]
  },
  {
   "cell_type": "code",
   "execution_count": 15,
   "metadata": {},
   "outputs": [
    {
     "name": "stdout",
     "output_type": "stream",
     "text": [
      "WARNING:tensorflow:From <ipython-input-15-4674210f2acc>:1: calling argmax (from tensorflow.python.ops.math_ops) with dimension is deprecated and will be removed in a future version.\n",
      "Instructions for updating:\n",
      "Use the `axis` argument instead\n"
     ]
    }
   ],
   "source": [
    "y_true_cls = tf.argmax(y_true, dimension=1)"
   ]
  },
  {
   "cell_type": "markdown",
   "metadata": {},
   "source": [
    "### Data augmentation for images"
   ]
  },
  {
   "cell_type": "markdown",
   "metadata": {},
   "source": [
    "The following helper-functions create the part of the TensorFlow computational graph that pre-processes the input images. Nothing is actually calculated at this point, the function merely adds nodes to the computational graph for TensorFlow.\n",
    "\n",
    "The pre-processing is different for training and testing of the neural network:\n",
    "* For training, the input images are randomly cropped, randomly flipped horizontally, and the hue, contrast and saturation is adjusted with random values. This artificially inflates the size of the training-set by creating random variations of the original input images. Examples of distorted images are shown further below.\n",
    "\n",
    "* For testing, the input images are cropped around the centre and nothing else is adjusted."
   ]
  },
  {
   "cell_type": "code",
   "execution_count": 16,
   "metadata": {
    "collapsed": true
   },
   "outputs": [],
   "source": [
    "def pre_process_image(image, training):\n",
    "    # This function takes a single image as input,\n",
    "    # and a boolean whether to build the training or testing graph.\n",
    "    \n",
    "    if training:\n",
    "        # For training, add the following to the TensorFlow graph.\n",
    "\n",
    "        # Randomly crop the input image.\n",
    "        image = tf.random_crop(image, size=[img_size_cropped, img_size_cropped, num_channels])\n",
    "\n",
    "        # Randomly flip the image horizontally.\n",
    "        image = tf.image.random_flip_left_right(image)\n",
    "        \n",
    "        # Randomly adjust hue, contrast and saturation.\n",
    "        image = tf.image.random_hue(image, max_delta=0.05)\n",
    "        image = tf.image.random_contrast(image, lower=0.3, upper=1.0)\n",
    "        image = tf.image.random_brightness(image, max_delta=0.2)\n",
    "        image = tf.image.random_saturation(image, lower=0.0, upper=2.0)\n",
    "\n",
    "        # Some of these functions may overflow and result in pixel\n",
    "        # values beyond the [0, 1] range. It is unclear from the\n",
    "        # documentation of TensorFlow whether this is\n",
    "        # intended. A simple solution is to limit the range.\n",
    "\n",
    "        # Limit the image pixels between [0, 1] in case of overflow.\n",
    "        image = tf.minimum(image, 1.0)\n",
    "        image = tf.maximum(image, 0.0)\n",
    "    else:\n",
    "        # For training, add the following to the TensorFlow graph.\n",
    "\n",
    "        # Crop the input image around the centre so it is the same\n",
    "        # size as images that are randomly cropped during training.\n",
    "        image = tf.image.resize_image_with_crop_or_pad(image,\n",
    "                                                       target_height=img_size_cropped,\n",
    "                                                       target_width=img_size_cropped)\n",
    "\n",
    "    return image"
   ]
  },
  {
   "cell_type": "markdown",
   "metadata": {},
   "source": [
    "The function above is called for each image in the input batch using the following function."
   ]
  },
  {
   "cell_type": "code",
   "execution_count": 17,
   "metadata": {
    "collapsed": true
   },
   "outputs": [],
   "source": [
    "def pre_process(images, training):\n",
    "    # Use TensorFlow to loop over all the input images and call\n",
    "    # the function above which takes a single image as input.\n",
    "    images = tf.map_fn(lambda image: pre_process_image(image, training), images)\n",
    "\n",
    "    return images"
   ]
  },
  {
   "cell_type": "markdown",
   "metadata": {},
   "source": [
    "In order to plot the distorted images, we create the pre-processing graph for TensorFlow, so we may execute it later."
   ]
  },
  {
   "cell_type": "code",
   "execution_count": 18,
   "metadata": {
    "collapsed": true
   },
   "outputs": [],
   "source": [
    "distorted_images = pre_process(images=x, training=True)"
   ]
  },
  {
   "cell_type": "markdown",
   "metadata": {},
   "source": [
    "### Creating Main Processing"
   ]
  },
  {
   "cell_type": "code",
   "execution_count": 19,
   "metadata": {
    "collapsed": true
   },
   "outputs": [],
   "source": [
    "def main_network(images, training):\n",
    "    # Wrap the input images as a Pretty Tensor object.\n",
    "    x_pretty = pt.wrap(images)\n",
    "\n",
    "    # Pretty Tensor uses special numbers to distinguish between\n",
    "    # the training and testing phases.\n",
    "    if training:\n",
    "        phase = pt.Phase.train\n",
    "    else:\n",
    "        phase = pt.Phase.infer\n",
    "\n",
    "    # Create the convolutional neural network using Pretty Tensor.\n",
    "    with pt.defaults_scope(activation_fn=tf.nn.relu, phase=phase):\n",
    "        y_pred, loss = x_pretty.\\\n",
    "            conv2d(kernel=5, depth=64, name='layer_conv1', batch_normalize=True).\\\n",
    "            max_pool(kernel=2, stride=2).\\\n",
    "            conv2d(kernel=5, depth=64, name='layer_conv2').\\\n",
    "            max_pool(kernel=2, stride=2).\\\n",
    "            flatten().\\\n",
    "            fully_connected(size=256, name='layer_fc1').\\\n",
    "            fully_connected(size=128, name='layer_fc2').\\\n",
    "            softmax_classifier(num_classes=num_classes, labels=y_true)\n",
    "\n",
    "    return y_pred, loss"
   ]
  },
  {
   "cell_type": "markdown",
   "metadata": {},
   "source": [
    "### Creating Neural Network"
   ]
  },
  {
   "cell_type": "markdown",
   "metadata": {},
   "source": [
    "Note that the neural network is enclosed in the variable-scope named 'network'. This is because we are actually creating two neural networks in the TensorFlow graph. By assigning a variable-scope like this, we can re-use the variables for the two neural networks, so the variables that are optimized for the training-network are re-used for the other network that is used for testing."
   ]
  },
  {
   "cell_type": "code",
   "execution_count": 20,
   "metadata": {
    "collapsed": true
   },
   "outputs": [],
   "source": [
    "def create_network(training):\n",
    "    # Wrap the neural network in the scope named 'network'.\n",
    "    # Create new variables during training, and re-use during testing.\n",
    "    with tf.variable_scope('network', reuse=not training):\n",
    "        # Just rename the input placeholder variable for convenience.\n",
    "        images = x\n",
    "\n",
    "        # Create TensorFlow graph for pre-processing.\n",
    "        images = pre_process(images=images, training=training)\n",
    "\n",
    "        # Create TensorFlow graph for the main processing.\n",
    "        y_pred, loss = main_network(images=images, training=training)\n",
    "\n",
    "    return y_pred, loss"
   ]
  },
  {
   "cell_type": "markdown",
   "metadata": {},
   "source": [
    "### Create Neural Network for Training Phase"
   ]
  },
  {
   "cell_type": "markdown",
   "metadata": {},
   "source": [
    "Note that `trainable=False` which means that TensorFlow will not try to optimize this variable."
   ]
  },
  {
   "cell_type": "code",
   "execution_count": 21,
   "metadata": {
    "collapsed": true
   },
   "outputs": [],
   "source": [
    "global_step = tf.Variable(initial_value=0,\n",
    "                          name='global_step', trainable=False)"
   ]
  },
  {
   "cell_type": "markdown",
   "metadata": {},
   "source": [
    "Create the neural network to be used for training. The `create_network()` function returns both `y_pred` and `loss`, but we only need the `loss`-function during training."
   ]
  },
  {
   "cell_type": "code",
   "execution_count": 22,
   "metadata": {
    "collapsed": true
   },
   "outputs": [],
   "source": [
    "_, loss = create_network(training=True)"
   ]
  },
  {
   "cell_type": "markdown",
   "metadata": {},
   "source": [
    "Create an optimizer which will minimize the `loss`-function. Also pass the `global_step` variable to the optimizer so it will be increased by one after each iteration."
   ]
  },
  {
   "cell_type": "code",
   "execution_count": 23,
   "metadata": {
    "collapsed": true
   },
   "outputs": [],
   "source": [
    "optimizer = tf.train.AdamOptimizer(learning_rate=1e-4).minimize(loss, global_step=global_step)"
   ]
  },
  {
   "cell_type": "markdown",
   "metadata": {},
   "source": [
    "### Create Neural Network for Test Phase / Inference"
   ]
  },
  {
   "cell_type": "markdown",
   "metadata": {},
   "source": [
    "Now create the neural network for the test-phase. Once again the `create_network()` function returns the predicted class-labels `y_pred` for the input images, as well as the `loss`-function to be used during optimization. During testing we only need `y_pred`."
   ]
  },
  {
   "cell_type": "code",
   "execution_count": 24,
   "metadata": {
    "collapsed": true
   },
   "outputs": [],
   "source": [
    "y_pred, _ = create_network(training=False)"
   ]
  },
  {
   "cell_type": "markdown",
   "metadata": {},
   "source": [
    "We then calculate the predicted class number as an integer. The output of the network `y_pred` is an array with 10 elements. The class number is the index of the largest element in the array."
   ]
  },
  {
   "cell_type": "code",
   "execution_count": 25,
   "metadata": {},
   "outputs": [
    {
     "name": "stdout",
     "output_type": "stream",
     "text": [
      "WARNING:tensorflow:From <ipython-input-25-6aa54000365b>:1: calling argmax (from tensorflow.python.ops.math_ops) with dimension is deprecated and will be removed in a future version.\n",
      "Instructions for updating:\n",
      "Use the `axis` argument instead\n"
     ]
    }
   ],
   "source": [
    "y_pred_cls = tf.argmax(y_pred, dimension=1)"
   ]
  },
  {
   "cell_type": "markdown",
   "metadata": {},
   "source": [
    "Then we create a vector of booleans telling us whether the predicted class equals the true class of each image."
   ]
  },
  {
   "cell_type": "code",
   "execution_count": 26,
   "metadata": {
    "collapsed": true
   },
   "outputs": [],
   "source": [
    "correct_prediction = tf.equal(y_pred_cls, y_true_cls)"
   ]
  },
  {
   "cell_type": "markdown",
   "metadata": {},
   "source": [
    "The classification accuracy is calculated by first type-casting the vector of booleans to floats, so that False becomes 0 and True becomes 1, and then taking the average of these numbers."
   ]
  },
  {
   "cell_type": "code",
   "execution_count": 27,
   "metadata": {
    "collapsed": true
   },
   "outputs": [],
   "source": [
    "accuracy = tf.reduce_mean(tf.cast(correct_prediction, tf.float32))"
   ]
  },
  {
   "cell_type": "markdown",
   "metadata": {},
   "source": [
    "### Saver\n",
    "\n",
    "In order to save the variables of the neural network, so they can be reloaded quickly without having to train the network again, we now create a so-called Saver-object which is used for storing and retrieving all the variables of the TensorFlow graph. Nothing is actually saved at this point, which will be done further below."
   ]
  },
  {
   "cell_type": "code",
   "execution_count": 28,
   "metadata": {
    "collapsed": true
   },
   "outputs": [],
   "source": [
    "saver = tf.train.Saver()"
   ]
  },
  {
   "cell_type": "markdown",
   "metadata": {},
   "source": [
    "### Getting the Weights"
   ]
  },
  {
   "cell_type": "markdown",
   "metadata": {},
   "source": [
    "Further below, we want to plot the weights of the neural network. When the network is constructed using Pretty Tensor, all the variables of the layers are created indirectly by Pretty Tensor. We therefore have to retrieve the variables from TensorFlow.\n",
    "\n",
    "We used the names `layer_conv1` and `layer_conv2` for the two convolutional layers. These are also called variable scopes. Pretty Tensor automatically gives names to the variables it creates for each layer, so we can retrieve the weights for a layer using the layer's scope-name and the variable-name.\n",
    "\n",
    "The implementation is somewhat awkward because we have to use the TensorFlow function `get_variable()` which was designed for another purpose; either creating a new variable or re-using an existing variable. The easiest thing is to make the following helper-function."
   ]
  },
  {
   "cell_type": "code",
   "execution_count": 29,
   "metadata": {
    "collapsed": true
   },
   "outputs": [],
   "source": [
    "def get_weights_variable(layer_name):\n",
    "    # Retrieve an existing variable named 'weights' in the scope\n",
    "    # with the given layer_name.\n",
    "    # This is awkward because the TensorFlow function was\n",
    "    # really intended for another purpose.\n",
    "\n",
    "    with tf.variable_scope(\"network/\" + layer_name, reuse=True):\n",
    "        variable = tf.get_variable('weights')\n",
    "\n",
    "    return variable"
   ]
  },
  {
   "cell_type": "markdown",
   "metadata": {},
   "source": [
    "Using this helper-function we can retrieve the variables. These are TensorFlow objects. In order to get the contents of the variables, you must do something like: `contents = session.run(weights_conv1)` as demonstrated further below."
   ]
  },
  {
   "cell_type": "code",
   "execution_count": 30,
   "metadata": {
    "collapsed": true
   },
   "outputs": [],
   "source": [
    "weights_conv1 = get_weights_variable(layer_name='layer_conv1')\n",
    "weights_conv2 = get_weights_variable(layer_name='layer_conv2')"
   ]
  },
  {
   "cell_type": "code",
   "execution_count": 31,
   "metadata": {},
   "outputs": [
    {
     "name": "stdout",
     "output_type": "stream",
     "text": [
      "(5, 5, 3, 64)\n"
     ]
    }
   ],
   "source": [
    "with tf.Session() as sess:\n",
    "    sess.run(tf.global_variables_initializer())\n",
    "    print(sess.run(weights_conv1).shape)"
   ]
  },
  {
   "cell_type": "code",
   "execution_count": 32,
   "metadata": {},
   "outputs": [
    {
     "name": "stdout",
     "output_type": "stream",
     "text": [
      "(5, 5, 64, 64)\n"
     ]
    }
   ],
   "source": [
    "with tf.Session() as sess:\n",
    "    sess.run(tf.global_variables_initializer())\n",
    "    print(sess.run(weights_conv2).shape)"
   ]
  },
  {
   "cell_type": "markdown",
   "metadata": {},
   "source": [
    "### Getting the Layer Outputs"
   ]
  },
  {
   "cell_type": "markdown",
   "metadata": {
    "collapsed": true
   },
   "source": [
    "Similarly we also need to retrieve the outputs of the convolutional layers. The function for doing this is slightly different than the function above for getting the weights. Here we instead retrieve the last tensor that is output by the convolutional layer."
   ]
  },
  {
   "cell_type": "code",
   "execution_count": 33,
   "metadata": {
    "collapsed": true
   },
   "outputs": [],
   "source": [
    "def get_layer_output(layer_name):\n",
    "    # The name of the last operation of the convolutional layer.\n",
    "    # This assumes you are using Relu as the activation-function.\n",
    "    tensor_name = \"network/\" + layer_name + \"/Relu:0\"\n",
    "\n",
    "    # Get the tensor with this name.\n",
    "    tensor = tf.get_default_graph().get_tensor_by_name(tensor_name)\n",
    "\n",
    "    return tensor"
   ]
  },
  {
   "cell_type": "markdown",
   "metadata": {},
   "source": [
    "Get the output of the convoluational layers so we can plot them later."
   ]
  },
  {
   "cell_type": "code",
   "execution_count": 34,
   "metadata": {
    "collapsed": true
   },
   "outputs": [],
   "source": [
    "output_conv1 = get_layer_output(layer_name='layer_conv1')\n",
    "output_conv2 = get_layer_output(layer_name='layer_conv2')"
   ]
  },
  {
   "cell_type": "markdown",
   "metadata": {},
   "source": [
    "## TensorFlow Run"
   ]
  },
  {
   "cell_type": "markdown",
   "metadata": {},
   "source": [
    "### Create TensorFlow session\n",
    "\n",
    "Once the TensorFlow graph has been created, we have to create a TensorFlow session which is used to execute the graph."
   ]
  },
  {
   "cell_type": "code",
   "execution_count": 35,
   "metadata": {
    "collapsed": true
   },
   "outputs": [],
   "source": [
    "session = tf.Session()"
   ]
  },
  {
   "cell_type": "markdown",
   "metadata": {},
   "source": [
    "### Restore or initialize variables\n",
    "\n",
    "Training this neural network may take a long time, especially if you do not have a GPU. We therefore save checkpoints during training so we can continue training at another time (e.g. during the night), and also for performing analysis later without having to train the neural network every time we want to use it.\n",
    "\n",
    "If you want to restart the training of the neural network, you have to delete the checkpoints first.\n",
    "\n",
    "This is the directory used for the checkpoints."
   ]
  },
  {
   "cell_type": "code",
   "execution_count": 36,
   "metadata": {
    "collapsed": true
   },
   "outputs": [],
   "source": [
    "save_dir = 'checkpoints/'"
   ]
  },
  {
   "cell_type": "markdown",
   "metadata": {},
   "source": [
    "Create the directory if it does not exist."
   ]
  },
  {
   "cell_type": "code",
   "execution_count": 37,
   "metadata": {
    "collapsed": true
   },
   "outputs": [],
   "source": [
    "if not os.path.exists(save_dir):\n",
    "    os.makedirs(save_dir)"
   ]
  },
  {
   "cell_type": "markdown",
   "metadata": {},
   "source": [
    "This is the base-filename for the checkpoints, TensorFlow will append the iteration number, etc."
   ]
  },
  {
   "cell_type": "code",
   "execution_count": 38,
   "metadata": {
    "collapsed": true
   },
   "outputs": [],
   "source": [
    "save_path = os.path.join(save_dir, 'cifar10_cnn')"
   ]
  },
  {
   "cell_type": "markdown",
   "metadata": {},
   "source": [
    "First try to restore the latest checkpoint. This may fail and raise an exception e.g. if such a checkpoint does not exist, or if you have changed the TensorFlow graph."
   ]
  },
  {
   "cell_type": "code",
   "execution_count": 39,
   "metadata": {},
   "outputs": [
    {
     "name": "stdout",
     "output_type": "stream",
     "text": [
      "Trying to restore last checkpoint ...\n",
      "INFO:tensorflow:Restoring parameters from checkpoints/cifar10_cnn-1000\n",
      "Restored checkpoint from: checkpoints/cifar10_cnn-1000\n"
     ]
    }
   ],
   "source": [
    "try:\n",
    "    print(\"Trying to restore last checkpoint ...\")\n",
    "\n",
    "    # Use TensorFlow to find the latest checkpoint - if any.\n",
    "    last_chk_path = tf.train.latest_checkpoint(checkpoint_dir=save_dir)\n",
    "\n",
    "    # Try and load the data in the checkpoint.\n",
    "    saver.restore(session, save_path=last_chk_path)\n",
    "\n",
    "    # If we get to this point, the checkpoint was successfully loaded.\n",
    "    print(\"Restored checkpoint from:\", last_chk_path)\n",
    "except:\n",
    "    # If the above failed for some reason, simply\n",
    "    # initialize all the variables for the TensorFlow graph.\n",
    "    print(\"Failed to restore checkpoint. Initializing variables instead.\")\n",
    "    session.run(tf.global_variables_initializer())"
   ]
  },
  {
   "cell_type": "markdown",
   "metadata": {},
   "source": [
    "### Helper-function to get a random training-batch"
   ]
  },
  {
   "cell_type": "markdown",
   "metadata": {},
   "source": [
    "There are 50,000 images in the training-set. It takes a long time to calculate the gradient of the model using all these images. We therefore only use a small batch of images in each iteration of the optimizer.\n",
    "\n",
    "If your computer crashes or becomes very slow because you run out of RAM, then you may try and lower this number, but you may then need to perform more optimization iterations."
   ]
  },
  {
   "cell_type": "code",
   "execution_count": 40,
   "metadata": {
    "collapsed": true
   },
   "outputs": [],
   "source": [
    "train_batch_size = 64"
   ]
  },
  {
   "cell_type": "markdown",
   "metadata": {},
   "source": [
    "Function for selecting a random batch of images from the training-set."
   ]
  },
  {
   "cell_type": "code",
   "execution_count": 41,
   "metadata": {
    "collapsed": true
   },
   "outputs": [],
   "source": [
    "def random_batch():\n",
    "    # Number of images in the training-set.\n",
    "    num_images = len(images_train)\n",
    "\n",
    "    # Create a random index.\n",
    "    idx = np.random.choice(num_images,\n",
    "                           size=train_batch_size,\n",
    "                           replace=False)\n",
    "\n",
    "    # Use the random index to select random images and labels.\n",
    "    x_batch = images_train[idx, :, :, :]\n",
    "    y_batch = labels_train[idx, :]\n",
    "\n",
    "    return x_batch, y_batch"
   ]
  },
  {
   "cell_type": "markdown",
   "metadata": {},
   "source": [
    "### Optimization"
   ]
  },
  {
   "cell_type": "markdown",
   "metadata": {},
   "source": [
    "The progress is printed every 100 iterations. A checkpoint is saved every 1000 iterations and also after the last iteration."
   ]
  },
  {
   "cell_type": "code",
   "execution_count": 42,
   "metadata": {
    "collapsed": true
   },
   "outputs": [],
   "source": [
    "def optimize(num_iterations):\n",
    "    # Start-time used for printing time-usage below.\n",
    "    start_time = time.time()\n",
    "\n",
    "    for i in range(num_iterations):\n",
    "        # Get a batch of training examples.\n",
    "        # x_batch now holds a batch of images and\n",
    "        # y_true_batch are the true labels for those images.\n",
    "        x_batch, y_true_batch = random_batch()\n",
    "\n",
    "        # Put the batch into a dict with the proper names\n",
    "        # for placeholder variables in the TensorFlow graph.\n",
    "        feed_dict_train = {x: x_batch,\n",
    "                           y_true: y_true_batch}\n",
    "\n",
    "        # Run the optimizer using this batch of training data.\n",
    "        # TensorFlow assigns the variables in feed_dict_train\n",
    "        # to the placeholder variables and then runs the optimizer.\n",
    "        # We also want to retrieve the global_step counter.\n",
    "        i_global, _ = session.run([global_step, optimizer],\n",
    "                                  feed_dict=feed_dict_train)\n",
    "\n",
    "        # Print status to screen every 100 iterations (and last).\n",
    "        if (i_global % 100 == 0) or (i == num_iterations - 1):\n",
    "            # Calculate the accuracy on the training-batch.\n",
    "            batch_acc = session.run(accuracy,\n",
    "                                    feed_dict=feed_dict_train)\n",
    "\n",
    "            # Print status.\n",
    "            msg = \"Global Step: {0:>6}, Training Batch Accuracy: {1:>6.1%}\"\n",
    "            print(msg.format(i_global, batch_acc))\n",
    "\n",
    "        # Save a checkpoint to disk every 1000 iterations (and last).\n",
    "        if (i_global % 1000 == 0) or (i == num_iterations - 1):\n",
    "            # Save all variables of the TensorFlow graph to a\n",
    "            # checkpoint. Append the global_step counter\n",
    "            # to the filename so we save the last several checkpoints.\n",
    "            saver.save(session,\n",
    "                       save_path=save_path,\n",
    "                       global_step=global_step)\n",
    "\n",
    "            print(\"Saved checkpoint.\")\n",
    "\n",
    "    # Ending time.\n",
    "    end_time = time.time()\n",
    "\n",
    "    # Difference between start and end-times.\n",
    "    time_dif = end_time - start_time\n",
    "\n",
    "    # Print the time-usage.\n",
    "    print(\"Time usage: \" + str(timedelta(seconds=int(round(time_dif)))))"
   ]
  },
  {
   "cell_type": "markdown",
   "metadata": {},
   "source": [
    "### Plot example errors"
   ]
  },
  {
   "cell_type": "markdown",
   "metadata": {},
   "source": [
    "Function for plotting examples of images from the test-set that have been mis-classified."
   ]
  },
  {
   "cell_type": "code",
   "execution_count": 43,
   "metadata": {
    "collapsed": true
   },
   "outputs": [],
   "source": [
    "def plot_example_errors(cls_pred, correct):\n",
    "    # This function is called from print_test_accuracy() below.\n",
    "\n",
    "    # cls_pred is an array of the predicted class-number for\n",
    "    # all images in the test-set.\n",
    "\n",
    "    # correct is a boolean array whether the predicted class\n",
    "    # is equal to the true class for each image in the test-set.\n",
    "\n",
    "    # Negate the boolean array.\n",
    "    incorrect = (correct == False)\n",
    "    \n",
    "    # Get the images from the test-set that have been\n",
    "    # incorrectly classified.\n",
    "    images = images_test[incorrect]\n",
    "    \n",
    "    # Get the predicted classes for those images.\n",
    "    cls_pred = cls_pred[incorrect]\n",
    "\n",
    "    # Get the true classes for those images.\n",
    "    cls_true = cls_test[incorrect]\n",
    "    \n",
    "    # Plot the first 9 images.\n",
    "    plot_images(images=images[0:9],\n",
    "                cls_true=cls_true[0:9],\n",
    "                cls_pred=cls_pred[0:9])"
   ]
  },
  {
   "cell_type": "markdown",
   "metadata": {},
   "source": [
    "### Plot confusion matrix"
   ]
  },
  {
   "cell_type": "code",
   "execution_count": 44,
   "metadata": {
    "collapsed": true
   },
   "outputs": [],
   "source": [
    "def plot_confusion_matrix(cls_pred):\n",
    "    # This is called from print_test_accuracy() below.\n",
    "\n",
    "    # cls_pred is an array of the predicted class-number for\n",
    "    # all images in the test-set.\n",
    "\n",
    "    # Get the confusion matrix using sklearn.\n",
    "    cm = confusion_matrix(y_true=cls_test,  # True class for test-set.\n",
    "                          y_pred=cls_pred)  # Predicted class.\n",
    "\n",
    "    # Print the confusion matrix as text.\n",
    "    for i in range(num_classes):\n",
    "        # Append the class-name to each line.\n",
    "        class_name = \"({}) {}\".format(i, class_names[i])\n",
    "        print(cm[i, :], class_name)\n",
    "\n",
    "    # Print the class-numbers for easy reference.\n",
    "    class_numbers = [\" ({0})\".format(i) for i in range(num_classes)]\n",
    "    print(\"\".join(class_numbers))"
   ]
  },
  {
   "cell_type": "markdown",
   "metadata": {},
   "source": [
    "### Calculating classifications\n",
    "\n",
    "This function calculates the predicted classes of images and also returns a boolean array whether the classification of each image is correct.\n",
    "\n",
    "The calculation is done in batches because it might use too much RAM otherwise. If your computer crashes then you can try and lower the batch-size."
   ]
  },
  {
   "cell_type": "code",
   "execution_count": 45,
   "metadata": {
    "collapsed": true
   },
   "outputs": [],
   "source": [
    "# Split the data-set in batches of this size to limit RAM usage.\n",
    "batch_size = 256\n",
    "\n",
    "def predict_cls(images, labels, cls_true):\n",
    "    # Number of images.\n",
    "    num_images = len(images)\n",
    "\n",
    "    # Allocate an array for the predicted classes which\n",
    "    # will be calculated in batches and filled into this array.\n",
    "    cls_pred = np.zeros(shape=num_images, dtype=np.int)\n",
    "\n",
    "    # Now calculate the predicted classes for the batches.\n",
    "    # We will just iterate through all the batches.\n",
    "    # There might be a more clever and Pythonic way of doing this.\n",
    "\n",
    "    # The starting index for the next batch is denoted i.\n",
    "    i = 0\n",
    "\n",
    "    while i < num_images:\n",
    "        # The ending index for the next batch is denoted j.\n",
    "        j = min(i + batch_size, num_images)\n",
    "\n",
    "        # Create a feed-dict with the images and labels\n",
    "        # between index i and j.\n",
    "        feed_dict = {x: images[i:j, :],\n",
    "                     y_true: labels[i:j, :]}\n",
    "\n",
    "        # Calculate the predicted class using TensorFlow.\n",
    "        cls_pred[i:j] = session.run(y_pred_cls, feed_dict=feed_dict)\n",
    "\n",
    "        # Set the start-index for the next batch to the\n",
    "        # end-index of the current batch.\n",
    "        i = j\n",
    "\n",
    "    # Create a boolean array whether each image is correctly classified.\n",
    "    correct = (cls_true == cls_pred)\n",
    "\n",
    "    return correct, cls_pred"
   ]
  },
  {
   "cell_type": "markdown",
   "metadata": {},
   "source": [
    "Calculate the predicted class for the test-set."
   ]
  },
  {
   "cell_type": "code",
   "execution_count": 46,
   "metadata": {
    "collapsed": true
   },
   "outputs": [],
   "source": [
    "def predict_cls_test():\n",
    "    return predict_cls(images = images_test,\n",
    "                       labels = labels_test,\n",
    "                       cls_true = cls_test)"
   ]
  },
  {
   "cell_type": "markdown",
   "metadata": {},
   "source": [
    "### Helper-functions for the classification accuracy\n",
    "\n",
    "This function calculates the classification accuracy given a boolean array whether each image was correctly classified. E.g. `classification_accuracy([True, True, False, False, False]) = 2/5 = 0.4`. The function also returns the number of correct classifications."
   ]
  },
  {
   "cell_type": "code",
   "execution_count": 47,
   "metadata": {
    "collapsed": true
   },
   "outputs": [],
   "source": [
    "def classification_accuracy(correct):\n",
    "    # When averaging a boolean array, False means 0 and True means 1.\n",
    "    # So we are calculating: number of True / len(correct) which is\n",
    "    # the same as the classification accuracy.\n",
    "    \n",
    "    # Return the classification accuracy\n",
    "    # and the number of correct classifications.\n",
    "    return correct.mean(), correct.sum()"
   ]
  },
  {
   "cell_type": "markdown",
   "metadata": {},
   "source": [
    "### Helper-function for showing the performance"
   ]
  },
  {
   "cell_type": "markdown",
   "metadata": {},
   "source": [
    "Function for printing the classification accuracy on the test-set.\n",
    "\n",
    "It takes a while to compute the classification for all the images in the test-set, that's why the results are re-used by calling the above functions directly from this function, so the classifications don't have to be recalculated by each function."
   ]
  },
  {
   "cell_type": "code",
   "execution_count": 48,
   "metadata": {
    "collapsed": true
   },
   "outputs": [],
   "source": [
    "def print_test_accuracy(show_example_errors=False,\n",
    "                        show_confusion_matrix=False):\n",
    "\n",
    "    # For all the images in the test-set,\n",
    "    # calculate the predicted classes and whether they are correct.\n",
    "    correct, cls_pred = predict_cls_test()\n",
    "    \n",
    "    # Classification accuracy and the number of correct classifications.\n",
    "    acc, num_correct = classification_accuracy(correct)\n",
    "    \n",
    "    # Number of images being classified.\n",
    "    num_images = len(correct)\n",
    "\n",
    "    # Print the accuracy.\n",
    "    msg = \"Accuracy on Test-Set: {0:.1%} ({1} / {2})\"\n",
    "    print(msg.format(acc, num_correct, num_images))\n",
    "\n",
    "    # Plot some examples of mis-classifications, if desired.\n",
    "    if show_example_errors:\n",
    "        print(\"Example errors:\")\n",
    "        plot_example_errors(cls_pred=cls_pred, correct=correct)\n",
    "\n",
    "    # Plot the confusion matrix, if desired.\n",
    "    if show_confusion_matrix:\n",
    "        print(\"Confusion Matrix:\")\n",
    "        plot_confusion_matrix(cls_pred=cls_pred)"
   ]
  },
  {
   "cell_type": "markdown",
   "metadata": {},
   "source": [
    "### Helper-function for plotting convolutional weights"
   ]
  },
  {
   "cell_type": "code",
   "execution_count": 49,
   "metadata": {
    "collapsed": true
   },
   "outputs": [],
   "source": [
    "def plot_conv_weights(weights, input_channel=0):\n",
    "    # Assume weights are TensorFlow ops for 4-dim variables\n",
    "    # e.g. weights_conv1 or weights_conv2.\n",
    "\n",
    "    # Retrieve the values of the weight-variables from TensorFlow.\n",
    "    # A feed-dict is not necessary because nothing is calculated.\n",
    "    w = session.run(weights)\n",
    "\n",
    "    # Print statistics for the weights.\n",
    "    print(\"Min:  {0:.5f}, Max:   {1:.5f}\".format(w.min(), w.max()))\n",
    "    print(\"Mean: {0:.5f}, Stdev: {1:.5f}\".format(w.mean(), w.std()))\n",
    "    \n",
    "    # Get the lowest and highest values for the weights.\n",
    "    # This is used to correct the colour intensity across\n",
    "    # the images so they can be compared with each other.\n",
    "    w_min = np.min(w)\n",
    "    w_max = np.max(w)\n",
    "    abs_max = max(abs(w_min), abs(w_max))\n",
    "\n",
    "    # Number of filters used in the conv. layer.\n",
    "    num_filters = w.shape[3]\n",
    "\n",
    "    # Number of grids to plot.\n",
    "    # Rounded-up, square-root of the number of filters.\n",
    "    num_grids = math.ceil(math.sqrt(num_filters))\n",
    "    \n",
    "    # Create figure with a grid of sub-plots.\n",
    "    fig, axes = plt.subplots(num_grids, num_grids)\n",
    "\n",
    "    # Plot all the filter-weights.\n",
    "    for i, ax in enumerate(axes.flat):\n",
    "        # Only plot the valid filter-weights.\n",
    "        if i<num_filters:\n",
    "            # Get the weights for the i'th filter of the input channel.\n",
    "            # The format of this 4-dim tensor is determined by the\n",
    "            img = w[:, :, input_channel, i]\n",
    "\n",
    "            # Plot image.\n",
    "            ax.imshow(img, vmin=-abs_max, vmax=abs_max,\n",
    "                      interpolation='nearest', cmap='seismic')\n",
    "        \n",
    "        # Remove ticks from the plot.\n",
    "        ax.set_xticks([])\n",
    "        ax.set_yticks([])\n",
    "    \n",
    "    # Ensure the plot is shown correctly with multiple plots\n",
    "    # in a single Notebook cell.\n",
    "    plt.show()"
   ]
  },
  {
   "cell_type": "markdown",
   "metadata": {},
   "source": [
    "### Helper-function for plotting the output of convolutional layers"
   ]
  },
  {
   "cell_type": "code",
   "execution_count": 50,
   "metadata": {
    "collapsed": true
   },
   "outputs": [],
   "source": [
    "def plot_layer_output(layer_output, image):\n",
    "    # Assume layer_output is a 4-dim tensor\n",
    "    # e.g. output_conv1 or output_conv2.\n",
    "\n",
    "    # Create a feed-dict which holds the single input image.\n",
    "    # Note that TensorFlow needs a list of images,\n",
    "    # so we just create a list with this one image.\n",
    "    feed_dict = {x: [image]}\n",
    "    \n",
    "    # Retrieve the output of the layer after inputting this image.\n",
    "    values = session.run(layer_output, feed_dict=feed_dict)\n",
    "\n",
    "    # Get the lowest and highest values.\n",
    "    # This is used to correct the colour intensity across\n",
    "    # the images so they can be compared with each other.\n",
    "    values_min = np.min(values)\n",
    "    values_max = np.max(values)\n",
    "\n",
    "    # Number of image channels output by the conv. layer.\n",
    "    num_images = values.shape[3]\n",
    "\n",
    "    # Number of grid-cells to plot.\n",
    "    # Rounded-up, square-root of the number of filters.\n",
    "    num_grids = math.ceil(math.sqrt(num_images))\n",
    "    \n",
    "    # Create figure with a grid of sub-plots.\n",
    "    fig, axes = plt.subplots(num_grids, num_grids)\n",
    "\n",
    "    # Plot all the filter-weights.\n",
    "    for i, ax in enumerate(axes.flat):\n",
    "        # Only plot the valid image-channels.\n",
    "        if i<num_images:\n",
    "            # Get the images for the i'th output channel.\n",
    "            img = values[0, :, :, i]\n",
    "\n",
    "            # Plot image.\n",
    "            ax.imshow(img, vmin=values_min, vmax=values_max,\n",
    "                      interpolation='nearest', cmap='binary')\n",
    "        \n",
    "        # Remove ticks from the plot.\n",
    "        ax.set_xticks([])\n",
    "        ax.set_yticks([])\n",
    "    \n",
    "    # Ensure the plot is shown correctly with multiple plots\n",
    "    # in a single Notebook cell.\n",
    "    plt.show()"
   ]
  },
  {
   "cell_type": "markdown",
   "metadata": {},
   "source": [
    "## Examples of distorted input images"
   ]
  },
  {
   "cell_type": "markdown",
   "metadata": {},
   "source": [
    "In order to artificially inflate the number of images available for training, the neural network uses pre-processing with random distortions of the input images. This should hopefully make the neural network more flexible at recognizing and classifying images.\n",
    "\n",
    "This is a helper-function for plotting distorted input images."
   ]
  },
  {
   "cell_type": "code",
   "execution_count": 51,
   "metadata": {
    "collapsed": true
   },
   "outputs": [],
   "source": [
    "def plot_distorted_image(image, cls_true):\n",
    "    # Repeat the input image 9 times.\n",
    "    image_duplicates = np.repeat(image[np.newaxis, :, :, :], 9, axis=0)\n",
    "\n",
    "    # Create a feed-dict for TensorFlow.\n",
    "    feed_dict = {x: image_duplicates}\n",
    "\n",
    "    # Calculate only the pre-processing of the TensorFlow graph\n",
    "    # which distorts the images in the feed-dict.\n",
    "    result = session.run(distorted_images, feed_dict=feed_dict)\n",
    "\n",
    "    # Plot the images.\n",
    "    plot_images(images=result, cls_true=np.repeat(cls_true, 9))"
   ]
  },
  {
   "cell_type": "markdown",
   "metadata": {},
   "source": [
    "Helper-function for getting an image and its class-number from the test-set."
   ]
  },
  {
   "cell_type": "code",
   "execution_count": 52,
   "metadata": {
    "collapsed": true
   },
   "outputs": [],
   "source": [
    "def get_test_image(i):\n",
    "    return images_test[i, :, :, :], cls_test[i]"
   ]
  },
  {
   "cell_type": "markdown",
   "metadata": {},
   "source": [
    "Get an image and its true class from the test-set."
   ]
  },
  {
   "cell_type": "code",
   "execution_count": 53,
   "metadata": {
    "collapsed": true
   },
   "outputs": [],
   "source": [
    "img, cls = get_test_image(16)"
   ]
  },
  {
   "cell_type": "markdown",
   "metadata": {},
   "source": [
    "Plot 9 random distortions of the image. If you re-run this code you will get slightly different results."
   ]
  },
  {
   "cell_type": "code",
   "execution_count": 54,
   "metadata": {
    "scrolled": true
   },
   "outputs": [
    {
     "data": {
      "image/png": "[encoded data removed]",
      "text/plain": [
       "<matplotlib.figure.Figure at 0x7fce1fdaa9e8>"
      ]
     },
     "metadata": {},
     "output_type": "display_data"
    }
   ],
   "source": [
    "plot_distorted_image(img, cls)"
   ]
  },
  {
   "cell_type": "markdown",
   "metadata": {},
   "source": [
    "## Perform optimization"
   ]
  },
  {
   "cell_type": "code",
   "execution_count": 55,
   "metadata": {
    "scrolled": true
   },
   "outputs": [
    {
     "name": "stdout",
     "output_type": "stream",
     "text": [
      "Global Step:   1100, Training Batch Accuracy:  43.8%\n",
      "Global Step:   1200, Training Batch Accuracy:  48.4%\n",
      "Global Step:   1300, Training Batch Accuracy:  37.5%\n",
      "Global Step:   1400, Training Batch Accuracy:  50.0%\n",
      "Global Step:   1500, Training Batch Accuracy:  54.7%\n",
      "Global Step:   1600, Training Batch Accuracy:  57.8%\n",
      "Global Step:   1700, Training Batch Accuracy:  50.0%\n",
      "Global Step:   1800, Training Batch Accuracy:  56.2%\n",
      "Global Step:   1900, Training Batch Accuracy:  54.7%\n",
      "Global Step:   2000, Training Batch Accuracy:  54.7%\n",
      "Saved checkpoint.\n",
      "Global Step:   2100, Training Batch Accuracy:  56.2%\n",
      "Global Step:   2200, Training Batch Accuracy:  64.1%\n",
      "Global Step:   2300, Training Batch Accuracy:  56.2%\n",
      "Global Step:   2400, Training Batch Accuracy:  48.4%\n",
      "Global Step:   2500, Training Batch Accuracy:  64.1%\n",
      "Global Step:   2600, Training Batch Accuracy:  51.6%\n",
      "Global Step:   2700, Training Batch Accuracy:  60.9%\n",
      "Global Step:   2800, Training Batch Accuracy:  57.8%\n",
      "Global Step:   2900, Training Batch Accuracy:  43.8%\n",
      "Global Step:   3000, Training Batch Accuracy:  50.0%\n",
      "Saved checkpoint.\n",
      "Global Step:   3100, Training Batch Accuracy:  46.9%\n",
      "Global Step:   3200, Training Batch Accuracy:  53.1%\n",
      "Global Step:   3300, Training Batch Accuracy:  57.8%\n",
      "Global Step:   3400, Training Batch Accuracy:  51.6%\n",
      "Global Step:   3500, Training Batch Accuracy:  59.4%\n",
      "Global Step:   3600, Training Batch Accuracy:  50.0%\n",
      "Global Step:   3700, Training Batch Accuracy:  70.3%\n",
      "Global Step:   3800, Training Batch Accuracy:  65.6%\n",
      "Global Step:   3900, Training Batch Accuracy:  59.4%\n",
      "Global Step:   4000, Training Batch Accuracy:  60.9%\n",
      "Saved checkpoint.\n",
      "Global Step:   4100, Training Batch Accuracy:  48.4%\n",
      "Global Step:   4200, Training Batch Accuracy:  64.1%\n",
      "Global Step:   4300, Training Batch Accuracy:  64.1%\n",
      "Global Step:   4400, Training Batch Accuracy:  73.4%\n",
      "Global Step:   4500, Training Batch Accuracy:  48.4%\n",
      "Global Step:   4600, Training Batch Accuracy:  45.3%\n",
      "Global Step:   4700, Training Batch Accuracy:  53.1%\n",
      "Global Step:   4800, Training Batch Accuracy:  59.4%\n",
      "Global Step:   4900, Training Batch Accuracy:  54.7%\n",
      "Global Step:   5000, Training Batch Accuracy:  65.6%\n",
      "Saved checkpoint.\n",
      "Global Step:   5100, Training Batch Accuracy:  56.2%\n",
      "Global Step:   5200, Training Batch Accuracy:  71.9%\n",
      "Global Step:   5300, Training Batch Accuracy:  56.2%\n",
      "Global Step:   5400, Training Batch Accuracy:  46.9%\n",
      "Global Step:   5500, Training Batch Accuracy:  67.2%\n",
      "Global Step:   5600, Training Batch Accuracy:  54.7%\n",
      "Global Step:   5700, Training Batch Accuracy:  53.1%\n",
      "Global Step:   5800, Training Batch Accuracy:  71.9%\n",
      "Global Step:   5900, Training Batch Accuracy:  60.9%\n",
      "Global Step:   6000, Training Batch Accuracy:  65.6%\n",
      "Saved checkpoint.\n",
      "Global Step:   6100, Training Batch Accuracy:  62.5%\n",
      "Global Step:   6200, Training Batch Accuracy:  46.9%\n",
      "Global Step:   6300, Training Batch Accuracy:  71.9%\n",
      "Global Step:   6400, Training Batch Accuracy:  57.8%\n",
      "Global Step:   6500, Training Batch Accuracy:  51.6%\n",
      "Global Step:   6600, Training Batch Accuracy:  60.9%\n",
      "Global Step:   6700, Training Batch Accuracy:  78.1%\n",
      "Global Step:   6800, Training Batch Accuracy:  48.4%\n",
      "Global Step:   6900, Training Batch Accuracy:  59.4%\n",
      "Global Step:   7000, Training Batch Accuracy:  64.1%\n",
      "Saved checkpoint.\n",
      "Global Step:   7100, Training Batch Accuracy:  68.8%\n",
      "Global Step:   7200, Training Batch Accuracy:  59.4%\n",
      "Global Step:   7300, Training Batch Accuracy:  67.2%\n",
      "Global Step:   7400, Training Batch Accuracy:  60.9%\n",
      "Global Step:   7500, Training Batch Accuracy:  59.4%\n",
      "Global Step:   7600, Training Batch Accuracy:  68.8%\n",
      "Global Step:   7700, Training Batch Accuracy:  59.4%\n",
      "Global Step:   7800, Training Batch Accuracy:  67.2%\n",
      "Global Step:   7900, Training Batch Accuracy:  54.7%\n",
      "Global Step:   8000, Training Batch Accuracy:  53.1%\n",
      "Saved checkpoint.\n",
      "Global Step:   8100, Training Batch Accuracy:  67.2%\n",
      "Global Step:   8200, Training Batch Accuracy:  87.5%\n",
      "Global Step:   8300, Training Batch Accuracy:  70.3%\n",
      "Global Step:   8400, Training Batch Accuracy:  67.2%\n",
      "Global Step:   8500, Training Batch Accuracy:  54.7%\n",
      "Global Step:   8600, Training Batch Accuracy:  56.2%\n",
      "Global Step:   8700, Training Batch Accuracy:  62.5%\n",
      "Global Step:   8800, Training Batch Accuracy:  65.6%\n",
      "Global Step:   8900, Training Batch Accuracy:  70.3%\n",
      "Global Step:   9000, Training Batch Accuracy:  56.2%\n",
      "Saved checkpoint.\n",
      "Global Step:   9100, Training Batch Accuracy:  56.2%\n",
      "Global Step:   9200, Training Batch Accuracy:  56.2%\n",
      "Global Step:   9300, Training Batch Accuracy:  65.6%\n",
      "Global Step:   9400, Training Batch Accuracy:  65.6%\n",
      "Global Step:   9500, Training Batch Accuracy:  68.8%\n",
      "Global Step:   9600, Training Batch Accuracy:  71.9%\n",
      "Global Step:   9700, Training Batch Accuracy:  67.2%\n",
      "Global Step:   9800, Training Batch Accuracy:  70.3%\n",
      "Global Step:   9900, Training Batch Accuracy:  65.6%\n",
      "Global Step:  10000, Training Batch Accuracy:  70.3%\n",
      "Saved checkpoint.\n",
      "Global Step:  10100, Training Batch Accuracy:  65.6%\n",
      "Global Step:  10200, Training Batch Accuracy:  53.1%\n",
      "Global Step:  10300, Training Batch Accuracy:  70.3%\n",
      "Global Step:  10400, Training Batch Accuracy:  78.1%\n",
      "Global Step:  10500, Training Batch Accuracy:  70.3%\n",
      "Global Step:  10600, Training Batch Accuracy:  71.9%\n",
      "Global Step:  10700, Training Batch Accuracy:  65.6%\n",
      "Global Step:  10800, Training Batch Accuracy:  73.4%\n",
      "Global Step:  10900, Training Batch Accuracy:  70.3%\n",
      "Global Step:  11000, Training Batch Accuracy:  67.2%\n",
      "Saved checkpoint.\n",
      "Global Step:  11100, Training Batch Accuracy:  70.3%\n",
      "Global Step:  11200, Training Batch Accuracy:  65.6%\n",
      "Global Step:  11300, Training Batch Accuracy:  79.7%\n",
      "Global Step:  11400, Training Batch Accuracy:  67.2%\n",
      "Global Step:  11500, Training Batch Accuracy:  59.4%\n",
      "Global Step:  11600, Training Batch Accuracy:  70.3%\n",
      "Global Step:  11700, Training Batch Accuracy:  68.8%\n",
      "Global Step:  11800, Training Batch Accuracy:  70.3%\n",
      "Global Step:  11900, Training Batch Accuracy:  67.2%\n",
      "Global Step:  12000, Training Batch Accuracy:  76.6%\n",
      "Saved checkpoint.\n",
      "Global Step:  12100, Training Batch Accuracy:  62.5%\n",
      "Global Step:  12200, Training Batch Accuracy:  67.2%\n",
      "Global Step:  12300, Training Batch Accuracy:  68.8%\n",
      "Global Step:  12400, Training Batch Accuracy:  75.0%\n",
      "Global Step:  12500, Training Batch Accuracy:  67.2%\n",
      "Global Step:  12600, Training Batch Accuracy:  78.1%\n",
      "Global Step:  12700, Training Batch Accuracy:  76.6%\n",
      "Global Step:  12800, Training Batch Accuracy:  62.5%\n",
      "Global Step:  12900, Training Batch Accuracy:  71.9%\n",
      "Global Step:  13000, Training Batch Accuracy:  57.8%\n",
      "Saved checkpoint.\n",
      "Global Step:  13100, Training Batch Accuracy:  68.8%\n",
      "Global Step:  13200, Training Batch Accuracy:  62.5%\n",
      "Global Step:  13300, Training Batch Accuracy:  68.8%\n",
      "Global Step:  13400, Training Batch Accuracy:  67.2%\n",
      "Global Step:  13500, Training Batch Accuracy:  68.8%\n",
      "Global Step:  13600, Training Batch Accuracy:  75.0%\n",
      "Global Step:  13700, Training Batch Accuracy:  62.5%\n",
      "Global Step:  13800, Training Batch Accuracy:  62.5%\n",
      "Global Step:  13900, Training Batch Accuracy:  59.4%\n",
      "Global Step:  14000, Training Batch Accuracy:  73.4%\n",
      "Saved checkpoint.\n",
      "Global Step:  14100, Training Batch Accuracy:  71.9%\n",
      "Global Step:  14200, Training Batch Accuracy:  73.4%\n",
      "Global Step:  14300, Training Batch Accuracy:  65.6%\n",
      "Global Step:  14400, Training Batch Accuracy:  79.7%\n",
      "Global Step:  14500, Training Batch Accuracy:  70.3%\n",
      "Global Step:  14600, Training Batch Accuracy:  81.2%\n",
      "Global Step:  14700, Training Batch Accuracy:  70.3%\n",
      "Global Step:  14800, Training Batch Accuracy:  79.7%\n",
      "Global Step:  14900, Training Batch Accuracy:  67.2%\n",
      "Global Step:  15000, Training Batch Accuracy:  65.6%\n",
      "Saved checkpoint.\n",
      "Global Step:  15100, Training Batch Accuracy:  60.9%\n",
      "Global Step:  15200, Training Batch Accuracy:  68.8%\n",
      "Global Step:  15300, Training Batch Accuracy:  68.8%\n",
      "Global Step:  15400, Training Batch Accuracy:  70.3%\n",
      "Global Step:  15500, Training Batch Accuracy:  59.4%\n",
      "Global Step:  15600, Training Batch Accuracy:  75.0%\n",
      "Global Step:  15700, Training Batch Accuracy:  76.6%\n",
      "Global Step:  15800, Training Batch Accuracy:  68.8%\n",
      "Global Step:  15900, Training Batch Accuracy:  57.8%\n",
      "Global Step:  16000, Training Batch Accuracy:  65.6%\n",
      "Saved checkpoint.\n"
     ]
    },
    {
     "name": "stdout",
     "output_type": "stream",
     "text": [
      "Global Step:  16100, Training Batch Accuracy:  65.6%\n",
      "Global Step:  16200, Training Batch Accuracy:  75.0%\n",
      "Global Step:  16300, Training Batch Accuracy:  68.8%\n",
      "Global Step:  16400, Training Batch Accuracy:  75.0%\n",
      "Global Step:  16500, Training Batch Accuracy:  84.4%\n",
      "Global Step:  16600, Training Batch Accuracy:  79.7%\n",
      "Global Step:  16700, Training Batch Accuracy:  67.2%\n",
      "Global Step:  16800, Training Batch Accuracy:  73.4%\n",
      "Global Step:  16900, Training Batch Accuracy:  62.5%\n",
      "Global Step:  17000, Training Batch Accuracy:  71.9%\n",
      "Saved checkpoint.\n",
      "Global Step:  17100, Training Batch Accuracy:  71.9%\n",
      "Global Step:  17200, Training Batch Accuracy:  75.0%\n",
      "Global Step:  17300, Training Batch Accuracy:  65.6%\n",
      "Global Step:  17400, Training Batch Accuracy:  78.1%\n",
      "Global Step:  17500, Training Batch Accuracy:  64.1%\n",
      "Global Step:  17600, Training Batch Accuracy:  78.1%\n",
      "Global Step:  17700, Training Batch Accuracy:  70.3%\n",
      "Global Step:  17800, Training Batch Accuracy:  87.5%\n",
      "Global Step:  17900, Training Batch Accuracy:  70.3%\n",
      "Global Step:  18000, Training Batch Accuracy:  71.9%\n",
      "Saved checkpoint.\n",
      "Global Step:  18100, Training Batch Accuracy:  68.8%\n",
      "Global Step:  18200, Training Batch Accuracy:  79.7%\n",
      "Global Step:  18300, Training Batch Accuracy:  65.6%\n",
      "Global Step:  18400, Training Batch Accuracy:  75.0%\n",
      "Global Step:  18500, Training Batch Accuracy:  73.4%\n",
      "Global Step:  18600, Training Batch Accuracy:  67.2%\n",
      "Global Step:  18700, Training Batch Accuracy:  73.4%\n",
      "Global Step:  18800, Training Batch Accuracy:  73.4%\n",
      "Global Step:  18900, Training Batch Accuracy:  79.7%\n",
      "Global Step:  19000, Training Batch Accuracy:  73.4%\n",
      "Saved checkpoint.\n",
      "Global Step:  19100, Training Batch Accuracy:  76.6%\n",
      "Global Step:  19200, Training Batch Accuracy:  70.3%\n",
      "Global Step:  19300, Training Batch Accuracy:  73.4%\n",
      "Global Step:  19400, Training Batch Accuracy:  78.1%\n",
      "Global Step:  19500, Training Batch Accuracy:  76.6%\n",
      "Global Step:  19600, Training Batch Accuracy:  79.7%\n",
      "Global Step:  19700, Training Batch Accuracy:  78.1%\n",
      "Global Step:  19800, Training Batch Accuracy:  76.6%\n",
      "Global Step:  19900, Training Batch Accuracy:  76.6%\n",
      "Global Step:  20000, Training Batch Accuracy:  76.6%\n",
      "Saved checkpoint.\n",
      "Global Step:  20100, Training Batch Accuracy:  70.3%\n",
      "Global Step:  20200, Training Batch Accuracy:  70.3%\n",
      "Global Step:  20300, Training Batch Accuracy:  81.2%\n",
      "Global Step:  20400, Training Batch Accuracy:  81.2%\n",
      "Global Step:  20500, Training Batch Accuracy:  75.0%\n",
      "Global Step:  20600, Training Batch Accuracy:  73.4%\n",
      "Global Step:  20700, Training Batch Accuracy:  75.0%\n",
      "Global Step:  20800, Training Batch Accuracy:  70.3%\n",
      "Global Step:  20900, Training Batch Accuracy:  75.0%\n",
      "Global Step:  21000, Training Batch Accuracy:  67.2%\n",
      "Saved checkpoint.\n",
      "Global Step:  21100, Training Batch Accuracy:  64.1%\n",
      "Global Step:  21200, Training Batch Accuracy:  73.4%\n",
      "Global Step:  21300, Training Batch Accuracy:  54.7%\n",
      "Global Step:  21400, Training Batch Accuracy:  62.5%\n",
      "Global Step:  21500, Training Batch Accuracy:  78.1%\n",
      "Global Step:  21600, Training Batch Accuracy:  75.0%\n",
      "Global Step:  21700, Training Batch Accuracy:  79.7%\n",
      "Global Step:  21800, Training Batch Accuracy:  73.4%\n",
      "Global Step:  21900, Training Batch Accuracy:  73.4%\n",
      "Global Step:  22000, Training Batch Accuracy:  84.4%\n",
      "Saved checkpoint.\n",
      "Global Step:  22100, Training Batch Accuracy:  79.7%\n",
      "Global Step:  22200, Training Batch Accuracy:  84.4%\n",
      "Global Step:  22300, Training Batch Accuracy:  76.6%\n",
      "Global Step:  22400, Training Batch Accuracy:  70.3%\n",
      "Global Step:  22500, Training Batch Accuracy:  78.1%\n",
      "Global Step:  22600, Training Batch Accuracy:  78.1%\n",
      "Global Step:  22700, Training Batch Accuracy:  67.2%\n",
      "Global Step:  22800, Training Batch Accuracy:  81.2%\n",
      "Global Step:  22900, Training Batch Accuracy:  73.4%\n",
      "Global Step:  23000, Training Batch Accuracy:  71.9%\n",
      "Saved checkpoint.\n",
      "Global Step:  23100, Training Batch Accuracy:  71.9%\n",
      "Global Step:  23200, Training Batch Accuracy:  70.3%\n",
      "Global Step:  23300, Training Batch Accuracy:  65.6%\n",
      "Global Step:  23400, Training Batch Accuracy:  73.4%\n",
      "Global Step:  23500, Training Batch Accuracy:  81.2%\n",
      "Global Step:  23600, Training Batch Accuracy:  84.4%\n",
      "Global Step:  23700, Training Batch Accuracy:  68.8%\n",
      "Global Step:  23800, Training Batch Accuracy:  71.9%\n",
      "Global Step:  23900, Training Batch Accuracy:  78.1%\n",
      "Global Step:  24000, Training Batch Accuracy:  71.9%\n",
      "Saved checkpoint.\n",
      "Global Step:  24100, Training Batch Accuracy:  78.1%\n",
      "Global Step:  24200, Training Batch Accuracy:  85.9%\n",
      "Global Step:  24300, Training Batch Accuracy:  67.2%\n",
      "Global Step:  24400, Training Batch Accuracy:  64.1%\n",
      "Global Step:  24500, Training Batch Accuracy:  68.8%\n",
      "Global Step:  24600, Training Batch Accuracy:  81.2%\n",
      "Global Step:  24700, Training Batch Accuracy:  71.9%\n",
      "Global Step:  24800, Training Batch Accuracy:  68.8%\n",
      "Global Step:  24900, Training Batch Accuracy:  67.2%\n",
      "Global Step:  25000, Training Batch Accuracy:  81.2%\n",
      "Saved checkpoint.\n",
      "Global Step:  25100, Training Batch Accuracy:  73.4%\n",
      "Global Step:  25200, Training Batch Accuracy:  79.7%\n",
      "Global Step:  25300, Training Batch Accuracy:  70.3%\n",
      "Global Step:  25400, Training Batch Accuracy:  75.0%\n",
      "Global Step:  25500, Training Batch Accuracy:  64.1%\n",
      "Global Step:  25600, Training Batch Accuracy:  76.6%\n",
      "Global Step:  25700, Training Batch Accuracy:  73.4%\n",
      "Global Step:  25800, Training Batch Accuracy:  75.0%\n",
      "Global Step:  25900, Training Batch Accuracy:  71.9%\n",
      "Global Step:  26000, Training Batch Accuracy:  84.4%\n",
      "Saved checkpoint.\n",
      "Global Step:  26100, Training Batch Accuracy:  76.6%\n",
      "Global Step:  26200, Training Batch Accuracy:  71.9%\n",
      "Global Step:  26300, Training Batch Accuracy:  81.2%\n",
      "Global Step:  26400, Training Batch Accuracy:  76.6%\n",
      "Global Step:  26500, Training Batch Accuracy:  67.2%\n",
      "Global Step:  26600, Training Batch Accuracy:  73.4%\n",
      "Global Step:  26700, Training Batch Accuracy:  75.0%\n",
      "Global Step:  26800, Training Batch Accuracy:  78.1%\n",
      "Global Step:  26900, Training Batch Accuracy:  78.1%\n",
      "Global Step:  27000, Training Batch Accuracy:  64.1%\n",
      "Saved checkpoint.\n",
      "Global Step:  27100, Training Batch Accuracy:  79.7%\n",
      "Global Step:  27200, Training Batch Accuracy:  64.1%\n",
      "Global Step:  27300, Training Batch Accuracy:  78.1%\n",
      "Global Step:  27400, Training Batch Accuracy:  81.2%\n",
      "Global Step:  27500, Training Batch Accuracy:  65.6%\n",
      "Global Step:  27600, Training Batch Accuracy:  76.6%\n",
      "Global Step:  27700, Training Batch Accuracy:  85.9%\n",
      "Global Step:  27800, Training Batch Accuracy:  81.2%\n",
      "Global Step:  27900, Training Batch Accuracy:  76.6%\n",
      "Global Step:  28000, Training Batch Accuracy:  73.4%\n",
      "Saved checkpoint.\n",
      "Global Step:  28100, Training Batch Accuracy:  71.9%\n",
      "Global Step:  28200, Training Batch Accuracy:  70.3%\n",
      "Global Step:  28300, Training Batch Accuracy:  75.0%\n",
      "Global Step:  28400, Training Batch Accuracy:  76.6%\n",
      "Global Step:  28500, Training Batch Accuracy:  78.1%\n",
      "Global Step:  28600, Training Batch Accuracy:  82.8%\n",
      "Global Step:  28700, Training Batch Accuracy:  71.9%\n",
      "Global Step:  28800, Training Batch Accuracy:  81.2%\n",
      "Global Step:  28900, Training Batch Accuracy:  75.0%\n",
      "Global Step:  29000, Training Batch Accuracy:  84.4%\n",
      "Saved checkpoint.\n",
      "Global Step:  29100, Training Batch Accuracy:  82.8%\n",
      "Global Step:  29200, Training Batch Accuracy:  73.4%\n",
      "Global Step:  29300, Training Batch Accuracy:  67.2%\n",
      "Global Step:  29400, Training Batch Accuracy:  75.0%\n",
      "Global Step:  29500, Training Batch Accuracy:  73.4%\n",
      "Global Step:  29600, Training Batch Accuracy:  73.4%\n",
      "Global Step:  29700, Training Batch Accuracy:  81.2%\n",
      "Global Step:  29800, Training Batch Accuracy:  71.9%\n",
      "Global Step:  29900, Training Batch Accuracy:  67.2%\n",
      "Global Step:  30000, Training Batch Accuracy:  82.8%\n",
      "Saved checkpoint.\n",
      "Global Step:  30100, Training Batch Accuracy:  70.3%\n",
      "Global Step:  30200, Training Batch Accuracy:  73.4%\n",
      "Global Step:  30300, Training Batch Accuracy:  65.6%\n",
      "Global Step:  30400, Training Batch Accuracy:  70.3%\n",
      "Global Step:  30500, Training Batch Accuracy:  73.4%\n",
      "Global Step:  30600, Training Batch Accuracy:  75.0%\n",
      "Global Step:  30700, Training Batch Accuracy:  79.7%\n",
      "Global Step:  30800, Training Batch Accuracy:  73.4%\n",
      "Global Step:  30900, Training Batch Accuracy:  81.2%\n",
      "Global Step:  31000, Training Batch Accuracy:  71.9%\n",
      "Saved checkpoint.\n"
     ]
    },
    {
     "name": "stdout",
     "output_type": "stream",
     "text": [
      "Global Step:  31100, Training Batch Accuracy:  73.4%\n",
      "Global Step:  31200, Training Batch Accuracy:  76.6%\n",
      "Global Step:  31300, Training Batch Accuracy:  76.6%\n",
      "Global Step:  31400, Training Batch Accuracy:  78.1%\n",
      "Global Step:  31500, Training Batch Accuracy:  76.6%\n",
      "Global Step:  31600, Training Batch Accuracy:  79.7%\n",
      "Global Step:  31700, Training Batch Accuracy:  79.7%\n",
      "Global Step:  31800, Training Batch Accuracy:  73.4%\n",
      "Global Step:  31900, Training Batch Accuracy:  85.9%\n",
      "Global Step:  32000, Training Batch Accuracy:  78.1%\n",
      "Saved checkpoint.\n",
      "Global Step:  32100, Training Batch Accuracy:  78.1%\n",
      "Global Step:  32200, Training Batch Accuracy:  75.0%\n",
      "Global Step:  32300, Training Batch Accuracy:  78.1%\n",
      "Global Step:  32400, Training Batch Accuracy:  89.1%\n",
      "Global Step:  32500, Training Batch Accuracy:  81.2%\n",
      "Global Step:  32600, Training Batch Accuracy:  78.1%\n",
      "Global Step:  32700, Training Batch Accuracy:  71.9%\n",
      "Global Step:  32800, Training Batch Accuracy:  84.4%\n",
      "Global Step:  32900, Training Batch Accuracy:  81.2%\n",
      "Global Step:  33000, Training Batch Accuracy:  76.6%\n",
      "Saved checkpoint.\n",
      "Global Step:  33100, Training Batch Accuracy:  78.1%\n",
      "Global Step:  33200, Training Batch Accuracy:  81.2%\n",
      "Global Step:  33300, Training Batch Accuracy:  75.0%\n",
      "Global Step:  33400, Training Batch Accuracy:  73.4%\n",
      "Global Step:  33500, Training Batch Accuracy:  82.8%\n",
      "Global Step:  33600, Training Batch Accuracy:  79.7%\n",
      "Global Step:  33700, Training Batch Accuracy:  73.4%\n",
      "Global Step:  33800, Training Batch Accuracy:  76.6%\n",
      "Global Step:  33900, Training Batch Accuracy:  81.2%\n",
      "Global Step:  34000, Training Batch Accuracy:  75.0%\n",
      "Saved checkpoint.\n",
      "Global Step:  34100, Training Batch Accuracy:  78.1%\n",
      "Global Step:  34200, Training Batch Accuracy:  73.4%\n",
      "Global Step:  34300, Training Batch Accuracy:  76.6%\n",
      "Global Step:  34400, Training Batch Accuracy:  85.9%\n",
      "Global Step:  34500, Training Batch Accuracy:  73.4%\n",
      "Global Step:  34600, Training Batch Accuracy:  79.7%\n",
      "Global Step:  34700, Training Batch Accuracy:  76.6%\n",
      "Global Step:  34800, Training Batch Accuracy:  84.4%\n",
      "Global Step:  34900, Training Batch Accuracy:  81.2%\n",
      "Global Step:  35000, Training Batch Accuracy:  85.9%\n",
      "Saved checkpoint.\n",
      "Global Step:  35100, Training Batch Accuracy:  71.9%\n",
      "Global Step:  35200, Training Batch Accuracy:  81.2%\n",
      "Global Step:  35300, Training Batch Accuracy:  75.0%\n",
      "Global Step:  35400, Training Batch Accuracy:  84.4%\n",
      "Global Step:  35500, Training Batch Accuracy:  79.7%\n",
      "Global Step:  35600, Training Batch Accuracy:  79.7%\n",
      "Global Step:  35700, Training Batch Accuracy:  85.9%\n",
      "Global Step:  35800, Training Batch Accuracy:  70.3%\n",
      "Global Step:  35900, Training Batch Accuracy:  79.7%\n",
      "Global Step:  36000, Training Batch Accuracy:  82.8%\n",
      "Saved checkpoint.\n",
      "Global Step:  36100, Training Batch Accuracy:  79.7%\n",
      "Global Step:  36200, Training Batch Accuracy:  79.7%\n",
      "Global Step:  36300, Training Batch Accuracy:  78.1%\n",
      "Global Step:  36400, Training Batch Accuracy:  75.0%\n",
      "Global Step:  36500, Training Batch Accuracy:  81.2%\n",
      "Global Step:  36600, Training Batch Accuracy:  85.9%\n",
      "Global Step:  36700, Training Batch Accuracy:  82.8%\n",
      "Global Step:  36800, Training Batch Accuracy:  92.2%\n",
      "Global Step:  36900, Training Batch Accuracy:  79.7%\n",
      "Global Step:  37000, Training Batch Accuracy:  84.4%\n",
      "Saved checkpoint.\n",
      "Global Step:  37100, Training Batch Accuracy:  85.9%\n",
      "Global Step:  37200, Training Batch Accuracy:  81.2%\n",
      "Global Step:  37300, Training Batch Accuracy:  79.7%\n",
      "Global Step:  37400, Training Batch Accuracy:  71.9%\n",
      "Global Step:  37500, Training Batch Accuracy:  78.1%\n",
      "Global Step:  37600, Training Batch Accuracy:  84.4%\n",
      "Global Step:  37700, Training Batch Accuracy:  78.1%\n",
      "Global Step:  37800, Training Batch Accuracy:  81.2%\n",
      "Global Step:  37900, Training Batch Accuracy:  75.0%\n",
      "Global Step:  38000, Training Batch Accuracy:  82.8%\n",
      "Saved checkpoint.\n",
      "Global Step:  38100, Training Batch Accuracy:  71.9%\n",
      "Global Step:  38200, Training Batch Accuracy:  71.9%\n",
      "Global Step:  38300, Training Batch Accuracy:  76.6%\n",
      "Global Step:  38400, Training Batch Accuracy:  73.4%\n",
      "Global Step:  38500, Training Batch Accuracy:  78.1%\n",
      "Global Step:  38600, Training Batch Accuracy:  78.1%\n",
      "Global Step:  38700, Training Batch Accuracy:  84.4%\n",
      "Global Step:  38800, Training Batch Accuracy:  75.0%\n",
      "Global Step:  38900, Training Batch Accuracy:  78.1%\n",
      "Global Step:  39000, Training Batch Accuracy:  82.8%\n",
      "Saved checkpoint.\n",
      "Global Step:  39100, Training Batch Accuracy:  84.4%\n",
      "Global Step:  39200, Training Batch Accuracy:  76.6%\n",
      "Global Step:  39300, Training Batch Accuracy:  84.4%\n",
      "Global Step:  39400, Training Batch Accuracy:  75.0%\n",
      "Global Step:  39500, Training Batch Accuracy:  81.2%\n",
      "Global Step:  39600, Training Batch Accuracy:  76.6%\n",
      "Global Step:  39700, Training Batch Accuracy:  81.2%\n",
      "Global Step:  39800, Training Batch Accuracy:  87.5%\n",
      "Global Step:  39900, Training Batch Accuracy:  79.7%\n",
      "Global Step:  40000, Training Batch Accuracy:  81.2%\n",
      "Saved checkpoint.\n",
      "Global Step:  40100, Training Batch Accuracy:  82.8%\n",
      "Global Step:  40200, Training Batch Accuracy:  89.1%\n",
      "Global Step:  40300, Training Batch Accuracy:  76.6%\n",
      "Global Step:  40400, Training Batch Accuracy:  73.4%\n",
      "Global Step:  40500, Training Batch Accuracy:  82.8%\n",
      "Global Step:  40600, Training Batch Accuracy:  81.2%\n",
      "Global Step:  40700, Training Batch Accuracy:  78.1%\n",
      "Global Step:  40800, Training Batch Accuracy:  76.6%\n",
      "Global Step:  40900, Training Batch Accuracy:  75.0%\n",
      "Global Step:  41000, Training Batch Accuracy:  81.2%\n",
      "Saved checkpoint.\n",
      "Global Step:  41100, Training Batch Accuracy:  89.1%\n",
      "Global Step:  41200, Training Batch Accuracy:  84.4%\n",
      "Global Step:  41300, Training Batch Accuracy:  78.1%\n",
      "Global Step:  41400, Training Batch Accuracy:  70.3%\n",
      "Global Step:  41500, Training Batch Accuracy:  79.7%\n",
      "Global Step:  41600, Training Batch Accuracy:  79.7%\n",
      "Global Step:  41700, Training Batch Accuracy:  81.2%\n",
      "Global Step:  41800, Training Batch Accuracy:  70.3%\n",
      "Global Step:  41900, Training Batch Accuracy:  87.5%\n",
      "Global Step:  42000, Training Batch Accuracy:  84.4%\n",
      "Saved checkpoint.\n",
      "Global Step:  42100, Training Batch Accuracy:  71.9%\n",
      "Global Step:  42200, Training Batch Accuracy:  85.9%\n",
      "Global Step:  42300, Training Batch Accuracy:  81.2%\n",
      "Global Step:  42400, Training Batch Accuracy:  76.6%\n",
      "Global Step:  42500, Training Batch Accuracy:  71.9%\n",
      "Global Step:  42600, Training Batch Accuracy:  87.5%\n",
      "Global Step:  42700, Training Batch Accuracy:  68.8%\n",
      "Global Step:  42800, Training Batch Accuracy:  76.6%\n",
      "Global Step:  42900, Training Batch Accuracy:  84.4%\n",
      "Global Step:  43000, Training Batch Accuracy:  82.8%\n",
      "Saved checkpoint.\n",
      "Global Step:  43100, Training Batch Accuracy:  75.0%\n",
      "Global Step:  43200, Training Batch Accuracy:  67.2%\n",
      "Global Step:  43300, Training Batch Accuracy:  75.0%\n",
      "Global Step:  43400, Training Batch Accuracy:  79.7%\n",
      "Global Step:  43500, Training Batch Accuracy:  82.8%\n",
      "Global Step:  43600, Training Batch Accuracy:  79.7%\n",
      "Global Step:  43700, Training Batch Accuracy:  75.0%\n",
      "Global Step:  43800, Training Batch Accuracy:  76.6%\n",
      "Global Step:  43900, Training Batch Accuracy:  84.4%\n",
      "Global Step:  44000, Training Batch Accuracy:  78.1%\n",
      "Saved checkpoint.\n",
      "Global Step:  44100, Training Batch Accuracy:  84.4%\n",
      "Global Step:  44200, Training Batch Accuracy:  71.9%\n",
      "Global Step:  44300, Training Batch Accuracy:  79.7%\n",
      "Global Step:  44400, Training Batch Accuracy:  73.4%\n",
      "Global Step:  44500, Training Batch Accuracy:  70.3%\n",
      "Global Step:  44600, Training Batch Accuracy:  78.1%\n",
      "Global Step:  44700, Training Batch Accuracy:  82.8%\n",
      "Global Step:  44800, Training Batch Accuracy:  84.4%\n",
      "Global Step:  44900, Training Batch Accuracy:  81.2%\n",
      "Global Step:  45000, Training Batch Accuracy:  81.2%\n",
      "Saved checkpoint.\n",
      "Global Step:  45100, Training Batch Accuracy:  81.2%\n",
      "Global Step:  45200, Training Batch Accuracy:  82.8%\n",
      "Global Step:  45300, Training Batch Accuracy:  82.8%\n",
      "Global Step:  45400, Training Batch Accuracy:  81.2%\n",
      "Global Step:  45500, Training Batch Accuracy:  75.0%\n",
      "Global Step:  45600, Training Batch Accuracy:  85.9%\n",
      "Global Step:  45700, Training Batch Accuracy:  78.1%\n",
      "Global Step:  45800, Training Batch Accuracy:  84.4%\n",
      "Global Step:  45900, Training Batch Accuracy:  82.8%\n",
      "Global Step:  46000, Training Batch Accuracy:  82.8%\n",
      "Saved checkpoint.\n"
     ]
    },
    {
     "name": "stdout",
     "output_type": "stream",
     "text": [
      "Global Step:  46100, Training Batch Accuracy:  85.9%\n",
      "Global Step:  46200, Training Batch Accuracy:  76.6%\n",
      "Global Step:  46300, Training Batch Accuracy:  75.0%\n",
      "Global Step:  46400, Training Batch Accuracy:  82.8%\n",
      "Global Step:  46500, Training Batch Accuracy:  70.3%\n",
      "Global Step:  46600, Training Batch Accuracy:  76.6%\n",
      "Global Step:  46700, Training Batch Accuracy:  79.7%\n",
      "Global Step:  46800, Training Batch Accuracy:  79.7%\n",
      "Global Step:  46900, Training Batch Accuracy:  85.9%\n",
      "Global Step:  47000, Training Batch Accuracy:  84.4%\n",
      "Saved checkpoint.\n",
      "Global Step:  47100, Training Batch Accuracy:  76.6%\n",
      "Global Step:  47200, Training Batch Accuracy:  90.6%\n",
      "Global Step:  47300, Training Batch Accuracy:  76.6%\n",
      "Global Step:  47400, Training Batch Accuracy:  78.1%\n",
      "Global Step:  47500, Training Batch Accuracy:  68.8%\n",
      "Global Step:  47600, Training Batch Accuracy:  79.7%\n",
      "Global Step:  47700, Training Batch Accuracy:  81.2%\n",
      "Global Step:  47800, Training Batch Accuracy:  76.6%\n",
      "Global Step:  47900, Training Batch Accuracy:  73.4%\n",
      "Global Step:  48000, Training Batch Accuracy:  71.9%\n",
      "Saved checkpoint.\n",
      "Global Step:  48100, Training Batch Accuracy:  82.8%\n",
      "Global Step:  48200, Training Batch Accuracy:  67.2%\n",
      "Global Step:  48300, Training Batch Accuracy:  78.1%\n",
      "Global Step:  48400, Training Batch Accuracy:  81.2%\n",
      "Global Step:  48500, Training Batch Accuracy:  85.9%\n",
      "Global Step:  48600, Training Batch Accuracy:  84.4%\n",
      "Global Step:  48700, Training Batch Accuracy:  78.1%\n",
      "Global Step:  48800, Training Batch Accuracy:  78.1%\n",
      "Global Step:  48900, Training Batch Accuracy:  64.1%\n",
      "Global Step:  49000, Training Batch Accuracy:  78.1%\n",
      "Saved checkpoint.\n",
      "Global Step:  49100, Training Batch Accuracy:  73.4%\n",
      "Global Step:  49200, Training Batch Accuracy:  89.1%\n",
      "Global Step:  49300, Training Batch Accuracy:  81.2%\n",
      "Global Step:  49400, Training Batch Accuracy:  82.8%\n",
      "Global Step:  49500, Training Batch Accuracy:  76.6%\n",
      "Global Step:  49600, Training Batch Accuracy:  84.4%\n",
      "Global Step:  49700, Training Batch Accuracy:  79.7%\n",
      "Global Step:  49800, Training Batch Accuracy:  78.1%\n",
      "Global Step:  49900, Training Batch Accuracy:  81.2%\n",
      "Global Step:  50000, Training Batch Accuracy:  84.4%\n",
      "Saved checkpoint.\n",
      "Global Step:  50100, Training Batch Accuracy:  78.1%\n",
      "Global Step:  50200, Training Batch Accuracy:  81.2%\n",
      "Global Step:  50300, Training Batch Accuracy:  89.1%\n",
      "Global Step:  50400, Training Batch Accuracy:  85.9%\n",
      "Global Step:  50500, Training Batch Accuracy:  68.8%\n",
      "Global Step:  50600, Training Batch Accuracy:  82.8%\n",
      "Global Step:  50700, Training Batch Accuracy:  82.8%\n",
      "Global Step:  50800, Training Batch Accuracy:  85.9%\n",
      "Global Step:  50900, Training Batch Accuracy:  75.0%\n",
      "Global Step:  51000, Training Batch Accuracy:  85.9%\n",
      "Saved checkpoint.\n",
      "Global Step:  51100, Training Batch Accuracy:  82.8%\n",
      "Global Step:  51200, Training Batch Accuracy:  75.0%\n",
      "Global Step:  51300, Training Batch Accuracy:  79.7%\n",
      "Global Step:  51400, Training Batch Accuracy:  81.2%\n",
      "Global Step:  51500, Training Batch Accuracy:  87.5%\n",
      "Global Step:  51600, Training Batch Accuracy:  82.8%\n",
      "Global Step:  51700, Training Batch Accuracy:  79.7%\n",
      "Global Step:  51800, Training Batch Accuracy:  79.7%\n",
      "Global Step:  51900, Training Batch Accuracy:  75.0%\n",
      "Global Step:  52000, Training Batch Accuracy:  73.4%\n",
      "Saved checkpoint.\n",
      "Global Step:  52100, Training Batch Accuracy:  75.0%\n",
      "Global Step:  52200, Training Batch Accuracy:  84.4%\n",
      "Global Step:  52300, Training Batch Accuracy:  81.2%\n",
      "Global Step:  52400, Training Batch Accuracy:  79.7%\n",
      "Global Step:  52500, Training Batch Accuracy:  84.4%\n",
      "Global Step:  52600, Training Batch Accuracy:  82.8%\n",
      "Global Step:  52700, Training Batch Accuracy:  78.1%\n",
      "Global Step:  52800, Training Batch Accuracy:  78.1%\n",
      "Global Step:  52900, Training Batch Accuracy:  87.5%\n",
      "Global Step:  53000, Training Batch Accuracy:  79.7%\n",
      "Saved checkpoint.\n",
      "Global Step:  53100, Training Batch Accuracy:  81.2%\n",
      "Global Step:  53200, Training Batch Accuracy:  78.1%\n",
      "Global Step:  53300, Training Batch Accuracy:  85.9%\n",
      "Global Step:  53400, Training Batch Accuracy:  87.5%\n",
      "Global Step:  53500, Training Batch Accuracy:  75.0%\n",
      "Global Step:  53600, Training Batch Accuracy:  79.7%\n",
      "Global Step:  53700, Training Batch Accuracy:  75.0%\n",
      "Global Step:  53800, Training Batch Accuracy:  76.6%\n",
      "Global Step:  53900, Training Batch Accuracy:  82.8%\n",
      "Global Step:  54000, Training Batch Accuracy:  85.9%\n",
      "Saved checkpoint.\n",
      "Global Step:  54100, Training Batch Accuracy:  84.4%\n",
      "Global Step:  54200, Training Batch Accuracy:  76.6%\n",
      "Global Step:  54300, Training Batch Accuracy:  84.4%\n",
      "Global Step:  54400, Training Batch Accuracy:  84.4%\n",
      "Global Step:  54500, Training Batch Accuracy:  73.4%\n",
      "Global Step:  54600, Training Batch Accuracy:  75.0%\n",
      "Global Step:  54700, Training Batch Accuracy:  81.2%\n",
      "Global Step:  54800, Training Batch Accuracy:  73.4%\n",
      "Global Step:  54900, Training Batch Accuracy:  84.4%\n",
      "Global Step:  55000, Training Batch Accuracy:  76.6%\n",
      "Saved checkpoint.\n",
      "Global Step:  55100, Training Batch Accuracy:  81.2%\n",
      "Global Step:  55200, Training Batch Accuracy:  82.8%\n",
      "Global Step:  55300, Training Batch Accuracy:  87.5%\n",
      "Global Step:  55400, Training Batch Accuracy:  89.1%\n",
      "Global Step:  55500, Training Batch Accuracy:  79.7%\n",
      "Global Step:  55600, Training Batch Accuracy:  71.9%\n",
      "Global Step:  55700, Training Batch Accuracy:  85.9%\n",
      "Global Step:  55800, Training Batch Accuracy:  75.0%\n",
      "Global Step:  55900, Training Batch Accuracy:  82.8%\n",
      "Global Step:  56000, Training Batch Accuracy:  84.4%\n",
      "Saved checkpoint.\n",
      "Global Step:  56100, Training Batch Accuracy:  82.8%\n",
      "Global Step:  56200, Training Batch Accuracy:  85.9%\n",
      "Global Step:  56300, Training Batch Accuracy:  76.6%\n",
      "Global Step:  56400, Training Batch Accuracy:  85.9%\n",
      "Global Step:  56500, Training Batch Accuracy:  78.1%\n",
      "Global Step:  56600, Training Batch Accuracy:  75.0%\n",
      "Global Step:  56700, Training Batch Accuracy:  78.1%\n",
      "Global Step:  56800, Training Batch Accuracy:  82.8%\n",
      "Global Step:  56900, Training Batch Accuracy:  81.2%\n",
      "Global Step:  57000, Training Batch Accuracy:  75.0%\n",
      "Saved checkpoint.\n",
      "Global Step:  57100, Training Batch Accuracy:  87.5%\n",
      "Global Step:  57200, Training Batch Accuracy:  87.5%\n",
      "Global Step:  57300, Training Batch Accuracy:  84.4%\n",
      "Global Step:  57400, Training Batch Accuracy:  82.8%\n",
      "Global Step:  57500, Training Batch Accuracy:  68.8%\n",
      "Global Step:  57600, Training Batch Accuracy:  85.9%\n",
      "Global Step:  57700, Training Batch Accuracy:  90.6%\n",
      "Global Step:  57800, Training Batch Accuracy:  78.1%\n",
      "Global Step:  57900, Training Batch Accuracy:  70.3%\n",
      "Global Step:  58000, Training Batch Accuracy:  82.8%\n",
      "Saved checkpoint.\n",
      "Global Step:  58100, Training Batch Accuracy:  87.5%\n",
      "Global Step:  58200, Training Batch Accuracy:  70.3%\n",
      "Global Step:  58300, Training Batch Accuracy:  79.7%\n",
      "Global Step:  58400, Training Batch Accuracy:  93.8%\n",
      "Global Step:  58500, Training Batch Accuracy:  85.9%\n",
      "Global Step:  58600, Training Batch Accuracy:  79.7%\n",
      "Global Step:  58700, Training Batch Accuracy:  79.7%\n",
      "Global Step:  58800, Training Batch Accuracy:  89.1%\n",
      "Global Step:  58900, Training Batch Accuracy:  76.6%\n",
      "Global Step:  59000, Training Batch Accuracy:  79.7%\n",
      "Saved checkpoint.\n",
      "Global Step:  59100, Training Batch Accuracy:  71.9%\n",
      "Global Step:  59200, Training Batch Accuracy:  79.7%\n",
      "Global Step:  59300, Training Batch Accuracy:  84.4%\n",
      "Global Step:  59400, Training Batch Accuracy:  76.6%\n",
      "Global Step:  59500, Training Batch Accuracy:  85.9%\n",
      "Global Step:  59600, Training Batch Accuracy:  78.1%\n",
      "Global Step:  59700, Training Batch Accuracy:  82.8%\n",
      "Global Step:  59800, Training Batch Accuracy:  78.1%\n",
      "Global Step:  59900, Training Batch Accuracy:  79.7%\n",
      "Global Step:  60000, Training Batch Accuracy:  84.4%\n",
      "Saved checkpoint.\n",
      "Global Step:  60100, Training Batch Accuracy:  84.4%\n",
      "Global Step:  60200, Training Batch Accuracy:  87.5%\n",
      "Global Step:  60300, Training Batch Accuracy:  78.1%\n",
      "Global Step:  60400, Training Batch Accuracy:  79.7%\n",
      "Global Step:  60500, Training Batch Accuracy:  84.4%\n",
      "Global Step:  60600, Training Batch Accuracy:  73.4%\n",
      "Global Step:  60700, Training Batch Accuracy:  81.2%\n",
      "Global Step:  60800, Training Batch Accuracy:  78.1%\n",
      "Global Step:  60900, Training Batch Accuracy:  89.1%\n",
      "Global Step:  61000, Training Batch Accuracy:  76.6%\n",
      "Saved checkpoint.\n"
     ]
    },
    {
     "name": "stdout",
     "output_type": "stream",
     "text": [
      "Global Step:  61100, Training Batch Accuracy:  79.7%\n",
      "Global Step:  61200, Training Batch Accuracy:  84.4%\n",
      "Global Step:  61300, Training Batch Accuracy:  78.1%\n",
      "Global Step:  61400, Training Batch Accuracy:  84.4%\n",
      "Global Step:  61500, Training Batch Accuracy:  82.8%\n",
      "Global Step:  61600, Training Batch Accuracy:  87.5%\n",
      "Global Step:  61700, Training Batch Accuracy:  85.9%\n",
      "Global Step:  61800, Training Batch Accuracy:  90.6%\n",
      "Global Step:  61900, Training Batch Accuracy:  81.2%\n",
      "Global Step:  62000, Training Batch Accuracy:  90.6%\n",
      "Saved checkpoint.\n",
      "Global Step:  62100, Training Batch Accuracy:  84.4%\n",
      "Global Step:  62200, Training Batch Accuracy:  81.2%\n",
      "Global Step:  62300, Training Batch Accuracy:  75.0%\n",
      "Global Step:  62400, Training Batch Accuracy:  84.4%\n",
      "Global Step:  62500, Training Batch Accuracy:  75.0%\n",
      "Global Step:  62600, Training Batch Accuracy:  90.6%\n",
      "Global Step:  62700, Training Batch Accuracy:  75.0%\n",
      "Global Step:  62800, Training Batch Accuracy:  78.1%\n",
      "Global Step:  62900, Training Batch Accuracy:  67.2%\n",
      "Global Step:  63000, Training Batch Accuracy:  78.1%\n",
      "Saved checkpoint.\n",
      "Global Step:  63100, Training Batch Accuracy:  78.1%\n",
      "Global Step:  63200, Training Batch Accuracy:  79.7%\n",
      "Global Step:  63300, Training Batch Accuracy:  84.4%\n",
      "Global Step:  63400, Training Batch Accuracy:  78.1%\n",
      "Global Step:  63500, Training Batch Accuracy:  76.6%\n",
      "Global Step:  63600, Training Batch Accuracy:  81.2%\n",
      "Global Step:  63700, Training Batch Accuracy:  82.8%\n",
      "Global Step:  63800, Training Batch Accuracy:  79.7%\n",
      "Global Step:  63900, Training Batch Accuracy:  67.2%\n",
      "Global Step:  64000, Training Batch Accuracy:  92.2%\n",
      "Saved checkpoint.\n",
      "Global Step:  64100, Training Batch Accuracy:  79.7%\n",
      "Global Step:  64200, Training Batch Accuracy:  82.8%\n",
      "Global Step:  64300, Training Batch Accuracy:  84.4%\n",
      "Global Step:  64400, Training Batch Accuracy:  78.1%\n",
      "Global Step:  64500, Training Batch Accuracy:  89.1%\n",
      "Global Step:  64600, Training Batch Accuracy:  78.1%\n",
      "Global Step:  64700, Training Batch Accuracy:  73.4%\n",
      "Global Step:  64800, Training Batch Accuracy:  76.6%\n",
      "Global Step:  64900, Training Batch Accuracy:  82.8%\n",
      "Global Step:  65000, Training Batch Accuracy:  92.2%\n",
      "Saved checkpoint.\n",
      "Global Step:  65100, Training Batch Accuracy:  85.9%\n",
      "Global Step:  65200, Training Batch Accuracy:  78.1%\n",
      "Global Step:  65300, Training Batch Accuracy:  82.8%\n",
      "Global Step:  65400, Training Batch Accuracy:  85.9%\n",
      "Global Step:  65500, Training Batch Accuracy:  85.9%\n",
      "Global Step:  65600, Training Batch Accuracy:  84.4%\n",
      "Global Step:  65700, Training Batch Accuracy:  85.9%\n",
      "Global Step:  65800, Training Batch Accuracy:  81.2%\n",
      "Global Step:  65900, Training Batch Accuracy:  81.2%\n",
      "Global Step:  66000, Training Batch Accuracy:  84.4%\n",
      "Saved checkpoint.\n",
      "Global Step:  66100, Training Batch Accuracy:  85.9%\n",
      "Global Step:  66200, Training Batch Accuracy:  84.4%\n",
      "Global Step:  66300, Training Batch Accuracy:  79.7%\n",
      "Global Step:  66400, Training Batch Accuracy:  82.8%\n",
      "Global Step:  66500, Training Batch Accuracy:  79.7%\n",
      "Global Step:  66600, Training Batch Accuracy:  84.4%\n",
      "Global Step:  66700, Training Batch Accuracy:  81.2%\n",
      "Global Step:  66800, Training Batch Accuracy:  81.2%\n",
      "Global Step:  66900, Training Batch Accuracy:  76.6%\n",
      "Global Step:  67000, Training Batch Accuracy:  84.4%\n",
      "Saved checkpoint.\n",
      "Global Step:  67100, Training Batch Accuracy:  79.7%\n",
      "Global Step:  67200, Training Batch Accuracy:  85.9%\n",
      "Global Step:  67300, Training Batch Accuracy:  84.4%\n",
      "Global Step:  67400, Training Batch Accuracy:  82.8%\n",
      "Global Step:  67500, Training Batch Accuracy:  81.2%\n",
      "Global Step:  67600, Training Batch Accuracy:  79.7%\n",
      "Global Step:  67700, Training Batch Accuracy:  84.4%\n",
      "Global Step:  67800, Training Batch Accuracy:  81.2%\n",
      "Global Step:  67900, Training Batch Accuracy:  81.2%\n",
      "Global Step:  68000, Training Batch Accuracy:  81.2%\n",
      "Saved checkpoint.\n",
      "Global Step:  68100, Training Batch Accuracy:  85.9%\n",
      "Global Step:  68200, Training Batch Accuracy:  81.2%\n",
      "Global Step:  68300, Training Batch Accuracy:  79.7%\n",
      "Global Step:  68400, Training Batch Accuracy:  75.0%\n",
      "Global Step:  68500, Training Batch Accuracy:  79.7%\n",
      "Global Step:  68600, Training Batch Accuracy:  87.5%\n",
      "Global Step:  68700, Training Batch Accuracy:  85.9%\n",
      "Global Step:  68800, Training Batch Accuracy:  82.8%\n",
      "Global Step:  68900, Training Batch Accuracy:  79.7%\n",
      "Global Step:  69000, Training Batch Accuracy:  84.4%\n",
      "Saved checkpoint.\n",
      "Global Step:  69100, Training Batch Accuracy:  82.8%\n",
      "Global Step:  69200, Training Batch Accuracy:  87.5%\n",
      "Global Step:  69300, Training Batch Accuracy:  81.2%\n",
      "Global Step:  69400, Training Batch Accuracy:  78.1%\n",
      "Global Step:  69500, Training Batch Accuracy:  87.5%\n",
      "Global Step:  69600, Training Batch Accuracy:  82.8%\n",
      "Global Step:  69700, Training Batch Accuracy:  87.5%\n",
      "Global Step:  69800, Training Batch Accuracy:  79.7%\n",
      "Global Step:  69900, Training Batch Accuracy:  79.7%\n",
      "Global Step:  70000, Training Batch Accuracy:  84.4%\n",
      "Saved checkpoint.\n",
      "Global Step:  70100, Training Batch Accuracy:  84.4%\n",
      "Global Step:  70200, Training Batch Accuracy:  79.7%\n",
      "Global Step:  70300, Training Batch Accuracy:  84.4%\n",
      "Global Step:  70400, Training Batch Accuracy:  89.1%\n",
      "Global Step:  70500, Training Batch Accuracy:  79.7%\n",
      "Global Step:  70600, Training Batch Accuracy:  81.2%\n",
      "Global Step:  70700, Training Batch Accuracy:  90.6%\n",
      "Global Step:  70800, Training Batch Accuracy:  89.1%\n",
      "Global Step:  70900, Training Batch Accuracy:  89.1%\n",
      "Global Step:  71000, Training Batch Accuracy:  78.1%\n",
      "Saved checkpoint.\n",
      "Global Step:  71100, Training Batch Accuracy:  81.2%\n",
      "Global Step:  71200, Training Batch Accuracy:  79.7%\n",
      "Global Step:  71300, Training Batch Accuracy:  84.4%\n",
      "Global Step:  71400, Training Batch Accuracy:  78.1%\n",
      "Global Step:  71500, Training Batch Accuracy:  78.1%\n",
      "Global Step:  71600, Training Batch Accuracy:  78.1%\n",
      "Global Step:  71700, Training Batch Accuracy:  92.2%\n",
      "Global Step:  71800, Training Batch Accuracy:  84.4%\n",
      "Global Step:  71900, Training Batch Accuracy:  84.4%\n",
      "Global Step:  72000, Training Batch Accuracy:  71.9%\n",
      "Saved checkpoint.\n",
      "Global Step:  72100, Training Batch Accuracy:  76.6%\n",
      "Global Step:  72200, Training Batch Accuracy:  85.9%\n",
      "Global Step:  72300, Training Batch Accuracy:  89.1%\n",
      "Global Step:  72400, Training Batch Accuracy:  82.8%\n",
      "Global Step:  72500, Training Batch Accuracy:  79.7%\n",
      "Global Step:  72600, Training Batch Accuracy:  89.1%\n",
      "Global Step:  72700, Training Batch Accuracy:  81.2%\n",
      "Global Step:  72800, Training Batch Accuracy:  90.6%\n",
      "Global Step:  72900, Training Batch Accuracy:  85.9%\n",
      "Global Step:  73000, Training Batch Accuracy:  79.7%\n",
      "Saved checkpoint.\n",
      "Global Step:  73100, Training Batch Accuracy:  87.5%\n",
      "Global Step:  73200, Training Batch Accuracy:  84.4%\n",
      "Global Step:  73300, Training Batch Accuracy:  85.9%\n",
      "Global Step:  73400, Training Batch Accuracy:  82.8%\n",
      "Global Step:  73500, Training Batch Accuracy:  89.1%\n",
      "Global Step:  73600, Training Batch Accuracy:  87.5%\n",
      "Global Step:  73700, Training Batch Accuracy:  82.8%\n",
      "Global Step:  73800, Training Batch Accuracy:  85.9%\n",
      "Global Step:  73900, Training Batch Accuracy:  85.9%\n",
      "Global Step:  74000, Training Batch Accuracy:  84.4%\n",
      "Saved checkpoint.\n",
      "Global Step:  74100, Training Batch Accuracy:  87.5%\n",
      "Global Step:  74200, Training Batch Accuracy:  84.4%\n",
      "Global Step:  74300, Training Batch Accuracy:  82.8%\n",
      "Global Step:  74400, Training Batch Accuracy:  93.8%\n",
      "Global Step:  74500, Training Batch Accuracy:  81.2%\n",
      "Global Step:  74600, Training Batch Accuracy:  82.8%\n",
      "Global Step:  74700, Training Batch Accuracy:  84.4%\n",
      "Global Step:  74800, Training Batch Accuracy:  84.4%\n",
      "Global Step:  74900, Training Batch Accuracy:  81.2%\n",
      "Global Step:  75000, Training Batch Accuracy:  79.7%\n",
      "Saved checkpoint.\n",
      "Global Step:  75100, Training Batch Accuracy:  81.2%\n",
      "Global Step:  75200, Training Batch Accuracy:  79.7%\n",
      "Global Step:  75300, Training Batch Accuracy:  81.2%\n",
      "Global Step:  75400, Training Batch Accuracy:  81.2%\n",
      "Global Step:  75500, Training Batch Accuracy:  79.7%\n",
      "Global Step:  75600, Training Batch Accuracy:  84.4%\n",
      "Global Step:  75700, Training Batch Accuracy:  82.8%\n",
      "Global Step:  75800, Training Batch Accuracy:  78.1%\n",
      "Global Step:  75900, Training Batch Accuracy:  87.5%\n",
      "Global Step:  76000, Training Batch Accuracy:  81.2%\n",
      "Saved checkpoint.\n"
     ]
    },
    {
     "name": "stdout",
     "output_type": "stream",
     "text": [
      "Global Step:  76100, Training Batch Accuracy:  85.9%\n",
      "Global Step:  76200, Training Batch Accuracy:  87.5%\n",
      "Global Step:  76300, Training Batch Accuracy:  89.1%\n",
      "Global Step:  76400, Training Batch Accuracy:  82.8%\n",
      "Global Step:  76500, Training Batch Accuracy:  84.4%\n",
      "Global Step:  76600, Training Batch Accuracy:  84.4%\n",
      "Global Step:  76700, Training Batch Accuracy:  82.8%\n",
      "Global Step:  76800, Training Batch Accuracy:  87.5%\n",
      "Global Step:  76900, Training Batch Accuracy:  78.1%\n",
      "Global Step:  77000, Training Batch Accuracy:  81.2%\n",
      "Saved checkpoint.\n",
      "Global Step:  77100, Training Batch Accuracy:  79.7%\n",
      "Global Step:  77200, Training Batch Accuracy:  90.6%\n",
      "Global Step:  77300, Training Batch Accuracy:  89.1%\n",
      "Global Step:  77400, Training Batch Accuracy:  76.6%\n",
      "Global Step:  77500, Training Batch Accuracy:  79.7%\n",
      "Global Step:  77600, Training Batch Accuracy:  81.2%\n",
      "Global Step:  77700, Training Batch Accuracy:  79.7%\n",
      "Global Step:  77800, Training Batch Accuracy:  89.1%\n",
      "Global Step:  77900, Training Batch Accuracy:  82.8%\n",
      "Global Step:  78000, Training Batch Accuracy:  85.9%\n",
      "Saved checkpoint.\n",
      "Global Step:  78100, Training Batch Accuracy:  89.1%\n",
      "Global Step:  78200, Training Batch Accuracy:  87.5%\n",
      "Global Step:  78300, Training Batch Accuracy:  89.1%\n",
      "Global Step:  78400, Training Batch Accuracy:  81.2%\n",
      "Global Step:  78500, Training Batch Accuracy:  78.1%\n",
      "Global Step:  78600, Training Batch Accuracy:  93.8%\n",
      "Global Step:  78700, Training Batch Accuracy:  79.7%\n",
      "Global Step:  78800, Training Batch Accuracy:  79.7%\n",
      "Global Step:  78900, Training Batch Accuracy:  89.1%\n",
      "Global Step:  79000, Training Batch Accuracy:  87.5%\n",
      "Saved checkpoint.\n",
      "Global Step:  79100, Training Batch Accuracy:  87.5%\n",
      "Global Step:  79200, Training Batch Accuracy:  85.9%\n",
      "Global Step:  79300, Training Batch Accuracy:  85.9%\n",
      "Global Step:  79400, Training Batch Accuracy:  82.8%\n",
      "Global Step:  79500, Training Batch Accuracy:  89.1%\n",
      "Global Step:  79600, Training Batch Accuracy:  87.5%\n",
      "Global Step:  79700, Training Batch Accuracy:  87.5%\n",
      "Global Step:  79800, Training Batch Accuracy:  84.4%\n",
      "Global Step:  79900, Training Batch Accuracy:  87.5%\n",
      "Global Step:  80000, Training Batch Accuracy:  79.7%\n",
      "Saved checkpoint.\n",
      "Global Step:  80100, Training Batch Accuracy:  89.1%\n",
      "Global Step:  80200, Training Batch Accuracy:  81.2%\n",
      "Global Step:  80300, Training Batch Accuracy:  90.6%\n",
      "Global Step:  80400, Training Batch Accuracy:  82.8%\n",
      "Global Step:  80500, Training Batch Accuracy:  85.9%\n",
      "Global Step:  80600, Training Batch Accuracy:  89.1%\n",
      "Global Step:  80700, Training Batch Accuracy:  82.8%\n",
      "Global Step:  80800, Training Batch Accuracy:  82.8%\n",
      "Global Step:  80900, Training Batch Accuracy:  84.4%\n",
      "Global Step:  81000, Training Batch Accuracy:  79.7%\n",
      "Saved checkpoint.\n",
      "Global Step:  81100, Training Batch Accuracy:  79.7%\n",
      "Global Step:  81200, Training Batch Accuracy:  82.8%\n",
      "Global Step:  81300, Training Batch Accuracy:  81.2%\n",
      "Global Step:  81400, Training Batch Accuracy:  85.9%\n",
      "Global Step:  81500, Training Batch Accuracy:  84.4%\n",
      "Global Step:  81600, Training Batch Accuracy:  71.9%\n",
      "Global Step:  81700, Training Batch Accuracy:  87.5%\n",
      "Global Step:  81800, Training Batch Accuracy:  82.8%\n",
      "Global Step:  81900, Training Batch Accuracy:  84.4%\n",
      "Global Step:  82000, Training Batch Accuracy:  89.1%\n",
      "Saved checkpoint.\n",
      "Global Step:  82100, Training Batch Accuracy:  82.8%\n",
      "Global Step:  82200, Training Batch Accuracy:  85.9%\n",
      "Global Step:  82300, Training Batch Accuracy:  78.1%\n",
      "Global Step:  82400, Training Batch Accuracy:  84.4%\n",
      "Global Step:  82500, Training Batch Accuracy:  87.5%\n",
      "Global Step:  82600, Training Batch Accuracy:  87.5%\n",
      "Global Step:  82700, Training Batch Accuracy:  82.8%\n",
      "Global Step:  82800, Training Batch Accuracy:  89.1%\n",
      "Global Step:  82900, Training Batch Accuracy:  81.2%\n",
      "Global Step:  83000, Training Batch Accuracy:  81.2%\n",
      "Saved checkpoint.\n",
      "Global Step:  83100, Training Batch Accuracy:  79.7%\n",
      "Global Step:  83200, Training Batch Accuracy:  90.6%\n",
      "Global Step:  83300, Training Batch Accuracy:  92.2%\n",
      "Global Step:  83400, Training Batch Accuracy:  89.1%\n",
      "Global Step:  83500, Training Batch Accuracy:  85.9%\n",
      "Global Step:  83600, Training Batch Accuracy:  79.7%\n",
      "Global Step:  83700, Training Batch Accuracy:  84.4%\n",
      "Global Step:  83800, Training Batch Accuracy:  89.1%\n",
      "Global Step:  83900, Training Batch Accuracy:  92.2%\n",
      "Global Step:  84000, Training Batch Accuracy:  84.4%\n",
      "Saved checkpoint.\n",
      "Global Step:  84100, Training Batch Accuracy:  79.7%\n",
      "Global Step:  84200, Training Batch Accuracy:  81.2%\n",
      "Global Step:  84300, Training Batch Accuracy:  89.1%\n",
      "Global Step:  84400, Training Batch Accuracy:  84.4%\n",
      "Global Step:  84500, Training Batch Accuracy:  93.8%\n",
      "Global Step:  84600, Training Batch Accuracy:  95.3%\n",
      "Global Step:  84700, Training Batch Accuracy:  87.5%\n",
      "Global Step:  84800, Training Batch Accuracy:  84.4%\n",
      "Global Step:  84900, Training Batch Accuracy:  87.5%\n",
      "Global Step:  85000, Training Batch Accuracy:  82.8%\n",
      "Saved checkpoint.\n",
      "Global Step:  85100, Training Batch Accuracy:  93.8%\n",
      "Global Step:  85200, Training Batch Accuracy:  78.1%\n",
      "Global Step:  85300, Training Batch Accuracy:  76.6%\n",
      "Global Step:  85400, Training Batch Accuracy:  84.4%\n",
      "Global Step:  85500, Training Batch Accuracy:  89.1%\n",
      "Global Step:  85600, Training Batch Accuracy:  79.7%\n",
      "Global Step:  85700, Training Batch Accuracy:  90.6%\n",
      "Global Step:  85800, Training Batch Accuracy:  85.9%\n",
      "Global Step:  85900, Training Batch Accuracy:  79.7%\n",
      "Global Step:  86000, Training Batch Accuracy:  81.2%\n",
      "Saved checkpoint.\n",
      "Global Step:  86100, Training Batch Accuracy:  87.5%\n",
      "Global Step:  86200, Training Batch Accuracy:  85.9%\n",
      "Global Step:  86300, Training Batch Accuracy:  78.1%\n",
      "Global Step:  86400, Training Batch Accuracy:  85.9%\n",
      "Global Step:  86500, Training Batch Accuracy:  79.7%\n",
      "Global Step:  86600, Training Batch Accuracy:  90.6%\n",
      "Global Step:  86700, Training Batch Accuracy:  82.8%\n",
      "Global Step:  86800, Training Batch Accuracy:  92.2%\n",
      "Global Step:  86900, Training Batch Accuracy:  92.2%\n",
      "Global Step:  87000, Training Batch Accuracy:  81.2%\n",
      "Saved checkpoint.\n",
      "Global Step:  87100, Training Batch Accuracy:  87.5%\n",
      "Global Step:  87200, Training Batch Accuracy:  84.4%\n",
      "Global Step:  87300, Training Batch Accuracy:  81.2%\n",
      "Global Step:  87400, Training Batch Accuracy:  92.2%\n",
      "Global Step:  87500, Training Batch Accuracy:  81.2%\n",
      "Global Step:  87600, Training Batch Accuracy:  84.4%\n",
      "Global Step:  87700, Training Batch Accuracy:  93.8%\n",
      "Global Step:  87800, Training Batch Accuracy:  87.5%\n",
      "Global Step:  87900, Training Batch Accuracy:  85.9%\n",
      "Global Step:  88000, Training Batch Accuracy:  92.2%\n",
      "Saved checkpoint.\n",
      "Global Step:  88100, Training Batch Accuracy:  79.7%\n",
      "Global Step:  88200, Training Batch Accuracy:  79.7%\n",
      "Global Step:  88300, Training Batch Accuracy:  82.8%\n",
      "Global Step:  88400, Training Batch Accuracy:  85.9%\n",
      "Global Step:  88500, Training Batch Accuracy:  84.4%\n",
      "Global Step:  88600, Training Batch Accuracy:  84.4%\n",
      "Global Step:  88700, Training Batch Accuracy:  87.5%\n",
      "Global Step:  88800, Training Batch Accuracy:  79.7%\n",
      "Global Step:  88900, Training Batch Accuracy:  87.5%\n",
      "Global Step:  89000, Training Batch Accuracy:  82.8%\n",
      "Saved checkpoint.\n",
      "Global Step:  89100, Training Batch Accuracy:  89.1%\n",
      "Global Step:  89200, Training Batch Accuracy:  81.2%\n",
      "Global Step:  89300, Training Batch Accuracy:  79.7%\n",
      "Global Step:  89400, Training Batch Accuracy:  89.1%\n",
      "Global Step:  89500, Training Batch Accuracy:  82.8%\n",
      "Global Step:  89600, Training Batch Accuracy:  79.7%\n",
      "Global Step:  89700, Training Batch Accuracy:  87.5%\n",
      "Global Step:  89800, Training Batch Accuracy:  85.9%\n",
      "Global Step:  89900, Training Batch Accuracy:  79.7%\n",
      "Global Step:  90000, Training Batch Accuracy:  93.8%\n",
      "Saved checkpoint.\n",
      "Global Step:  90100, Training Batch Accuracy:  85.9%\n",
      "Global Step:  90200, Training Batch Accuracy:  82.8%\n",
      "Global Step:  90300, Training Batch Accuracy:  87.5%\n",
      "Global Step:  90400, Training Batch Accuracy:  84.4%\n",
      "Global Step:  90500, Training Batch Accuracy:  87.5%\n",
      "Global Step:  90600, Training Batch Accuracy:  84.4%\n",
      "Global Step:  90700, Training Batch Accuracy:  90.6%\n",
      "Global Step:  90800, Training Batch Accuracy:  89.1%\n",
      "Global Step:  90900, Training Batch Accuracy:  85.9%\n",
      "Global Step:  91000, Training Batch Accuracy:  85.9%\n",
      "Saved checkpoint.\n"
     ]
    },
    {
     "name": "stdout",
     "output_type": "stream",
     "text": [
      "Global Step:  91100, Training Batch Accuracy:  87.5%\n",
      "Global Step:  91200, Training Batch Accuracy:  81.2%\n",
      "Global Step:  91300, Training Batch Accuracy:  90.6%\n",
      "Global Step:  91400, Training Batch Accuracy:  82.8%\n",
      "Global Step:  91500, Training Batch Accuracy:  79.7%\n",
      "Global Step:  91600, Training Batch Accuracy:  81.2%\n",
      "Global Step:  91700, Training Batch Accuracy:  82.8%\n",
      "Global Step:  91800, Training Batch Accuracy:  82.8%\n",
      "Global Step:  91900, Training Batch Accuracy:  93.8%\n",
      "Global Step:  92000, Training Batch Accuracy:  81.2%\n",
      "Saved checkpoint.\n",
      "Global Step:  92100, Training Batch Accuracy:  82.8%\n",
      "Global Step:  92200, Training Batch Accuracy:  90.6%\n",
      "Global Step:  92300, Training Batch Accuracy:  85.9%\n",
      "Global Step:  92400, Training Batch Accuracy:  90.6%\n",
      "Global Step:  92500, Training Batch Accuracy:  85.9%\n",
      "Global Step:  92600, Training Batch Accuracy:  82.8%\n",
      "Global Step:  92700, Training Batch Accuracy:  78.1%\n",
      "Global Step:  92800, Training Batch Accuracy:  81.2%\n",
      "Global Step:  92900, Training Batch Accuracy:  93.8%\n",
      "Global Step:  93000, Training Batch Accuracy:  85.9%\n",
      "Saved checkpoint.\n",
      "Global Step:  93100, Training Batch Accuracy:  78.1%\n",
      "Global Step:  93200, Training Batch Accuracy:  90.6%\n",
      "Global Step:  93300, Training Batch Accuracy:  82.8%\n",
      "Global Step:  93400, Training Batch Accuracy:  85.9%\n",
      "Global Step:  93500, Training Batch Accuracy:  92.2%\n",
      "Global Step:  93600, Training Batch Accuracy:  85.9%\n",
      "Global Step:  93700, Training Batch Accuracy:  89.1%\n",
      "Global Step:  93800, Training Batch Accuracy:  85.9%\n",
      "Global Step:  93900, Training Batch Accuracy:  87.5%\n",
      "Global Step:  94000, Training Batch Accuracy:  81.2%\n",
      "Saved checkpoint.\n",
      "Global Step:  94100, Training Batch Accuracy:  79.7%\n",
      "Global Step:  94200, Training Batch Accuracy:  87.5%\n",
      "Global Step:  94300, Training Batch Accuracy:  89.1%\n",
      "Global Step:  94400, Training Batch Accuracy:  89.1%\n",
      "Global Step:  94500, Training Batch Accuracy:  85.9%\n",
      "Global Step:  94600, Training Batch Accuracy:  93.8%\n",
      "Global Step:  94700, Training Batch Accuracy:  84.4%\n",
      "Global Step:  94800, Training Batch Accuracy:  85.9%\n",
      "Global Step:  94900, Training Batch Accuracy:  81.2%\n",
      "Global Step:  95000, Training Batch Accuracy:  81.2%\n",
      "Saved checkpoint.\n",
      "Global Step:  95100, Training Batch Accuracy:  82.8%\n",
      "Global Step:  95200, Training Batch Accuracy:  89.1%\n",
      "Global Step:  95300, Training Batch Accuracy:  89.1%\n",
      "Global Step:  95400, Training Batch Accuracy:  76.6%\n",
      "Global Step:  95500, Training Batch Accuracy:  85.9%\n",
      "Global Step:  95600, Training Batch Accuracy:  82.8%\n",
      "Global Step:  95700, Training Batch Accuracy:  81.2%\n",
      "Global Step:  95800, Training Batch Accuracy:  90.6%\n",
      "Global Step:  95900, Training Batch Accuracy:  90.6%\n",
      "Global Step:  96000, Training Batch Accuracy:  89.1%\n",
      "Saved checkpoint.\n",
      "Global Step:  96100, Training Batch Accuracy:  89.1%\n",
      "Global Step:  96200, Training Batch Accuracy:  81.2%\n",
      "Global Step:  96300, Training Batch Accuracy:  89.1%\n",
      "Global Step:  96400, Training Batch Accuracy:  90.6%\n",
      "Global Step:  96500, Training Batch Accuracy:  84.4%\n",
      "Global Step:  96600, Training Batch Accuracy:  84.4%\n",
      "Global Step:  96700, Training Batch Accuracy:  81.2%\n",
      "Global Step:  96800, Training Batch Accuracy:  79.7%\n",
      "Global Step:  96900, Training Batch Accuracy:  87.5%\n",
      "Global Step:  97000, Training Batch Accuracy:  90.6%\n",
      "Saved checkpoint.\n",
      "Global Step:  97100, Training Batch Accuracy:  78.1%\n",
      "Global Step:  97200, Training Batch Accuracy:  78.1%\n",
      "Global Step:  97300, Training Batch Accuracy:  84.4%\n",
      "Global Step:  97400, Training Batch Accuracy:  90.6%\n",
      "Global Step:  97500, Training Batch Accuracy:  89.1%\n",
      "Global Step:  97600, Training Batch Accuracy:  92.2%\n",
      "Global Step:  97700, Training Batch Accuracy:  87.5%\n",
      "Global Step:  97800, Training Batch Accuracy:  90.6%\n",
      "Global Step:  97900, Training Batch Accuracy:  81.2%\n",
      "Global Step:  98000, Training Batch Accuracy:  87.5%\n",
      "Saved checkpoint.\n",
      "Global Step:  98100, Training Batch Accuracy:  81.2%\n",
      "Global Step:  98200, Training Batch Accuracy:  81.2%\n",
      "Global Step:  98300, Training Batch Accuracy:  82.8%\n",
      "Global Step:  98400, Training Batch Accuracy:  90.6%\n",
      "Global Step:  98500, Training Batch Accuracy:  89.1%\n",
      "Global Step:  98600, Training Batch Accuracy:  93.8%\n",
      "Global Step:  98700, Training Batch Accuracy:  95.3%\n",
      "Global Step:  98800, Training Batch Accuracy:  84.4%\n",
      "Global Step:  98900, Training Batch Accuracy:  85.9%\n",
      "Global Step:  99000, Training Batch Accuracy:  84.4%\n",
      "Saved checkpoint.\n",
      "Global Step:  99100, Training Batch Accuracy:  85.9%\n",
      "Global Step:  99200, Training Batch Accuracy:  84.4%\n",
      "Global Step:  99300, Training Batch Accuracy:  84.4%\n",
      "Global Step:  99400, Training Batch Accuracy:  89.1%\n",
      "Global Step:  99500, Training Batch Accuracy:  75.0%\n",
      "Global Step:  99600, Training Batch Accuracy:  89.1%\n",
      "Global Step:  99700, Training Batch Accuracy:  85.9%\n",
      "Global Step:  99800, Training Batch Accuracy:  90.6%\n",
      "Global Step:  99900, Training Batch Accuracy:  82.8%\n",
      "Global Step: 100000, Training Batch Accuracy:  87.5%\n",
      "Saved checkpoint.\n",
      "Global Step: 100100, Training Batch Accuracy:  82.8%\n",
      "Global Step: 100200, Training Batch Accuracy:  87.5%\n",
      "Global Step: 100300, Training Batch Accuracy:  84.4%\n",
      "Global Step: 100400, Training Batch Accuracy:  89.1%\n",
      "Global Step: 100500, Training Batch Accuracy:  82.8%\n",
      "Global Step: 100600, Training Batch Accuracy:  87.5%\n",
      "Global Step: 100700, Training Batch Accuracy:  93.8%\n",
      "Global Step: 100800, Training Batch Accuracy:  84.4%\n",
      "Global Step: 100900, Training Batch Accuracy:  93.8%\n",
      "Global Step: 101000, Training Batch Accuracy:  87.5%\n",
      "Saved checkpoint.\n",
      "Time usage: 0:59:06\n"
     ]
    }
   ],
   "source": [
    "# if False:\n",
    "optimize(num_iterations=100000)"
   ]
  },
  {
   "cell_type": "markdown",
   "metadata": {},
   "source": [
    "## Results\n",
    "\n",
    "Examples of mis-classifications are plotted below. Some of these are difficult to recognize even for humans and others are reasonable mistakes e.g. between a large car and a truck, or between a cat and a dog, while other mistakes seem a bit strange."
   ]
  },
  {
   "cell_type": "code",
   "execution_count": 56,
   "metadata": {
    "scrolled": true
   },
   "outputs": [
    {
     "name": "stdout",
     "output_type": "stream",
     "text": [
      "Accuracy on Test-Set: 79.7% (7969 / 10000)\n",
      "Example errors:\n"
     ]
    },
    {
     "data": {
      "image/png": "[encoded data removed]",
      "text/plain": [
       "<matplotlib.figure.Figure at 0x7fce2a4a2eb8>"
      ]
     },
     "metadata": {},
     "output_type": "display_data"
    },
    {
     "name": "stdout",
     "output_type": "stream",
     "text": [
      "Confusion Matrix:\n",
      "[813  21  34  13   7   3   9   9  36  55] (0) airplane\n",
      "[  6 913   4   3   3   4   5   2  15  45] (1) automobile\n",
      "[ 46   4 702  48  57  36  61  31   6   9] (2) bird\n",
      "[ 22   9  45 552  59 135  94  39  19  26] (3) cat\n",
      "[  7   3  41  24 807  33  35  43   4   3] (4) deer\n",
      "[  8   4  34 142  40 690  33  39   0  10] (5) dog\n",
      "[  6   2  21  23  17  13 904   3   4   7] (6) frog\n",
      "[  7   2  23  27  39  44  13 831   1  13] (7) horse\n",
      "[ 33  32   9   8   8   3   8   1 854  44] (8) ship\n",
      "[  7  47   5   7   2   2   5   5  17 903] (9) truck\n",
      " (0) (1) (2) (3) (4) (5) (6) (7) (8) (9)\n"
     ]
    }
   ],
   "source": [
    "print_test_accuracy(show_example_errors=True,\n",
    "                    show_confusion_matrix=True)"
   ]
  },
  {
   "cell_type": "markdown",
   "metadata": {},
   "source": [
    "### Convolutional Weights\n",
    "\n",
    "The following shows some of the weights (or filters) for the first convolutional layer. There are 3 input channels so there are 3 of these sets, which you may plot by changing the `input_channel`.\n",
    "\n",
    "Note that positive weights are red and negative weights are blue."
   ]
  },
  {
   "cell_type": "code",
   "execution_count": 57,
   "metadata": {
    "scrolled": false
   },
   "outputs": [
    {
     "name": "stdout",
     "output_type": "stream",
     "text": [
      "Min:  -0.71444, Max:   0.63584\n",
      "Mean: -0.00147, Stdev: 0.16494\n"
     ]
    },
    {
     "data": {
      "image/png": "[encoded data removed]",
      "text/plain": [
       "<matplotlib.figure.Figure at 0x7fce21781a90>"
      ]
     },
     "metadata": {},
     "output_type": "display_data"
    }
   ],
   "source": [
    "plot_conv_weights(weights=weights_conv1, input_channel=0)"
   ]
  },
  {
   "cell_type": "markdown",
   "metadata": {},
   "source": [
    "Plot some of the weights (or filters) for the second convolutional layer. These are apparently closer to zero than the weights for the first convolutional layers, see the lower standard deviation."
   ]
  },
  {
   "cell_type": "code",
   "execution_count": 58,
   "metadata": {
    "scrolled": false
   },
   "outputs": [
    {
     "name": "stdout",
     "output_type": "stream",
     "text": [
      "Min:  -0.41572, Max:   0.25418\n",
      "Mean: -0.00336, Stdev: 0.04953\n"
     ]
    },
    {
     "data": {
      "image/png": "[encoded data removed]",
      "text/plain": [
       "<matplotlib.figure.Figure at 0x7fce2a4a2c18>"
      ]
     },
     "metadata": {},
     "output_type": "display_data"
    }
   ],
   "source": [
    "plot_conv_weights(weights=weights_conv2, input_channel=1)"
   ]
  },
  {
   "cell_type": "markdown",
   "metadata": {},
   "source": [
    "### Output of convolutional layers"
   ]
  },
  {
   "cell_type": "markdown",
   "metadata": {},
   "source": [
    "Helper-function for plotting an image."
   ]
  },
  {
   "cell_type": "code",
   "execution_count": 59,
   "metadata": {
    "collapsed": true
   },
   "outputs": [],
   "source": [
    "def plot_image(image):\n",
    "    # Create figure with sub-plots.\n",
    "    fig, axes = plt.subplots(1, 2)\n",
    "\n",
    "    # References to the sub-plots.\n",
    "    ax0 = axes.flat[0]\n",
    "    ax1 = axes.flat[1]\n",
    "\n",
    "    # Show raw and smoothened images in sub-plots.\n",
    "    ax0.imshow(image, interpolation='nearest')\n",
    "    ax1.imshow(image, interpolation='spline16')\n",
    "\n",
    "    # Set labels.\n",
    "    ax0.set_xlabel('Raw')\n",
    "    ax1.set_xlabel('Smooth')\n",
    "    \n",
    "    # Ensure the plot is shown correctly with multiple plots\n",
    "    # in a single Notebook cell.\n",
    "    plt.show()"
   ]
  },
  {
   "cell_type": "markdown",
   "metadata": {},
   "source": [
    "Plot an image from the test-set. The raw pixelated image is used as input to the neural network."
   ]
  },
  {
   "cell_type": "code",
   "execution_count": 60,
   "metadata": {},
   "outputs": [
    {
     "data": {
      "image/png": "[encoded data removed]",
      "text/plain": [
       "<matplotlib.figure.Figure at 0x7fcd98e878d0>"
      ]
     },
     "metadata": {},
     "output_type": "display_data"
    }
   ],
   "source": [
    "img, cls = get_test_image(16)\n",
    "plot_image(img)"
   ]
  },
  {
   "cell_type": "markdown",
   "metadata": {},
   "source": [
    "Use the raw image as input to the neural network and plot the output of the first convolutional layer."
   ]
  },
  {
   "cell_type": "code",
   "execution_count": 61,
   "metadata": {
    "scrolled": true
   },
   "outputs": [
    {
     "data": {
      "image/png": "[encoded data removed]",
      "text/plain": [
       "<matplotlib.figure.Figure at 0x7fcd98e87b00>"
      ]
     },
     "metadata": {},
     "output_type": "display_data"
    }
   ],
   "source": [
    "plot_layer_output(output_conv1, image=img)"
   ]
  },
  {
   "cell_type": "markdown",
   "metadata": {},
   "source": [
    "Using the same image as input to the neural network, now plot the output of the second convolutional layer."
   ]
  },
  {
   "cell_type": "code",
   "execution_count": 62,
   "metadata": {
    "scrolled": true
   },
   "outputs": [
    {
     "data": {
      "image/png": "[encoded data removed]",
      "text/plain": [
       "<matplotlib.figure.Figure at 0x7fcd9b8d4358>"
      ]
     },
     "metadata": {},
     "output_type": "display_data"
    }
   ],
   "source": [
    "plot_layer_output(output_conv2, image=img)"
   ]
  },
  {
   "cell_type": "markdown",
   "metadata": {},
   "source": [
    "### Predicted class-labels"
   ]
  },
  {
   "cell_type": "markdown",
   "metadata": {},
   "source": [
    "Get the predicted class-label and class-number for this image."
   ]
  },
  {
   "cell_type": "code",
   "execution_count": 63,
   "metadata": {
    "collapsed": true
   },
   "outputs": [],
   "source": [
    "label_pred, cls_pred = session.run([y_pred, y_pred_cls],\n",
    "                                   feed_dict={x: [img]})"
   ]
  },
  {
   "cell_type": "markdown",
   "metadata": {},
   "source": [
    "Print the predicted class-label."
   ]
  },
  {
   "cell_type": "code",
   "execution_count": 64,
   "metadata": {
    "scrolled": true
   },
   "outputs": [
    {
     "name": "stdout",
     "output_type": "stream",
     "text": [
      "[ 0.001  0.     0.011  0.173  0.     0.772  0.002  0.041  0.     0.   ]\n"
     ]
    }
   ],
   "source": [
    "# Set the rounding options for numpy.\n",
    "np.set_printoptions(precision=3, suppress=True)\n",
    "\n",
    "# Print the predicted label.\n",
    "print(label_pred[0])"
   ]
  },
  {
   "cell_type": "markdown",
   "metadata": {},
   "source": [
    "The predicted class-label is an array of length 10, with each element indicating how confident the neural network is that the image is the given class.\n",
    "\n",
    "In this case the element with index 3 has a value of 0.493, while the element with index 5 has a value of 0.490. This means the neural network believes the image either shows a class 3 or class 5, which is a cat or a dog, respectively."
   ]
  },
  {
   "cell_type": "code",
   "execution_count": 65,
   "metadata": {},
   "outputs": [
    {
     "data": {
      "text/plain": [
       "'cat'"
      ]
     },
     "execution_count": 65,
     "metadata": {},
     "output_type": "execute_result"
    }
   ],
   "source": [
    "class_names[3]"
   ]
  },
  {
   "cell_type": "code",
   "execution_count": 66,
   "metadata": {},
   "outputs": [
    {
     "data": {
      "text/plain": [
       "'dog'"
      ]
     },
     "execution_count": 66,
     "metadata": {},
     "output_type": "execute_result"
    }
   ],
   "source": [
    "class_names[5]"
   ]
  },
  {
   "cell_type": "markdown",
   "metadata": {},
   "source": [
    "## Close TensorFlow Session"
   ]
  },
  {
   "cell_type": "markdown",
   "metadata": {},
   "source": [
    "We are now done using TensorFlow, so we close the session to release its resources."
   ]
  },
  {
   "cell_type": "code",
   "execution_count": 67,
   "metadata": {
    "collapsed": true
   },
   "outputs": [],
   "source": [
    "# This has been commented out in case you want to modify and experiment\n",
    "# with the Notebook without having to restart it.\n",
    "session.close()"
   ]
  },
  {
   "cell_type": "markdown",
   "metadata": {},
   "source": [
    "## Homework\n",
    "\n",
    "These are a few suggestions for exercises that may help improve your skills with TensorFlow. It is important to get hands-on experience with TensorFlow in order to learn how to use it properly.\n",
    "\n",
    "You may want to backup this Notebook before making any changes.\n",
    "\n",
    "* Run the optimization for 100,000 iterations and see what the classification accuracy is. This will create a checkpoint that saves all the variables of the TensorFlow graph.\n",
    "* Try changing the structure of the neural network to AlexNet. How does it affect the training time and the classification accuracy? Note that the checkpoints cannot be reloaded when you change the structure of the neural network."
   ]
  }
 ],
 "metadata": {
  "anaconda-cloud": {},
  "kernelspec": {
   "display_name": "Python 3",
   "language": "python",
   "name": "python3"
  },
  "language_info": {
   "codemirror_mode": {
    "name": "ipython",
    "version": 3
   },
   "file_extension": ".py",
   "mimetype": "text/x-python",
   "name": "python",
   "nbconvert_exporter": "python",
   "pygments_lexer": "ipython3",
   "version": "3.6.2"
  }
 },
 "nbformat": 4,
 "nbformat_minor": 1
}
