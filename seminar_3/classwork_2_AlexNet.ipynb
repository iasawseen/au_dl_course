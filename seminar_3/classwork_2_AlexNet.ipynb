{
 "cells": [
  {
   "cell_type": "code",
   "execution_count": 1,
   "metadata": {
    "collapsed": true
   },
   "outputs": [],
   "source": [
    "%matplotlib inline\n",
    "import matplotlib.pyplot as plt\n",
    "import tensorflow as tf\n",
    "import numpy as np\n",
    "from sklearn.metrics import confusion_matrix\n",
    "import time\n",
    "from datetime import timedelta\n",
    "import math\n",
    "import os\n",
    "\n",
    "# Use PrettyTensor to simplify Neural Network construction.\n",
    "import prettytensor as pt"
   ]
  },
  {
   "cell_type": "markdown",
   "metadata": {},
   "source": [
    "## Load Data"
   ]
  },
  {
   "cell_type": "code",
   "execution_count": 2,
   "metadata": {
    "collapsed": true
   },
   "outputs": [],
   "source": [
    "import cifar10"
   ]
  },
  {
   "cell_type": "markdown",
   "metadata": {},
   "source": [
    "Set the path for storing the data-set on your computer."
   ]
  },
  {
   "cell_type": "markdown",
   "metadata": {},
   "source": [
    "The CIFAR-10 data-set is about 163 MB and will be downloaded automatically if it is not located in the given path."
   ]
  },
  {
   "cell_type": "code",
   "execution_count": 3,
   "metadata": {
    "scrolled": true
   },
   "outputs": [
    {
     "name": "stdout",
     "output_type": "stream",
     "text": [
      "Data has apparently already been downloaded and unpacked.\n"
     ]
    }
   ],
   "source": [
    "cifar10.maybe_download_and_extract()"
   ]
  },
  {
   "cell_type": "markdown",
   "metadata": {},
   "source": [
    "Load the class-names."
   ]
  },
  {
   "cell_type": "code",
   "execution_count": 4,
   "metadata": {},
   "outputs": [
    {
     "name": "stdout",
     "output_type": "stream",
     "text": [
      "Loading data: data/CIFAR-10/cifar-10-batches-py/batches.meta\n"
     ]
    },
    {
     "data": {
      "text/plain": [
       "['airplane',\n",
       " 'automobile',\n",
       " 'bird',\n",
       " 'cat',\n",
       " 'deer',\n",
       " 'dog',\n",
       " 'frog',\n",
       " 'horse',\n",
       " 'ship',\n",
       " 'truck']"
      ]
     },
     "execution_count": 4,
     "metadata": {},
     "output_type": "execute_result"
    }
   ],
   "source": [
    "class_names = cifar10.load_class_names()\n",
    "class_names"
   ]
  },
  {
   "cell_type": "markdown",
   "metadata": {},
   "source": [
    "Load the training-set. This returns the images, the class-numbers as integers, and the class-numbers as One-Hot encoded arrays called labels."
   ]
  },
  {
   "cell_type": "code",
   "execution_count": 5,
   "metadata": {},
   "outputs": [
    {
     "name": "stdout",
     "output_type": "stream",
     "text": [
      "Loading data: data/CIFAR-10/cifar-10-batches-py/data_batch_1\n",
      "Loading data: data/CIFAR-10/cifar-10-batches-py/data_batch_2\n",
      "Loading data: data/CIFAR-10/cifar-10-batches-py/data_batch_3\n",
      "Loading data: data/CIFAR-10/cifar-10-batches-py/data_batch_4\n",
      "Loading data: data/CIFAR-10/cifar-10-batches-py/data_batch_5\n"
     ]
    }
   ],
   "source": [
    "images_train, cls_train, labels_train = cifar10.load_training_data()"
   ]
  },
  {
   "cell_type": "markdown",
   "metadata": {},
   "source": [
    "Load the test-set."
   ]
  },
  {
   "cell_type": "code",
   "execution_count": 6,
   "metadata": {},
   "outputs": [
    {
     "name": "stdout",
     "output_type": "stream",
     "text": [
      "Loading data: data/CIFAR-10/cifar-10-batches-py/test_batch\n"
     ]
    }
   ],
   "source": [
    "images_test, cls_test, labels_test = cifar10.load_test_data()"
   ]
  },
  {
   "cell_type": "markdown",
   "metadata": {},
   "source": [
    "The CIFAR-10 data-set has now been loaded and consists of 60,000 images and associated labels (i.e. classifications of the images). The data-set is split into 2 mutually exclusive sub-sets, the training-set and the test-set."
   ]
  },
  {
   "cell_type": "code",
   "execution_count": 7,
   "metadata": {},
   "outputs": [
    {
     "name": "stdout",
     "output_type": "stream",
     "text": [
      "Size of:\n",
      "- Training-set:\t\t50000\n",
      "- Test-set:\t\t10000\n"
     ]
    }
   ],
   "source": [
    "print(\"Size of:\")\n",
    "print(\"- Training-set:\\t\\t{}\".format(len(images_train)))\n",
    "print(\"- Test-set:\\t\\t{}\".format(len(images_test)))"
   ]
  },
  {
   "cell_type": "markdown",
   "metadata": {},
   "source": [
    "The data dimensions are used in several places in the source-code below. They have already been defined in the cifar10 module, so we just need to import them."
   ]
  },
  {
   "cell_type": "code",
   "execution_count": 8,
   "metadata": {
    "collapsed": true
   },
   "outputs": [],
   "source": [
    "from cifar10 import img_size, num_channels, num_classes"
   ]
  },
  {
   "cell_type": "markdown",
   "metadata": {},
   "source": [
    "The images are 32 x 32 pixels, but we will crop the images to 24 x 24 pixels."
   ]
  },
  {
   "cell_type": "code",
   "execution_count": 9,
   "metadata": {
    "collapsed": true
   },
   "outputs": [],
   "source": [
    "img_size_cropped = 24"
   ]
  },
  {
   "cell_type": "markdown",
   "metadata": {},
   "source": [
    "Function used to plot 9 images in a 3x3 grid, and writing the true and predicted classes below each image."
   ]
  },
  {
   "cell_type": "code",
   "execution_count": 10,
   "metadata": {
    "collapsed": true
   },
   "outputs": [],
   "source": [
    "def plot_images(images, cls_true, cls_pred=None, smooth=True):\n",
    "\n",
    "    assert len(images) == len(cls_true) == 9\n",
    "\n",
    "    # Create figure with sub-plots.\n",
    "    fig, axes = plt.subplots(3, 3)\n",
    "\n",
    "    # Adjust vertical spacing if we need to print ensemble and best-net.\n",
    "    if cls_pred is None:\n",
    "        hspace = 0.3\n",
    "    else:\n",
    "        hspace = 0.6\n",
    "    fig.subplots_adjust(hspace=hspace, wspace=0.3)\n",
    "\n",
    "    for i, ax in enumerate(axes.flat):\n",
    "        # Interpolation type.\n",
    "        if smooth:\n",
    "            interpolation = 'spline16'\n",
    "        else:\n",
    "            interpolation = 'nearest'\n",
    "\n",
    "        # Plot image.\n",
    "        ax.imshow(images[i, :, :, :],\n",
    "                  interpolation=interpolation)\n",
    "            \n",
    "        # Name of the true class.\n",
    "        cls_true_name = class_names[cls_true[i]]\n",
    "\n",
    "        # Show true and predicted classes.\n",
    "        if cls_pred is None:\n",
    "            xlabel = \"True: {0}\".format(cls_true_name)\n",
    "        else:\n",
    "            # Name of the predicted class.\n",
    "            cls_pred_name = class_names[cls_pred[i]]\n",
    "\n",
    "            xlabel = \"True: {0}\\nPred: {1}\".format(cls_true_name, cls_pred_name)\n",
    "\n",
    "        # Show the classes as the label on the x-axis.\n",
    "        ax.set_xlabel(xlabel)\n",
    "        \n",
    "        # Remove ticks from the plot.\n",
    "        ax.set_xticks([])\n",
    "        ax.set_yticks([])\n",
    "    \n",
    "    # Ensure the plot is shown correctly with multiple plots\n",
    "    # in a single Notebook cell.\n",
    "    plt.show()"
   ]
  },
  {
   "cell_type": "markdown",
   "metadata": {},
   "source": [
    "### Plot a few images to see if data is correct"
   ]
  },
  {
   "cell_type": "code",
   "execution_count": 11,
   "metadata": {
    "scrolled": true
   },
   "outputs": [
    {
     "data": {
      "image/png": "[encoded data removed]",
      "text/plain": [
       "<matplotlib.figure.Figure at 0x7fbee6f58390>"
      ]
     },
     "metadata": {},
     "output_type": "display_data"
    }
   ],
   "source": [
    "# Get the first images from the test-set.\n",
    "images = images_test[0:9]\n",
    "\n",
    "# Get the true classes for those images.\n",
    "cls_true = cls_test[0:9]\n",
    "\n",
    "# Plot the images and labels using our helper-function above.\n",
    "plot_images(images=images, cls_true=cls_true, smooth=False)"
   ]
  },
  {
   "cell_type": "markdown",
   "metadata": {},
   "source": [
    "The pixelated images above are what the neural network will get as input. The images might be a bit easier for the human eye to recognize if we smoothen the pixels."
   ]
  },
  {
   "cell_type": "code",
   "execution_count": 12,
   "metadata": {},
   "outputs": [
    {
     "data": {
      "image/png": "[encoded data removed]",
      "text/plain": [
       "<matplotlib.figure.Figure at 0x7fbee6f580b8>"
      ]
     },
     "metadata": {},
     "output_type": "display_data"
    }
   ],
   "source": [
    "plot_images(images=images, cls_true=cls_true, smooth=True)"
   ]
  },
  {
   "cell_type": "code",
   "execution_count": 13,
   "metadata": {
    "collapsed": true
   },
   "outputs": [],
   "source": [
    "x = tf.placeholder(tf.float32, shape=[None, img_size, img_size, num_channels], name='x')"
   ]
  },
  {
   "cell_type": "code",
   "execution_count": 14,
   "metadata": {
    "collapsed": true
   },
   "outputs": [],
   "source": [
    "y_true = tf.placeholder(tf.float32, shape=[None, num_classes], name='y_true')"
   ]
  },
  {
   "cell_type": "code",
   "execution_count": 15,
   "metadata": {},
   "outputs": [
    {
     "name": "stdout",
     "output_type": "stream",
     "text": [
      "WARNING:tensorflow:From <ipython-input-15-4674210f2acc>:1: calling argmax (from tensorflow.python.ops.math_ops) with dimension is deprecated and will be removed in a future version.\n",
      "Instructions for updating:\n",
      "Use the `axis` argument instead\n"
     ]
    }
   ],
   "source": [
    "y_true_cls = tf.argmax(y_true, dimension=1)"
   ]
  },
  {
   "cell_type": "markdown",
   "metadata": {},
   "source": [
    "### Data augmentation for images"
   ]
  },
  {
   "cell_type": "markdown",
   "metadata": {},
   "source": [
    "The following helper-functions create the part of the TensorFlow computational graph that pre-processes the input images. Nothing is actually calculated at this point, the function merely adds nodes to the computational graph for TensorFlow.\n",
    "\n",
    "The pre-processing is different for training and testing of the neural network:\n",
    "* For training, the input images are randomly cropped, randomly flipped horizontally, and the hue, contrast and saturation is adjusted with random values. This artificially inflates the size of the training-set by creating random variations of the original input images. Examples of distorted images are shown further below.\n",
    "\n",
    "* For testing, the input images are cropped around the centre and nothing else is adjusted."
   ]
  },
  {
   "cell_type": "code",
   "execution_count": 16,
   "metadata": {
    "collapsed": true
   },
   "outputs": [],
   "source": [
    "def pre_process_image(image, training):\n",
    "    # This function takes a single image as input,\n",
    "    # and a boolean whether to build the training or testing graph.\n",
    "    \n",
    "    if training:\n",
    "        # For training, add the following to the TensorFlow graph.\n",
    "\n",
    "        # Randomly crop the input image.\n",
    "        image = tf.random_crop(image, size=[img_size_cropped, img_size_cropped, num_channels])\n",
    "\n",
    "        # Randomly flip the image horizontally.\n",
    "        image = tf.image.random_flip_left_right(image)\n",
    "        \n",
    "        # Randomly adjust hue, contrast and saturation.\n",
    "        image = tf.image.random_hue(image, max_delta=0.05)\n",
    "        image = tf.image.random_contrast(image, lower=0.3, upper=1.0)\n",
    "        image = tf.image.random_brightness(image, max_delta=0.2)\n",
    "        image = tf.image.random_saturation(image, lower=0.0, upper=2.0)\n",
    "\n",
    "        # Some of these functions may overflow and result in pixel\n",
    "        # values beyond the [0, 1] range. It is unclear from the\n",
    "        # documentation of TensorFlow whether this is\n",
    "        # intended. A simple solution is to limit the range.\n",
    "\n",
    "        # Limit the image pixels between [0, 1] in case of overflow.\n",
    "        image = tf.minimum(image, 1.0)\n",
    "        image = tf.maximum(image, 0.0)\n",
    "    else:\n",
    "        # For training, add the following to the TensorFlow graph.\n",
    "\n",
    "        # Crop the input image around the centre so it is the same\n",
    "        # size as images that are randomly cropped during training.\n",
    "        image = tf.image.resize_image_with_crop_or_pad(image,\n",
    "                                                       target_height=img_size_cropped,\n",
    "                                                       target_width=img_size_cropped)\n",
    "\n",
    "    return image"
   ]
  },
  {
   "cell_type": "markdown",
   "metadata": {},
   "source": [
    "The function above is called for each image in the input batch using the following function."
   ]
  },
  {
   "cell_type": "code",
   "execution_count": 17,
   "metadata": {
    "collapsed": true
   },
   "outputs": [],
   "source": [
    "def pre_process(images, training):\n",
    "    # Use TensorFlow to loop over all the input images and call\n",
    "    # the function above which takes a single image as input.\n",
    "    images = tf.map_fn(lambda image: pre_process_image(image, training), images)\n",
    "\n",
    "    return images"
   ]
  },
  {
   "cell_type": "markdown",
   "metadata": {},
   "source": [
    "In order to plot the distorted images, we create the pre-processing graph for TensorFlow, so we may execute it later."
   ]
  },
  {
   "cell_type": "code",
   "execution_count": 18,
   "metadata": {
    "collapsed": true
   },
   "outputs": [],
   "source": [
    "distorted_images = pre_process(images=x, training=True)"
   ]
  },
  {
   "cell_type": "markdown",
   "metadata": {},
   "source": [
    "### Creating Main Processing"
   ]
  },
  {
   "cell_type": "code",
   "execution_count": 19,
   "metadata": {
    "collapsed": true
   },
   "outputs": [],
   "source": [
    "# def main_network(images, training):\n",
    "#     # Wrap the input images as a Pretty Tensor object.\n",
    "#     x_pretty = pt.wrap(images)\n",
    "\n",
    "#     # Pretty Tensor uses special numbers to distinguish between\n",
    "#     # the training and testing phases.\n",
    "#     if training:\n",
    "#         phase = pt.Phase.train\n",
    "#     else:\n",
    "#         phase = pt.Phase.infer\n",
    "\n",
    "#     # Create the convolutional neural network using Pretty Tensor.\n",
    "#     with pt.defaults_scope(activation_fn=tf.nn.relu, phase=phase):\n",
    "#         y_pred, loss = x_pretty.\\\n",
    "#             conv2d(kernel=5, depth=64, name='layer_conv1', batch_normalize=True).\\\n",
    "#             max_pool(kernel=2, stride=2).\\\n",
    "#             conv2d(kernel=5, depth=64, name='layer_conv2').\\\n",
    "#             max_pool(kernel=2, stride=2).\\\n",
    "#             flatten().\\\n",
    "#             fully_connected(size=256, name='layer_fc1').\\\n",
    "#             fully_connected(size=128, name='layer_fc2').\\\n",
    "#             softmax_classifier(num_classes=num_classes, labels=y_true)\n",
    "\n",
    "#     return y_pred, loss"
   ]
  },
  {
   "cell_type": "code",
   "execution_count": 20,
   "metadata": {
    "collapsed": true
   },
   "outputs": [],
   "source": [
    "def weight_variable(shape, name):\n",
    "    initial = tf.truncated_normal(shape, stddev=0.1)\n",
    "    return tf.Variable(initial, name=name)\n",
    "\n",
    "def bias_variable(shape, name):\n",
    "    initial = tf.constant(0.1, shape=shape)\n",
    "    return tf.Variable(initial, name=name)"
   ]
  },
  {
   "cell_type": "code",
   "execution_count": 21,
   "metadata": {
    "collapsed": true
   },
   "outputs": [],
   "source": [
    "def conv2d(x, W, name=None):\n",
    "    return tf.nn.conv2d(x, W, strides=[1, 1, 1, 1],\n",
    "                        padding='SAME', name=name)\n",
    "\n",
    "def max_pool_3x3(x, name=None):\n",
    "    return tf.nn.max_pool(x, ksize=[1, 3, 3, 1],\n",
    "                          strides=[1, 2, 2, 1],\n",
    "                          padding='SAME', name=name)"
   ]
  },
  {
   "cell_type": "code",
   "execution_count": 22,
   "metadata": {
    "collapsed": true
   },
   "outputs": [],
   "source": []
  },
  {
   "cell_type": "code",
   "execution_count": 23,
   "metadata": {
    "collapsed": true
   },
   "outputs": [],
   "source": [
    "class IvanNet:\n",
    "    def __init__(self, x, y):\n",
    "        self.x = x\n",
    "        self.y_true = y\n",
    "    \n",
    "    def _create_placeholders(self):\n",
    "        with tf.name_scope(\"data\"):           \n",
    "            self.keep_prob = tf.placeholder(tf.float32, name='keep_prob')\n",
    "    \n",
    "    def _create_conv2d(self, input_tensor, kernel_shape, filters, layer_name):\n",
    "        with tf.name_scope(layer_name):\n",
    "            W_conv = weight_variable(shape=[*kernel_shape, filters], name=layer_name + '_W')\n",
    "            b_conv = bias_variable(shape=[filters], name=layer_name + '_b')\n",
    "            h_conv = tf.nn.relu(tf.add(conv2d(input_tensor, W_conv, name=layer_name + '_h'), b_conv))\n",
    "            return h_conv\n",
    "    \n",
    "    def _create_pool(self, input_tensor, layer_name):\n",
    "        with tf.name_scope(layer_name):\n",
    "            pool = max_pool_3x3(input_tensor, name=layer_name + '_pool')\n",
    "            return pool\n",
    "    \n",
    "    def _create_flatten_to(self, input_tensor, desired_shape, layer_name):\n",
    "        with tf.name_scope(layer_name):\n",
    "            flatten = tf.reshape(input_tensor, shape=[-1, desired_shape], name=layer_name + '_flatten')\n",
    "            return flatten\n",
    "        \n",
    "    def _create_fully_conn(self, input_tensor, from_n, to_n, layer_name):\n",
    "        with tf.name_scope(layer_name):\n",
    "            W_fc = weight_variable(shape=[from_n, to_n], name=layer_name + '_W')\n",
    "            b_fc = bias_variable(shape=[to_n], name=layer_name + '_b')\n",
    "            h_fc = tf.nn.relu(tf.add(tf.matmul(input_tensor, W_fc), b_fc))\n",
    "            return h_fc    \n",
    "    \n",
    "    def _create_final_layer(self, input_tensor, from_n, to_n, layer_name):\n",
    "        with tf.name_scope(layer_name):\n",
    "            W_fc = weight_variable(shape=[from_n, to_n], name=layer_name + '_W')\n",
    "            b_fc = bias_variable(shape=[to_n], name=layer_name + '_b')\n",
    "            h_fc = tf.add(tf.matmul(input_tensor, W_fc), b_fc)\n",
    "            return h_fc   \n",
    "    \n",
    "    def _create_dropout(self, input_tensor, layer_name):\n",
    "            drop = tf.nn.dropout(input_tensor, keep_prob=self.keep_prob, name=layer_name + '_drop')\n",
    "            return drop\n",
    "            \n",
    "    def _create_loss(self, logits):\n",
    "        with tf.name_scope(\"loss\"):\n",
    "            self.loss = tf.reduce_mean(\n",
    "                tf.nn.softmax_cross_entropy_with_logits(labels=self.y_true, logits=logits))\n",
    "    \n",
    "    def _create_first_part(self, index):\n",
    "        conv_1 = self._create_conv2d(input_tensor=self.x, kernel_shape=[5, 5, 3], \n",
    "                                   filters=96, layer_name='conv2d_1_' + index)\n",
    "        \n",
    "        pool_1 = self._create_pool(input_tensor=conv_1, \n",
    "                                 layer_name='pool_1_' + index)\n",
    "    \n",
    "        lrn_1 = tf.nn.local_response_normalization(pool_1)\n",
    "\n",
    "        conv_2 = self._create_conv2d(input_tensor=lrn_1, kernel_shape=[4, 4, 96], \n",
    "                                     filters=256, layer_name='conv2d_2_' + index)\n",
    "    \n",
    "        pool_2 = self._create_pool(input_tensor=conv_2, \n",
    "                                   layer_name='pool_2')\n",
    "        \n",
    "        lrn_2 = tf.nn.local_response_normalization(pool_2)\n",
    "        \n",
    "        return lrn_2\n",
    "    \n",
    "    def _create_skew_part_1(self, left, right):\n",
    "        create = lambda input_layer, index: self._create_conv2d(input_tensor=input_layer, \n",
    "                                                                kernel_shape=[3, 3, 256], filters=256, \n",
    "                                                                layer_name='conv2d_3_' + index)\n",
    "        conv2d_0_0 = create(left, '0_0')\n",
    "        conv2d_0_1 = create(left, '0_1')\n",
    "        conv2d_1_0 = create(right, '1_0')\n",
    "        conv2d_1_1 = create(right, '1_1')\n",
    "\n",
    "        conv2d_left_skewed = tf.add(conv2d_0_0, conv2d_1_0, name='left_skewed')\n",
    "        conv2d_right_skewed = tf.add(conv2d_0_1, conv2d_1_1, name='right_skewed')\n",
    "        \n",
    "        return conv2d_left_skewed, conv2d_right_skewed\n",
    "    \n",
    "    def _create_second_part(self, input_layer, index):\n",
    "        conv_4 = self._create_conv2d(input_tensor=input_layer, kernel_shape=[3, 3, 256], \n",
    "                                     filters=256, layer_name='conv2d_4_' + index)\n",
    "        \n",
    "        conv_5 = self._create_conv2d(input_tensor=conv_4, kernel_shape=[3, 3, 256], \n",
    "                                     filters=256, layer_name='conv2d_5_' + index)\n",
    "        \n",
    "        pool_3 = self._create_pool(input_tensor=conv_5, \n",
    "                                   layer_name='pool_3_' + index)\n",
    "        \n",
    "        flatten = self._create_flatten_to(input_tensor=pool_3, \n",
    "                                          desired_shape=2304, layer_name='flatten_' + index)\n",
    "        return flatten\n",
    "    \n",
    "    def _create_logits(self, left, right):\n",
    "        create = lambda input_layer, from_n, to_n, index: self._create_fully_conn(input_tensor=input_layer, \n",
    "                                               from_n=from_n, to_n=to_n, layer_name='fc_' + index)\n",
    "        from_n = 2304\n",
    "        to_n = 2048\n",
    "        classes = 10\n",
    "        \n",
    "        fc_first_0_0 = create(left, from_n, to_n, 'f_0_0')\n",
    "        fc_first_0_1 = create(left, from_n, to_n, 'f_0_1')\n",
    "        fc_first_1_0 = create(right, from_n, to_n, 'f_1_0')\n",
    "        fc_first_1_1 = create(right, from_n, to_n, 'f_1_1')\n",
    "\n",
    "        fc_first_0 = tf.add(fc_first_0_0, fc_first_1_0, name='fc_first_0')\n",
    "        fc_first_1 = tf.add(fc_first_0_1, fc_first_1_1, name='fc_first_1')\n",
    "\n",
    "        fc_second_0_0 = create(fc_first_0, to_n, to_n, 's_0_0')\n",
    "        fc_second_0_1 = create(fc_first_0, to_n, to_n, 's_0_1')\n",
    "        fc_second_1_0 = create(fc_first_1, to_n, to_n, 's_1_0')\n",
    "        fc_second_1_1 = create(fc_first_1, to_n, to_n, 's_1_1')\n",
    "\n",
    "        fc_second_0 = tf.add(fc_first_0_0, fc_first_1_0, name='fc_second_0')\n",
    "        fc_second_1 = tf.add(fc_first_0_1, fc_first_1_1, name='fc_second_1')\n",
    "        \n",
    "        logits_0 = self._create_final_layer(input_tensor=fc_second_0, \n",
    "                                            from_n=to_n, to_n=classes, layer_name='logits_0')\n",
    "        logits_1 = self._create_final_layer(input_tensor=fc_second_0, \n",
    "                                            from_n=to_n, to_n=classes, layer_name='logits_1')\n",
    "        \n",
    "        return tf.add(logits_0, logits_1, name='final_logits')\n",
    "  \n",
    "    def build_graph(self):\n",
    "        self._create_placeholders()\n",
    "\n",
    "        self._part1_0 = self._create_first_part('0')\n",
    "        self._part1_1 = self._create_first_part('1')\n",
    "\n",
    "        self._skewed_0, self._skewed_1 = self._create_skew_part_1(self._part1_0, self._part1_1)\n",
    "    \n",
    "        self._part2_0 = self._create_second_part(self._skewed_0, '0')\n",
    "        self._part2_1 = self._create_second_part(self._skewed_1, '1')\n",
    "        \n",
    "        self._logits = self._create_logits(self._part2_0, self._part2_1)\n",
    "        self._y_pred = tf.nn.softmax(self._logits)\n",
    "        self._create_loss(logits=self._logits)\n",
    "        \n",
    "        return self._y_pred, self.loss"
   ]
  },
  {
   "cell_type": "markdown",
   "metadata": {},
   "source": [
    "### Creating Neural Network"
   ]
  },
  {
   "cell_type": "markdown",
   "metadata": {},
   "source": [
    "Note that the neural network is enclosed in the variable-scope named 'network'. This is because we are actually creating two neural networks in the TensorFlow graph. By assigning a variable-scope like this, we can re-use the variables for the two neural networks, so the variables that are optimized for the training-network are re-used for the other network that is used for testing."
   ]
  },
  {
   "cell_type": "code",
   "execution_count": 24,
   "metadata": {
    "collapsed": true
   },
   "outputs": [],
   "source": [
    "def create_network(training):\n",
    "    # Wrap the neural network in the scope named 'network'.\n",
    "    # Create new variables during training, and re-use during testing.\n",
    "    with tf.variable_scope('network', reuse=not training):\n",
    "        # Just rename the input placeholder variable for convenience.\n",
    "\n",
    "        # Create TensorFlow graph for pre-processing.\n",
    "        images = pre_process(images=x, training=training)\n",
    "\n",
    "        # Create TensorFlow graph for the main processing.\n",
    "        net = IvanNet(images, y_true)\n",
    "        y_pred, loss = net.build_graph()\n",
    "        \n",
    "    return net, y_pred, loss"
   ]
  },
  {
   "cell_type": "markdown",
   "metadata": {},
   "source": [
    "### Create Neural Network for Training Phase"
   ]
  },
  {
   "cell_type": "markdown",
   "metadata": {},
   "source": [
    "Note that `trainable=False` which means that TensorFlow will not try to optimize this variable."
   ]
  },
  {
   "cell_type": "code",
   "execution_count": 25,
   "metadata": {
    "collapsed": true
   },
   "outputs": [],
   "source": [
    "global_step = tf.Variable(initial_value=0,\n",
    "                          name='global_step', trainable=False)"
   ]
  },
  {
   "cell_type": "markdown",
   "metadata": {},
   "source": [
    "Create the neural network to be used for training. The `create_network()` function returns both `y_pred` and `loss`, but we only need the `loss`-function during training."
   ]
  },
  {
   "cell_type": "code",
   "execution_count": 26,
   "metadata": {
    "collapsed": true
   },
   "outputs": [],
   "source": [
    "net, y_pred, loss = create_network(training=True)"
   ]
  },
  {
   "cell_type": "markdown",
   "metadata": {},
   "source": [
    "Create an optimizer which will minimize the `loss`-function. Also pass the `global_step` variable to the optimizer so it will be increased by one after each iteration."
   ]
  },
  {
   "cell_type": "code",
   "execution_count": 27,
   "metadata": {
    "collapsed": true
   },
   "outputs": [],
   "source": [
    "optimizer = tf.train.AdamOptimizer(learning_rate=1e-4).minimize(loss, global_step=global_step)"
   ]
  },
  {
   "cell_type": "markdown",
   "metadata": {},
   "source": [
    "### Create Neural Network for Test Phase / Inference"
   ]
  },
  {
   "cell_type": "markdown",
   "metadata": {},
   "source": [
    "Now create the neural network for the test-phase. Once again the `create_network()` function returns the predicted class-labels `y_pred` for the input images, as well as the `loss`-function to be used during optimization. During testing we only need `y_pred`."
   ]
  },
  {
   "cell_type": "code",
   "execution_count": 28,
   "metadata": {
    "collapsed": true
   },
   "outputs": [],
   "source": [
    "# y_pred, _ = create_network(training=False)"
   ]
  },
  {
   "cell_type": "markdown",
   "metadata": {},
   "source": [
    "We then calculate the predicted class number as an integer. The output of the network `y_pred` is an array with 10 elements. The class number is the index of the largest element in the array."
   ]
  },
  {
   "cell_type": "code",
   "execution_count": 29,
   "metadata": {},
   "outputs": [
    {
     "name": "stdout",
     "output_type": "stream",
     "text": [
      "WARNING:tensorflow:From <ipython-input-29-6aa54000365b>:1: calling argmax (from tensorflow.python.ops.math_ops) with dimension is deprecated and will be removed in a future version.\n",
      "Instructions for updating:\n",
      "Use the `axis` argument instead\n"
     ]
    }
   ],
   "source": [
    "y_pred_cls = tf.argmax(y_pred, dimension=1)"
   ]
  },
  {
   "cell_type": "markdown",
   "metadata": {},
   "source": [
    "Then we create a vector of booleans telling us whether the predicted class equals the true class of each image."
   ]
  },
  {
   "cell_type": "code",
   "execution_count": 30,
   "metadata": {
    "collapsed": true
   },
   "outputs": [],
   "source": [
    "correct_prediction = tf.equal(y_pred_cls, y_true_cls)"
   ]
  },
  {
   "cell_type": "markdown",
   "metadata": {},
   "source": [
    "The classification accuracy is calculated by first type-casting the vector of booleans to floats, so that False becomes 0 and True becomes 1, and then taking the average of these numbers."
   ]
  },
  {
   "cell_type": "code",
   "execution_count": 31,
   "metadata": {
    "collapsed": true
   },
   "outputs": [],
   "source": [
    "accuracy = tf.reduce_mean(tf.cast(correct_prediction, tf.float32))"
   ]
  },
  {
   "cell_type": "markdown",
   "metadata": {},
   "source": [
    "### Saver\n",
    "\n",
    "In order to save the variables of the neural network, so they can be reloaded quickly without having to train the network again, we now create a so-called Saver-object which is used for storing and retrieving all the variables of the TensorFlow graph. Nothing is actually saved at this point, which will be done further below."
   ]
  },
  {
   "cell_type": "code",
   "execution_count": 32,
   "metadata": {
    "collapsed": true
   },
   "outputs": [],
   "source": [
    "saver = tf.train.Saver()"
   ]
  },
  {
   "cell_type": "markdown",
   "metadata": {},
   "source": [
    "### Getting the Weights"
   ]
  },
  {
   "cell_type": "markdown",
   "metadata": {},
   "source": [
    "Further below, we want to plot the weights of the neural network. When the network is constructed using Pretty Tensor, all the variables of the layers are created indirectly by Pretty Tensor. We therefore have to retrieve the variables from TensorFlow.\n",
    "\n",
    "We used the names `layer_conv1` and `layer_conv2` for the two convolutional layers. These are also called variable scopes. Pretty Tensor automatically gives names to the variables it creates for each layer, so we can retrieve the weights for a layer using the layer's scope-name and the variable-name.\n",
    "\n",
    "The implementation is somewhat awkward because we have to use the TensorFlow function `get_variable()` which was designed for another purpose; either creating a new variable or re-using an existing variable. The easiest thing is to make the following helper-function."
   ]
  },
  {
   "cell_type": "code",
   "execution_count": 33,
   "metadata": {
    "collapsed": true
   },
   "outputs": [],
   "source": [
    "def get_weights_variable(layer_name):\n",
    "    # Retrieve an existing variable named 'weights' in the scope\n",
    "    # with the given layer_name.\n",
    "    # This is awkward because the TensorFlow function was\n",
    "    # really intended for another purpose.\n",
    "\n",
    "    with tf.variable_scope(\"network/\" + layer_name, reuse=True):\n",
    "        variable = tf.get_variable('weights')\n",
    "\n",
    "    return variable"
   ]
  },
  {
   "cell_type": "markdown",
   "metadata": {},
   "source": [
    "Using this helper-function we can retrieve the variables. These are TensorFlow objects. In order to get the contents of the variables, you must do something like: `contents = session.run(weights_conv1)` as demonstrated further below."
   ]
  },
  {
   "cell_type": "code",
   "execution_count": 34,
   "metadata": {
    "collapsed": true
   },
   "outputs": [],
   "source": [
    "# weights_conv1 = get_weights_variable(layer_name='layer_conv1')\n",
    "# weights_conv2 = get_weights_variable(layer_name='layer_conv2')"
   ]
  },
  {
   "cell_type": "code",
   "execution_count": 35,
   "metadata": {
    "collapsed": true
   },
   "outputs": [],
   "source": [
    "# with tf.Session() as sess:\n",
    "#     sess.run(tf.global_variables_initializer())\n",
    "#     print(sess.run(weights_conv1).shape)"
   ]
  },
  {
   "cell_type": "code",
   "execution_count": 36,
   "metadata": {
    "collapsed": true
   },
   "outputs": [],
   "source": [
    "# with tf.Session() as sess:\n",
    "#     sess.run(tf.global_variables_initializer())\n",
    "#     print(sess.run(weights_conv2).shape)"
   ]
  },
  {
   "cell_type": "markdown",
   "metadata": {},
   "source": [
    "### Getting the Layer Outputs"
   ]
  },
  {
   "cell_type": "markdown",
   "metadata": {
    "collapsed": true
   },
   "source": [
    "Similarly we also need to retrieve the outputs of the convolutional layers. The function for doing this is slightly different than the function above for getting the weights. Here we instead retrieve the last tensor that is output by the convolutional layer."
   ]
  },
  {
   "cell_type": "code",
   "execution_count": 37,
   "metadata": {
    "collapsed": true
   },
   "outputs": [],
   "source": [
    "def get_layer_output(layer_name):\n",
    "    # The name of the last operation of the convolutional layer.\n",
    "    # This assumes you are using Relu as the activation-function.\n",
    "    tensor_name = \"network/\" + layer_name + \"/Relu:0\"\n",
    "\n",
    "    # Get the tensor with this name.\n",
    "    tensor = tf.get_default_graph().get_tensor_by_name(tensor_name)\n",
    "\n",
    "    return tensor"
   ]
  },
  {
   "cell_type": "markdown",
   "metadata": {},
   "source": [
    "Get the output of the convoluational layers so we can plot them later."
   ]
  },
  {
   "cell_type": "code",
   "execution_count": 38,
   "metadata": {
    "collapsed": true
   },
   "outputs": [],
   "source": [
    "# output_conv1 = get_layer_output(layer_name='layer_conv1')\n",
    "# output_conv2 = get_layer_output(layer_name='layer_conv2')"
   ]
  },
  {
   "cell_type": "markdown",
   "metadata": {},
   "source": [
    "## TensorFlow Run"
   ]
  },
  {
   "cell_type": "markdown",
   "metadata": {},
   "source": [
    "### Create TensorFlow session\n",
    "\n",
    "Once the TensorFlow graph has been created, we have to create a TensorFlow session which is used to execute the graph."
   ]
  },
  {
   "cell_type": "code",
   "execution_count": 39,
   "metadata": {
    "collapsed": true
   },
   "outputs": [],
   "source": [
    "session = tf.Session()"
   ]
  },
  {
   "cell_type": "markdown",
   "metadata": {},
   "source": [
    "### Restore or initialize variables\n",
    "\n",
    "Training this neural network may take a long time, especially if you do not have a GPU. We therefore save checkpoints during training so we can continue training at another time (e.g. during the night), and also for performing analysis later without having to train the neural network every time we want to use it.\n",
    "\n",
    "If you want to restart the training of the neural network, you have to delete the checkpoints first.\n",
    "\n",
    "This is the directory used for the checkpoints."
   ]
  },
  {
   "cell_type": "code",
   "execution_count": 40,
   "metadata": {
    "collapsed": true
   },
   "outputs": [],
   "source": [
    "save_dir = 'checkpoints/'"
   ]
  },
  {
   "cell_type": "markdown",
   "metadata": {},
   "source": [
    "Create the directory if it does not exist."
   ]
  },
  {
   "cell_type": "code",
   "execution_count": 41,
   "metadata": {
    "collapsed": true
   },
   "outputs": [],
   "source": [
    "if not os.path.exists(save_dir):\n",
    "    os.makedirs(save_dir)"
   ]
  },
  {
   "cell_type": "markdown",
   "metadata": {},
   "source": [
    "This is the base-filename for the checkpoints, TensorFlow will append the iteration number, etc."
   ]
  },
  {
   "cell_type": "code",
   "execution_count": 42,
   "metadata": {
    "collapsed": true
   },
   "outputs": [],
   "source": [
    "save_path = os.path.join(save_dir, 'cifar10_cnn')"
   ]
  },
  {
   "cell_type": "markdown",
   "metadata": {},
   "source": [
    "First try to restore the latest checkpoint. This may fail and raise an exception e.g. if such a checkpoint does not exist, or if you have changed the TensorFlow graph."
   ]
  },
  {
   "cell_type": "code",
   "execution_count": 43,
   "metadata": {},
   "outputs": [
    {
     "name": "stdout",
     "output_type": "stream",
     "text": [
      "Trying to restore last checkpoint ...\n",
      "INFO:tensorflow:Restoring parameters from checkpoints/cifar10_cnn-315000\n",
      "Failed to restore checkpoint. Initializing variables instead.\n"
     ]
    }
   ],
   "source": [
    "try:\n",
    "    print(\"Trying to restore last checkpoint ...\")\n",
    "\n",
    "    # Use TensorFlow to find the latest checkpoint - if any.\n",
    "    last_chk_path = tf.train.latest_checkpoint(checkpoint_dir=save_dir)\n",
    "\n",
    "    # Try and load the data in the checkpoint.\n",
    "    saver.restore(session, save_path=last_chk_path)\n",
    "\n",
    "    # If we get to this point, the checkpoint was successfully loaded.\n",
    "    print(\"Restored checkpoint from:\", last_chk_path)\n",
    "except:\n",
    "    # If the above failed for some reason, simply\n",
    "    # initialize all the variables for the TensorFlow graph.\n",
    "    print(\"Failed to restore checkpoint. Initializing variables instead.\")\n",
    "    session.run(tf.global_variables_initializer())"
   ]
  },
  {
   "cell_type": "markdown",
   "metadata": {},
   "source": [
    "### Helper-function to get a random training-batch"
   ]
  },
  {
   "cell_type": "markdown",
   "metadata": {},
   "source": [
    "There are 50,000 images in the training-set. It takes a long time to calculate the gradient of the model using all these images. We therefore only use a small batch of images in each iteration of the optimizer.\n",
    "\n",
    "If your computer crashes or becomes very slow because you run out of RAM, then you may try and lower this number, but you may then need to perform more optimization iterations."
   ]
  },
  {
   "cell_type": "code",
   "execution_count": 44,
   "metadata": {
    "collapsed": true
   },
   "outputs": [],
   "source": [
    "train_batch_size = 64"
   ]
  },
  {
   "cell_type": "markdown",
   "metadata": {},
   "source": [
    "Function for selecting a random batch of images from the training-set."
   ]
  },
  {
   "cell_type": "code",
   "execution_count": 45,
   "metadata": {
    "collapsed": true
   },
   "outputs": [],
   "source": [
    "def random_batch():\n",
    "    # Number of images in the training-set.\n",
    "    num_images = len(images_train)\n",
    "\n",
    "    # Create a random index.\n",
    "    idx = np.random.choice(num_images,\n",
    "                           size=train_batch_size,\n",
    "                           replace=False)\n",
    "\n",
    "    # Use the random index to select random images and labels.\n",
    "    x_batch = images_train[idx, :, :, :]\n",
    "    y_batch = labels_train[idx, :]\n",
    "\n",
    "    return x_batch, y_batch"
   ]
  },
  {
   "cell_type": "markdown",
   "metadata": {},
   "source": [
    "### Optimization"
   ]
  },
  {
   "cell_type": "markdown",
   "metadata": {},
   "source": [
    "The progress is printed every 100 iterations. A checkpoint is saved every 1000 iterations and also after the last iteration."
   ]
  },
  {
   "cell_type": "code",
   "execution_count": 46,
   "metadata": {
    "collapsed": true
   },
   "outputs": [],
   "source": [
    "def optimize(num_iterations):\n",
    "    # Start-time used for printing time-usage below.\n",
    "    start_time = time.time()\n",
    "\n",
    "    for i in range(num_iterations):\n",
    "        # Get a batch of training examples.\n",
    "        # x_batch now holds a batch of images and\n",
    "        # y_true_batch are the true labels for those images.\n",
    "        x_batch, y_true_batch = random_batch()\n",
    "        \n",
    "        # Put the batch into a dict with the proper names\n",
    "        # for placeholder variables in the TensorFlow graph.\n",
    "        feed_dict_train = {x: x_batch,\n",
    "                           y_true: y_true_batch,\n",
    "                           net.keep_prob: 0.5}\n",
    "\n",
    "        feed_dict_train_acc = {x: x_batch,\n",
    "                               y_true: y_true_batch,\n",
    "                               net.keep_prob: 1.0}\n",
    "        \n",
    "        # Run the optimizer using this batch of training data.\n",
    "        # TensorFlow assigns the variables in feed_dict_train\n",
    "        # to the placeholder variables and then runs the optimizer.\n",
    "        # We also want to retrieve the global_step counter.\n",
    "        i_global, _ = session.run([global_step, optimizer],\n",
    "                                  feed_dict=feed_dict_train)\n",
    "\n",
    "        # Print status to screen every 100 iterations (and last).\n",
    "        if (i_global % 100 == 0) or (i == num_iterations - 1):\n",
    "            # Calculate the accuracy on the training-batch.\n",
    "            batch_acc, batch_l = session.run([accuracy, loss],\n",
    "                                    feed_dict=feed_dict_train_acc)\n",
    "\n",
    "            # Print status.\n",
    "            msg = \"Global Step: {0:>6}, Training Batch Accuracy: {1:>6.1%}, Loss: {2:.4f}\"\n",
    "            print(msg.format(i_global, batch_acc, batch_l))\n",
    "\n",
    "        # Save a checkpoint to disk every 1000 iterations (and last).\n",
    "        if (i_global % 1000 == 0) or (i == num_iterations - 1):\n",
    "            # Save all variables of the TensorFlow graph to a\n",
    "            # checkpoint. Append the global_step counter\n",
    "            # to the filename so we save the last several checkpoints.\n",
    "            saver.save(session,\n",
    "                       save_path=save_path,\n",
    "                       global_step=global_step)\n",
    "\n",
    "            print(\"Saved checkpoint.\")\n",
    "\n",
    "    # Ending time.\n",
    "    end_time = time.time()\n",
    "\n",
    "    # Difference between start and end-times.\n",
    "    time_dif = end_time - start_time\n",
    "\n",
    "    # Print the time-usage.\n",
    "    print(\"Time usage: \" + str(timedelta(seconds=int(round(time_dif)))))"
   ]
  },
  {
   "cell_type": "markdown",
   "metadata": {},
   "source": [
    "### Plot example errors"
   ]
  },
  {
   "cell_type": "markdown",
   "metadata": {},
   "source": [
    "Function for plotting examples of images from the test-set that have been mis-classified."
   ]
  },
  {
   "cell_type": "code",
   "execution_count": 47,
   "metadata": {
    "collapsed": true
   },
   "outputs": [],
   "source": [
    "def plot_example_errors(cls_pred, correct):\n",
    "    # This function is called from print_test_accuracy() below.\n",
    "\n",
    "    # cls_pred is an array of the predicted class-number for\n",
    "    # all images in the test-set.\n",
    "\n",
    "    # correct is a boolean array whether the predicted class\n",
    "    # is equal to the true class for each image in the test-set.\n",
    "\n",
    "    # Negate the boolean array.\n",
    "    incorrect = (correct == False)\n",
    "    \n",
    "    # Get the images from the test-set that have been\n",
    "    # incorrectly classified.\n",
    "    images = images_test[incorrect]\n",
    "    \n",
    "    # Get the predicted classes for those images.\n",
    "    cls_pred = cls_pred[incorrect]\n",
    "\n",
    "    # Get the true classes for those images.\n",
    "    cls_true = cls_test[incorrect]\n",
    "    \n",
    "    # Plot the first 9 images.\n",
    "    plot_images(images=images[0:9],\n",
    "                cls_true=cls_true[0:9],\n",
    "                cls_pred=cls_pred[0:9])"
   ]
  },
  {
   "cell_type": "markdown",
   "metadata": {},
   "source": [
    "### Plot confusion matrix"
   ]
  },
  {
   "cell_type": "code",
   "execution_count": 48,
   "metadata": {
    "collapsed": true
   },
   "outputs": [],
   "source": [
    "def plot_confusion_matrix(cls_pred):\n",
    "    # This is called from print_test_accuracy() below.\n",
    "\n",
    "    # cls_pred is an array of the predicted class-number for\n",
    "    # all images in the test-set.\n",
    "\n",
    "    # Get the confusion matrix using sklearn.\n",
    "    cm = confusion_matrix(y_true=cls_test,  # True class for test-set.\n",
    "                          y_pred=cls_pred)  # Predicted class.\n",
    "\n",
    "    # Print the confusion matrix as text.\n",
    "    for i in range(num_classes):\n",
    "        # Append the class-name to each line.\n",
    "        class_name = \"({}) {}\".format(i, class_names[i])\n",
    "        print(cm[i, :], class_name)\n",
    "\n",
    "    # Print the class-numbers for easy reference.\n",
    "    class_numbers = [\" ({0})\".format(i) for i in range(num_classes)]\n",
    "    print(\"\".join(class_numbers))"
   ]
  },
  {
   "cell_type": "markdown",
   "metadata": {},
   "source": [
    "### Calculating classifications\n",
    "\n",
    "This function calculates the predicted classes of images and also returns a boolean array whether the classification of each image is correct.\n",
    "\n",
    "The calculation is done in batches because it might use too much RAM otherwise. If your computer crashes then you can try and lower the batch-size."
   ]
  },
  {
   "cell_type": "code",
   "execution_count": 49,
   "metadata": {
    "collapsed": true
   },
   "outputs": [],
   "source": [
    "# Split the data-set in batches of this size to limit RAM usage.\n",
    "batch_size = 256\n",
    "\n",
    "def predict_cls(images, labels, cls_true):\n",
    "    # Number of images.\n",
    "    num_images = len(images)\n",
    "\n",
    "    # Allocate an array for the predicted classes which\n",
    "    # will be calculated in batches and filled into this array.\n",
    "    cls_pred = np.zeros(shape=num_images, dtype=np.int)\n",
    "\n",
    "    # Now calculate the predicted classes for the batches.\n",
    "    # We will just iterate through all the batches.\n",
    "    # There might be a more clever and Pythonic way of doing this.\n",
    "\n",
    "    # The starting index for the next batch is denoted i.\n",
    "    i = 0\n",
    "\n",
    "    while i < num_images:\n",
    "        # The ending index for the next batch is denoted j.\n",
    "        j = min(i + batch_size, num_images)\n",
    "\n",
    "        # Create a feed-dict with the images and labels\n",
    "        # between index i and j.\n",
    "        feed_dict = {x: images[i:j, :],\n",
    "                     y_true: labels[i:j, :]}\n",
    "\n",
    "        # Calculate the predicted class using TensorFlow.\n",
    "        cls_pred[i:j] = session.run(y_pred_cls, feed_dict=feed_dict)\n",
    "\n",
    "        # Set the start-index for the next batch to the\n",
    "        # end-index of the current batch.\n",
    "        i = j\n",
    "\n",
    "    # Create a boolean array whether each image is correctly classified.\n",
    "    correct = (cls_true == cls_pred)\n",
    "\n",
    "    return correct, cls_pred"
   ]
  },
  {
   "cell_type": "markdown",
   "metadata": {},
   "source": [
    "Calculate the predicted class for the test-set."
   ]
  },
  {
   "cell_type": "code",
   "execution_count": 50,
   "metadata": {
    "collapsed": true
   },
   "outputs": [],
   "source": [
    "def predict_cls_test():\n",
    "    return predict_cls(images = images_test,\n",
    "                       labels = labels_test,\n",
    "                       cls_true = cls_test)"
   ]
  },
  {
   "cell_type": "markdown",
   "metadata": {},
   "source": [
    "### Helper-functions for the classification accuracy\n",
    "\n",
    "This function calculates the classification accuracy given a boolean array whether each image was correctly classified. E.g. `classification_accuracy([True, True, False, False, False]) = 2/5 = 0.4`. The function also returns the number of correct classifications."
   ]
  },
  {
   "cell_type": "code",
   "execution_count": 51,
   "metadata": {
    "collapsed": true
   },
   "outputs": [],
   "source": [
    "def classification_accuracy(correct):\n",
    "    # When averaging a boolean array, False means 0 and True means 1.\n",
    "    # So we are calculating: number of True / len(correct) which is\n",
    "    # the same as the classification accuracy.\n",
    "    \n",
    "    # Return the classification accuracy\n",
    "    # and the number of correct classifications.\n",
    "    return correct.mean(), correct.sum()"
   ]
  },
  {
   "cell_type": "markdown",
   "metadata": {},
   "source": [
    "### Helper-function for showing the performance"
   ]
  },
  {
   "cell_type": "markdown",
   "metadata": {},
   "source": [
    "Function for printing the classification accuracy on the test-set.\n",
    "\n",
    "It takes a while to compute the classification for all the images in the test-set, that's why the results are re-used by calling the above functions directly from this function, so the classifications don't have to be recalculated by each function."
   ]
  },
  {
   "cell_type": "code",
   "execution_count": 52,
   "metadata": {
    "collapsed": true
   },
   "outputs": [],
   "source": [
    "def print_test_accuracy(show_example_errors=False,\n",
    "                        show_confusion_matrix=False):\n",
    "\n",
    "    # For all the images in the test-set,\n",
    "    # calculate the predicted classes and whether they are correct.\n",
    "    correct, cls_pred = predict_cls_test()\n",
    "    \n",
    "    # Classification accuracy and the number of correct classifications.\n",
    "    acc, num_correct = classification_accuracy(correct)\n",
    "    \n",
    "    # Number of images being classified.\n",
    "    num_images = len(correct)\n",
    "\n",
    "    # Print the accuracy.\n",
    "    msg = \"Accuracy on Test-Set: {0:.1%} ({1} / {2})\"\n",
    "    print(msg.format(acc, num_correct, num_images))\n",
    "\n",
    "    # Plot some examples of mis-classifications, if desired.\n",
    "    if show_example_errors:\n",
    "        print(\"Example errors:\")\n",
    "        plot_example_errors(cls_pred=cls_pred, correct=correct)\n",
    "\n",
    "    # Plot the confusion matrix, if desired.\n",
    "    if show_confusion_matrix:\n",
    "        print(\"Confusion Matrix:\")\n",
    "        plot_confusion_matrix(cls_pred=cls_pred)"
   ]
  },
  {
   "cell_type": "markdown",
   "metadata": {},
   "source": [
    "### Helper-function for plotting convolutional weights"
   ]
  },
  {
   "cell_type": "code",
   "execution_count": 53,
   "metadata": {
    "collapsed": true
   },
   "outputs": [],
   "source": [
    "def plot_conv_weights(weights, input_channel=0):\n",
    "    # Assume weights are TensorFlow ops for 4-dim variables\n",
    "    # e.g. weights_conv1 or weights_conv2.\n",
    "\n",
    "    # Retrieve the values of the weight-variables from TensorFlow.\n",
    "    # A feed-dict is not necessary because nothing is calculated.\n",
    "    w = session.run(weights)\n",
    "\n",
    "    # Print statistics for the weights.\n",
    "    print(\"Min:  {0:.5f}, Max:   {1:.5f}\".format(w.min(), w.max()))\n",
    "    print(\"Mean: {0:.5f}, Stdev: {1:.5f}\".format(w.mean(), w.std()))\n",
    "    \n",
    "    # Get the lowest and highest values for the weights.\n",
    "    # This is used to correct the colour intensity across\n",
    "    # the images so they can be compared with each other.\n",
    "    w_min = np.min(w)\n",
    "    w_max = np.max(w)\n",
    "    abs_max = max(abs(w_min), abs(w_max))\n",
    "\n",
    "    # Number of filters used in the conv. layer.\n",
    "    num_filters = w.shape[3]\n",
    "\n",
    "    # Number of grids to plot.\n",
    "    # Rounded-up, square-root of the number of filters.\n",
    "    num_grids = math.ceil(math.sqrt(num_filters))\n",
    "    \n",
    "    # Create figure with a grid of sub-plots.\n",
    "    fig, axes = plt.subplots(num_grids, num_grids)\n",
    "\n",
    "    # Plot all the filter-weights.\n",
    "    for i, ax in enumerate(axes.flat):\n",
    "        # Only plot the valid filter-weights.\n",
    "        if i<num_filters:\n",
    "            # Get the weights for the i'th filter of the input channel.\n",
    "            # The format of this 4-dim tensor is determined by the\n",
    "            img = w[:, :, input_channel, i]\n",
    "\n",
    "            # Plot image.\n",
    "            ax.imshow(img, vmin=-abs_max, vmax=abs_max,\n",
    "                      interpolation='nearest', cmap='seismic')\n",
    "        \n",
    "        # Remove ticks from the plot.\n",
    "        ax.set_xticks([])\n",
    "        ax.set_yticks([])\n",
    "    \n",
    "    # Ensure the plot is shown correctly with multiple plots\n",
    "    # in a single Notebook cell.\n",
    "    plt.show()"
   ]
  },
  {
   "cell_type": "markdown",
   "metadata": {},
   "source": [
    "### Helper-function for plotting the output of convolutional layers"
   ]
  },
  {
   "cell_type": "code",
   "execution_count": 54,
   "metadata": {
    "collapsed": true
   },
   "outputs": [],
   "source": [
    "def plot_layer_output(layer_output, image):\n",
    "    # Assume layer_output is a 4-dim tensor\n",
    "    # e.g. output_conv1 or output_conv2.\n",
    "\n",
    "    # Create a feed-dict which holds the single input image.\n",
    "    # Note that TensorFlow needs a list of images,\n",
    "    # so we just create a list with this one image.\n",
    "    feed_dict = {x: [image]}\n",
    "    \n",
    "    # Retrieve the output of the layer after inputting this image.\n",
    "    values = session.run(layer_output, feed_dict=feed_dict)\n",
    "\n",
    "    # Get the lowest and highest values.\n",
    "    # This is used to correct the colour intensity across\n",
    "    # the images so they can be compared with each other.\n",
    "    values_min = np.min(values)\n",
    "    values_max = np.max(values)\n",
    "\n",
    "    # Number of image channels output by the conv. layer.\n",
    "    num_images = values.shape[3]\n",
    "\n",
    "    # Number of grid-cells to plot.\n",
    "    # Rounded-up, square-root of the number of filters.\n",
    "    num_grids = math.ceil(math.sqrt(num_images))\n",
    "    \n",
    "    # Create figure with a grid of sub-plots.\n",
    "    fig, axes = plt.subplots(num_grids, num_grids)\n",
    "\n",
    "    # Plot all the filter-weights.\n",
    "    for i, ax in enumerate(axes.flat):\n",
    "        # Only plot the valid image-channels.\n",
    "        if i<num_images:\n",
    "            # Get the images for the i'th output channel.\n",
    "            img = values[0, :, :, i]\n",
    "\n",
    "            # Plot image.\n",
    "            ax.imshow(img, vmin=values_min, vmax=values_max,\n",
    "                      interpolation='nearest', cmap='binary')\n",
    "        \n",
    "        # Remove ticks from the plot.\n",
    "        ax.set_xticks([])\n",
    "        ax.set_yticks([])\n",
    "    \n",
    "    # Ensure the plot is shown correctly with multiple plots\n",
    "    # in a single Notebook cell.\n",
    "    plt.show()"
   ]
  },
  {
   "cell_type": "markdown",
   "metadata": {},
   "source": [
    "## Examples of distorted input images"
   ]
  },
  {
   "cell_type": "markdown",
   "metadata": {},
   "source": [
    "In order to artificially inflate the number of images available for training, the neural network uses pre-processing with random distortions of the input images. This should hopefully make the neural network more flexible at recognizing and classifying images.\n",
    "\n",
    "This is a helper-function for plotting distorted input images."
   ]
  },
  {
   "cell_type": "code",
   "execution_count": 55,
   "metadata": {
    "collapsed": true
   },
   "outputs": [],
   "source": [
    "def plot_distorted_image(image, cls_true):\n",
    "    # Repeat the input image 9 times.\n",
    "    image_duplicates = np.repeat(image[np.newaxis, :, :, :], 9, axis=0)\n",
    "\n",
    "    # Create a feed-dict for TensorFlow.\n",
    "    feed_dict = {x: image_duplicates}\n",
    "\n",
    "    # Calculate only the pre-processing of the TensorFlow graph\n",
    "    # which distorts the images in the feed-dict.\n",
    "    result = session.run(distorted_images, feed_dict=feed_dict)\n",
    "\n",
    "    # Plot the images.\n",
    "    plot_images(images=result, cls_true=np.repeat(cls_true, 9))"
   ]
  },
  {
   "cell_type": "markdown",
   "metadata": {},
   "source": [
    "Helper-function for getting an image and its class-number from the test-set."
   ]
  },
  {
   "cell_type": "code",
   "execution_count": 56,
   "metadata": {
    "collapsed": true
   },
   "outputs": [],
   "source": [
    "def get_test_image(i):\n",
    "    return images_test[i, :, :, :], cls_test[i]"
   ]
  },
  {
   "cell_type": "markdown",
   "metadata": {},
   "source": [
    "Get an image and its true class from the test-set."
   ]
  },
  {
   "cell_type": "code",
   "execution_count": 57,
   "metadata": {
    "collapsed": true
   },
   "outputs": [],
   "source": [
    "img, cls = get_test_image(16)"
   ]
  },
  {
   "cell_type": "markdown",
   "metadata": {},
   "source": [
    "Plot 9 random distortions of the image. If you re-run this code you will get slightly different results."
   ]
  },
  {
   "cell_type": "code",
   "execution_count": 58,
   "metadata": {
    "scrolled": true
   },
   "outputs": [
    {
     "data": {
      "image/png": "[encoded data removed]",
      "text/plain": [
       "<matplotlib.figure.Figure at 0x7fbe8c715160>"
      ]
     },
     "metadata": {},
     "output_type": "display_data"
    }
   ],
   "source": [
    "plot_distorted_image(img, cls)"
   ]
  },
  {
   "cell_type": "markdown",
   "metadata": {},
   "source": [
    "## Perform optimization"
   ]
  },
  {
   "cell_type": "code",
   "execution_count": 59,
   "metadata": {
    "scrolled": true
   },
   "outputs": [
    {
     "name": "stdout",
     "output_type": "stream",
     "text": [
      "Global Step:    100, Training Batch Accuracy:  17.2%, Loss: 27.5928\n",
      "Global Step:    200, Training Batch Accuracy:  18.8%, Loss: 31.2705\n",
      "Global Step:    300, Training Batch Accuracy:  12.5%, Loss: 19.4017\n",
      "Global Step:    400, Training Batch Accuracy:  25.0%, Loss: 15.2766\n",
      "Global Step:    500, Training Batch Accuracy:  17.2%, Loss: 21.9548\n",
      "Global Step:    600, Training Batch Accuracy:  25.0%, Loss: 11.9238\n",
      "Global Step:    700, Training Batch Accuracy:  25.0%, Loss: 10.7700\n",
      "Global Step:    800, Training Batch Accuracy:  25.0%, Loss: 8.5187\n",
      "Global Step:    900, Training Batch Accuracy:  20.3%, Loss: 10.2793\n",
      "Global Step:   1000, Training Batch Accuracy:  20.3%, Loss: 12.2981\n",
      "Saved checkpoint.\n",
      "Global Step:   1100, Training Batch Accuracy:  20.3%, Loss: 12.9246\n",
      "Global Step:   1200, Training Batch Accuracy:  21.9%, Loss: 9.6700\n",
      "Global Step:   1300, Training Batch Accuracy:  20.3%, Loss: 7.2290\n",
      "Global Step:   1400, Training Batch Accuracy:  26.6%, Loss: 11.3713\n",
      "Global Step:   1500, Training Batch Accuracy:  26.6%, Loss: 6.4151\n",
      "Global Step:   1600, Training Batch Accuracy:  34.4%, Loss: 6.2554\n",
      "Global Step:   1700, Training Batch Accuracy:  31.2%, Loss: 4.9687\n",
      "Global Step:   1800, Training Batch Accuracy:  34.4%, Loss: 5.5148\n",
      "Global Step:   1900, Training Batch Accuracy:  29.7%, Loss: 8.0580\n",
      "Global Step:   2000, Training Batch Accuracy:  25.0%, Loss: 6.8114\n",
      "Saved checkpoint.\n",
      "Global Step:   2100, Training Batch Accuracy:  26.6%, Loss: 7.1016\n",
      "Global Step:   2200, Training Batch Accuracy:  28.1%, Loss: 6.2174\n",
      "Global Step:   2300, Training Batch Accuracy:  25.0%, Loss: 5.2961\n",
      "Global Step:   2400, Training Batch Accuracy:  21.9%, Loss: 5.8815\n",
      "Global Step:   2500, Training Batch Accuracy:  23.4%, Loss: 4.6893\n",
      "Global Step:   2600, Training Batch Accuracy:  23.4%, Loss: 4.3045\n",
      "Global Step:   2700, Training Batch Accuracy:  20.3%, Loss: 4.6460\n",
      "Global Step:   2800, Training Batch Accuracy:  23.4%, Loss: 5.4239\n",
      "Global Step:   2900, Training Batch Accuracy:  21.9%, Loss: 3.6406\n",
      "Global Step:   3000, Training Batch Accuracy:  20.3%, Loss: 3.4478\n",
      "Saved checkpoint.\n",
      "Global Step:   3100, Training Batch Accuracy:  28.1%, Loss: 4.5829\n",
      "Global Step:   3200, Training Batch Accuracy:  31.2%, Loss: 3.1596\n",
      "Global Step:   3300, Training Batch Accuracy:  17.2%, Loss: 3.9086\n",
      "Global Step:   3400, Training Batch Accuracy:  25.0%, Loss: 3.5337\n",
      "Global Step:   3500, Training Batch Accuracy:  26.6%, Loss: 4.1889\n",
      "Global Step:   3600, Training Batch Accuracy:  35.9%, Loss: 3.4622\n",
      "Global Step:   3700, Training Batch Accuracy:  28.1%, Loss: 3.4438\n",
      "Global Step:   3800, Training Batch Accuracy:  32.8%, Loss: 3.1174\n",
      "Global Step:   3900, Training Batch Accuracy:  26.6%, Loss: 3.4603\n",
      "Global Step:   4000, Training Batch Accuracy:  25.0%, Loss: 3.3176\n",
      "Saved checkpoint.\n",
      "Global Step:   4100, Training Batch Accuracy:  28.1%, Loss: 2.7485\n",
      "Global Step:   4200, Training Batch Accuracy:  28.1%, Loss: 3.1277\n",
      "Global Step:   4300, Training Batch Accuracy:  40.6%, Loss: 2.3990\n",
      "Global Step:   4400, Training Batch Accuracy:  18.8%, Loss: 3.0866\n",
      "Global Step:   4500, Training Batch Accuracy:  28.1%, Loss: 2.8605\n",
      "Global Step:   4600, Training Batch Accuracy:  32.8%, Loss: 2.5647\n",
      "Global Step:   4700, Training Batch Accuracy:  32.8%, Loss: 2.4055\n",
      "Global Step:   4800, Training Batch Accuracy:  32.8%, Loss: 2.2492\n",
      "Global Step:   4900, Training Batch Accuracy:  29.7%, Loss: 2.3439\n",
      "Global Step:   5000, Training Batch Accuracy:  31.2%, Loss: 2.5403\n",
      "Saved checkpoint.\n",
      "Global Step:   5100, Training Batch Accuracy:  31.2%, Loss: 2.2503\n",
      "Global Step:   5200, Training Batch Accuracy:  29.7%, Loss: 3.0929\n",
      "Global Step:   5300, Training Batch Accuracy:  34.4%, Loss: 2.5249\n",
      "Global Step:   5400, Training Batch Accuracy:  28.1%, Loss: 2.4325\n",
      "Global Step:   5500, Training Batch Accuracy:  35.9%, Loss: 2.4010\n",
      "Global Step:   5600, Training Batch Accuracy:  25.0%, Loss: 2.2058\n",
      "Global Step:   5700, Training Batch Accuracy:  31.2%, Loss: 2.2036\n",
      "Global Step:   5800, Training Batch Accuracy:  28.1%, Loss: 2.3994\n",
      "Global Step:   5900, Training Batch Accuracy:  39.1%, Loss: 2.0497\n",
      "Global Step:   6000, Training Batch Accuracy:  31.2%, Loss: 2.1478\n",
      "Saved checkpoint.\n",
      "Global Step:   6100, Training Batch Accuracy:  32.8%, Loss: 2.5612\n",
      "Global Step:   6200, Training Batch Accuracy:  29.7%, Loss: 2.1458\n",
      "Global Step:   6300, Training Batch Accuracy:  32.8%, Loss: 2.1805\n",
      "Global Step:   6400, Training Batch Accuracy:  35.9%, Loss: 2.0656\n",
      "Global Step:   6500, Training Batch Accuracy:  31.2%, Loss: 2.0459\n",
      "Global Step:   6600, Training Batch Accuracy:  29.7%, Loss: 2.0972\n",
      "Global Step:   6700, Training Batch Accuracy:  25.0%, Loss: 2.2488\n",
      "Global Step:   6800, Training Batch Accuracy:  25.0%, Loss: 2.1953\n",
      "Global Step:   6900, Training Batch Accuracy:  34.4%, Loss: 1.8827\n",
      "Global Step:   7000, Training Batch Accuracy:  35.9%, Loss: 2.2045\n",
      "Saved checkpoint.\n",
      "Global Step:   7100, Training Batch Accuracy:  34.4%, Loss: 1.9497\n",
      "Global Step:   7200, Training Batch Accuracy:  37.5%, Loss: 2.1020\n",
      "Global Step:   7300, Training Batch Accuracy:  23.4%, Loss: 2.3363\n",
      "Global Step:   7400, Training Batch Accuracy:  37.5%, Loss: 1.8925\n",
      "Global Step:   7500, Training Batch Accuracy:  34.4%, Loss: 2.0352\n",
      "Global Step:   7600, Training Batch Accuracy:  35.9%, Loss: 2.0313\n",
      "Global Step:   7700, Training Batch Accuracy:  31.2%, Loss: 2.3684\n",
      "Global Step:   7800, Training Batch Accuracy:  32.8%, Loss: 1.9235\n",
      "Global Step:   7900, Training Batch Accuracy:  32.8%, Loss: 2.7745\n",
      "Global Step:   8000, Training Batch Accuracy:  35.9%, Loss: 1.9927\n",
      "Saved checkpoint.\n",
      "Global Step:   8100, Training Batch Accuracy:  39.1%, Loss: 1.7428\n",
      "Global Step:   8200, Training Batch Accuracy:  43.8%, Loss: 1.6490\n",
      "Global Step:   8300, Training Batch Accuracy:  32.8%, Loss: 2.0961\n",
      "Global Step:   8400, Training Batch Accuracy:  32.8%, Loss: 1.9816\n",
      "Global Step:   8500, Training Batch Accuracy:  29.7%, Loss: 2.1672\n",
      "Global Step:   8600, Training Batch Accuracy:  43.8%, Loss: 1.4826\n",
      "Global Step:   8700, Training Batch Accuracy:  34.4%, Loss: 1.9163\n",
      "Global Step:   8800, Training Batch Accuracy:  43.8%, Loss: 1.6058\n",
      "Global Step:   8900, Training Batch Accuracy:  32.8%, Loss: 2.0699\n",
      "Global Step:   9000, Training Batch Accuracy:  42.2%, Loss: 1.8934\n",
      "Saved checkpoint.\n",
      "Global Step:   9100, Training Batch Accuracy:  34.4%, Loss: 1.9297\n",
      "Global Step:   9200, Training Batch Accuracy:  34.4%, Loss: 1.9125\n",
      "Global Step:   9300, Training Batch Accuracy:  45.3%, Loss: 1.5599\n",
      "Global Step:   9400, Training Batch Accuracy:  39.1%, Loss: 1.6608\n",
      "Global Step:   9500, Training Batch Accuracy:  28.1%, Loss: 2.0267\n",
      "Global Step:   9600, Training Batch Accuracy:  40.6%, Loss: 1.8023\n",
      "Global Step:   9700, Training Batch Accuracy:  31.2%, Loss: 1.7043\n",
      "Global Step:   9800, Training Batch Accuracy:  37.5%, Loss: 1.6558\n",
      "Global Step:   9900, Training Batch Accuracy:  31.2%, Loss: 1.8109\n",
      "Global Step:  10000, Training Batch Accuracy:  43.8%, Loss: 1.7503\n",
      "Saved checkpoint.\n",
      "Global Step:  10100, Training Batch Accuracy:  37.5%, Loss: 1.9195\n",
      "Global Step:  10200, Training Batch Accuracy:  37.5%, Loss: 1.8140\n",
      "Global Step:  10300, Training Batch Accuracy:  39.1%, Loss: 1.7589\n",
      "Global Step:  10400, Training Batch Accuracy:  40.6%, Loss: 1.5379\n",
      "Global Step:  10500, Training Batch Accuracy:  34.4%, Loss: 1.8724\n",
      "Global Step:  10600, Training Batch Accuracy:  34.4%, Loss: 1.8168\n",
      "Global Step:  10700, Training Batch Accuracy:  46.9%, Loss: 1.6769\n",
      "Global Step:  10800, Training Batch Accuracy:  42.2%, Loss: 1.6684\n",
      "Global Step:  10900, Training Batch Accuracy:  57.8%, Loss: 1.4791\n",
      "Global Step:  11000, Training Batch Accuracy:  48.4%, Loss: 1.5245\n",
      "Saved checkpoint.\n",
      "Global Step:  11100, Training Batch Accuracy:  28.1%, Loss: 1.8745\n",
      "Global Step:  11200, Training Batch Accuracy:  20.3%, Loss: 2.1933\n",
      "Global Step:  11300, Training Batch Accuracy:  39.1%, Loss: 1.6281\n",
      "Global Step:  11400, Training Batch Accuracy:  37.5%, Loss: 1.7751\n",
      "Global Step:  11500, Training Batch Accuracy:  32.8%, Loss: 1.8581\n",
      "Global Step:  11600, Training Batch Accuracy:  35.9%, Loss: 1.7543\n",
      "Global Step:  11700, Training Batch Accuracy:  40.6%, Loss: 1.6354\n",
      "Global Step:  11800, Training Batch Accuracy:  28.1%, Loss: 2.0649\n",
      "Global Step:  11900, Training Batch Accuracy:  34.4%, Loss: 1.7770\n",
      "Global Step:  12000, Training Batch Accuracy:  32.8%, Loss: 1.6382\n"
     ]
    },
    {
     "name": "stdout",
     "output_type": "stream",
     "text": [
      "Saved checkpoint.\n",
      "Global Step:  12100, Training Batch Accuracy:  37.5%, Loss: 1.8103\n",
      "Global Step:  12200, Training Batch Accuracy:  40.6%, Loss: 1.6813\n",
      "Global Step:  12300, Training Batch Accuracy:  29.7%, Loss: 1.7442\n",
      "Global Step:  12400, Training Batch Accuracy:  48.4%, Loss: 1.6351\n",
      "Global Step:  12500, Training Batch Accuracy:  50.0%, Loss: 1.5098\n",
      "Global Step:  12600, Training Batch Accuracy:  57.8%, Loss: 1.4644\n",
      "Global Step:  12700, Training Batch Accuracy:  26.6%, Loss: 1.9227\n",
      "Global Step:  12800, Training Batch Accuracy:  42.2%, Loss: 1.6909\n",
      "Global Step:  12900, Training Batch Accuracy:  43.8%, Loss: 1.5766\n",
      "Global Step:  13000, Training Batch Accuracy:  42.2%, Loss: 1.6066\n",
      "Saved checkpoint.\n",
      "Global Step:  13100, Training Batch Accuracy:  53.1%, Loss: 1.4997\n",
      "Global Step:  13200, Training Batch Accuracy:  34.4%, Loss: 1.7245\n",
      "Global Step:  13300, Training Batch Accuracy:  46.9%, Loss: 1.5020\n",
      "Global Step:  13400, Training Batch Accuracy:  50.0%, Loss: 1.4893\n",
      "Global Step:  13500, Training Batch Accuracy:  34.4%, Loss: 1.7119\n",
      "Global Step:  13600, Training Batch Accuracy:  48.4%, Loss: 1.3661\n",
      "Global Step:  13700, Training Batch Accuracy:  34.4%, Loss: 1.6641\n",
      "Global Step:  13800, Training Batch Accuracy:  46.9%, Loss: 1.4984\n",
      "Global Step:  13900, Training Batch Accuracy:  48.4%, Loss: 1.6469\n",
      "Global Step:  14000, Training Batch Accuracy:  32.8%, Loss: 1.6904\n",
      "Saved checkpoint.\n",
      "Global Step:  14100, Training Batch Accuracy:  48.4%, Loss: 1.5492\n",
      "Global Step:  14200, Training Batch Accuracy:  46.9%, Loss: 1.3519\n",
      "Global Step:  14300, Training Batch Accuracy:  42.2%, Loss: 1.5581\n",
      "Global Step:  14400, Training Batch Accuracy:  40.6%, Loss: 1.6074\n",
      "Global Step:  14500, Training Batch Accuracy:  45.3%, Loss: 1.2718\n",
      "Global Step:  14600, Training Batch Accuracy:  42.2%, Loss: 1.5756\n",
      "Global Step:  14700, Training Batch Accuracy:  37.5%, Loss: 1.7626\n",
      "Global Step:  14800, Training Batch Accuracy:  51.6%, Loss: 1.2519\n",
      "Global Step:  14900, Training Batch Accuracy:  43.8%, Loss: 1.6115\n",
      "Global Step:  15000, Training Batch Accuracy:  43.8%, Loss: 1.6051\n",
      "Saved checkpoint.\n",
      "Global Step:  15100, Training Batch Accuracy:  45.3%, Loss: 1.5099\n",
      "Global Step:  15200, Training Batch Accuracy:  40.6%, Loss: 1.6135\n",
      "Global Step:  15300, Training Batch Accuracy:  51.6%, Loss: 1.4632\n",
      "Global Step:  15400, Training Batch Accuracy:  34.4%, Loss: 1.7765\n",
      "Global Step:  15500, Training Batch Accuracy:  59.4%, Loss: 1.3169\n",
      "Global Step:  15600, Training Batch Accuracy:  50.0%, Loss: 1.4420\n",
      "Global Step:  15700, Training Batch Accuracy:  37.5%, Loss: 1.6446\n",
      "Global Step:  15800, Training Batch Accuracy:  45.3%, Loss: 1.3374\n",
      "Global Step:  15900, Training Batch Accuracy:  35.9%, Loss: 1.5056\n",
      "Global Step:  16000, Training Batch Accuracy:  40.6%, Loss: 1.4718\n",
      "Saved checkpoint.\n",
      "Global Step:  16100, Training Batch Accuracy:  39.1%, Loss: 1.5061\n",
      "Global Step:  16200, Training Batch Accuracy:  43.8%, Loss: 1.5231\n",
      "Global Step:  16300, Training Batch Accuracy:  43.8%, Loss: 1.5991\n",
      "Global Step:  16400, Training Batch Accuracy:  40.6%, Loss: 1.5883\n",
      "Global Step:  16500, Training Batch Accuracy:  51.6%, Loss: 1.3457\n",
      "Global Step:  16600, Training Batch Accuracy:  45.3%, Loss: 1.5963\n",
      "Global Step:  16700, Training Batch Accuracy:  48.4%, Loss: 1.3308\n",
      "Global Step:  16800, Training Batch Accuracy:  59.4%, Loss: 1.3095\n",
      "Global Step:  16900, Training Batch Accuracy:  43.8%, Loss: 1.5491\n",
      "Global Step:  17000, Training Batch Accuracy:  56.2%, Loss: 1.2826\n",
      "Saved checkpoint.\n",
      "Global Step:  17100, Training Batch Accuracy:  48.4%, Loss: 1.4378\n",
      "Global Step:  17200, Training Batch Accuracy:  45.3%, Loss: 1.5923\n",
      "Global Step:  17300, Training Batch Accuracy:  40.6%, Loss: 1.5698\n",
      "Global Step:  17400, Training Batch Accuracy:  50.0%, Loss: 1.6568\n",
      "Global Step:  17500, Training Batch Accuracy:  50.0%, Loss: 1.6227\n",
      "Global Step:  17600, Training Batch Accuracy:  43.8%, Loss: 1.6298\n",
      "Global Step:  17700, Training Batch Accuracy:  56.2%, Loss: 1.3250\n",
      "Global Step:  17800, Training Batch Accuracy:  53.1%, Loss: 1.4475\n",
      "Global Step:  17900, Training Batch Accuracy:  53.1%, Loss: 1.3311\n",
      "Global Step:  18000, Training Batch Accuracy:  48.4%, Loss: 1.2818\n",
      "Saved checkpoint.\n",
      "Global Step:  18100, Training Batch Accuracy:  46.9%, Loss: 1.3526\n",
      "Global Step:  18200, Training Batch Accuracy:  39.1%, Loss: 1.5265\n",
      "Global Step:  18300, Training Batch Accuracy:  48.4%, Loss: 1.5214\n",
      "Global Step:  18400, Training Batch Accuracy:  37.5%, Loss: 1.6500\n",
      "Global Step:  18500, Training Batch Accuracy:  59.4%, Loss: 1.1626\n",
      "Global Step:  18600, Training Batch Accuracy:  50.0%, Loss: 1.2776\n",
      "Global Step:  18700, Training Batch Accuracy:  54.7%, Loss: 1.3237\n",
      "Global Step:  18800, Training Batch Accuracy:  45.3%, Loss: 1.4936\n",
      "Global Step:  18900, Training Batch Accuracy:  53.1%, Loss: 1.2961\n",
      "Global Step:  19000, Training Batch Accuracy:  48.4%, Loss: 1.3310\n",
      "Saved checkpoint.\n",
      "Global Step:  19100, Training Batch Accuracy:  50.0%, Loss: 1.3616\n",
      "Global Step:  19200, Training Batch Accuracy:  45.3%, Loss: 1.3784\n",
      "Global Step:  19300, Training Batch Accuracy:  53.1%, Loss: 1.1960\n",
      "Global Step:  19400, Training Batch Accuracy:  53.1%, Loss: 1.4130\n",
      "Global Step:  19500, Training Batch Accuracy:  43.8%, Loss: 1.5731\n",
      "Global Step:  19600, Training Batch Accuracy:  51.6%, Loss: 1.2800\n",
      "Global Step:  19700, Training Batch Accuracy:  57.8%, Loss: 1.0731\n",
      "Global Step:  19800, Training Batch Accuracy:  56.2%, Loss: 1.2032\n",
      "Global Step:  19900, Training Batch Accuracy:  43.8%, Loss: 1.4554\n",
      "Global Step:  20000, Training Batch Accuracy:  50.0%, Loss: 1.2880\n",
      "Saved checkpoint.\n",
      "Global Step:  20100, Training Batch Accuracy:  50.0%, Loss: 1.3077\n",
      "Global Step:  20200, Training Batch Accuracy:  51.6%, Loss: 1.4448\n",
      "Global Step:  20300, Training Batch Accuracy:  42.2%, Loss: 1.4896\n",
      "Global Step:  20400, Training Batch Accuracy:  54.7%, Loss: 1.3970\n",
      "Global Step:  20500, Training Batch Accuracy:  46.9%, Loss: 1.4830\n",
      "Global Step:  20600, Training Batch Accuracy:  53.1%, Loss: 1.3749\n",
      "Global Step:  20700, Training Batch Accuracy:  39.1%, Loss: 1.6918\n",
      "Global Step:  20800, Training Batch Accuracy:  60.9%, Loss: 1.1949\n",
      "Global Step:  20900, Training Batch Accuracy:  51.6%, Loss: 1.4487\n",
      "Global Step:  21000, Training Batch Accuracy:  56.2%, Loss: 1.2324\n",
      "Saved checkpoint.\n",
      "Global Step:  21100, Training Batch Accuracy:  56.2%, Loss: 1.3628\n",
      "Global Step:  21200, Training Batch Accuracy:  59.4%, Loss: 1.1728\n",
      "Global Step:  21300, Training Batch Accuracy:  56.2%, Loss: 1.3663\n",
      "Global Step:  21400, Training Batch Accuracy:  51.6%, Loss: 1.2772\n",
      "Global Step:  21500, Training Batch Accuracy:  50.0%, Loss: 1.3963\n",
      "Global Step:  21600, Training Batch Accuracy:  43.8%, Loss: 1.4498\n",
      "Global Step:  21700, Training Batch Accuracy:  62.5%, Loss: 1.1791\n",
      "Global Step:  21800, Training Batch Accuracy:  57.8%, Loss: 1.3728\n",
      "Global Step:  21900, Training Batch Accuracy:  48.4%, Loss: 1.2692\n",
      "Global Step:  22000, Training Batch Accuracy:  48.4%, Loss: 1.4285\n",
      "Saved checkpoint.\n",
      "Global Step:  22100, Training Batch Accuracy:  45.3%, Loss: 1.3066\n",
      "Global Step:  22200, Training Batch Accuracy:  46.9%, Loss: 1.4898\n",
      "Global Step:  22300, Training Batch Accuracy:  54.7%, Loss: 1.4478\n",
      "Global Step:  22400, Training Batch Accuracy:  51.6%, Loss: 1.3248\n",
      "Global Step:  22500, Training Batch Accuracy:  45.3%, Loss: 1.3698\n",
      "Global Step:  22600, Training Batch Accuracy:  50.0%, Loss: 1.4794\n",
      "Global Step:  22700, Training Batch Accuracy:  54.7%, Loss: 1.2731\n",
      "Global Step:  22800, Training Batch Accuracy:  51.6%, Loss: 1.3552\n",
      "Global Step:  22900, Training Batch Accuracy:  62.5%, Loss: 1.2056\n",
      "Global Step:  23000, Training Batch Accuracy:  57.8%, Loss: 1.1984\n",
      "Saved checkpoint.\n",
      "Global Step:  23100, Training Batch Accuracy:  43.8%, Loss: 1.5208\n",
      "Global Step:  23200, Training Batch Accuracy:  53.1%, Loss: 1.1957\n",
      "Global Step:  23300, Training Batch Accuracy:  56.2%, Loss: 1.2848\n",
      "Global Step:  23400, Training Batch Accuracy:  48.4%, Loss: 1.5105\n",
      "Global Step:  23500, Training Batch Accuracy:  62.5%, Loss: 1.0736\n",
      "Global Step:  23600, Training Batch Accuracy:  57.8%, Loss: 1.3194\n",
      "Global Step:  23700, Training Batch Accuracy:  50.0%, Loss: 1.5174\n",
      "Global Step:  23800, Training Batch Accuracy:  46.9%, Loss: 1.4566\n",
      "Global Step:  23900, Training Batch Accuracy:  51.6%, Loss: 1.6459\n",
      "Global Step:  24000, Training Batch Accuracy:  62.5%, Loss: 1.1947\n"
     ]
    },
    {
     "name": "stdout",
     "output_type": "stream",
     "text": [
      "Saved checkpoint.\n",
      "Global Step:  24100, Training Batch Accuracy:  46.9%, Loss: 1.4038\n",
      "Global Step:  24200, Training Batch Accuracy:  54.7%, Loss: 1.1859\n",
      "Global Step:  24300, Training Batch Accuracy:  50.0%, Loss: 1.1859\n",
      "Global Step:  24400, Training Batch Accuracy:  53.1%, Loss: 1.2510\n",
      "Global Step:  24500, Training Batch Accuracy:  46.9%, Loss: 1.4149\n",
      "Global Step:  24600, Training Batch Accuracy:  59.4%, Loss: 1.3089\n",
      "Global Step:  24700, Training Batch Accuracy:  50.0%, Loss: 1.4347\n",
      "Global Step:  24800, Training Batch Accuracy:  67.2%, Loss: 1.0590\n",
      "Global Step:  24900, Training Batch Accuracy:  51.6%, Loss: 1.4137\n",
      "Global Step:  25000, Training Batch Accuracy:  50.0%, Loss: 1.3195\n",
      "Saved checkpoint.\n",
      "Global Step:  25100, Training Batch Accuracy:  56.2%, Loss: 1.2506\n",
      "Global Step:  25200, Training Batch Accuracy:  48.4%, Loss: 1.3429\n",
      "Global Step:  25300, Training Batch Accuracy:  57.8%, Loss: 1.2367\n",
      "Global Step:  25400, Training Batch Accuracy:  64.1%, Loss: 1.2291\n",
      "Global Step:  25500, Training Batch Accuracy:  64.1%, Loss: 0.9936\n",
      "Global Step:  25600, Training Batch Accuracy:  45.3%, Loss: 1.3485\n",
      "Global Step:  25700, Training Batch Accuracy:  45.3%, Loss: 1.6888\n",
      "Global Step:  25800, Training Batch Accuracy:  56.2%, Loss: 1.4048\n",
      "Global Step:  25900, Training Batch Accuracy:  56.2%, Loss: 1.1440\n",
      "Global Step:  26000, Training Batch Accuracy:  50.0%, Loss: 1.2870\n",
      "Saved checkpoint.\n",
      "Global Step:  26100, Training Batch Accuracy:  60.9%, Loss: 1.2249\n",
      "Global Step:  26200, Training Batch Accuracy:  59.4%, Loss: 1.2190\n",
      "Global Step:  26300, Training Batch Accuracy:  48.4%, Loss: 1.3405\n",
      "Global Step:  26400, Training Batch Accuracy:  64.1%, Loss: 1.1376\n",
      "Global Step:  26500, Training Batch Accuracy:  57.8%, Loss: 1.2435\n",
      "Global Step:  26600, Training Batch Accuracy:  51.6%, Loss: 1.3016\n",
      "Global Step:  26700, Training Batch Accuracy:  53.1%, Loss: 1.1999\n",
      "Global Step:  26800, Training Batch Accuracy:  53.1%, Loss: 1.2766\n",
      "Global Step:  26900, Training Batch Accuracy:  56.2%, Loss: 1.2198\n",
      "Global Step:  27000, Training Batch Accuracy:  51.6%, Loss: 1.2727\n",
      "Saved checkpoint.\n",
      "Global Step:  27100, Training Batch Accuracy:  64.1%, Loss: 1.0910\n",
      "Global Step:  27200, Training Batch Accuracy:  56.2%, Loss: 1.2915\n",
      "Global Step:  27300, Training Batch Accuracy:  54.7%, Loss: 1.3179\n",
      "Global Step:  27400, Training Batch Accuracy:  73.4%, Loss: 0.8534\n",
      "Global Step:  27500, Training Batch Accuracy:  50.0%, Loss: 1.4266\n",
      "Global Step:  27600, Training Batch Accuracy:  53.1%, Loss: 1.2387\n",
      "Global Step:  27700, Training Batch Accuracy:  62.5%, Loss: 1.0791\n",
      "Global Step:  27800, Training Batch Accuracy:  59.4%, Loss: 1.0911\n",
      "Global Step:  27900, Training Batch Accuracy:  54.7%, Loss: 1.2237\n",
      "Global Step:  28000, Training Batch Accuracy:  67.2%, Loss: 1.1186\n",
      "Saved checkpoint.\n",
      "Global Step:  28100, Training Batch Accuracy:  60.9%, Loss: 1.1679\n",
      "Global Step:  28200, Training Batch Accuracy:  42.2%, Loss: 1.3890\n",
      "Global Step:  28300, Training Batch Accuracy:  64.1%, Loss: 1.0526\n",
      "Global Step:  28400, Training Batch Accuracy:  57.8%, Loss: 1.2088\n",
      "Global Step:  28500, Training Batch Accuracy:  50.0%, Loss: 1.5606\n",
      "Global Step:  28600, Training Batch Accuracy:  57.8%, Loss: 1.2915\n",
      "Global Step:  28700, Training Batch Accuracy:  62.5%, Loss: 1.0042\n",
      "Global Step:  28800, Training Batch Accuracy:  64.1%, Loss: 1.1621\n",
      "Global Step:  28900, Training Batch Accuracy:  65.6%, Loss: 0.9976\n",
      "Global Step:  29000, Training Batch Accuracy:  67.2%, Loss: 1.2335\n",
      "Saved checkpoint.\n",
      "Global Step:  29100, Training Batch Accuracy:  57.8%, Loss: 1.1112\n",
      "Global Step:  29200, Training Batch Accuracy:  54.7%, Loss: 1.2319\n",
      "Global Step:  29300, Training Batch Accuracy:  62.5%, Loss: 1.1154\n",
      "Global Step:  29400, Training Batch Accuracy:  64.1%, Loss: 1.0881\n",
      "Global Step:  29500, Training Batch Accuracy:  59.4%, Loss: 1.0332\n",
      "Global Step:  29600, Training Batch Accuracy:  60.9%, Loss: 1.0732\n",
      "Global Step:  29700, Training Batch Accuracy:  62.5%, Loss: 1.2267\n",
      "Global Step:  29800, Training Batch Accuracy:  62.5%, Loss: 1.0953\n",
      "Global Step:  29900, Training Batch Accuracy:  62.5%, Loss: 1.0995\n",
      "Global Step:  30000, Training Batch Accuracy:  60.9%, Loss: 1.0590\n",
      "Saved checkpoint.\n",
      "Global Step:  30100, Training Batch Accuracy:  56.2%, Loss: 1.1992\n",
      "Global Step:  30200, Training Batch Accuracy:  56.2%, Loss: 1.1871\n",
      "Global Step:  30300, Training Batch Accuracy:  59.4%, Loss: 1.2247\n",
      "Global Step:  30400, Training Batch Accuracy:  54.7%, Loss: 1.2454\n",
      "Global Step:  30500, Training Batch Accuracy:  65.6%, Loss: 1.0949\n",
      "Global Step:  30600, Training Batch Accuracy:  65.6%, Loss: 1.2227\n",
      "Global Step:  30700, Training Batch Accuracy:  56.2%, Loss: 1.1527\n",
      "Global Step:  30800, Training Batch Accuracy:  62.5%, Loss: 1.0012\n",
      "Global Step:  30900, Training Batch Accuracy:  60.9%, Loss: 1.1415\n",
      "Global Step:  31000, Training Batch Accuracy:  65.6%, Loss: 0.9297\n",
      "Saved checkpoint.\n",
      "Global Step:  31100, Training Batch Accuracy:  65.6%, Loss: 1.0012\n",
      "Global Step:  31200, Training Batch Accuracy:  59.4%, Loss: 1.0532\n",
      "Global Step:  31300, Training Batch Accuracy:  59.4%, Loss: 1.0196\n",
      "Global Step:  31400, Training Batch Accuracy:  51.6%, Loss: 1.1133\n",
      "Global Step:  31500, Training Batch Accuracy:  59.4%, Loss: 1.0483\n",
      "Global Step:  31600, Training Batch Accuracy:  70.3%, Loss: 0.9216\n",
      "Global Step:  31700, Training Batch Accuracy:  60.9%, Loss: 1.0885\n",
      "Global Step:  31800, Training Batch Accuracy:  56.2%, Loss: 1.2307\n",
      "Global Step:  31900, Training Batch Accuracy:  67.2%, Loss: 0.9054\n",
      "Global Step:  32000, Training Batch Accuracy:  59.4%, Loss: 1.1444\n",
      "Saved checkpoint.\n",
      "Global Step:  32100, Training Batch Accuracy:  62.5%, Loss: 0.8910\n",
      "Global Step:  32200, Training Batch Accuracy:  65.6%, Loss: 1.1363\n",
      "Global Step:  32300, Training Batch Accuracy:  54.7%, Loss: 1.1103\n",
      "Global Step:  32400, Training Batch Accuracy:  53.1%, Loss: 1.3552\n",
      "Global Step:  32500, Training Batch Accuracy:  53.1%, Loss: 1.2355\n",
      "Global Step:  32600, Training Batch Accuracy:  60.9%, Loss: 1.1497\n",
      "Global Step:  32700, Training Batch Accuracy:  67.2%, Loss: 0.9177\n",
      "Global Step:  32800, Training Batch Accuracy:  59.4%, Loss: 1.2191\n",
      "Global Step:  32900, Training Batch Accuracy:  57.8%, Loss: 1.3166\n",
      "Global Step:  33000, Training Batch Accuracy:  59.4%, Loss: 1.2697\n",
      "Saved checkpoint.\n",
      "Global Step:  33100, Training Batch Accuracy:  64.1%, Loss: 1.0614\n",
      "Global Step:  33200, Training Batch Accuracy:  64.1%, Loss: 1.0971\n",
      "Global Step:  33300, Training Batch Accuracy:  59.4%, Loss: 1.1269\n",
      "Global Step:  33400, Training Batch Accuracy:  76.6%, Loss: 0.7470\n",
      "Global Step:  33500, Training Batch Accuracy:  54.7%, Loss: 1.1515\n",
      "Global Step:  33600, Training Batch Accuracy:  48.4%, Loss: 1.2215\n",
      "Global Step:  33700, Training Batch Accuracy:  64.1%, Loss: 1.1005\n",
      "Global Step:  33800, Training Batch Accuracy:  68.8%, Loss: 1.0412\n",
      "Global Step:  33900, Training Batch Accuracy:  62.5%, Loss: 1.0792\n",
      "Global Step:  34000, Training Batch Accuracy:  70.3%, Loss: 1.0150\n",
      "Saved checkpoint.\n",
      "Global Step:  34100, Training Batch Accuracy:  57.8%, Loss: 1.1238\n",
      "Global Step:  34200, Training Batch Accuracy:  59.4%, Loss: 1.2334\n",
      "Global Step:  34300, Training Batch Accuracy:  65.6%, Loss: 0.9910\n",
      "Global Step:  34400, Training Batch Accuracy:  57.8%, Loss: 1.1543\n",
      "Global Step:  34500, Training Batch Accuracy:  59.4%, Loss: 1.3696\n",
      "Global Step:  34600, Training Batch Accuracy:  73.4%, Loss: 0.7789\n",
      "Global Step:  34700, Training Batch Accuracy:  64.1%, Loss: 1.0082\n",
      "Global Step:  34800, Training Batch Accuracy:  59.4%, Loss: 1.1215\n",
      "Global Step:  34900, Training Batch Accuracy:  57.8%, Loss: 1.1051\n",
      "Global Step:  35000, Training Batch Accuracy:  71.9%, Loss: 0.9449\n",
      "Saved checkpoint.\n",
      "Global Step:  35100, Training Batch Accuracy:  65.6%, Loss: 0.9250\n",
      "Global Step:  35200, Training Batch Accuracy:  56.2%, Loss: 1.1052\n",
      "Global Step:  35300, Training Batch Accuracy:  64.1%, Loss: 1.1250\n",
      "Global Step:  35400, Training Batch Accuracy:  56.2%, Loss: 1.0732\n",
      "Global Step:  35500, Training Batch Accuracy:  57.8%, Loss: 1.1872\n",
      "Global Step:  35600, Training Batch Accuracy:  65.6%, Loss: 0.9813\n",
      "Global Step:  35700, Training Batch Accuracy:  68.8%, Loss: 0.9753\n",
      "Global Step:  35800, Training Batch Accuracy:  56.2%, Loss: 1.1205\n",
      "Global Step:  35900, Training Batch Accuracy:  60.9%, Loss: 1.0659\n",
      "Global Step:  36000, Training Batch Accuracy:  57.8%, Loss: 1.1128\n"
     ]
    },
    {
     "name": "stdout",
     "output_type": "stream",
     "text": [
      "Saved checkpoint.\n",
      "Global Step:  36100, Training Batch Accuracy:  64.1%, Loss: 0.9205\n",
      "Global Step:  36200, Training Batch Accuracy:  68.8%, Loss: 1.0563\n",
      "Global Step:  36300, Training Batch Accuracy:  57.8%, Loss: 1.2295\n",
      "Global Step:  36400, Training Batch Accuracy:  62.5%, Loss: 1.2362\n",
      "Global Step:  36500, Training Batch Accuracy:  57.8%, Loss: 1.2188\n",
      "Global Step:  36600, Training Batch Accuracy:  67.2%, Loss: 1.0513\n",
      "Global Step:  36700, Training Batch Accuracy:  68.8%, Loss: 0.9429\n",
      "Global Step:  36800, Training Batch Accuracy:  68.8%, Loss: 0.8254\n",
      "Global Step:  36900, Training Batch Accuracy:  62.5%, Loss: 0.9624\n",
      "Global Step:  37000, Training Batch Accuracy:  68.8%, Loss: 1.1409\n",
      "Saved checkpoint.\n",
      "Global Step:  37100, Training Batch Accuracy:  54.7%, Loss: 1.0788\n",
      "Global Step:  37200, Training Batch Accuracy:  64.1%, Loss: 0.9395\n",
      "Global Step:  37300, Training Batch Accuracy:  65.6%, Loss: 1.1178\n",
      "Global Step:  37400, Training Batch Accuracy:  68.8%, Loss: 0.8036\n",
      "Global Step:  37500, Training Batch Accuracy:  65.6%, Loss: 1.0117\n",
      "Global Step:  37600, Training Batch Accuracy:  60.9%, Loss: 1.0442\n",
      "Global Step:  37700, Training Batch Accuracy:  67.2%, Loss: 1.0468\n",
      "Global Step:  37800, Training Batch Accuracy:  70.3%, Loss: 0.8623\n",
      "Global Step:  37900, Training Batch Accuracy:  62.5%, Loss: 1.1313\n",
      "Global Step:  38000, Training Batch Accuracy:  56.2%, Loss: 1.0208\n",
      "Saved checkpoint.\n",
      "Global Step:  38100, Training Batch Accuracy:  62.5%, Loss: 0.9219\n",
      "Global Step:  38200, Training Batch Accuracy:  62.5%, Loss: 1.0488\n",
      "Global Step:  38300, Training Batch Accuracy:  67.2%, Loss: 0.8653\n",
      "Global Step:  38400, Training Batch Accuracy:  60.9%, Loss: 1.0924\n",
      "Global Step:  38500, Training Batch Accuracy:  70.3%, Loss: 0.8590\n",
      "Global Step:  38600, Training Batch Accuracy:  76.6%, Loss: 0.7534\n",
      "Global Step:  38700, Training Batch Accuracy:  56.2%, Loss: 1.1263\n",
      "Global Step:  38800, Training Batch Accuracy:  73.4%, Loss: 0.7606\n",
      "Global Step:  38900, Training Batch Accuracy:  53.1%, Loss: 1.3343\n",
      "Global Step:  39000, Training Batch Accuracy:  60.9%, Loss: 1.1264\n",
      "Saved checkpoint.\n",
      "Global Step:  39100, Training Batch Accuracy:  62.5%, Loss: 1.0376\n",
      "Global Step:  39200, Training Batch Accuracy:  65.6%, Loss: 1.0036\n",
      "Global Step:  39300, Training Batch Accuracy:  56.2%, Loss: 1.2348\n",
      "Global Step:  39400, Training Batch Accuracy:  70.3%, Loss: 0.9203\n",
      "Global Step:  39500, Training Batch Accuracy:  60.9%, Loss: 1.0811\n",
      "Global Step:  39600, Training Batch Accuracy:  62.5%, Loss: 0.9240\n",
      "Global Step:  39700, Training Batch Accuracy:  51.6%, Loss: 0.9976\n",
      "Global Step:  39800, Training Batch Accuracy:  57.8%, Loss: 1.3456\n",
      "Global Step:  39900, Training Batch Accuracy:  67.2%, Loss: 0.9058\n",
      "Global Step:  40000, Training Batch Accuracy:  65.6%, Loss: 1.0781\n",
      "Saved checkpoint.\n",
      "Global Step:  40100, Training Batch Accuracy:  67.2%, Loss: 0.8961\n",
      "Global Step:  40200, Training Batch Accuracy:  89.1%, Loss: 0.5217\n",
      "Global Step:  40300, Training Batch Accuracy:  70.3%, Loss: 0.8363\n",
      "Global Step:  40400, Training Batch Accuracy:  70.3%, Loss: 0.8932\n",
      "Global Step:  40500, Training Batch Accuracy:  54.7%, Loss: 1.3771\n",
      "Global Step:  40600, Training Batch Accuracy:  76.6%, Loss: 0.8367\n",
      "Global Step:  40700, Training Batch Accuracy:  68.8%, Loss: 0.9439\n",
      "Global Step:  40800, Training Batch Accuracy:  73.4%, Loss: 0.7174\n",
      "Global Step:  40900, Training Batch Accuracy:  73.4%, Loss: 0.9429\n",
      "Global Step:  41000, Training Batch Accuracy:  70.3%, Loss: 0.9129\n",
      "Saved checkpoint.\n",
      "Global Step:  41100, Training Batch Accuracy:  76.6%, Loss: 0.7107\n",
      "Global Step:  41200, Training Batch Accuracy:  65.6%, Loss: 0.9616\n",
      "Global Step:  41300, Training Batch Accuracy:  67.2%, Loss: 1.0356\n",
      "Global Step:  41400, Training Batch Accuracy:  53.1%, Loss: 1.1444\n",
      "Global Step:  41500, Training Batch Accuracy:  59.4%, Loss: 1.1073\n",
      "Global Step:  41600, Training Batch Accuracy:  76.6%, Loss: 0.7801\n",
      "Global Step:  41700, Training Batch Accuracy:  59.4%, Loss: 1.2690\n",
      "Global Step:  41800, Training Batch Accuracy:  76.6%, Loss: 0.8162\n",
      "Global Step:  41900, Training Batch Accuracy:  62.5%, Loss: 0.9965\n",
      "Global Step:  42000, Training Batch Accuracy:  64.1%, Loss: 0.8845\n",
      "Saved checkpoint.\n",
      "Global Step:  42100, Training Batch Accuracy:  68.8%, Loss: 0.9432\n",
      "Global Step:  42200, Training Batch Accuracy:  70.3%, Loss: 0.9301\n",
      "Global Step:  42300, Training Batch Accuracy:  65.6%, Loss: 0.9862\n",
      "Global Step:  42400, Training Batch Accuracy:  71.9%, Loss: 1.0292\n",
      "Global Step:  42500, Training Batch Accuracy:  70.3%, Loss: 0.9163\n",
      "Global Step:  42600, Training Batch Accuracy:  60.9%, Loss: 1.0334\n",
      "Global Step:  42700, Training Batch Accuracy:  68.8%, Loss: 0.9562\n",
      "Global Step:  42800, Training Batch Accuracy:  68.8%, Loss: 0.8472\n",
      "Global Step:  42900, Training Batch Accuracy:  59.4%, Loss: 0.9994\n",
      "Global Step:  43000, Training Batch Accuracy:  62.5%, Loss: 0.9033\n",
      "Saved checkpoint.\n",
      "Global Step:  43100, Training Batch Accuracy:  62.5%, Loss: 0.9504\n",
      "Global Step:  43200, Training Batch Accuracy:  62.5%, Loss: 1.1717\n",
      "Global Step:  43300, Training Batch Accuracy:  75.0%, Loss: 1.0426\n",
      "Global Step:  43400, Training Batch Accuracy:  68.8%, Loss: 1.0492\n",
      "Global Step:  43500, Training Batch Accuracy:  68.8%, Loss: 0.8542\n",
      "Global Step:  43600, Training Batch Accuracy:  62.5%, Loss: 1.0053\n",
      "Global Step:  43700, Training Batch Accuracy:  59.4%, Loss: 1.0235\n",
      "Global Step:  43800, Training Batch Accuracy:  59.4%, Loss: 0.9956\n",
      "Global Step:  43900, Training Batch Accuracy:  64.1%, Loss: 1.0095\n",
      "Global Step:  44000, Training Batch Accuracy:  71.9%, Loss: 0.9043\n",
      "Saved checkpoint.\n",
      "Global Step:  44100, Training Batch Accuracy:  70.3%, Loss: 0.9340\n",
      "Global Step:  44200, Training Batch Accuracy:  70.3%, Loss: 0.8643\n",
      "Global Step:  44300, Training Batch Accuracy:  60.9%, Loss: 1.0874\n",
      "Global Step:  44400, Training Batch Accuracy:  60.9%, Loss: 1.1948\n",
      "Global Step:  44500, Training Batch Accuracy:  68.8%, Loss: 0.8631\n",
      "Global Step:  44600, Training Batch Accuracy:  76.6%, Loss: 0.7592\n",
      "Global Step:  44700, Training Batch Accuracy:  68.8%, Loss: 0.7674\n",
      "Global Step:  44800, Training Batch Accuracy:  68.8%, Loss: 0.9560\n",
      "Global Step:  44900, Training Batch Accuracy:  76.6%, Loss: 0.7562\n",
      "Global Step:  45000, Training Batch Accuracy:  67.2%, Loss: 0.8685\n",
      "Saved checkpoint.\n",
      "Global Step:  45100, Training Batch Accuracy:  71.9%, Loss: 0.8749\n",
      "Global Step:  45200, Training Batch Accuracy:  65.6%, Loss: 0.8984\n",
      "Global Step:  45300, Training Batch Accuracy:  71.9%, Loss: 0.8096\n",
      "Global Step:  45400, Training Batch Accuracy:  68.8%, Loss: 1.1423\n",
      "Global Step:  45500, Training Batch Accuracy:  64.1%, Loss: 1.1665\n",
      "Global Step:  45600, Training Batch Accuracy:  70.3%, Loss: 1.0055\n",
      "Global Step:  45700, Training Batch Accuracy:  57.8%, Loss: 1.1026\n",
      "Global Step:  45800, Training Batch Accuracy:  64.1%, Loss: 0.9946\n",
      "Global Step:  45900, Training Batch Accuracy:  71.9%, Loss: 0.7746\n",
      "Global Step:  46000, Training Batch Accuracy:  67.2%, Loss: 1.0337\n",
      "Saved checkpoint.\n",
      "Global Step:  46100, Training Batch Accuracy:  56.2%, Loss: 1.1196\n",
      "Global Step:  46200, Training Batch Accuracy:  70.3%, Loss: 0.7881\n",
      "Global Step:  46300, Training Batch Accuracy:  73.4%, Loss: 0.8026\n",
      "Global Step:  46400, Training Batch Accuracy:  64.1%, Loss: 1.0207\n",
      "Global Step:  46500, Training Batch Accuracy:  70.3%, Loss: 0.8583\n",
      "Global Step:  46600, Training Batch Accuracy:  64.1%, Loss: 1.1330\n",
      "Global Step:  46700, Training Batch Accuracy:  59.4%, Loss: 1.0658\n",
      "Global Step:  46800, Training Batch Accuracy:  60.9%, Loss: 1.0555\n",
      "Global Step:  46900, Training Batch Accuracy:  65.6%, Loss: 0.8673\n",
      "Global Step:  47000, Training Batch Accuracy:  65.6%, Loss: 1.0173\n",
      "Saved checkpoint.\n",
      "Global Step:  47100, Training Batch Accuracy:  71.9%, Loss: 0.7393\n",
      "Global Step:  47200, Training Batch Accuracy:  67.2%, Loss: 0.9146\n",
      "Global Step:  47300, Training Batch Accuracy:  62.5%, Loss: 0.8438\n",
      "Global Step:  47400, Training Batch Accuracy:  64.1%, Loss: 0.8953\n",
      "Global Step:  47500, Training Batch Accuracy:  59.4%, Loss: 1.1919\n",
      "Global Step:  47600, Training Batch Accuracy:  75.0%, Loss: 0.8013\n",
      "Global Step:  47700, Training Batch Accuracy:  65.6%, Loss: 1.0195\n",
      "Global Step:  47800, Training Batch Accuracy:  67.2%, Loss: 0.9722\n",
      "Global Step:  47900, Training Batch Accuracy:  71.9%, Loss: 0.8087\n",
      "Global Step:  48000, Training Batch Accuracy:  65.6%, Loss: 0.9253\n"
     ]
    },
    {
     "name": "stdout",
     "output_type": "stream",
     "text": [
      "Saved checkpoint.\n",
      "Global Step:  48100, Training Batch Accuracy:  62.5%, Loss: 1.0190\n",
      "Global Step:  48200, Training Batch Accuracy:  62.5%, Loss: 1.0314\n",
      "Global Step:  48300, Training Batch Accuracy:  65.6%, Loss: 0.8915\n",
      "Global Step:  48400, Training Batch Accuracy:  68.8%, Loss: 1.1334\n",
      "Global Step:  48500, Training Batch Accuracy:  67.2%, Loss: 0.9323\n",
      "Global Step:  48600, Training Batch Accuracy:  60.9%, Loss: 1.0510\n",
      "Global Step:  48700, Training Batch Accuracy:  70.3%, Loss: 0.7563\n",
      "Global Step:  48800, Training Batch Accuracy:  71.9%, Loss: 0.6852\n",
      "Global Step:  48900, Training Batch Accuracy:  62.5%, Loss: 0.9209\n",
      "Global Step:  49000, Training Batch Accuracy:  70.3%, Loss: 0.8824\n",
      "Saved checkpoint.\n",
      "Global Step:  49100, Training Batch Accuracy:  71.9%, Loss: 0.7619\n",
      "Global Step:  49200, Training Batch Accuracy:  71.9%, Loss: 0.7683\n",
      "Global Step:  49300, Training Batch Accuracy:  68.8%, Loss: 0.8695\n",
      "Global Step:  49400, Training Batch Accuracy:  60.9%, Loss: 1.1869\n",
      "Global Step:  49500, Training Batch Accuracy:  70.3%, Loss: 0.9323\n",
      "Global Step:  49600, Training Batch Accuracy:  68.8%, Loss: 0.9689\n",
      "Global Step:  49700, Training Batch Accuracy:  59.4%, Loss: 0.9564\n",
      "Global Step:  49800, Training Batch Accuracy:  68.8%, Loss: 0.8397\n",
      "Global Step:  49900, Training Batch Accuracy:  65.6%, Loss: 0.9453\n",
      "Global Step:  50000, Training Batch Accuracy:  73.4%, Loss: 0.9015\n",
      "Saved checkpoint.\n",
      "Global Step:  50100, Training Batch Accuracy:  75.0%, Loss: 0.8664\n",
      "Global Step:  50200, Training Batch Accuracy:  59.4%, Loss: 1.0701\n",
      "Global Step:  50300, Training Batch Accuracy:  71.9%, Loss: 0.8369\n",
      "Global Step:  50400, Training Batch Accuracy:  65.6%, Loss: 1.1129\n",
      "Global Step:  50500, Training Batch Accuracy:  65.6%, Loss: 0.8835\n",
      "Global Step:  50600, Training Batch Accuracy:  73.4%, Loss: 1.1133\n",
      "Global Step:  50700, Training Batch Accuracy:  62.5%, Loss: 1.0030\n",
      "Global Step:  50800, Training Batch Accuracy:  64.1%, Loss: 0.9624\n",
      "Global Step:  50900, Training Batch Accuracy:  70.3%, Loss: 0.7583\n",
      "Global Step:  51000, Training Batch Accuracy:  78.1%, Loss: 0.6453\n",
      "Saved checkpoint.\n",
      "Global Step:  51100, Training Batch Accuracy:  65.6%, Loss: 0.8642\n",
      "Global Step:  51200, Training Batch Accuracy:  71.9%, Loss: 0.8007\n",
      "Global Step:  51300, Training Batch Accuracy:  75.0%, Loss: 0.7371\n",
      "Global Step:  51400, Training Batch Accuracy:  71.9%, Loss: 0.7720\n",
      "Global Step:  51500, Training Batch Accuracy:  60.9%, Loss: 0.9265\n",
      "Global Step:  51600, Training Batch Accuracy:  67.2%, Loss: 0.9507\n",
      "Global Step:  51700, Training Batch Accuracy:  62.5%, Loss: 1.1061\n",
      "Global Step:  51800, Training Batch Accuracy:  70.3%, Loss: 0.7788\n",
      "Global Step:  51900, Training Batch Accuracy:  59.4%, Loss: 0.9579\n",
      "Global Step:  52000, Training Batch Accuracy:  67.2%, Loss: 0.8309\n",
      "Saved checkpoint.\n",
      "Global Step:  52100, Training Batch Accuracy:  70.3%, Loss: 0.8963\n",
      "Global Step:  52200, Training Batch Accuracy:  65.6%, Loss: 0.9492\n",
      "Global Step:  52300, Training Batch Accuracy:  76.6%, Loss: 0.6791\n",
      "Global Step:  52400, Training Batch Accuracy:  70.3%, Loss: 1.0411\n",
      "Global Step:  52500, Training Batch Accuracy:  73.4%, Loss: 0.7177\n",
      "Global Step:  52600, Training Batch Accuracy:  73.4%, Loss: 0.6783\n",
      "Global Step:  52700, Training Batch Accuracy:  73.4%, Loss: 0.7383\n",
      "Global Step:  52800, Training Batch Accuracy:  67.2%, Loss: 0.9235\n",
      "Global Step:  52900, Training Batch Accuracy:  75.0%, Loss: 0.7780\n",
      "Global Step:  53000, Training Batch Accuracy:  70.3%, Loss: 0.7509\n",
      "Saved checkpoint.\n",
      "Global Step:  53100, Training Batch Accuracy:  64.1%, Loss: 0.8900\n",
      "Global Step:  53200, Training Batch Accuracy:  73.4%, Loss: 0.7493\n",
      "Global Step:  53300, Training Batch Accuracy:  71.9%, Loss: 0.7028\n",
      "Global Step:  53400, Training Batch Accuracy:  68.8%, Loss: 1.0630\n",
      "Global Step:  53500, Training Batch Accuracy:  71.9%, Loss: 0.7536\n",
      "Global Step:  53600, Training Batch Accuracy:  68.8%, Loss: 0.8870\n",
      "Global Step:  53700, Training Batch Accuracy:  70.3%, Loss: 0.8351\n",
      "Global Step:  53800, Training Batch Accuracy:  79.7%, Loss: 0.6406\n",
      "Global Step:  53900, Training Batch Accuracy:  62.5%, Loss: 1.1642\n",
      "Global Step:  54000, Training Batch Accuracy:  67.2%, Loss: 0.6997\n",
      "Saved checkpoint.\n",
      "Global Step:  54100, Training Batch Accuracy:  78.1%, Loss: 0.6695\n",
      "Global Step:  54200, Training Batch Accuracy:  71.9%, Loss: 0.8749\n",
      "Global Step:  54300, Training Batch Accuracy:  76.6%, Loss: 0.6802\n",
      "Global Step:  54400, Training Batch Accuracy:  70.3%, Loss: 0.9729\n",
      "Global Step:  54500, Training Batch Accuracy:  70.3%, Loss: 1.0502\n",
      "Global Step:  54600, Training Batch Accuracy:  78.1%, Loss: 0.6899\n",
      "Global Step:  54700, Training Batch Accuracy:  70.3%, Loss: 0.7841\n",
      "Global Step:  54800, Training Batch Accuracy:  78.1%, Loss: 0.5477\n",
      "Global Step:  54900, Training Batch Accuracy:  67.2%, Loss: 0.9678\n",
      "Global Step:  55000, Training Batch Accuracy:  71.9%, Loss: 0.8416\n",
      "Saved checkpoint.\n",
      "Global Step:  55100, Training Batch Accuracy:  67.2%, Loss: 0.8731\n",
      "Global Step:  55200, Training Batch Accuracy:  78.1%, Loss: 0.6901\n",
      "Global Step:  55300, Training Batch Accuracy:  82.8%, Loss: 0.7242\n",
      "Global Step:  55400, Training Batch Accuracy:  78.1%, Loss: 0.7342\n",
      "Global Step:  55500, Training Batch Accuracy:  78.1%, Loss: 0.8471\n",
      "Global Step:  55600, Training Batch Accuracy:  67.2%, Loss: 1.0133\n",
      "Global Step:  55700, Training Batch Accuracy:  73.4%, Loss: 0.9109\n",
      "Global Step:  55800, Training Batch Accuracy:  75.0%, Loss: 0.7718\n",
      "Global Step:  55900, Training Batch Accuracy:  71.9%, Loss: 0.7343\n",
      "Global Step:  56000, Training Batch Accuracy:  71.9%, Loss: 0.7627\n",
      "Saved checkpoint.\n",
      "Global Step:  56100, Training Batch Accuracy:  62.5%, Loss: 0.9105\n",
      "Global Step:  56200, Training Batch Accuracy:  75.0%, Loss: 0.8113\n",
      "Global Step:  56300, Training Batch Accuracy:  68.8%, Loss: 0.8005\n",
      "Global Step:  56400, Training Batch Accuracy:  73.4%, Loss: 0.7386\n",
      "Global Step:  56500, Training Batch Accuracy:  60.9%, Loss: 0.9425\n",
      "Global Step:  56600, Training Batch Accuracy:  75.0%, Loss: 0.7171\n",
      "Global Step:  56700, Training Batch Accuracy:  64.1%, Loss: 1.0932\n",
      "Global Step:  56800, Training Batch Accuracy:  73.4%, Loss: 0.7085\n",
      "Global Step:  56900, Training Batch Accuracy:  68.8%, Loss: 0.8336\n",
      "Global Step:  57000, Training Batch Accuracy:  64.1%, Loss: 1.0365\n",
      "Saved checkpoint.\n",
      "Global Step:  57100, Training Batch Accuracy:  68.8%, Loss: 0.7837\n",
      "Global Step:  57200, Training Batch Accuracy:  71.9%, Loss: 0.7556\n",
      "Global Step:  57300, Training Batch Accuracy:  78.1%, Loss: 0.7761\n",
      "Global Step:  57400, Training Batch Accuracy:  67.2%, Loss: 0.7968\n",
      "Global Step:  57500, Training Batch Accuracy:  75.0%, Loss: 0.7495\n",
      "Global Step:  57600, Training Batch Accuracy:  81.2%, Loss: 0.6030\n",
      "Global Step:  57700, Training Batch Accuracy:  68.8%, Loss: 0.9377\n",
      "Global Step:  57800, Training Batch Accuracy:  70.3%, Loss: 0.6272\n",
      "Global Step:  57900, Training Batch Accuracy:  81.2%, Loss: 0.6221\n",
      "Global Step:  58000, Training Batch Accuracy:  76.6%, Loss: 0.6783\n",
      "Saved checkpoint.\n",
      "Global Step:  58100, Training Batch Accuracy:  70.3%, Loss: 0.7859\n",
      "Global Step:  58200, Training Batch Accuracy:  81.2%, Loss: 0.6823\n",
      "Global Step:  58300, Training Batch Accuracy:  78.1%, Loss: 0.6321\n",
      "Global Step:  58400, Training Batch Accuracy:  82.8%, Loss: 0.5783\n",
      "Global Step:  58500, Training Batch Accuracy:  71.9%, Loss: 0.6599\n",
      "Global Step:  58600, Training Batch Accuracy:  76.6%, Loss: 0.6537\n",
      "Global Step:  58700, Training Batch Accuracy:  81.2%, Loss: 0.5837\n",
      "Global Step:  58800, Training Batch Accuracy:  75.0%, Loss: 0.6835\n",
      "Global Step:  58900, Training Batch Accuracy:  64.1%, Loss: 0.8400\n",
      "Global Step:  59000, Training Batch Accuracy:  57.8%, Loss: 1.1560\n",
      "Saved checkpoint.\n",
      "Global Step:  59100, Training Batch Accuracy:  81.2%, Loss: 0.7012\n",
      "Global Step:  59200, Training Batch Accuracy:  73.4%, Loss: 0.7824\n",
      "Global Step:  59300, Training Batch Accuracy:  90.6%, Loss: 0.4673\n",
      "Global Step:  59400, Training Batch Accuracy:  78.1%, Loss: 0.6514\n",
      "Global Step:  59500, Training Batch Accuracy:  73.4%, Loss: 0.9005\n",
      "Global Step:  59600, Training Batch Accuracy:  71.9%, Loss: 0.8842\n",
      "Global Step:  59700, Training Batch Accuracy:  73.4%, Loss: 0.6426\n",
      "Global Step:  59800, Training Batch Accuracy:  71.9%, Loss: 0.6961\n",
      "Global Step:  59900, Training Batch Accuracy:  68.8%, Loss: 0.7841\n",
      "Global Step:  60000, Training Batch Accuracy:  65.6%, Loss: 0.9487\n"
     ]
    },
    {
     "name": "stdout",
     "output_type": "stream",
     "text": [
      "Saved checkpoint.\n",
      "Global Step:  60100, Training Batch Accuracy:  75.0%, Loss: 0.5971\n",
      "Global Step:  60200, Training Batch Accuracy:  75.0%, Loss: 0.8144\n",
      "Global Step:  60300, Training Batch Accuracy:  70.3%, Loss: 0.8221\n",
      "Global Step:  60400, Training Batch Accuracy:  67.2%, Loss: 0.8352\n",
      "Global Step:  60500, Training Batch Accuracy:  81.2%, Loss: 0.5629\n",
      "Global Step:  60600, Training Batch Accuracy:  76.6%, Loss: 0.8390\n",
      "Global Step:  60700, Training Batch Accuracy:  70.3%, Loss: 0.7440\n",
      "Global Step:  60800, Training Batch Accuracy:  73.4%, Loss: 0.7722\n",
      "Global Step:  60900, Training Batch Accuracy:  75.0%, Loss: 0.7172\n",
      "Global Step:  61000, Training Batch Accuracy:  79.7%, Loss: 0.7046\n",
      "Saved checkpoint.\n",
      "Global Step:  61100, Training Batch Accuracy:  78.1%, Loss: 0.7176\n",
      "Global Step:  61200, Training Batch Accuracy:  79.7%, Loss: 0.6873\n",
      "Global Step:  61300, Training Batch Accuracy:  78.1%, Loss: 0.7482\n",
      "Global Step:  61400, Training Batch Accuracy:  68.8%, Loss: 0.7551\n",
      "Global Step:  61500, Training Batch Accuracy:  65.6%, Loss: 0.8875\n",
      "Global Step:  61600, Training Batch Accuracy:  78.1%, Loss: 0.5683\n",
      "Global Step:  61700, Training Batch Accuracy:  78.1%, Loss: 0.6732\n",
      "Global Step:  61800, Training Batch Accuracy:  81.2%, Loss: 0.7358\n",
      "Global Step:  61900, Training Batch Accuracy:  75.0%, Loss: 0.8686\n",
      "Global Step:  62000, Training Batch Accuracy:  75.0%, Loss: 0.7172\n",
      "Saved checkpoint.\n",
      "Global Step:  62100, Training Batch Accuracy:  78.1%, Loss: 0.7543\n",
      "Global Step:  62200, Training Batch Accuracy:  71.9%, Loss: 1.0160\n",
      "Global Step:  62300, Training Batch Accuracy:  67.2%, Loss: 0.8917\n",
      "Global Step:  62400, Training Batch Accuracy:  76.6%, Loss: 0.6737\n",
      "Global Step:  62500, Training Batch Accuracy:  76.6%, Loss: 0.7464\n",
      "Global Step:  62600, Training Batch Accuracy:  79.7%, Loss: 0.6124\n",
      "Global Step:  62700, Training Batch Accuracy:  64.1%, Loss: 1.0783\n",
      "Global Step:  62800, Training Batch Accuracy:  68.8%, Loss: 0.9200\n",
      "Global Step:  62900, Training Batch Accuracy:  84.4%, Loss: 0.6127\n",
      "Global Step:  63000, Training Batch Accuracy:  89.1%, Loss: 0.3650\n",
      "Saved checkpoint.\n",
      "Global Step:  63100, Training Batch Accuracy:  65.6%, Loss: 0.9343\n",
      "Global Step:  63200, Training Batch Accuracy:  76.6%, Loss: 0.7528\n",
      "Global Step:  63300, Training Batch Accuracy:  67.2%, Loss: 0.9627\n",
      "Global Step:  63400, Training Batch Accuracy:  70.3%, Loss: 0.7066\n",
      "Global Step:  63500, Training Batch Accuracy:  67.2%, Loss: 0.8596\n",
      "Global Step:  63600, Training Batch Accuracy:  71.9%, Loss: 0.8271\n",
      "Global Step:  63700, Training Batch Accuracy:  68.8%, Loss: 0.7368\n",
      "Global Step:  63800, Training Batch Accuracy:  70.3%, Loss: 0.7324\n",
      "Global Step:  63900, Training Batch Accuracy:  78.1%, Loss: 0.6476\n",
      "Global Step:  64000, Training Batch Accuracy:  81.2%, Loss: 0.6111\n",
      "Saved checkpoint.\n",
      "Global Step:  64100, Training Batch Accuracy:  68.8%, Loss: 0.8036\n",
      "Global Step:  64200, Training Batch Accuracy:  70.3%, Loss: 0.7798\n",
      "Global Step:  64300, Training Batch Accuracy:  82.8%, Loss: 0.5731\n",
      "Global Step:  64400, Training Batch Accuracy:  71.9%, Loss: 0.7336\n",
      "Global Step:  64500, Training Batch Accuracy:  73.4%, Loss: 0.7454\n",
      "Global Step:  64600, Training Batch Accuracy:  79.7%, Loss: 0.5820\n",
      "Global Step:  64700, Training Batch Accuracy:  73.4%, Loss: 0.6846\n",
      "Global Step:  64800, Training Batch Accuracy:  70.3%, Loss: 0.8493\n",
      "Global Step:  64900, Training Batch Accuracy:  76.6%, Loss: 0.8258\n",
      "Global Step:  65000, Training Batch Accuracy:  70.3%, Loss: 0.8677\n",
      "Saved checkpoint.\n",
      "Global Step:  65100, Training Batch Accuracy:  81.2%, Loss: 0.5850\n",
      "Global Step:  65200, Training Batch Accuracy:  71.9%, Loss: 0.8883\n",
      "Global Step:  65300, Training Batch Accuracy:  78.1%, Loss: 0.6148\n",
      "Global Step:  65400, Training Batch Accuracy:  70.3%, Loss: 0.6999\n",
      "Global Step:  65500, Training Batch Accuracy:  79.7%, Loss: 0.6233\n",
      "Global Step:  65600, Training Batch Accuracy:  75.0%, Loss: 0.7117\n",
      "Global Step:  65700, Training Batch Accuracy:  64.1%, Loss: 1.0262\n",
      "Global Step:  65800, Training Batch Accuracy:  81.2%, Loss: 0.6578\n",
      "Global Step:  65900, Training Batch Accuracy:  79.7%, Loss: 0.7004\n",
      "Global Step:  66000, Training Batch Accuracy:  73.4%, Loss: 0.8706\n",
      "Saved checkpoint.\n",
      "Global Step:  66100, Training Batch Accuracy:  78.1%, Loss: 0.6203\n",
      "Global Step:  66200, Training Batch Accuracy:  76.6%, Loss: 0.6488\n",
      "Global Step:  66300, Training Batch Accuracy:  84.4%, Loss: 0.5322\n",
      "Global Step:  66400, Training Batch Accuracy:  75.0%, Loss: 0.7017\n",
      "Global Step:  66500, Training Batch Accuracy:  81.2%, Loss: 0.5404\n",
      "Global Step:  66600, Training Batch Accuracy:  82.8%, Loss: 0.6275\n",
      "Global Step:  66700, Training Batch Accuracy:  76.6%, Loss: 0.7465\n",
      "Global Step:  66800, Training Batch Accuracy:  70.3%, Loss: 0.7500\n",
      "Global Step:  66900, Training Batch Accuracy:  73.4%, Loss: 0.6951\n",
      "Global Step:  67000, Training Batch Accuracy:  65.6%, Loss: 0.8799\n",
      "Saved checkpoint.\n",
      "Global Step:  67100, Training Batch Accuracy:  75.0%, Loss: 0.7121\n",
      "Global Step:  67200, Training Batch Accuracy:  84.4%, Loss: 0.6247\n",
      "Global Step:  67300, Training Batch Accuracy:  81.2%, Loss: 0.7989\n",
      "Global Step:  67400, Training Batch Accuracy:  76.6%, Loss: 0.7652\n",
      "Global Step:  67500, Training Batch Accuracy:  81.2%, Loss: 0.5850\n",
      "Global Step:  67600, Training Batch Accuracy:  73.4%, Loss: 0.7237\n",
      "Global Step:  67700, Training Batch Accuracy:  71.9%, Loss: 0.7520\n",
      "Global Step:  67800, Training Batch Accuracy:  71.9%, Loss: 0.9143\n",
      "Global Step:  67900, Training Batch Accuracy:  79.7%, Loss: 0.5017\n",
      "Global Step:  68000, Training Batch Accuracy:  71.9%, Loss: 0.9281\n",
      "Saved checkpoint.\n",
      "Global Step:  68100, Training Batch Accuracy:  78.1%, Loss: 0.5948\n",
      "Global Step:  68200, Training Batch Accuracy:  79.7%, Loss: 0.5168\n",
      "Global Step:  68300, Training Batch Accuracy:  76.6%, Loss: 0.6490\n",
      "Global Step:  68400, Training Batch Accuracy:  73.4%, Loss: 0.8881\n",
      "Global Step:  68500, Training Batch Accuracy:  68.8%, Loss: 0.7845\n",
      "Global Step:  68600, Training Batch Accuracy:  85.9%, Loss: 0.3499\n",
      "Global Step:  68700, Training Batch Accuracy:  76.6%, Loss: 0.6468\n",
      "Global Step:  68800, Training Batch Accuracy:  71.9%, Loss: 0.8555\n",
      "Global Step:  68900, Training Batch Accuracy:  76.6%, Loss: 0.6152\n",
      "Global Step:  69000, Training Batch Accuracy:  84.4%, Loss: 0.5385\n",
      "Saved checkpoint.\n",
      "Global Step:  69100, Training Batch Accuracy:  73.4%, Loss: 0.6740\n",
      "Global Step:  69200, Training Batch Accuracy:  81.2%, Loss: 0.6644\n",
      "Global Step:  69300, Training Batch Accuracy:  76.6%, Loss: 0.5851\n",
      "Global Step:  69400, Training Batch Accuracy:  68.8%, Loss: 0.8824\n",
      "Global Step:  69500, Training Batch Accuracy:  81.2%, Loss: 0.5998\n",
      "Global Step:  69600, Training Batch Accuracy:  67.2%, Loss: 1.0002\n",
      "Global Step:  69700, Training Batch Accuracy:  73.4%, Loss: 0.5844\n",
      "Global Step:  69800, Training Batch Accuracy:  76.6%, Loss: 0.6563\n",
      "Global Step:  69900, Training Batch Accuracy:  75.0%, Loss: 0.7146\n",
      "Global Step:  70000, Training Batch Accuracy:  79.7%, Loss: 0.5718\n",
      "Saved checkpoint.\n",
      "Global Step:  70100, Training Batch Accuracy:  71.9%, Loss: 0.8399\n",
      "Global Step:  70200, Training Batch Accuracy:  76.6%, Loss: 0.5686\n",
      "Global Step:  70300, Training Batch Accuracy:  73.4%, Loss: 0.6550\n",
      "Global Step:  70400, Training Batch Accuracy:  76.6%, Loss: 0.6840\n",
      "Global Step:  70500, Training Batch Accuracy:  79.7%, Loss: 0.7345\n",
      "Global Step:  70600, Training Batch Accuracy:  75.0%, Loss: 0.6615\n",
      "Global Step:  70700, Training Batch Accuracy:  67.2%, Loss: 0.9181\n",
      "Global Step:  70800, Training Batch Accuracy:  70.3%, Loss: 0.9120\n",
      "Global Step:  70900, Training Batch Accuracy:  68.8%, Loss: 0.8510\n",
      "Global Step:  71000, Training Batch Accuracy:  75.0%, Loss: 0.7133\n",
      "Saved checkpoint.\n",
      "Global Step:  71100, Training Batch Accuracy:  81.2%, Loss: 0.6756\n",
      "Global Step:  71200, Training Batch Accuracy:  70.3%, Loss: 0.7360\n",
      "Global Step:  71300, Training Batch Accuracy:  73.4%, Loss: 0.7051\n",
      "Global Step:  71400, Training Batch Accuracy:  76.6%, Loss: 0.7645\n",
      "Global Step:  71500, Training Batch Accuracy:  73.4%, Loss: 0.6156\n",
      "Global Step:  71600, Training Batch Accuracy:  79.7%, Loss: 0.6111\n",
      "Global Step:  71700, Training Batch Accuracy:  65.6%, Loss: 1.0249\n",
      "Global Step:  71800, Training Batch Accuracy:  81.2%, Loss: 0.6185\n",
      "Global Step:  71900, Training Batch Accuracy:  81.2%, Loss: 0.6471\n",
      "Global Step:  72000, Training Batch Accuracy:  79.7%, Loss: 0.7021\n"
     ]
    },
    {
     "name": "stdout",
     "output_type": "stream",
     "text": [
      "Saved checkpoint.\n",
      "Global Step:  72100, Training Batch Accuracy:  79.7%, Loss: 0.7388\n",
      "Global Step:  72200, Training Batch Accuracy:  76.6%, Loss: 0.5501\n",
      "Global Step:  72300, Training Batch Accuracy:  76.6%, Loss: 0.6363\n",
      "Global Step:  72400, Training Batch Accuracy:  67.2%, Loss: 0.7692\n",
      "Global Step:  72500, Training Batch Accuracy:  76.6%, Loss: 0.7095\n",
      "Global Step:  72600, Training Batch Accuracy:  76.6%, Loss: 0.7739\n",
      "Global Step:  72700, Training Batch Accuracy:  81.2%, Loss: 0.6207\n",
      "Global Step:  72800, Training Batch Accuracy:  73.4%, Loss: 0.7161\n",
      "Global Step:  72900, Training Batch Accuracy:  73.4%, Loss: 0.6020\n",
      "Global Step:  73000, Training Batch Accuracy:  78.1%, Loss: 0.6955\n",
      "Saved checkpoint.\n",
      "Global Step:  73100, Training Batch Accuracy:  78.1%, Loss: 0.5832\n",
      "Global Step:  73200, Training Batch Accuracy:  73.4%, Loss: 0.6875\n",
      "Global Step:  73300, Training Batch Accuracy:  68.8%, Loss: 0.7955\n",
      "Global Step:  73400, Training Batch Accuracy:  78.1%, Loss: 0.7502\n",
      "Global Step:  73500, Training Batch Accuracy:  71.9%, Loss: 0.9152\n",
      "Global Step:  73600, Training Batch Accuracy:  62.5%, Loss: 0.9184\n",
      "Global Step:  73700, Training Batch Accuracy:  81.2%, Loss: 0.5710\n",
      "Global Step:  73800, Training Batch Accuracy:  73.4%, Loss: 0.6046\n",
      "Global Step:  73900, Training Batch Accuracy:  73.4%, Loss: 0.6517\n",
      "Global Step:  74000, Training Batch Accuracy:  79.7%, Loss: 0.7135\n",
      "Saved checkpoint.\n",
      "Global Step:  74100, Training Batch Accuracy:  70.3%, Loss: 0.7463\n",
      "Global Step:  74200, Training Batch Accuracy:  78.1%, Loss: 0.6010\n",
      "Global Step:  74300, Training Batch Accuracy:  73.4%, Loss: 0.7252\n",
      "Global Step:  74400, Training Batch Accuracy:  78.1%, Loss: 0.7103\n",
      "Global Step:  74500, Training Batch Accuracy:  81.2%, Loss: 0.6407\n",
      "Global Step:  74600, Training Batch Accuracy:  75.0%, Loss: 0.7649\n",
      "Global Step:  74700, Training Batch Accuracy:  70.3%, Loss: 0.8184\n",
      "Global Step:  74800, Training Batch Accuracy:  87.5%, Loss: 0.4617\n",
      "Global Step:  74900, Training Batch Accuracy:  78.1%, Loss: 0.5316\n",
      "Global Step:  75000, Training Batch Accuracy:  79.7%, Loss: 0.5858\n",
      "Saved checkpoint.\n",
      "Global Step:  75100, Training Batch Accuracy:  78.1%, Loss: 0.7327\n",
      "Global Step:  75200, Training Batch Accuracy:  71.9%, Loss: 0.7406\n",
      "Global Step:  75300, Training Batch Accuracy:  78.1%, Loss: 0.5163\n",
      "Global Step:  75400, Training Batch Accuracy:  73.4%, Loss: 0.7399\n",
      "Global Step:  75500, Training Batch Accuracy:  65.6%, Loss: 0.9846\n",
      "Global Step:  75600, Training Batch Accuracy:  78.1%, Loss: 0.5297\n",
      "Global Step:  75700, Training Batch Accuracy:  65.6%, Loss: 0.7895\n",
      "Global Step:  75800, Training Batch Accuracy:  79.7%, Loss: 0.7874\n",
      "Global Step:  75900, Training Batch Accuracy:  73.4%, Loss: 0.7679\n",
      "Global Step:  76000, Training Batch Accuracy:  76.6%, Loss: 0.7952\n",
      "Saved checkpoint.\n",
      "Global Step:  76100, Training Batch Accuracy:  73.4%, Loss: 0.8352\n",
      "Global Step:  76200, Training Batch Accuracy:  67.2%, Loss: 0.8442\n",
      "Global Step:  76300, Training Batch Accuracy:  84.4%, Loss: 0.5499\n",
      "Global Step:  76400, Training Batch Accuracy:  76.6%, Loss: 0.7188\n",
      "Global Step:  76500, Training Batch Accuracy:  84.4%, Loss: 0.7011\n",
      "Global Step:  76600, Training Batch Accuracy:  84.4%, Loss: 0.5442\n",
      "Global Step:  76700, Training Batch Accuracy:  73.4%, Loss: 0.6552\n",
      "Global Step:  76800, Training Batch Accuracy:  78.1%, Loss: 0.5922\n",
      "Global Step:  76900, Training Batch Accuracy:  73.4%, Loss: 0.7348\n",
      "Global Step:  77000, Training Batch Accuracy:  78.1%, Loss: 0.6073\n",
      "Saved checkpoint.\n",
      "Global Step:  77100, Training Batch Accuracy:  71.9%, Loss: 0.6926\n",
      "Global Step:  77200, Training Batch Accuracy:  70.3%, Loss: 0.8734\n",
      "Global Step:  77300, Training Batch Accuracy:  75.0%, Loss: 0.6034\n",
      "Global Step:  77400, Training Batch Accuracy:  75.0%, Loss: 0.8406\n",
      "Global Step:  77500, Training Batch Accuracy:  81.2%, Loss: 0.5791\n",
      "Global Step:  77600, Training Batch Accuracy:  78.1%, Loss: 0.6511\n",
      "Global Step:  77700, Training Batch Accuracy:  73.4%, Loss: 0.6459\n",
      "Global Step:  77800, Training Batch Accuracy:  82.8%, Loss: 0.4690\n",
      "Global Step:  77900, Training Batch Accuracy:  71.9%, Loss: 0.6901\n",
      "Global Step:  78000, Training Batch Accuracy:  84.4%, Loss: 0.4985\n",
      "Saved checkpoint.\n",
      "Global Step:  78100, Training Batch Accuracy:  76.6%, Loss: 0.7146\n",
      "Global Step:  78200, Training Batch Accuracy:  73.4%, Loss: 0.7009\n",
      "Global Step:  78300, Training Batch Accuracy:  79.7%, Loss: 0.5533\n",
      "Global Step:  78400, Training Batch Accuracy:  82.8%, Loss: 0.6338\n",
      "Global Step:  78500, Training Batch Accuracy:  76.6%, Loss: 0.7365\n",
      "Global Step:  78600, Training Batch Accuracy:  89.1%, Loss: 0.4205\n",
      "Global Step:  78700, Training Batch Accuracy:  70.3%, Loss: 0.7986\n",
      "Global Step:  78800, Training Batch Accuracy:  82.8%, Loss: 0.5451\n",
      "Global Step:  78900, Training Batch Accuracy:  75.0%, Loss: 0.6864\n",
      "Global Step:  79000, Training Batch Accuracy:  81.2%, Loss: 0.5441\n",
      "Saved checkpoint.\n",
      "Global Step:  79100, Training Batch Accuracy:  76.6%, Loss: 0.6793\n",
      "Global Step:  79200, Training Batch Accuracy:  76.6%, Loss: 0.6243\n",
      "Global Step:  79300, Training Batch Accuracy:  73.4%, Loss: 0.6102\n",
      "Global Step:  79400, Training Batch Accuracy:  68.8%, Loss: 0.7634\n",
      "Global Step:  79500, Training Batch Accuracy:  84.4%, Loss: 0.5528\n",
      "Global Step:  79600, Training Batch Accuracy:  73.4%, Loss: 0.7092\n",
      "Global Step:  79700, Training Batch Accuracy:  75.0%, Loss: 0.7261\n",
      "Global Step:  79800, Training Batch Accuracy:  70.3%, Loss: 0.6418\n",
      "Global Step:  79900, Training Batch Accuracy:  87.5%, Loss: 0.3705\n",
      "Global Step:  80000, Training Batch Accuracy:  73.4%, Loss: 0.7417\n",
      "Saved checkpoint.\n",
      "Global Step:  80100, Training Batch Accuracy:  78.1%, Loss: 0.5915\n",
      "Global Step:  80200, Training Batch Accuracy:  85.9%, Loss: 0.4524\n",
      "Global Step:  80300, Training Batch Accuracy:  84.4%, Loss: 0.4616\n",
      "Global Step:  80400, Training Batch Accuracy:  78.1%, Loss: 0.6010\n",
      "Global Step:  80500, Training Batch Accuracy:  81.2%, Loss: 0.5248\n",
      "Global Step:  80600, Training Batch Accuracy:  68.8%, Loss: 0.8592\n",
      "Global Step:  80700, Training Batch Accuracy:  71.9%, Loss: 0.7571\n",
      "Global Step:  80800, Training Batch Accuracy:  79.7%, Loss: 0.6211\n",
      "Global Step:  80900, Training Batch Accuracy:  82.8%, Loss: 0.5373\n",
      "Global Step:  81000, Training Batch Accuracy:  84.4%, Loss: 0.4744\n",
      "Saved checkpoint.\n",
      "Global Step:  81100, Training Batch Accuracy:  81.2%, Loss: 0.4897\n",
      "Global Step:  81200, Training Batch Accuracy:  79.7%, Loss: 0.4826\n",
      "Global Step:  81300, Training Batch Accuracy:  76.6%, Loss: 0.5509\n",
      "Global Step:  81400, Training Batch Accuracy:  71.9%, Loss: 0.7150\n",
      "Global Step:  81500, Training Batch Accuracy:  82.8%, Loss: 0.7408\n",
      "Global Step:  81600, Training Batch Accuracy:  68.8%, Loss: 0.8208\n",
      "Global Step:  81700, Training Batch Accuracy:  84.4%, Loss: 0.5767\n",
      "Global Step:  81800, Training Batch Accuracy:  73.4%, Loss: 0.7313\n",
      "Global Step:  81900, Training Batch Accuracy:  79.7%, Loss: 0.4743\n",
      "Global Step:  82000, Training Batch Accuracy:  78.1%, Loss: 0.5946\n",
      "Saved checkpoint.\n",
      "Global Step:  82100, Training Batch Accuracy:  79.7%, Loss: 0.6575\n",
      "Global Step:  82200, Training Batch Accuracy:  76.6%, Loss: 0.7373\n",
      "Global Step:  82300, Training Batch Accuracy:  78.1%, Loss: 0.6929\n",
      "Global Step:  82400, Training Batch Accuracy:  81.2%, Loss: 0.6703\n",
      "Global Step:  82500, Training Batch Accuracy:  73.4%, Loss: 0.7746\n",
      "Global Step:  82600, Training Batch Accuracy:  81.2%, Loss: 0.6604\n",
      "Global Step:  82700, Training Batch Accuracy:  76.6%, Loss: 0.5908\n",
      "Global Step:  82800, Training Batch Accuracy:  73.4%, Loss: 0.7031\n",
      "Global Step:  82900, Training Batch Accuracy:  65.6%, Loss: 0.7621\n",
      "Global Step:  83000, Training Batch Accuracy:  71.9%, Loss: 0.7061\n",
      "Saved checkpoint.\n",
      "Global Step:  83100, Training Batch Accuracy:  85.9%, Loss: 0.4445\n",
      "Global Step:  83200, Training Batch Accuracy:  75.0%, Loss: 0.6649\n",
      "Global Step:  83300, Training Batch Accuracy:  75.0%, Loss: 0.7358\n",
      "Global Step:  83400, Training Batch Accuracy:  81.2%, Loss: 0.4916\n",
      "Global Step:  83500, Training Batch Accuracy:  73.4%, Loss: 0.7452\n",
      "Global Step:  83600, Training Batch Accuracy:  78.1%, Loss: 0.7684\n",
      "Global Step:  83700, Training Batch Accuracy:  81.2%, Loss: 0.5642\n",
      "Global Step:  83800, Training Batch Accuracy:  70.3%, Loss: 0.8411\n",
      "Global Step:  83900, Training Batch Accuracy:  84.4%, Loss: 0.4863\n",
      "Global Step:  84000, Training Batch Accuracy:  82.8%, Loss: 0.5390\n"
     ]
    },
    {
     "name": "stdout",
     "output_type": "stream",
     "text": [
      "Saved checkpoint.\n",
      "Global Step:  84100, Training Batch Accuracy:  76.6%, Loss: 0.5621\n",
      "Global Step:  84200, Training Batch Accuracy:  76.6%, Loss: 0.6920\n",
      "Global Step:  84300, Training Batch Accuracy:  78.1%, Loss: 0.7598\n",
      "Global Step:  84400, Training Batch Accuracy:  85.9%, Loss: 0.3537\n",
      "Global Step:  84500, Training Batch Accuracy:  73.4%, Loss: 0.6963\n",
      "Global Step:  84600, Training Batch Accuracy:  76.6%, Loss: 0.6038\n",
      "Global Step:  84700, Training Batch Accuracy:  78.1%, Loss: 0.6039\n",
      "Global Step:  84800, Training Batch Accuracy:  73.4%, Loss: 0.8559\n",
      "Global Step:  84900, Training Batch Accuracy:  76.6%, Loss: 0.7067\n",
      "Global Step:  85000, Training Batch Accuracy:  70.3%, Loss: 0.7339\n",
      "Saved checkpoint.\n",
      "Global Step:  85100, Training Batch Accuracy:  84.4%, Loss: 0.5248\n",
      "Global Step:  85200, Training Batch Accuracy:  71.9%, Loss: 0.7496\n",
      "Global Step:  85300, Training Batch Accuracy:  71.9%, Loss: 0.7721\n",
      "Global Step:  85400, Training Batch Accuracy:  84.4%, Loss: 0.4095\n",
      "Global Step:  85500, Training Batch Accuracy:  81.2%, Loss: 0.5335\n",
      "Global Step:  85600, Training Batch Accuracy:  75.0%, Loss: 0.6959\n",
      "Global Step:  85700, Training Batch Accuracy:  84.4%, Loss: 0.5880\n",
      "Global Step:  85800, Training Batch Accuracy:  78.1%, Loss: 0.5536\n",
      "Global Step:  85900, Training Batch Accuracy:  70.3%, Loss: 0.6567\n",
      "Global Step:  86000, Training Batch Accuracy:  79.7%, Loss: 0.5714\n",
      "Saved checkpoint.\n",
      "Global Step:  86100, Training Batch Accuracy:  84.4%, Loss: 0.5668\n",
      "Global Step:  86200, Training Batch Accuracy:  81.2%, Loss: 0.5034\n",
      "Global Step:  86300, Training Batch Accuracy:  79.7%, Loss: 0.5784\n",
      "Global Step:  86400, Training Batch Accuracy:  75.0%, Loss: 0.6642\n",
      "Global Step:  86500, Training Batch Accuracy:  76.6%, Loss: 0.4789\n",
      "Global Step:  86600, Training Batch Accuracy:  76.6%, Loss: 0.7036\n",
      "Global Step:  86700, Training Batch Accuracy:  82.8%, Loss: 0.6285\n",
      "Global Step:  86800, Training Batch Accuracy:  78.1%, Loss: 0.5988\n",
      "Global Step:  86900, Training Batch Accuracy:  78.1%, Loss: 0.4857\n",
      "Global Step:  87000, Training Batch Accuracy:  79.7%, Loss: 0.6812\n",
      "Saved checkpoint.\n",
      "Global Step:  87100, Training Batch Accuracy:  75.0%, Loss: 0.6566\n",
      "Global Step:  87200, Training Batch Accuracy:  84.4%, Loss: 0.5241\n",
      "Global Step:  87300, Training Batch Accuracy:  78.1%, Loss: 0.5721\n",
      "Global Step:  87400, Training Batch Accuracy:  81.2%, Loss: 0.6738\n",
      "Global Step:  87500, Training Batch Accuracy:  79.7%, Loss: 0.5500\n",
      "Global Step:  87600, Training Batch Accuracy:  84.4%, Loss: 0.5222\n",
      "Global Step:  87700, Training Batch Accuracy:  85.9%, Loss: 0.4601\n",
      "Global Step:  87800, Training Batch Accuracy:  87.5%, Loss: 0.3368\n",
      "Global Step:  87900, Training Batch Accuracy:  81.2%, Loss: 0.4580\n",
      "Global Step:  88000, Training Batch Accuracy:  67.2%, Loss: 0.9077\n",
      "Saved checkpoint.\n",
      "Global Step:  88100, Training Batch Accuracy:  79.7%, Loss: 0.6740\n",
      "Global Step:  88200, Training Batch Accuracy:  79.7%, Loss: 0.7373\n",
      "Global Step:  88300, Training Batch Accuracy:  81.2%, Loss: 0.5592\n",
      "Global Step:  88400, Training Batch Accuracy:  92.2%, Loss: 0.2429\n",
      "Global Step:  88500, Training Batch Accuracy:  81.2%, Loss: 0.5270\n",
      "Global Step:  88600, Training Batch Accuracy:  67.2%, Loss: 0.8285\n",
      "Global Step:  88700, Training Batch Accuracy:  75.0%, Loss: 0.8021\n",
      "Global Step:  88800, Training Batch Accuracy:  81.2%, Loss: 0.4498\n",
      "Global Step:  88900, Training Batch Accuracy:  76.6%, Loss: 0.5676\n",
      "Global Step:  89000, Training Batch Accuracy:  73.4%, Loss: 0.6055\n",
      "Saved checkpoint.\n",
      "Global Step:  89100, Training Batch Accuracy:  84.4%, Loss: 0.5291\n",
      "Global Step:  89200, Training Batch Accuracy:  87.5%, Loss: 0.3459\n",
      "Global Step:  89300, Training Batch Accuracy:  82.8%, Loss: 0.5040\n",
      "Global Step:  89400, Training Batch Accuracy:  71.9%, Loss: 0.8935\n",
      "Global Step:  89500, Training Batch Accuracy:  82.8%, Loss: 0.5185\n",
      "Global Step:  89600, Training Batch Accuracy:  76.6%, Loss: 0.5737\n",
      "Global Step:  89700, Training Batch Accuracy:  85.9%, Loss: 0.6092\n",
      "Global Step:  89800, Training Batch Accuracy:  81.2%, Loss: 0.4370\n",
      "Global Step:  89900, Training Batch Accuracy:  84.4%, Loss: 0.4712\n",
      "Global Step:  90000, Training Batch Accuracy:  82.8%, Loss: 0.5333\n",
      "Saved checkpoint.\n",
      "Global Step:  90100, Training Batch Accuracy:  73.4%, Loss: 0.7809\n",
      "Global Step:  90200, Training Batch Accuracy:  75.0%, Loss: 0.7207\n",
      "Global Step:  90300, Training Batch Accuracy:  82.8%, Loss: 0.6546\n",
      "Global Step:  90400, Training Batch Accuracy:  79.7%, Loss: 0.5289\n",
      "Global Step:  90500, Training Batch Accuracy:  84.4%, Loss: 0.4490\n",
      "Global Step:  90600, Training Batch Accuracy:  82.8%, Loss: 0.4717\n",
      "Global Step:  90700, Training Batch Accuracy:  89.1%, Loss: 0.3647\n",
      "Global Step:  90800, Training Batch Accuracy:  85.9%, Loss: 0.5188\n",
      "Global Step:  90900, Training Batch Accuracy:  78.1%, Loss: 0.7688\n",
      "Global Step:  91000, Training Batch Accuracy:  78.1%, Loss: 0.5702\n",
      "Saved checkpoint.\n",
      "Global Step:  91100, Training Batch Accuracy:  87.5%, Loss: 0.5208\n",
      "Global Step:  91200, Training Batch Accuracy:  79.7%, Loss: 0.5535\n",
      "Global Step:  91300, Training Batch Accuracy:  82.8%, Loss: 0.4961\n",
      "Global Step:  91400, Training Batch Accuracy:  78.1%, Loss: 0.5794\n",
      "Global Step:  91500, Training Batch Accuracy:  81.2%, Loss: 0.6073\n",
      "Global Step:  91600, Training Batch Accuracy:  81.2%, Loss: 0.6167\n",
      "Global Step:  91700, Training Batch Accuracy:  76.6%, Loss: 0.6307\n",
      "Global Step:  91800, Training Batch Accuracy:  84.4%, Loss: 0.4187\n",
      "Global Step:  91900, Training Batch Accuracy:  70.3%, Loss: 0.6630\n",
      "Global Step:  92000, Training Batch Accuracy:  73.4%, Loss: 0.6560\n",
      "Saved checkpoint.\n",
      "Global Step:  92100, Training Batch Accuracy:  87.5%, Loss: 0.3434\n",
      "Global Step:  92200, Training Batch Accuracy:  81.2%, Loss: 0.6293\n",
      "Global Step:  92300, Training Batch Accuracy:  85.9%, Loss: 0.5036\n",
      "Global Step:  92400, Training Batch Accuracy:  85.9%, Loss: 0.4130\n",
      "Global Step:  92500, Training Batch Accuracy:  81.2%, Loss: 0.6487\n",
      "Global Step:  92600, Training Batch Accuracy:  79.7%, Loss: 0.6530\n",
      "Global Step:  92700, Training Batch Accuracy:  79.7%, Loss: 0.5948\n",
      "Global Step:  92800, Training Batch Accuracy:  87.5%, Loss: 0.4816\n",
      "Global Step:  92900, Training Batch Accuracy:  85.9%, Loss: 0.3543\n",
      "Global Step:  93000, Training Batch Accuracy:  68.8%, Loss: 0.8682\n",
      "Saved checkpoint.\n",
      "Global Step:  93100, Training Batch Accuracy:  81.2%, Loss: 0.5460\n",
      "Global Step:  93200, Training Batch Accuracy:  82.8%, Loss: 0.4924\n",
      "Global Step:  93300, Training Batch Accuracy:  81.2%, Loss: 0.5932\n",
      "Global Step:  93400, Training Batch Accuracy:  79.7%, Loss: 0.5882\n",
      "Global Step:  93500, Training Batch Accuracy:  84.4%, Loss: 0.4416\n",
      "Global Step:  93600, Training Batch Accuracy:  81.2%, Loss: 0.8051\n",
      "Global Step:  93700, Training Batch Accuracy:  81.2%, Loss: 0.6512\n",
      "Global Step:  93800, Training Batch Accuracy:  84.4%, Loss: 0.3817\n",
      "Global Step:  93900, Training Batch Accuracy:  81.2%, Loss: 0.5528\n",
      "Global Step:  94000, Training Batch Accuracy:  79.7%, Loss: 0.6083\n",
      "Saved checkpoint.\n",
      "Global Step:  94100, Training Batch Accuracy:  70.3%, Loss: 0.8041\n",
      "Global Step:  94200, Training Batch Accuracy:  78.1%, Loss: 0.5978\n",
      "Global Step:  94300, Training Batch Accuracy:  79.7%, Loss: 0.6929\n",
      "Global Step:  94400, Training Batch Accuracy:  78.1%, Loss: 0.4771\n",
      "Global Step:  94500, Training Batch Accuracy:  87.5%, Loss: 0.5033\n",
      "Global Step:  94600, Training Batch Accuracy:  79.7%, Loss: 0.6078\n",
      "Global Step:  94700, Training Batch Accuracy:  75.0%, Loss: 0.5474\n",
      "Global Step:  94800, Training Batch Accuracy:  84.4%, Loss: 0.4284\n",
      "Global Step:  94900, Training Batch Accuracy:  90.6%, Loss: 0.2952\n",
      "Global Step:  95000, Training Batch Accuracy:  76.6%, Loss: 0.6091\n",
      "Saved checkpoint.\n",
      "Global Step:  95100, Training Batch Accuracy:  82.8%, Loss: 0.5265\n",
      "Global Step:  95200, Training Batch Accuracy:  81.2%, Loss: 0.6115\n",
      "Global Step:  95300, Training Batch Accuracy:  87.5%, Loss: 0.3959\n",
      "Global Step:  95400, Training Batch Accuracy:  85.9%, Loss: 0.3963\n",
      "Global Step:  95500, Training Batch Accuracy:  87.5%, Loss: 0.4127\n",
      "Global Step:  95600, Training Batch Accuracy:  81.2%, Loss: 0.4711\n",
      "Global Step:  95700, Training Batch Accuracy:  84.4%, Loss: 0.4336\n",
      "Global Step:  95800, Training Batch Accuracy:  70.3%, Loss: 0.9679\n",
      "Global Step:  95900, Training Batch Accuracy:  84.4%, Loss: 0.4327\n",
      "Global Step:  96000, Training Batch Accuracy:  71.9%, Loss: 0.7493\n"
     ]
    },
    {
     "name": "stdout",
     "output_type": "stream",
     "text": [
      "Saved checkpoint.\n",
      "Global Step:  96100, Training Batch Accuracy:  68.8%, Loss: 0.6859\n",
      "Global Step:  96200, Training Batch Accuracy:  81.2%, Loss: 0.5233\n",
      "Global Step:  96300, Training Batch Accuracy:  76.6%, Loss: 0.5831\n",
      "Global Step:  96400, Training Batch Accuracy:  79.7%, Loss: 0.5422\n",
      "Global Step:  96500, Training Batch Accuracy:  81.2%, Loss: 0.5744\n",
      "Global Step:  96600, Training Batch Accuracy:  85.9%, Loss: 0.4522\n",
      "Global Step:  96700, Training Batch Accuracy:  84.4%, Loss: 0.5122\n",
      "Global Step:  96800, Training Batch Accuracy:  81.2%, Loss: 0.4725\n",
      "Global Step:  96900, Training Batch Accuracy:  81.2%, Loss: 0.5093\n",
      "Global Step:  97000, Training Batch Accuracy:  79.7%, Loss: 0.6611\n",
      "Saved checkpoint.\n",
      "Global Step:  97100, Training Batch Accuracy:  85.9%, Loss: 0.5052\n",
      "Global Step:  97200, Training Batch Accuracy:  76.6%, Loss: 0.6734\n",
      "Global Step:  97300, Training Batch Accuracy:  78.1%, Loss: 0.5730\n",
      "Global Step:  97400, Training Batch Accuracy:  75.0%, Loss: 0.7543\n",
      "Global Step:  97500, Training Batch Accuracy:  87.5%, Loss: 0.4804\n",
      "Global Step:  97600, Training Batch Accuracy:  79.7%, Loss: 0.5699\n",
      "Global Step:  97700, Training Batch Accuracy:  85.9%, Loss: 0.5198\n",
      "Global Step:  97800, Training Batch Accuracy:  84.4%, Loss: 0.4829\n",
      "Global Step:  97900, Training Batch Accuracy:  79.7%, Loss: 0.5325\n",
      "Global Step:  98000, Training Batch Accuracy:  85.9%, Loss: 0.4065\n",
      "Saved checkpoint.\n",
      "Global Step:  98100, Training Batch Accuracy:  76.6%, Loss: 0.5721\n",
      "Global Step:  98200, Training Batch Accuracy:  85.9%, Loss: 0.3916\n",
      "Global Step:  98300, Training Batch Accuracy:  82.8%, Loss: 0.4773\n",
      "Global Step:  98400, Training Batch Accuracy:  85.9%, Loss: 0.4005\n",
      "Global Step:  98500, Training Batch Accuracy:  85.9%, Loss: 0.5175\n",
      "Global Step:  98600, Training Batch Accuracy:  81.2%, Loss: 0.4540\n",
      "Global Step:  98700, Training Batch Accuracy:  81.2%, Loss: 0.4429\n",
      "Global Step:  98800, Training Batch Accuracy:  73.4%, Loss: 0.5597\n",
      "Global Step:  98900, Training Batch Accuracy:  73.4%, Loss: 0.7105\n",
      "Global Step:  99000, Training Batch Accuracy:  79.7%, Loss: 0.5986\n",
      "Saved checkpoint.\n",
      "Global Step:  99100, Training Batch Accuracy:  82.8%, Loss: 0.4032\n",
      "Global Step:  99200, Training Batch Accuracy:  82.8%, Loss: 0.4210\n",
      "Global Step:  99300, Training Batch Accuracy:  78.1%, Loss: 0.6153\n",
      "Global Step:  99400, Training Batch Accuracy:  79.7%, Loss: 0.4635\n",
      "Global Step:  99500, Training Batch Accuracy:  85.9%, Loss: 0.5059\n",
      "Global Step:  99600, Training Batch Accuracy:  84.4%, Loss: 0.4391\n",
      "Global Step:  99700, Training Batch Accuracy:  85.9%, Loss: 0.3490\n",
      "Global Step:  99800, Training Batch Accuracy:  85.9%, Loss: 0.5052\n",
      "Global Step:  99900, Training Batch Accuracy:  73.4%, Loss: 0.6804\n",
      "Global Step: 100000, Training Batch Accuracy:  79.7%, Loss: 0.6008\n",
      "Saved checkpoint.\n",
      "Time usage: 2:37:51\n"
     ]
    }
   ],
   "source": [
    "# if False:\n",
    "optimize(num_iterations=100000)"
   ]
  },
  {
   "cell_type": "code",
   "execution_count": 60,
   "metadata": {},
   "outputs": [
    {
     "name": "stdout",
     "output_type": "stream",
     "text": [
      "Accuracy on Test-Set: 74.3% (7428 / 10000)\n",
      "Example errors:\n"
     ]
    },
    {
     "data": {
      "image/png": "[encoded data removed]",
      "text/plain": [
       "<matplotlib.figure.Figure at 0x7fbe8c629748>"
      ]
     },
     "metadata": {},
     "output_type": "display_data"
    },
    {
     "name": "stdout",
     "output_type": "stream",
     "text": [
      "Confusion Matrix:\n",
      "[746  22  73  15  24   3  10   9  49  49] (0) airplane\n",
      "[ 17 856  12   5   3   2  12   4  18  71] (1) automobile\n",
      "[ 46   4 687  56  63  33  61  23  11  16] (2) bird\n",
      "[ 16  11  97 524  81  88  83  46  21  33] (3) cat\n",
      "[ 10   6  77  34 725  22  41  60   9  16] (4) deer\n",
      "[  8   7  72 176  55 564  39  53   8  18] (5) dog\n",
      "[  8   4  48  37  39   9 830   8   4  13] (6) frog\n",
      "[  9   2  32  40  63  25  11 794   2  22] (7) horse\n",
      "[ 56  22  18   9   7   3  10   4 814  57] (8) ship\n",
      "[ 12  41   8   7   9   0   5  10  20 888] (9) truck\n",
      " (0) (1) (2) (3) (4) (5) (6) (7) (8) (9)\n"
     ]
    }
   ],
   "source": [
    "print_test_accuracy(show_example_errors=True,\n",
    "                    show_confusion_matrix=True)"
   ]
  },
  {
   "cell_type": "code",
   "execution_count": null,
   "metadata": {},
   "outputs": [],
   "source": []
  },
  {
   "cell_type": "code",
   "execution_count": null,
   "metadata": {
    "collapsed": true
   },
   "outputs": [],
   "source": [
    "optimize(num_iterations=50000)"
   ]
  },
  {
   "cell_type": "code",
   "execution_count": null,
   "metadata": {
    "collapsed": true
   },
   "outputs": [],
   "source": []
  },
  {
   "cell_type": "code",
   "execution_count": null,
   "metadata": {
    "collapsed": true
   },
   "outputs": [],
   "source": []
  },
  {
   "cell_type": "code",
   "execution_count": null,
   "metadata": {
    "collapsed": true
   },
   "outputs": [],
   "source": []
  },
  {
   "cell_type": "code",
   "execution_count": null,
   "metadata": {
    "collapsed": true
   },
   "outputs": [],
   "source": []
  },
  {
   "cell_type": "code",
   "execution_count": 60,
   "metadata": {},
   "outputs": [
    {
     "name": "stdout",
     "output_type": "stream",
     "text": [
      "Global Step: 215100, Training Batch Accuracy:  95.3%, Loss: 0.1537\n",
      "Global Step: 215200, Training Batch Accuracy:  96.9%, Loss: 0.1145\n",
      "Global Step: 215300, Training Batch Accuracy:  95.3%, Loss: 0.1683\n",
      "Global Step: 215400, Training Batch Accuracy:  92.2%, Loss: 0.2415\n",
      "Global Step: 215500, Training Batch Accuracy:  93.8%, Loss: 0.1715\n",
      "Global Step: 215600, Training Batch Accuracy:  92.2%, Loss: 0.3171\n",
      "Global Step: 215700, Training Batch Accuracy:  85.9%, Loss: 0.3480\n",
      "Global Step: 215800, Training Batch Accuracy:  87.5%, Loss: 0.3431\n",
      "Global Step: 215900, Training Batch Accuracy:  95.3%, Loss: 0.2025\n",
      "Global Step: 216000, Training Batch Accuracy:  96.9%, Loss: 0.0621\n",
      "Saved checkpoint.\n",
      "Global Step: 216100, Training Batch Accuracy:  92.2%, Loss: 0.2066\n",
      "Global Step: 216200, Training Batch Accuracy:  84.4%, Loss: 0.3897\n",
      "Global Step: 216300, Training Batch Accuracy:  90.6%, Loss: 0.3519\n",
      "Global Step: 216400, Training Batch Accuracy:  96.9%, Loss: 0.1368\n",
      "Global Step: 216500, Training Batch Accuracy:  93.8%, Loss: 0.1713\n",
      "Global Step: 216600, Training Batch Accuracy:  90.6%, Loss: 0.3665\n",
      "Global Step: 216700, Training Batch Accuracy:  90.6%, Loss: 0.2252\n",
      "Global Step: 216800, Training Batch Accuracy:  90.6%, Loss: 0.2182\n",
      "Global Step: 216900, Training Batch Accuracy:  92.2%, Loss: 0.1564\n",
      "Global Step: 217000, Training Batch Accuracy:  92.2%, Loss: 0.2023\n",
      "Saved checkpoint.\n",
      "Global Step: 217100, Training Batch Accuracy:  87.5%, Loss: 0.2544\n",
      "Global Step: 217200, Training Batch Accuracy:  85.9%, Loss: 0.5258\n",
      "Global Step: 217300, Training Batch Accuracy:  90.6%, Loss: 0.2461\n",
      "Global Step: 217400, Training Batch Accuracy:  90.6%, Loss: 0.3239\n",
      "Global Step: 217500, Training Batch Accuracy:  87.5%, Loss: 0.3218\n",
      "Global Step: 217600, Training Batch Accuracy:  90.6%, Loss: 0.2285\n",
      "Global Step: 217700, Training Batch Accuracy:  85.9%, Loss: 0.3094\n",
      "Global Step: 217800, Training Batch Accuracy:  89.1%, Loss: 0.3981\n",
      "Global Step: 217900, Training Batch Accuracy:  96.9%, Loss: 0.0946\n",
      "Global Step: 218000, Training Batch Accuracy:  93.8%, Loss: 0.1315\n",
      "Saved checkpoint.\n",
      "Global Step: 218100, Training Batch Accuracy:  90.6%, Loss: 0.2014\n",
      "Global Step: 218200, Training Batch Accuracy:  98.4%, Loss: 0.0908\n",
      "Global Step: 218300, Training Batch Accuracy:  93.8%, Loss: 0.1779\n",
      "Global Step: 218400, Training Batch Accuracy:  87.5%, Loss: 0.3065\n",
      "Global Step: 218500, Training Batch Accuracy:  89.1%, Loss: 0.1811\n",
      "Global Step: 218600, Training Batch Accuracy:  95.3%, Loss: 0.1631\n",
      "Global Step: 218700, Training Batch Accuracy:  95.3%, Loss: 0.1298\n",
      "Global Step: 218800, Training Batch Accuracy:  87.5%, Loss: 0.4368\n",
      "Global Step: 218900, Training Batch Accuracy:  96.9%, Loss: 0.1243\n",
      "Global Step: 219000, Training Batch Accuracy:  93.8%, Loss: 0.1466\n",
      "Saved checkpoint.\n",
      "Global Step: 219100, Training Batch Accuracy:  95.3%, Loss: 0.2636\n",
      "Global Step: 219200, Training Batch Accuracy:  95.3%, Loss: 0.1977\n",
      "Global Step: 219300, Training Batch Accuracy:  96.9%, Loss: 0.0938\n",
      "Global Step: 219400, Training Batch Accuracy:  87.5%, Loss: 0.3344\n",
      "Global Step: 219500, Training Batch Accuracy:  95.3%, Loss: 0.1352\n",
      "Global Step: 219600, Training Batch Accuracy:  95.3%, Loss: 0.1039\n",
      "Global Step: 219700, Training Batch Accuracy:  87.5%, Loss: 0.3758\n",
      "Global Step: 219800, Training Batch Accuracy:  96.9%, Loss: 0.0842\n",
      "Global Step: 219900, Training Batch Accuracy:  95.3%, Loss: 0.2380\n",
      "Global Step: 220000, Training Batch Accuracy:  92.2%, Loss: 0.2710\n",
      "Saved checkpoint.\n",
      "Global Step: 220100, Training Batch Accuracy:  90.6%, Loss: 0.1550\n",
      "Global Step: 220200, Training Batch Accuracy:  92.2%, Loss: 0.2387\n",
      "Global Step: 220300, Training Batch Accuracy:  92.2%, Loss: 0.1932\n",
      "Global Step: 220400, Training Batch Accuracy:  93.8%, Loss: 0.2658\n",
      "Global Step: 220500, Training Batch Accuracy:  92.2%, Loss: 0.2134\n",
      "Global Step: 220600, Training Batch Accuracy:  89.1%, Loss: 0.3432\n",
      "Global Step: 220700, Training Batch Accuracy:  92.2%, Loss: 0.1701\n",
      "Global Step: 220800, Training Batch Accuracy:  89.1%, Loss: 0.3062\n",
      "Global Step: 220900, Training Batch Accuracy:  95.3%, Loss: 0.1543\n",
      "Global Step: 221000, Training Batch Accuracy:  90.6%, Loss: 0.2254\n",
      "Saved checkpoint.\n",
      "Global Step: 221100, Training Batch Accuracy:  93.8%, Loss: 0.1602\n",
      "Global Step: 221200, Training Batch Accuracy:  95.3%, Loss: 0.1212\n",
      "Global Step: 221300, Training Batch Accuracy:  92.2%, Loss: 0.1697\n",
      "Global Step: 221400, Training Batch Accuracy:  92.2%, Loss: 0.2277\n",
      "Global Step: 221500, Training Batch Accuracy:  93.8%, Loss: 0.1881\n",
      "Global Step: 221600, Training Batch Accuracy:  92.2%, Loss: 0.2296\n",
      "Global Step: 221700, Training Batch Accuracy:  89.1%, Loss: 0.2302\n",
      "Global Step: 221800, Training Batch Accuracy:  85.9%, Loss: 0.3477\n",
      "Global Step: 221900, Training Batch Accuracy:  87.5%, Loss: 0.3574\n",
      "Global Step: 222000, Training Batch Accuracy:  92.2%, Loss: 0.2204\n",
      "Saved checkpoint.\n",
      "Global Step: 222100, Training Batch Accuracy:  87.5%, Loss: 0.2895\n",
      "Global Step: 222200, Training Batch Accuracy:  92.2%, Loss: 0.1522\n",
      "Global Step: 222300, Training Batch Accuracy:  89.1%, Loss: 0.2194\n",
      "Global Step: 222400, Training Batch Accuracy:  89.1%, Loss: 0.2107\n",
      "Global Step: 222500, Training Batch Accuracy:  95.3%, Loss: 0.1539\n",
      "Global Step: 222600, Training Batch Accuracy:  95.3%, Loss: 0.1581\n",
      "Global Step: 222700, Training Batch Accuracy:  89.1%, Loss: 0.2335\n",
      "Global Step: 222800, Training Batch Accuracy:  96.9%, Loss: 0.1235\n",
      "Global Step: 222900, Training Batch Accuracy:  96.9%, Loss: 0.1867\n",
      "Global Step: 223000, Training Batch Accuracy:  90.6%, Loss: 0.2757\n",
      "Saved checkpoint.\n",
      "Global Step: 223100, Training Batch Accuracy:  95.3%, Loss: 0.1004\n",
      "Global Step: 223200, Training Batch Accuracy:  98.4%, Loss: 0.1123\n",
      "Global Step: 223300, Training Batch Accuracy:  95.3%, Loss: 0.1761\n",
      "Global Step: 223400, Training Batch Accuracy:  92.2%, Loss: 0.2124\n",
      "Global Step: 223500, Training Batch Accuracy:  92.2%, Loss: 0.3074\n",
      "Global Step: 223600, Training Batch Accuracy:  95.3%, Loss: 0.2630\n",
      "Global Step: 223700, Training Batch Accuracy:  92.2%, Loss: 0.2831\n",
      "Global Step: 223800, Training Batch Accuracy:  95.3%, Loss: 0.1607\n",
      "Global Step: 223900, Training Batch Accuracy:  95.3%, Loss: 0.0869\n",
      "Global Step: 224000, Training Batch Accuracy:  93.8%, Loss: 0.2383\n",
      "Saved checkpoint.\n",
      "Global Step: 224100, Training Batch Accuracy:  98.4%, Loss: 0.0737\n",
      "Global Step: 224200, Training Batch Accuracy:  93.8%, Loss: 0.2745\n",
      "Global Step: 224300, Training Batch Accuracy:  87.5%, Loss: 0.4236\n",
      "Global Step: 224400, Training Batch Accuracy:  93.8%, Loss: 0.1555\n",
      "Global Step: 224500, Training Batch Accuracy:  93.8%, Loss: 0.1798\n",
      "Global Step: 224600, Training Batch Accuracy:  90.6%, Loss: 0.2073\n",
      "Global Step: 224700, Training Batch Accuracy:  96.9%, Loss: 0.2021\n",
      "Global Step: 224800, Training Batch Accuracy:  93.8%, Loss: 0.2347\n",
      "Global Step: 224900, Training Batch Accuracy:  90.6%, Loss: 0.2751\n",
      "Global Step: 225000, Training Batch Accuracy:  89.1%, Loss: 0.4449\n",
      "Saved checkpoint.\n",
      "Global Step: 225100, Training Batch Accuracy:  89.1%, Loss: 0.2938\n",
      "Global Step: 225200, Training Batch Accuracy:  90.6%, Loss: 0.3842\n",
      "Global Step: 225300, Training Batch Accuracy:  95.3%, Loss: 0.1846\n",
      "Global Step: 225400, Training Batch Accuracy:  93.8%, Loss: 0.2307\n",
      "Global Step: 225500, Training Batch Accuracy:  92.2%, Loss: 0.2346\n",
      "Global Step: 225600, Training Batch Accuracy:  89.1%, Loss: 0.2390\n",
      "Global Step: 225700, Training Batch Accuracy:  92.2%, Loss: 0.2490\n",
      "Global Step: 225800, Training Batch Accuracy:  98.4%, Loss: 0.0692\n",
      "Global Step: 225900, Training Batch Accuracy:  93.8%, Loss: 0.1820\n",
      "Global Step: 226000, Training Batch Accuracy:  90.6%, Loss: 0.2975\n",
      "Saved checkpoint.\n",
      "Global Step: 226100, Training Batch Accuracy:  90.6%, Loss: 0.2453\n",
      "Global Step: 226200, Training Batch Accuracy:  87.5%, Loss: 0.3790\n",
      "Global Step: 226300, Training Batch Accuracy:  95.3%, Loss: 0.1261\n",
      "Global Step: 226400, Training Batch Accuracy:  96.9%, Loss: 0.0725\n",
      "Global Step: 226500, Training Batch Accuracy: 100.0%, Loss: 0.0705\n",
      "Global Step: 226600, Training Batch Accuracy:  92.2%, Loss: 0.2470\n",
      "Global Step: 226700, Training Batch Accuracy:  96.9%, Loss: 0.1095\n",
      "Global Step: 226800, Training Batch Accuracy:  92.2%, Loss: 0.2800\n",
      "Global Step: 226900, Training Batch Accuracy:  92.2%, Loss: 0.3084\n",
      "Global Step: 227000, Training Batch Accuracy:  95.3%, Loss: 0.1255\n",
      "Saved checkpoint.\n"
     ]
    },
    {
     "name": "stdout",
     "output_type": "stream",
     "text": [
      "Global Step: 227100, Training Batch Accuracy:  95.3%, Loss: 0.1634\n",
      "Global Step: 227200, Training Batch Accuracy:  89.1%, Loss: 0.3103\n",
      "Global Step: 227300, Training Batch Accuracy:  95.3%, Loss: 0.1061\n",
      "Global Step: 227400, Training Batch Accuracy:  96.9%, Loss: 0.1375\n",
      "Global Step: 227500, Training Batch Accuracy:  89.1%, Loss: 0.3191\n",
      "Global Step: 227600, Training Batch Accuracy:  98.4%, Loss: 0.0638\n",
      "Global Step: 227700, Training Batch Accuracy:  89.1%, Loss: 0.3304\n",
      "Global Step: 227800, Training Batch Accuracy:  95.3%, Loss: 0.1552\n",
      "Global Step: 227900, Training Batch Accuracy:  96.9%, Loss: 0.1014\n",
      "Global Step: 228000, Training Batch Accuracy:  96.9%, Loss: 0.0842\n",
      "Saved checkpoint.\n",
      "Global Step: 228100, Training Batch Accuracy:  95.3%, Loss: 0.0998\n",
      "Global Step: 228200, Training Batch Accuracy:  95.3%, Loss: 0.1371\n",
      "Global Step: 228300, Training Batch Accuracy:  95.3%, Loss: 0.1372\n",
      "Global Step: 228400, Training Batch Accuracy:  93.8%, Loss: 0.2272\n",
      "Global Step: 228500, Training Batch Accuracy:  95.3%, Loss: 0.1896\n",
      "Global Step: 228600, Training Batch Accuracy:  89.1%, Loss: 0.2577\n",
      "Global Step: 228700, Training Batch Accuracy:  96.9%, Loss: 0.1436\n",
      "Global Step: 228800, Training Batch Accuracy:  92.2%, Loss: 0.1880\n",
      "Global Step: 228900, Training Batch Accuracy:  95.3%, Loss: 0.2580\n",
      "Global Step: 229000, Training Batch Accuracy:  96.9%, Loss: 0.1579\n",
      "Saved checkpoint.\n",
      "Global Step: 229100, Training Batch Accuracy:  95.3%, Loss: 0.1475\n",
      "Global Step: 229200, Training Batch Accuracy:  95.3%, Loss: 0.1573\n",
      "Global Step: 229300, Training Batch Accuracy:  89.1%, Loss: 0.3539\n",
      "Global Step: 229400, Training Batch Accuracy:  92.2%, Loss: 0.2088\n",
      "Global Step: 229500, Training Batch Accuracy:  87.5%, Loss: 0.4262\n",
      "Global Step: 229600, Training Batch Accuracy:  95.3%, Loss: 0.1145\n",
      "Global Step: 229700, Training Batch Accuracy:  92.2%, Loss: 0.1927\n",
      "Global Step: 229800, Training Batch Accuracy:  92.2%, Loss: 0.2175\n",
      "Global Step: 229900, Training Batch Accuracy:  92.2%, Loss: 0.1868\n",
      "Global Step: 230000, Training Batch Accuracy:  98.4%, Loss: 0.0599\n",
      "Saved checkpoint.\n",
      "Global Step: 230100, Training Batch Accuracy:  92.2%, Loss: 0.1802\n",
      "Global Step: 230200, Training Batch Accuracy:  95.3%, Loss: 0.2158\n",
      "Global Step: 230300, Training Batch Accuracy:  90.6%, Loss: 0.1955\n",
      "Global Step: 230400, Training Batch Accuracy:  96.9%, Loss: 0.1597\n",
      "Global Step: 230500, Training Batch Accuracy:  92.2%, Loss: 0.2032\n",
      "Global Step: 230600, Training Batch Accuracy:  93.8%, Loss: 0.1631\n",
      "Global Step: 230700, Training Batch Accuracy:  93.8%, Loss: 0.3991\n",
      "Global Step: 230800, Training Batch Accuracy:  92.2%, Loss: 0.2008\n",
      "Global Step: 230900, Training Batch Accuracy:  92.2%, Loss: 0.1903\n",
      "Global Step: 231000, Training Batch Accuracy:  93.8%, Loss: 0.1565\n",
      "Saved checkpoint.\n",
      "Global Step: 231100, Training Batch Accuracy:  92.2%, Loss: 0.1783\n",
      "Global Step: 231200, Training Batch Accuracy:  93.8%, Loss: 0.1467\n",
      "Global Step: 231300, Training Batch Accuracy:  98.4%, Loss: 0.0788\n",
      "Global Step: 231400, Training Batch Accuracy:  93.8%, Loss: 0.1918\n",
      "Global Step: 231500, Training Batch Accuracy:  87.5%, Loss: 0.2197\n",
      "Global Step: 231600, Training Batch Accuracy:  95.3%, Loss: 0.1353\n",
      "Global Step: 231700, Training Batch Accuracy:  95.3%, Loss: 0.1410\n",
      "Global Step: 231800, Training Batch Accuracy:  96.9%, Loss: 0.0751\n",
      "Global Step: 231900, Training Batch Accuracy:  95.3%, Loss: 0.1552\n",
      "Global Step: 232000, Training Batch Accuracy:  95.3%, Loss: 0.0661\n",
      "Saved checkpoint.\n",
      "Global Step: 232100, Training Batch Accuracy:  98.4%, Loss: 0.1495\n",
      "Global Step: 232200, Training Batch Accuracy:  92.2%, Loss: 0.2001\n",
      "Global Step: 232300, Training Batch Accuracy:  98.4%, Loss: 0.1338\n",
      "Global Step: 232400, Training Batch Accuracy:  95.3%, Loss: 0.1502\n",
      "Global Step: 232500, Training Batch Accuracy:  89.1%, Loss: 0.3051\n",
      "Global Step: 232600, Training Batch Accuracy:  93.8%, Loss: 0.1690\n",
      "Global Step: 232700, Training Batch Accuracy:  85.9%, Loss: 0.2753\n",
      "Global Step: 232800, Training Batch Accuracy:  87.5%, Loss: 0.2205\n",
      "Global Step: 232900, Training Batch Accuracy:  93.8%, Loss: 0.1708\n",
      "Global Step: 233000, Training Batch Accuracy:  85.9%, Loss: 0.4117\n",
      "Saved checkpoint.\n",
      "Global Step: 233100, Training Batch Accuracy:  92.2%, Loss: 0.2236\n",
      "Global Step: 233200, Training Batch Accuracy:  82.8%, Loss: 0.4732\n",
      "Global Step: 233300, Training Batch Accuracy:  92.2%, Loss: 0.2065\n",
      "Global Step: 233400, Training Batch Accuracy:  96.9%, Loss: 0.1279\n",
      "Global Step: 233500, Training Batch Accuracy:  93.8%, Loss: 0.2077\n",
      "Global Step: 233600, Training Batch Accuracy:  89.1%, Loss: 0.2508\n",
      "Global Step: 233700, Training Batch Accuracy:  90.6%, Loss: 0.2460\n",
      "Global Step: 233800, Training Batch Accuracy:  90.6%, Loss: 0.1896\n",
      "Global Step: 233900, Training Batch Accuracy:  96.9%, Loss: 0.1341\n",
      "Global Step: 234000, Training Batch Accuracy:  95.3%, Loss: 0.1687\n",
      "Saved checkpoint.\n",
      "Global Step: 234100, Training Batch Accuracy:  92.2%, Loss: 0.2164\n",
      "Global Step: 234200, Training Batch Accuracy:  89.1%, Loss: 0.2298\n",
      "Global Step: 234300, Training Batch Accuracy:  92.2%, Loss: 0.2788\n",
      "Global Step: 234400, Training Batch Accuracy:  95.3%, Loss: 0.1654\n",
      "Global Step: 234500, Training Batch Accuracy:  93.8%, Loss: 0.1928\n",
      "Global Step: 234600, Training Batch Accuracy:  87.5%, Loss: 0.2886\n",
      "Global Step: 234700, Training Batch Accuracy:  96.9%, Loss: 0.0880\n",
      "Global Step: 234800, Training Batch Accuracy:  93.8%, Loss: 0.1795\n",
      "Global Step: 234900, Training Batch Accuracy:  89.1%, Loss: 0.2721\n",
      "Global Step: 235000, Training Batch Accuracy:  87.5%, Loss: 0.3268\n",
      "Saved checkpoint.\n",
      "Global Step: 235100, Training Batch Accuracy:  95.3%, Loss: 0.1866\n",
      "Global Step: 235200, Training Batch Accuracy:  92.2%, Loss: 0.2771\n",
      "Global Step: 235300, Training Batch Accuracy:  95.3%, Loss: 0.1030\n",
      "Global Step: 235400, Training Batch Accuracy:  95.3%, Loss: 0.1596\n",
      "Global Step: 235500, Training Batch Accuracy:  93.8%, Loss: 0.1956\n",
      "Global Step: 235600, Training Batch Accuracy:  92.2%, Loss: 0.3562\n",
      "Global Step: 235700, Training Batch Accuracy:  92.2%, Loss: 0.2465\n",
      "Global Step: 235800, Training Batch Accuracy:  93.8%, Loss: 0.1503\n",
      "Global Step: 235900, Training Batch Accuracy:  84.4%, Loss: 0.3789\n",
      "Global Step: 236000, Training Batch Accuracy:  90.6%, Loss: 0.1955\n",
      "Saved checkpoint.\n",
      "Global Step: 236100, Training Batch Accuracy:  93.8%, Loss: 0.3037\n",
      "Global Step: 236200, Training Batch Accuracy:  87.5%, Loss: 0.3545\n",
      "Global Step: 236300, Training Batch Accuracy:  90.6%, Loss: 0.2188\n",
      "Global Step: 236400, Training Batch Accuracy:  96.9%, Loss: 0.0820\n",
      "Global Step: 236500, Training Batch Accuracy:  93.8%, Loss: 0.1978\n",
      "Global Step: 236600, Training Batch Accuracy:  87.5%, Loss: 0.2912\n",
      "Global Step: 236700, Training Batch Accuracy:  92.2%, Loss: 0.1367\n",
      "Global Step: 236800, Training Batch Accuracy:  90.6%, Loss: 0.3296\n",
      "Global Step: 236900, Training Batch Accuracy:  96.9%, Loss: 0.1581\n",
      "Global Step: 237000, Training Batch Accuracy:  93.8%, Loss: 0.2261\n",
      "Saved checkpoint.\n",
      "Global Step: 237100, Training Batch Accuracy:  95.3%, Loss: 0.1494\n",
      "Global Step: 237200, Training Batch Accuracy:  93.8%, Loss: 0.1441\n",
      "Global Step: 237300, Training Batch Accuracy:  92.2%, Loss: 0.2249\n",
      "Global Step: 237400, Training Batch Accuracy:  95.3%, Loss: 0.1506\n",
      "Global Step: 237500, Training Batch Accuracy:  93.8%, Loss: 0.1759\n",
      "Global Step: 237600, Training Batch Accuracy:  89.1%, Loss: 0.3615\n",
      "Global Step: 237700, Training Batch Accuracy:  95.3%, Loss: 0.1012\n",
      "Global Step: 237800, Training Batch Accuracy:  93.8%, Loss: 0.1653\n",
      "Global Step: 237900, Training Batch Accuracy:  95.3%, Loss: 0.1954\n",
      "Global Step: 238000, Training Batch Accuracy:  92.2%, Loss: 0.2066\n",
      "Saved checkpoint.\n",
      "Global Step: 238100, Training Batch Accuracy:  96.9%, Loss: 0.1242\n",
      "Global Step: 238200, Training Batch Accuracy:  93.8%, Loss: 0.1107\n",
      "Global Step: 238300, Training Batch Accuracy:  95.3%, Loss: 0.1375\n",
      "Global Step: 238400, Training Batch Accuracy:  90.6%, Loss: 0.2415\n",
      "Global Step: 238500, Training Batch Accuracy:  98.4%, Loss: 0.1125\n",
      "Global Step: 238600, Training Batch Accuracy:  95.3%, Loss: 0.2277\n",
      "Global Step: 238700, Training Batch Accuracy:  85.9%, Loss: 0.3960\n",
      "Global Step: 238800, Training Batch Accuracy:  93.8%, Loss: 0.1171\n",
      "Global Step: 238900, Training Batch Accuracy:  93.8%, Loss: 0.1329\n",
      "Global Step: 239000, Training Batch Accuracy:  92.2%, Loss: 0.2020\n",
      "Saved checkpoint.\n"
     ]
    },
    {
     "name": "stdout",
     "output_type": "stream",
     "text": [
      "Global Step: 239100, Training Batch Accuracy:  90.6%, Loss: 0.2252\n",
      "Global Step: 239200, Training Batch Accuracy:  96.9%, Loss: 0.1602\n",
      "Global Step: 239300, Training Batch Accuracy:  95.3%, Loss: 0.1166\n",
      "Global Step: 239400, Training Batch Accuracy:  95.3%, Loss: 0.1999\n",
      "Global Step: 239500, Training Batch Accuracy:  90.6%, Loss: 0.4378\n",
      "Global Step: 239600, Training Batch Accuracy:  93.8%, Loss: 0.1485\n",
      "Global Step: 239700, Training Batch Accuracy:  95.3%, Loss: 0.1104\n",
      "Global Step: 239800, Training Batch Accuracy:  93.8%, Loss: 0.1463\n",
      "Global Step: 239900, Training Batch Accuracy:  93.8%, Loss: 0.1423\n",
      "Global Step: 240000, Training Batch Accuracy:  92.2%, Loss: 0.3365\n",
      "Saved checkpoint.\n",
      "Global Step: 240100, Training Batch Accuracy:  90.6%, Loss: 0.1591\n",
      "Global Step: 240200, Training Batch Accuracy:  93.8%, Loss: 0.1852\n",
      "Global Step: 240300, Training Batch Accuracy:  95.3%, Loss: 0.1806\n",
      "Global Step: 240400, Training Batch Accuracy:  93.8%, Loss: 0.3236\n",
      "Global Step: 240500, Training Batch Accuracy:  90.6%, Loss: 0.2910\n",
      "Global Step: 240600, Training Batch Accuracy:  96.9%, Loss: 0.0965\n",
      "Global Step: 240700, Training Batch Accuracy:  85.9%, Loss: 0.2500\n",
      "Global Step: 240800, Training Batch Accuracy:  98.4%, Loss: 0.0802\n",
      "Global Step: 240900, Training Batch Accuracy:  93.8%, Loss: 0.1722\n",
      "Global Step: 241000, Training Batch Accuracy:  90.6%, Loss: 0.2786\n",
      "Saved checkpoint.\n",
      "Global Step: 241100, Training Batch Accuracy:  90.6%, Loss: 0.3047\n",
      "Global Step: 241200, Training Batch Accuracy:  95.3%, Loss: 0.1122\n",
      "Global Step: 241300, Training Batch Accuracy:  90.6%, Loss: 0.2357\n",
      "Global Step: 241400, Training Batch Accuracy:  90.6%, Loss: 0.2383\n",
      "Global Step: 241500, Training Batch Accuracy:  93.8%, Loss: 0.2497\n",
      "Global Step: 241600, Training Batch Accuracy:  93.8%, Loss: 0.2142\n",
      "Global Step: 241700, Training Batch Accuracy:  96.9%, Loss: 0.1518\n",
      "Global Step: 241800, Training Batch Accuracy:  92.2%, Loss: 0.1821\n",
      "Global Step: 241900, Training Batch Accuracy:  95.3%, Loss: 0.1673\n",
      "Global Step: 242000, Training Batch Accuracy:  98.4%, Loss: 0.0643\n",
      "Saved checkpoint.\n",
      "Global Step: 242100, Training Batch Accuracy:  98.4%, Loss: 0.0932\n",
      "Global Step: 242200, Training Batch Accuracy:  89.1%, Loss: 0.1930\n",
      "Global Step: 242300, Training Batch Accuracy:  92.2%, Loss: 0.1628\n",
      "Global Step: 242400, Training Batch Accuracy:  90.6%, Loss: 0.2527\n",
      "Global Step: 242500, Training Batch Accuracy:  92.2%, Loss: 0.1493\n",
      "Global Step: 242600, Training Batch Accuracy:  90.6%, Loss: 0.2782\n",
      "Global Step: 242700, Training Batch Accuracy:  92.2%, Loss: 0.2639\n",
      "Global Step: 242800, Training Batch Accuracy:  90.6%, Loss: 0.3954\n",
      "Global Step: 242900, Training Batch Accuracy:  92.2%, Loss: 0.2232\n",
      "Global Step: 243000, Training Batch Accuracy:  89.1%, Loss: 0.3030\n",
      "Saved checkpoint.\n",
      "Global Step: 243100, Training Batch Accuracy:  92.2%, Loss: 0.2212\n",
      "Global Step: 243200, Training Batch Accuracy:  96.9%, Loss: 0.1054\n",
      "Global Step: 243300, Training Batch Accuracy:  92.2%, Loss: 0.2287\n",
      "Global Step: 243400, Training Batch Accuracy:  89.1%, Loss: 0.3737\n",
      "Global Step: 243500, Training Batch Accuracy:  92.2%, Loss: 0.2136\n",
      "Global Step: 243600, Training Batch Accuracy:  89.1%, Loss: 0.2958\n",
      "Global Step: 243700, Training Batch Accuracy:  92.2%, Loss: 0.1967\n",
      "Global Step: 243800, Training Batch Accuracy:  98.4%, Loss: 0.0500\n",
      "Global Step: 243900, Training Batch Accuracy:  96.9%, Loss: 0.1239\n",
      "Global Step: 244000, Training Batch Accuracy:  89.1%, Loss: 0.3134\n",
      "Saved checkpoint.\n",
      "Global Step: 244100, Training Batch Accuracy:  90.6%, Loss: 0.3209\n",
      "Global Step: 244200, Training Batch Accuracy:  87.5%, Loss: 0.3667\n",
      "Global Step: 244300, Training Batch Accuracy:  95.3%, Loss: 0.1494\n",
      "Global Step: 244400, Training Batch Accuracy:  92.2%, Loss: 0.2184\n",
      "Global Step: 244500, Training Batch Accuracy:  92.2%, Loss: 0.1621\n",
      "Global Step: 244600, Training Batch Accuracy:  93.8%, Loss: 0.1138\n",
      "Global Step: 244700, Training Batch Accuracy:  96.9%, Loss: 0.1005\n",
      "Global Step: 244800, Training Batch Accuracy:  90.6%, Loss: 0.3177\n",
      "Global Step: 244900, Training Batch Accuracy:  90.6%, Loss: 0.2316\n",
      "Global Step: 245000, Training Batch Accuracy:  92.2%, Loss: 0.1551\n",
      "Saved checkpoint.\n",
      "Global Step: 245100, Training Batch Accuracy:  93.8%, Loss: 0.1695\n",
      "Global Step: 245200, Training Batch Accuracy:  95.3%, Loss: 0.1998\n",
      "Global Step: 245300, Training Batch Accuracy:  90.6%, Loss: 0.1973\n",
      "Global Step: 245400, Training Batch Accuracy:  96.9%, Loss: 0.1551\n",
      "Global Step: 245500, Training Batch Accuracy: 100.0%, Loss: 0.0397\n",
      "Global Step: 245600, Training Batch Accuracy:  93.8%, Loss: 0.1883\n",
      "Global Step: 245700, Training Batch Accuracy:  89.1%, Loss: 0.2631\n",
      "Global Step: 245800, Training Batch Accuracy:  95.3%, Loss: 0.1094\n",
      "Global Step: 245900, Training Batch Accuracy:  93.8%, Loss: 0.1812\n",
      "Global Step: 246000, Training Batch Accuracy:  90.6%, Loss: 0.2423\n",
      "Saved checkpoint.\n",
      "Global Step: 246100, Training Batch Accuracy:  93.8%, Loss: 0.1564\n",
      "Global Step: 246200, Training Batch Accuracy:  90.6%, Loss: 0.1468\n",
      "Global Step: 246300, Training Batch Accuracy:  95.3%, Loss: 0.1439\n",
      "Global Step: 246400, Training Batch Accuracy:  98.4%, Loss: 0.0532\n",
      "Global Step: 246500, Training Batch Accuracy:  96.9%, Loss: 0.1167\n",
      "Global Step: 246600, Training Batch Accuracy:  98.4%, Loss: 0.0801\n",
      "Global Step: 246700, Training Batch Accuracy:  90.6%, Loss: 0.1889\n",
      "Global Step: 246800, Training Batch Accuracy:  87.5%, Loss: 0.2949\n",
      "Global Step: 246900, Training Batch Accuracy:  92.2%, Loss: 0.2351\n",
      "Global Step: 247000, Training Batch Accuracy:  95.3%, Loss: 0.1395\n",
      "Saved checkpoint.\n",
      "Global Step: 247100, Training Batch Accuracy:  92.2%, Loss: 0.1355\n",
      "Global Step: 247200, Training Batch Accuracy:  89.1%, Loss: 0.3359\n",
      "Global Step: 247300, Training Batch Accuracy:  95.3%, Loss: 0.2089\n",
      "Global Step: 247400, Training Batch Accuracy:  92.2%, Loss: 0.1746\n",
      "Global Step: 247500, Training Batch Accuracy:  96.9%, Loss: 0.0835\n",
      "Global Step: 247600, Training Batch Accuracy:  96.9%, Loss: 0.0767\n",
      "Global Step: 247700, Training Batch Accuracy:  92.2%, Loss: 0.2204\n",
      "Global Step: 247800, Training Batch Accuracy:  93.8%, Loss: 0.1270\n",
      "Global Step: 247900, Training Batch Accuracy:  96.9%, Loss: 0.0921\n",
      "Global Step: 248000, Training Batch Accuracy:  87.5%, Loss: 0.2366\n",
      "Saved checkpoint.\n",
      "Global Step: 248100, Training Batch Accuracy:  85.9%, Loss: 0.3366\n",
      "Global Step: 248200, Training Batch Accuracy:  96.9%, Loss: 0.0595\n",
      "Global Step: 248300, Training Batch Accuracy:  95.3%, Loss: 0.1489\n",
      "Global Step: 248400, Training Batch Accuracy:  95.3%, Loss: 0.1426\n",
      "Global Step: 248500, Training Batch Accuracy:  92.2%, Loss: 0.2730\n",
      "Global Step: 248600, Training Batch Accuracy:  95.3%, Loss: 0.1418\n",
      "Global Step: 248700, Training Batch Accuracy:  95.3%, Loss: 0.1646\n",
      "Global Step: 248800, Training Batch Accuracy:  93.8%, Loss: 0.1563\n",
      "Global Step: 248900, Training Batch Accuracy:  92.2%, Loss: 0.1582\n",
      "Global Step: 249000, Training Batch Accuracy:  92.2%, Loss: 0.1517\n",
      "Saved checkpoint.\n",
      "Global Step: 249100, Training Batch Accuracy:  96.9%, Loss: 0.0749\n",
      "Global Step: 249200, Training Batch Accuracy:  90.6%, Loss: 0.1763\n",
      "Global Step: 249300, Training Batch Accuracy:  92.2%, Loss: 0.2031\n",
      "Global Step: 249400, Training Batch Accuracy:  93.8%, Loss: 0.1648\n",
      "Global Step: 249500, Training Batch Accuracy:  87.5%, Loss: 0.2968\n",
      "Global Step: 249600, Training Batch Accuracy:  90.6%, Loss: 0.2903\n",
      "Global Step: 249700, Training Batch Accuracy:  95.3%, Loss: 0.2054\n",
      "Global Step: 249800, Training Batch Accuracy:  92.2%, Loss: 0.1593\n",
      "Global Step: 249900, Training Batch Accuracy:  89.1%, Loss: 0.2781\n",
      "Global Step: 250000, Training Batch Accuracy:  95.3%, Loss: 0.1010\n",
      "Saved checkpoint.\n",
      "Global Step: 250100, Training Batch Accuracy:  95.3%, Loss: 0.1427\n",
      "Global Step: 250200, Training Batch Accuracy:  95.3%, Loss: 0.1127\n",
      "Global Step: 250300, Training Batch Accuracy:  96.9%, Loss: 0.1017\n",
      "Global Step: 250400, Training Batch Accuracy:  90.6%, Loss: 0.2236\n",
      "Global Step: 250500, Training Batch Accuracy:  90.6%, Loss: 0.2795\n",
      "Global Step: 250600, Training Batch Accuracy: 100.0%, Loss: 0.0614\n",
      "Global Step: 250700, Training Batch Accuracy:  96.9%, Loss: 0.1185\n",
      "Global Step: 250800, Training Batch Accuracy: 100.0%, Loss: 0.0462\n",
      "Global Step: 250900, Training Batch Accuracy:  93.8%, Loss: 0.1159\n",
      "Global Step: 251000, Training Batch Accuracy:  96.9%, Loss: 0.1148\n",
      "Saved checkpoint.\n"
     ]
    },
    {
     "name": "stdout",
     "output_type": "stream",
     "text": [
      "Global Step: 251100, Training Batch Accuracy:  98.4%, Loss: 0.1117\n",
      "Global Step: 251200, Training Batch Accuracy:  92.2%, Loss: 0.3114\n",
      "Global Step: 251300, Training Batch Accuracy:  87.5%, Loss: 0.2539\n",
      "Global Step: 251400, Training Batch Accuracy:  92.2%, Loss: 0.1871\n",
      "Global Step: 251500, Training Batch Accuracy:  96.9%, Loss: 0.1318\n",
      "Global Step: 251600, Training Batch Accuracy:  92.2%, Loss: 0.1705\n",
      "Global Step: 251700, Training Batch Accuracy:  96.9%, Loss: 0.1225\n",
      "Global Step: 251800, Training Batch Accuracy:  92.2%, Loss: 0.2315\n",
      "Global Step: 251900, Training Batch Accuracy:  90.6%, Loss: 0.2417\n",
      "Global Step: 252000, Training Batch Accuracy:  95.3%, Loss: 0.1700\n",
      "Saved checkpoint.\n",
      "Global Step: 252100, Training Batch Accuracy:  93.8%, Loss: 0.1838\n",
      "Global Step: 252200, Training Batch Accuracy:  93.8%, Loss: 0.2523\n",
      "Global Step: 252300, Training Batch Accuracy:  90.6%, Loss: 0.2540\n",
      "Global Step: 252400, Training Batch Accuracy:  93.8%, Loss: 0.1856\n",
      "Global Step: 252500, Training Batch Accuracy:  95.3%, Loss: 0.1533\n",
      "Global Step: 252600, Training Batch Accuracy:  93.8%, Loss: 0.1794\n",
      "Global Step: 252700, Training Batch Accuracy:  95.3%, Loss: 0.1127\n",
      "Global Step: 252800, Training Batch Accuracy:  90.6%, Loss: 0.3788\n",
      "Global Step: 252900, Training Batch Accuracy:  95.3%, Loss: 0.1573\n",
      "Global Step: 253000, Training Batch Accuracy:  93.8%, Loss: 0.1462\n",
      "Saved checkpoint.\n",
      "Global Step: 253100, Training Batch Accuracy:  87.5%, Loss: 0.3058\n",
      "Global Step: 253200, Training Batch Accuracy:  95.3%, Loss: 0.1551\n",
      "Global Step: 253300, Training Batch Accuracy:  95.3%, Loss: 0.1304\n",
      "Global Step: 253400, Training Batch Accuracy:  95.3%, Loss: 0.1415\n",
      "Global Step: 253500, Training Batch Accuracy:  95.3%, Loss: 0.0977\n",
      "Global Step: 253600, Training Batch Accuracy:  96.9%, Loss: 0.0578\n",
      "Global Step: 253700, Training Batch Accuracy:  95.3%, Loss: 0.1857\n",
      "Global Step: 253800, Training Batch Accuracy:  93.8%, Loss: 0.1251\n",
      "Global Step: 253900, Training Batch Accuracy:  90.6%, Loss: 0.2532\n",
      "Global Step: 254000, Training Batch Accuracy:  93.8%, Loss: 0.1974\n",
      "Saved checkpoint.\n",
      "Global Step: 254100, Training Batch Accuracy:  93.8%, Loss: 0.1913\n",
      "Global Step: 254200, Training Batch Accuracy:  95.3%, Loss: 0.1710\n",
      "Global Step: 254300, Training Batch Accuracy:  90.6%, Loss: 0.2088\n",
      "Global Step: 254400, Training Batch Accuracy:  90.6%, Loss: 0.2455\n",
      "Global Step: 254500, Training Batch Accuracy:  95.3%, Loss: 0.1497\n",
      "Global Step: 254600, Training Batch Accuracy:  96.9%, Loss: 0.0774\n",
      "Global Step: 254700, Training Batch Accuracy:  85.9%, Loss: 0.2522\n",
      "Global Step: 254800, Training Batch Accuracy:  98.4%, Loss: 0.0895\n",
      "Global Step: 254900, Training Batch Accuracy:  85.9%, Loss: 0.3521\n",
      "Global Step: 255000, Training Batch Accuracy:  95.3%, Loss: 0.1130\n",
      "Saved checkpoint.\n",
      "Global Step: 255100, Training Batch Accuracy:  96.9%, Loss: 0.1010\n",
      "Global Step: 255200, Training Batch Accuracy:  96.9%, Loss: 0.1535\n",
      "Global Step: 255300, Training Batch Accuracy:  95.3%, Loss: 0.1576\n",
      "Global Step: 255400, Training Batch Accuracy:  93.8%, Loss: 0.1571\n",
      "Global Step: 255500, Training Batch Accuracy:  95.3%, Loss: 0.2587\n",
      "Global Step: 255600, Training Batch Accuracy:  96.9%, Loss: 0.0913\n",
      "Global Step: 255700, Training Batch Accuracy:  95.3%, Loss: 0.1220\n",
      "Global Step: 255800, Training Batch Accuracy:  95.3%, Loss: 0.1151\n",
      "Global Step: 255900, Training Batch Accuracy:  96.9%, Loss: 0.0834\n",
      "Global Step: 256000, Training Batch Accuracy:  90.6%, Loss: 0.2977\n",
      "Saved checkpoint.\n",
      "Global Step: 256100, Training Batch Accuracy:  93.8%, Loss: 0.1829\n",
      "Global Step: 256200, Training Batch Accuracy:  93.8%, Loss: 0.1355\n",
      "Global Step: 256300, Training Batch Accuracy:  95.3%, Loss: 0.1458\n",
      "Global Step: 256400, Training Batch Accuracy:  92.2%, Loss: 0.2028\n",
      "Global Step: 256500, Training Batch Accuracy:  96.9%, Loss: 0.0977\n",
      "Global Step: 256600, Training Batch Accuracy:  93.8%, Loss: 0.1684\n",
      "Global Step: 256700, Training Batch Accuracy:  92.2%, Loss: 0.1801\n",
      "Global Step: 256800, Training Batch Accuracy:  90.6%, Loss: 0.3603\n",
      "Global Step: 256900, Training Batch Accuracy:  92.2%, Loss: 0.1555\n",
      "Global Step: 257000, Training Batch Accuracy:  90.6%, Loss: 0.2490\n",
      "Saved checkpoint.\n",
      "Global Step: 257100, Training Batch Accuracy:  95.3%, Loss: 0.2008\n",
      "Global Step: 257200, Training Batch Accuracy:  95.3%, Loss: 0.1488\n",
      "Global Step: 257300, Training Batch Accuracy:  93.8%, Loss: 0.2072\n",
      "Global Step: 257400, Training Batch Accuracy:  96.9%, Loss: 0.0791\n",
      "Global Step: 257500, Training Batch Accuracy:  96.9%, Loss: 0.1323\n",
      "Global Step: 257600, Training Batch Accuracy:  92.2%, Loss: 0.1803\n",
      "Global Step: 257700, Training Batch Accuracy:  93.8%, Loss: 0.2040\n",
      "Global Step: 257800, Training Batch Accuracy:  95.3%, Loss: 0.1366\n",
      "Global Step: 257900, Training Batch Accuracy:  93.8%, Loss: 0.1922\n",
      "Global Step: 258000, Training Batch Accuracy:  96.9%, Loss: 0.1625\n",
      "Saved checkpoint.\n",
      "Global Step: 258100, Training Batch Accuracy:  92.2%, Loss: 0.4947\n",
      "Global Step: 258200, Training Batch Accuracy:  96.9%, Loss: 0.1309\n",
      "Global Step: 258300, Training Batch Accuracy:  90.6%, Loss: 0.2742\n",
      "Global Step: 258400, Training Batch Accuracy:  92.2%, Loss: 0.3639\n",
      "Global Step: 258500, Training Batch Accuracy:  90.6%, Loss: 0.1948\n",
      "Global Step: 258600, Training Batch Accuracy:  93.8%, Loss: 0.1551\n",
      "Global Step: 258700, Training Batch Accuracy:  96.9%, Loss: 0.1625\n",
      "Global Step: 258800, Training Batch Accuracy:  95.3%, Loss: 0.1484\n",
      "Global Step: 258900, Training Batch Accuracy:  96.9%, Loss: 0.1769\n",
      "Global Step: 259000, Training Batch Accuracy:  92.2%, Loss: 0.2506\n",
      "Saved checkpoint.\n",
      "Global Step: 259100, Training Batch Accuracy:  92.2%, Loss: 0.2963\n",
      "Global Step: 259200, Training Batch Accuracy:  98.4%, Loss: 0.0328\n",
      "Global Step: 259300, Training Batch Accuracy:  90.6%, Loss: 0.2495\n",
      "Global Step: 259400, Training Batch Accuracy:  93.8%, Loss: 0.1456\n",
      "Global Step: 259500, Training Batch Accuracy:  93.8%, Loss: 0.1375\n",
      "Global Step: 259600, Training Batch Accuracy:  96.9%, Loss: 0.0568\n",
      "Global Step: 259700, Training Batch Accuracy:  90.6%, Loss: 0.2557\n",
      "Global Step: 259800, Training Batch Accuracy:  92.2%, Loss: 0.1980\n",
      "Global Step: 259900, Training Batch Accuracy:  90.6%, Loss: 0.1952\n",
      "Global Step: 260000, Training Batch Accuracy:  96.9%, Loss: 0.0710\n",
      "Saved checkpoint.\n",
      "Global Step: 260100, Training Batch Accuracy:  93.8%, Loss: 0.2070\n",
      "Global Step: 260200, Training Batch Accuracy:  93.8%, Loss: 0.1083\n",
      "Global Step: 260300, Training Batch Accuracy:  96.9%, Loss: 0.0685\n",
      "Global Step: 260400, Training Batch Accuracy:  95.3%, Loss: 0.1504\n",
      "Global Step: 260500, Training Batch Accuracy:  92.2%, Loss: 0.1904\n",
      "Global Step: 260600, Training Batch Accuracy:  89.1%, Loss: 0.2901\n",
      "Global Step: 260700, Training Batch Accuracy:  85.9%, Loss: 0.3981\n",
      "Global Step: 260800, Training Batch Accuracy:  98.4%, Loss: 0.0970\n",
      "Global Step: 260900, Training Batch Accuracy:  89.1%, Loss: 0.3112\n",
      "Global Step: 261000, Training Batch Accuracy:  93.8%, Loss: 0.2885\n",
      "Saved checkpoint.\n",
      "Global Step: 261100, Training Batch Accuracy:  92.2%, Loss: 0.2221\n",
      "Global Step: 261200, Training Batch Accuracy:  96.9%, Loss: 0.1118\n",
      "Global Step: 261300, Training Batch Accuracy:  95.3%, Loss: 0.1379\n",
      "Global Step: 261400, Training Batch Accuracy:  95.3%, Loss: 0.1179\n",
      "Global Step: 261500, Training Batch Accuracy:  93.8%, Loss: 0.1890\n",
      "Global Step: 261600, Training Batch Accuracy:  95.3%, Loss: 0.1117\n",
      "Global Step: 261700, Training Batch Accuracy:  95.3%, Loss: 0.1312\n",
      "Global Step: 261800, Training Batch Accuracy:  96.9%, Loss: 0.0940\n",
      "Global Step: 261900, Training Batch Accuracy:  95.3%, Loss: 0.1254\n",
      "Global Step: 262000, Training Batch Accuracy:  96.9%, Loss: 0.0952\n",
      "Saved checkpoint.\n",
      "Global Step: 262100, Training Batch Accuracy:  96.9%, Loss: 0.0990\n",
      "Global Step: 262200, Training Batch Accuracy:  93.8%, Loss: 0.1282\n",
      "Global Step: 262300, Training Batch Accuracy:  95.3%, Loss: 0.1460\n",
      "Global Step: 262400, Training Batch Accuracy:  89.1%, Loss: 0.4491\n",
      "Global Step: 262500, Training Batch Accuracy:  98.4%, Loss: 0.0575\n",
      "Global Step: 262600, Training Batch Accuracy:  90.6%, Loss: 0.2030\n",
      "Global Step: 262700, Training Batch Accuracy:  95.3%, Loss: 0.0990\n",
      "Global Step: 262800, Training Batch Accuracy:  95.3%, Loss: 0.2502\n",
      "Global Step: 262900, Training Batch Accuracy:  98.4%, Loss: 0.0683\n",
      "Global Step: 263000, Training Batch Accuracy:  92.2%, Loss: 0.2511\n",
      "Saved checkpoint.\n"
     ]
    },
    {
     "name": "stdout",
     "output_type": "stream",
     "text": [
      "Global Step: 263100, Training Batch Accuracy:  95.3%, Loss: 0.1594\n",
      "Global Step: 263200, Training Batch Accuracy:  95.3%, Loss: 0.1166\n",
      "Global Step: 263300, Training Batch Accuracy:  93.8%, Loss: 0.1135\n",
      "Global Step: 263400, Training Batch Accuracy:  93.8%, Loss: 0.1685\n",
      "Global Step: 263500, Training Batch Accuracy:  92.2%, Loss: 0.2289\n",
      "Global Step: 263600, Training Batch Accuracy:  93.8%, Loss: 0.2326\n",
      "Global Step: 263700, Training Batch Accuracy:  92.2%, Loss: 0.2945\n",
      "Global Step: 263800, Training Batch Accuracy:  92.2%, Loss: 0.2735\n",
      "Global Step: 263900, Training Batch Accuracy:  98.4%, Loss: 0.1148\n",
      "Global Step: 264000, Training Batch Accuracy:  93.8%, Loss: 0.1847\n",
      "Saved checkpoint.\n",
      "Global Step: 264100, Training Batch Accuracy:  89.1%, Loss: 0.1908\n",
      "Global Step: 264200, Training Batch Accuracy:  93.8%, Loss: 0.1249\n",
      "Global Step: 264300, Training Batch Accuracy:  93.8%, Loss: 0.1725\n",
      "Global Step: 264400, Training Batch Accuracy:  95.3%, Loss: 0.1249\n",
      "Global Step: 264500, Training Batch Accuracy:  95.3%, Loss: 0.1585\n",
      "Global Step: 264600, Training Batch Accuracy: 100.0%, Loss: 0.0534\n",
      "Global Step: 264700, Training Batch Accuracy:  96.9%, Loss: 0.0944\n",
      "Global Step: 264800, Training Batch Accuracy:  93.8%, Loss: 0.1571\n",
      "Global Step: 264900, Training Batch Accuracy:  93.8%, Loss: 0.2321\n",
      "Global Step: 265000, Training Batch Accuracy:  95.3%, Loss: 0.1824\n",
      "Saved checkpoint.\n",
      "Global Step: 265100, Training Batch Accuracy:  93.8%, Loss: 0.3865\n",
      "Global Step: 265200, Training Batch Accuracy:  96.9%, Loss: 0.1104\n",
      "Global Step: 265300, Training Batch Accuracy:  93.8%, Loss: 0.1611\n",
      "Global Step: 265400, Training Batch Accuracy: 100.0%, Loss: 0.0532\n",
      "Global Step: 265500, Training Batch Accuracy:  93.8%, Loss: 0.1411\n",
      "Global Step: 265600, Training Batch Accuracy:  92.2%, Loss: 0.1463\n",
      "Global Step: 265700, Training Batch Accuracy:  89.1%, Loss: 0.2466\n",
      "Global Step: 265800, Training Batch Accuracy:  95.3%, Loss: 0.1275\n",
      "Global Step: 265900, Training Batch Accuracy:  95.3%, Loss: 0.1443\n",
      "Global Step: 266000, Training Batch Accuracy:  93.8%, Loss: 0.1573\n",
      "Saved checkpoint.\n",
      "Global Step: 266100, Training Batch Accuracy:  98.4%, Loss: 0.0510\n",
      "Global Step: 266200, Training Batch Accuracy:  96.9%, Loss: 0.0790\n",
      "Global Step: 266300, Training Batch Accuracy:  85.9%, Loss: 0.4006\n",
      "Global Step: 266400, Training Batch Accuracy:  90.6%, Loss: 0.2372\n",
      "Global Step: 266500, Training Batch Accuracy:  93.8%, Loss: 0.2346\n",
      "Global Step: 266600, Training Batch Accuracy:  95.3%, Loss: 0.1705\n",
      "Global Step: 266700, Training Batch Accuracy:  95.3%, Loss: 0.1914\n",
      "Global Step: 266800, Training Batch Accuracy:  93.8%, Loss: 0.2085\n",
      "Global Step: 266900, Training Batch Accuracy:  92.2%, Loss: 0.2610\n",
      "Global Step: 267000, Training Batch Accuracy:  95.3%, Loss: 0.1488\n",
      "Saved checkpoint.\n",
      "Global Step: 267100, Training Batch Accuracy:  95.3%, Loss: 0.1233\n",
      "Global Step: 267200, Training Batch Accuracy:  92.2%, Loss: 0.2376\n",
      "Global Step: 267300, Training Batch Accuracy:  93.8%, Loss: 0.2282\n",
      "Global Step: 267400, Training Batch Accuracy:  92.2%, Loss: 0.1976\n",
      "Global Step: 267500, Training Batch Accuracy:  90.6%, Loss: 0.2631\n",
      "Global Step: 267600, Training Batch Accuracy:  96.9%, Loss: 0.1560\n",
      "Global Step: 267700, Training Batch Accuracy:  96.9%, Loss: 0.1029\n",
      "Global Step: 267800, Training Batch Accuracy:  96.9%, Loss: 0.1071\n",
      "Global Step: 267900, Training Batch Accuracy:  87.5%, Loss: 0.2637\n",
      "Global Step: 268000, Training Batch Accuracy:  93.8%, Loss: 0.1589\n",
      "Saved checkpoint.\n",
      "Global Step: 268100, Training Batch Accuracy:  92.2%, Loss: 0.1975\n",
      "Global Step: 268200, Training Batch Accuracy:  90.6%, Loss: 0.1947\n",
      "Global Step: 268300, Training Batch Accuracy:  96.9%, Loss: 0.0697\n",
      "Global Step: 268400, Training Batch Accuracy:  96.9%, Loss: 0.1273\n",
      "Global Step: 268500, Training Batch Accuracy:  98.4%, Loss: 0.0512\n",
      "Global Step: 268600, Training Batch Accuracy:  95.3%, Loss: 0.1815\n",
      "Global Step: 268700, Training Batch Accuracy:  92.2%, Loss: 0.3107\n",
      "Global Step: 268800, Training Batch Accuracy:  90.6%, Loss: 0.2524\n",
      "Global Step: 268900, Training Batch Accuracy:  95.3%, Loss: 0.0977\n",
      "Global Step: 269000, Training Batch Accuracy:  95.3%, Loss: 0.1796\n",
      "Saved checkpoint.\n",
      "Global Step: 269100, Training Batch Accuracy:  90.6%, Loss: 0.3676\n",
      "Global Step: 269200, Training Batch Accuracy:  96.9%, Loss: 0.0754\n",
      "Global Step: 269300, Training Batch Accuracy:  95.3%, Loss: 0.1698\n",
      "Global Step: 269400, Training Batch Accuracy:  93.8%, Loss: 0.1928\n",
      "Global Step: 269500, Training Batch Accuracy:  95.3%, Loss: 0.1997\n",
      "Global Step: 269600, Training Batch Accuracy:  92.2%, Loss: 0.2954\n",
      "Global Step: 269700, Training Batch Accuracy:  95.3%, Loss: 0.1695\n",
      "Global Step: 269800, Training Batch Accuracy:  89.1%, Loss: 0.2280\n",
      "Global Step: 269900, Training Batch Accuracy:  93.8%, Loss: 0.1972\n",
      "Global Step: 270000, Training Batch Accuracy:  92.2%, Loss: 0.1531\n",
      "Saved checkpoint.\n",
      "Global Step: 270100, Training Batch Accuracy:  96.9%, Loss: 0.1498\n",
      "Global Step: 270200, Training Batch Accuracy:  93.8%, Loss: 0.1110\n",
      "Global Step: 270300, Training Batch Accuracy:  90.6%, Loss: 0.3654\n",
      "Global Step: 270400, Training Batch Accuracy:  98.4%, Loss: 0.1457\n",
      "Global Step: 270500, Training Batch Accuracy:  95.3%, Loss: 0.1603\n",
      "Global Step: 270600, Training Batch Accuracy:  92.2%, Loss: 0.1745\n",
      "Global Step: 270700, Training Batch Accuracy:  90.6%, Loss: 0.1964\n",
      "Global Step: 270800, Training Batch Accuracy:  93.8%, Loss: 0.2024\n",
      "Global Step: 270900, Training Batch Accuracy:  90.6%, Loss: 0.2743\n",
      "Global Step: 271000, Training Batch Accuracy:  92.2%, Loss: 0.3139\n",
      "Saved checkpoint.\n",
      "Global Step: 271100, Training Batch Accuracy:  96.9%, Loss: 0.0929\n",
      "Global Step: 271200, Training Batch Accuracy:  93.8%, Loss: 0.1399\n",
      "Global Step: 271300, Training Batch Accuracy:  96.9%, Loss: 0.1173\n",
      "Global Step: 271400, Training Batch Accuracy:  90.6%, Loss: 0.2419\n",
      "Global Step: 271500, Training Batch Accuracy:  92.2%, Loss: 0.1877\n",
      "Global Step: 271600, Training Batch Accuracy:  95.3%, Loss: 0.1173\n",
      "Global Step: 271700, Training Batch Accuracy:  95.3%, Loss: 0.1316\n",
      "Global Step: 271800, Training Batch Accuracy:  95.3%, Loss: 0.1110\n",
      "Global Step: 271900, Training Batch Accuracy:  92.2%, Loss: 0.2505\n",
      "Global Step: 272000, Training Batch Accuracy:  93.8%, Loss: 0.1114\n",
      "Saved checkpoint.\n",
      "Global Step: 272100, Training Batch Accuracy: 100.0%, Loss: 0.0352\n",
      "Global Step: 272200, Training Batch Accuracy:  95.3%, Loss: 0.1044\n",
      "Global Step: 272300, Training Batch Accuracy:  96.9%, Loss: 0.1258\n",
      "Global Step: 272400, Training Batch Accuracy:  95.3%, Loss: 0.2093\n",
      "Global Step: 272500, Training Batch Accuracy:  95.3%, Loss: 0.1091\n",
      "Global Step: 272600, Training Batch Accuracy:  93.8%, Loss: 0.2183\n",
      "Global Step: 272700, Training Batch Accuracy: 100.0%, Loss: 0.0635\n",
      "Global Step: 272800, Training Batch Accuracy:  92.2%, Loss: 0.1877\n",
      "Global Step: 272900, Training Batch Accuracy:  92.2%, Loss: 0.2273\n",
      "Global Step: 273000, Training Batch Accuracy:  96.9%, Loss: 0.1096\n",
      "Saved checkpoint.\n",
      "Global Step: 273100, Training Batch Accuracy:  98.4%, Loss: 0.1191\n",
      "Global Step: 273200, Training Batch Accuracy:  96.9%, Loss: 0.1532\n",
      "Global Step: 273300, Training Batch Accuracy:  92.2%, Loss: 0.1542\n",
      "Global Step: 273400, Training Batch Accuracy:  93.8%, Loss: 0.1619\n",
      "Global Step: 273500, Training Batch Accuracy:  92.2%, Loss: 0.2883\n",
      "Global Step: 273600, Training Batch Accuracy:  93.8%, Loss: 0.1810\n",
      "Global Step: 273700, Training Batch Accuracy:  90.6%, Loss: 0.1963\n",
      "Global Step: 273800, Training Batch Accuracy:  89.1%, Loss: 0.2003\n",
      "Global Step: 273900, Training Batch Accuracy:  95.3%, Loss: 0.1144\n",
      "Global Step: 274000, Training Batch Accuracy:  89.1%, Loss: 0.4191\n",
      "Saved checkpoint.\n",
      "Global Step: 274100, Training Batch Accuracy:  90.6%, Loss: 0.1908\n",
      "Global Step: 274200, Training Batch Accuracy:  93.8%, Loss: 0.1887\n",
      "Global Step: 274300, Training Batch Accuracy:  95.3%, Loss: 0.1086\n",
      "Global Step: 274400, Training Batch Accuracy:  95.3%, Loss: 0.1125\n",
      "Global Step: 274500, Training Batch Accuracy:  95.3%, Loss: 0.2028\n",
      "Global Step: 274600, Training Batch Accuracy:  92.2%, Loss: 0.2130\n",
      "Global Step: 274700, Training Batch Accuracy:  95.3%, Loss: 0.2517\n",
      "Global Step: 274800, Training Batch Accuracy:  93.8%, Loss: 0.1438\n",
      "Global Step: 274900, Training Batch Accuracy:  89.1%, Loss: 0.2970\n",
      "Global Step: 275000, Training Batch Accuracy:  96.9%, Loss: 0.1817\n",
      "Saved checkpoint.\n"
     ]
    },
    {
     "name": "stdout",
     "output_type": "stream",
     "text": [
      "Global Step: 275100, Training Batch Accuracy:  93.8%, Loss: 0.1167\n",
      "Global Step: 275200, Training Batch Accuracy:  96.9%, Loss: 0.0793\n",
      "Global Step: 275300, Training Batch Accuracy:  96.9%, Loss: 0.1224\n",
      "Global Step: 275400, Training Batch Accuracy:  98.4%, Loss: 0.0408\n",
      "Global Step: 275500, Training Batch Accuracy:  90.6%, Loss: 0.1928\n",
      "Global Step: 275600, Training Batch Accuracy:  93.8%, Loss: 0.2104\n",
      "Global Step: 275700, Training Batch Accuracy:  96.9%, Loss: 0.0844\n",
      "Global Step: 275800, Training Batch Accuracy:  95.3%, Loss: 0.0834\n",
      "Global Step: 275900, Training Batch Accuracy:  90.6%, Loss: 0.2496\n",
      "Global Step: 276000, Training Batch Accuracy:  95.3%, Loss: 0.1615\n",
      "Saved checkpoint.\n",
      "Global Step: 276100, Training Batch Accuracy:  95.3%, Loss: 0.1210\n",
      "Global Step: 276200, Training Batch Accuracy:  95.3%, Loss: 0.1209\n",
      "Global Step: 276300, Training Batch Accuracy:  95.3%, Loss: 0.0869\n",
      "Global Step: 276400, Training Batch Accuracy:  98.4%, Loss: 0.0586\n",
      "Global Step: 276500, Training Batch Accuracy:  90.6%, Loss: 0.2250\n",
      "Global Step: 276600, Training Batch Accuracy:  95.3%, Loss: 0.2111\n",
      "Global Step: 276700, Training Batch Accuracy:  93.8%, Loss: 0.1634\n",
      "Global Step: 276800, Training Batch Accuracy:  93.8%, Loss: 0.1518\n",
      "Global Step: 276900, Training Batch Accuracy:  92.2%, Loss: 0.1918\n",
      "Global Step: 277000, Training Batch Accuracy:  95.3%, Loss: 0.2023\n",
      "Saved checkpoint.\n",
      "Global Step: 277100, Training Batch Accuracy:  93.8%, Loss: 0.2172\n",
      "Global Step: 277200, Training Batch Accuracy:  93.8%, Loss: 0.1760\n",
      "Global Step: 277300, Training Batch Accuracy:  82.8%, Loss: 0.6219\n",
      "Global Step: 277400, Training Batch Accuracy:  85.9%, Loss: 0.3492\n",
      "Global Step: 277500, Training Batch Accuracy:  98.4%, Loss: 0.0640\n",
      "Global Step: 277600, Training Batch Accuracy:  93.8%, Loss: 0.1526\n",
      "Global Step: 277700, Training Batch Accuracy:  95.3%, Loss: 0.1035\n",
      "Global Step: 277800, Training Batch Accuracy:  96.9%, Loss: 0.1743\n",
      "Global Step: 277900, Training Batch Accuracy:  93.8%, Loss: 0.1573\n",
      "Global Step: 278000, Training Batch Accuracy:  96.9%, Loss: 0.1978\n",
      "Saved checkpoint.\n",
      "Global Step: 278100, Training Batch Accuracy:  92.2%, Loss: 0.1662\n",
      "Global Step: 278200, Training Batch Accuracy:  95.3%, Loss: 0.0718\n",
      "Global Step: 278300, Training Batch Accuracy:  92.2%, Loss: 0.1808\n",
      "Global Step: 278400, Training Batch Accuracy:  96.9%, Loss: 0.1100\n",
      "Global Step: 278500, Training Batch Accuracy:  95.3%, Loss: 0.0768\n",
      "Global Step: 278600, Training Batch Accuracy:  89.1%, Loss: 0.3815\n",
      "Global Step: 278700, Training Batch Accuracy:  98.4%, Loss: 0.0398\n",
      "Global Step: 278800, Training Batch Accuracy:  90.6%, Loss: 0.2034\n",
      "Global Step: 278900, Training Batch Accuracy:  87.5%, Loss: 0.2893\n",
      "Global Step: 279000, Training Batch Accuracy:  98.4%, Loss: 0.1006\n",
      "Saved checkpoint.\n",
      "Global Step: 279100, Training Batch Accuracy:  96.9%, Loss: 0.0724\n",
      "Global Step: 279200, Training Batch Accuracy:  93.8%, Loss: 0.1362\n",
      "Global Step: 279300, Training Batch Accuracy:  98.4%, Loss: 0.0349\n",
      "Global Step: 279400, Training Batch Accuracy:  89.1%, Loss: 0.3862\n",
      "Global Step: 279500, Training Batch Accuracy:  92.2%, Loss: 0.2704\n",
      "Global Step: 279600, Training Batch Accuracy:  95.3%, Loss: 0.1890\n",
      "Global Step: 279700, Training Batch Accuracy:  92.2%, Loss: 0.2087\n",
      "Global Step: 279800, Training Batch Accuracy:  96.9%, Loss: 0.0629\n",
      "Global Step: 279900, Training Batch Accuracy:  95.3%, Loss: 0.1121\n",
      "Global Step: 280000, Training Batch Accuracy:  96.9%, Loss: 0.0773\n",
      "Saved checkpoint.\n",
      "Global Step: 280100, Training Batch Accuracy:  89.1%, Loss: 0.3284\n",
      "Global Step: 280200, Training Batch Accuracy:  98.4%, Loss: 0.0675\n",
      "Global Step: 280300, Training Batch Accuracy:  95.3%, Loss: 0.1786\n",
      "Global Step: 280400, Training Batch Accuracy:  90.6%, Loss: 0.2299\n",
      "Global Step: 280500, Training Batch Accuracy:  93.8%, Loss: 0.1727\n",
      "Global Step: 280600, Training Batch Accuracy:  89.1%, Loss: 0.2237\n",
      "Global Step: 280700, Training Batch Accuracy:  96.9%, Loss: 0.1138\n",
      "Global Step: 280800, Training Batch Accuracy:  92.2%, Loss: 0.2778\n",
      "Global Step: 280900, Training Batch Accuracy:  92.2%, Loss: 0.1213\n",
      "Global Step: 281000, Training Batch Accuracy:  92.2%, Loss: 0.2288\n",
      "Saved checkpoint.\n",
      "Global Step: 281100, Training Batch Accuracy:  90.6%, Loss: 0.2946\n",
      "Global Step: 281200, Training Batch Accuracy:  98.4%, Loss: 0.0424\n",
      "Global Step: 281300, Training Batch Accuracy:  93.8%, Loss: 0.1024\n",
      "Global Step: 281400, Training Batch Accuracy:  95.3%, Loss: 0.1264\n",
      "Global Step: 281500, Training Batch Accuracy:  96.9%, Loss: 0.0915\n",
      "Global Step: 281600, Training Batch Accuracy:  93.8%, Loss: 0.1777\n",
      "Global Step: 281700, Training Batch Accuracy:  93.8%, Loss: 0.1546\n",
      "Global Step: 281800, Training Batch Accuracy:  96.9%, Loss: 0.1156\n",
      "Global Step: 281900, Training Batch Accuracy:  89.1%, Loss: 0.3423\n",
      "Global Step: 282000, Training Batch Accuracy:  95.3%, Loss: 0.1251\n",
      "Saved checkpoint.\n",
      "Global Step: 282100, Training Batch Accuracy:  95.3%, Loss: 0.1555\n",
      "Global Step: 282200, Training Batch Accuracy:  93.8%, Loss: 0.1878\n",
      "Global Step: 282300, Training Batch Accuracy:  96.9%, Loss: 0.1453\n",
      "Global Step: 282400, Training Batch Accuracy:  93.8%, Loss: 0.1036\n",
      "Global Step: 282500, Training Batch Accuracy:  93.8%, Loss: 0.2008\n",
      "Global Step: 282600, Training Batch Accuracy:  92.2%, Loss: 0.2376\n",
      "Global Step: 282700, Training Batch Accuracy:  93.8%, Loss: 0.2464\n",
      "Global Step: 282800, Training Batch Accuracy:  90.6%, Loss: 0.2604\n",
      "Global Step: 282900, Training Batch Accuracy:  92.2%, Loss: 0.1654\n",
      "Global Step: 283000, Training Batch Accuracy:  95.3%, Loss: 0.1646\n",
      "Saved checkpoint.\n",
      "Global Step: 283100, Training Batch Accuracy:  98.4%, Loss: 0.0618\n",
      "Global Step: 283200, Training Batch Accuracy:  93.8%, Loss: 0.1783\n",
      "Global Step: 283300, Training Batch Accuracy:  92.2%, Loss: 0.2489\n",
      "Global Step: 283400, Training Batch Accuracy:  98.4%, Loss: 0.0669\n",
      "Global Step: 283500, Training Batch Accuracy:  95.3%, Loss: 0.1702\n",
      "Global Step: 283600, Training Batch Accuracy:  95.3%, Loss: 0.1601\n",
      "Global Step: 283700, Training Batch Accuracy:  95.3%, Loss: 0.2022\n",
      "Global Step: 283800, Training Batch Accuracy:  95.3%, Loss: 0.1031\n",
      "Global Step: 283900, Training Batch Accuracy:  92.2%, Loss: 0.2489\n",
      "Global Step: 284000, Training Batch Accuracy:  92.2%, Loss: 0.2181\n",
      "Saved checkpoint.\n",
      "Global Step: 284100, Training Batch Accuracy:  90.6%, Loss: 0.2178\n",
      "Global Step: 284200, Training Batch Accuracy:  93.8%, Loss: 0.1410\n",
      "Global Step: 284300, Training Batch Accuracy:  93.8%, Loss: 0.1719\n",
      "Global Step: 284400, Training Batch Accuracy:  96.9%, Loss: 0.0902\n",
      "Global Step: 284500, Training Batch Accuracy:  95.3%, Loss: 0.0916\n",
      "Global Step: 284600, Training Batch Accuracy:  95.3%, Loss: 0.1766\n",
      "Global Step: 284700, Training Batch Accuracy:  96.9%, Loss: 0.0922\n",
      "Global Step: 284800, Training Batch Accuracy:  96.9%, Loss: 0.1085\n",
      "Global Step: 284900, Training Batch Accuracy: 100.0%, Loss: 0.0166\n",
      "Global Step: 285000, Training Batch Accuracy:  98.4%, Loss: 0.1301\n",
      "Saved checkpoint.\n",
      "Global Step: 285100, Training Batch Accuracy:  95.3%, Loss: 0.1064\n",
      "Global Step: 285200, Training Batch Accuracy:  95.3%, Loss: 0.1857\n",
      "Global Step: 285300, Training Batch Accuracy:  87.5%, Loss: 0.2526\n",
      "Global Step: 285400, Training Batch Accuracy:  96.9%, Loss: 0.1430\n",
      "Global Step: 285500, Training Batch Accuracy:  92.2%, Loss: 0.1611\n",
      "Global Step: 285600, Training Batch Accuracy:  95.3%, Loss: 0.1832\n",
      "Global Step: 285700, Training Batch Accuracy:  93.8%, Loss: 0.1891\n",
      "Global Step: 285800, Training Batch Accuracy:  90.6%, Loss: 0.2226\n",
      "Global Step: 285900, Training Batch Accuracy: 100.0%, Loss: 0.0560\n",
      "Global Step: 286000, Training Batch Accuracy:  93.8%, Loss: 0.1354\n",
      "Saved checkpoint.\n",
      "Global Step: 286100, Training Batch Accuracy:  93.8%, Loss: 0.2169\n",
      "Global Step: 286200, Training Batch Accuracy:  90.6%, Loss: 0.2762\n",
      "Global Step: 286300, Training Batch Accuracy:  96.9%, Loss: 0.0931\n",
      "Global Step: 286400, Training Batch Accuracy:  87.5%, Loss: 0.2849\n",
      "Global Step: 286500, Training Batch Accuracy: 100.0%, Loss: 0.0380\n",
      "Global Step: 286600, Training Batch Accuracy:  93.8%, Loss: 0.1745\n",
      "Global Step: 286700, Training Batch Accuracy:  90.6%, Loss: 0.2246\n",
      "Global Step: 286800, Training Batch Accuracy:  96.9%, Loss: 0.1177\n",
      "Global Step: 286900, Training Batch Accuracy: 100.0%, Loss: 0.0208\n",
      "Global Step: 287000, Training Batch Accuracy:  89.1%, Loss: 0.3038\n",
      "Saved checkpoint.\n"
     ]
    },
    {
     "name": "stdout",
     "output_type": "stream",
     "text": [
      "Global Step: 287100, Training Batch Accuracy:  96.9%, Loss: 0.0669\n",
      "Global Step: 287200, Training Batch Accuracy:  96.9%, Loss: 0.0723\n",
      "Global Step: 287300, Training Batch Accuracy:  95.3%, Loss: 0.0978\n",
      "Global Step: 287400, Training Batch Accuracy:  96.9%, Loss: 0.0658\n",
      "Global Step: 287500, Training Batch Accuracy:  98.4%, Loss: 0.0498\n",
      "Global Step: 287600, Training Batch Accuracy:  95.3%, Loss: 0.1540\n",
      "Global Step: 287700, Training Batch Accuracy:  90.6%, Loss: 0.5956\n",
      "Global Step: 287800, Training Batch Accuracy:  93.8%, Loss: 0.1742\n",
      "Global Step: 287900, Training Batch Accuracy:  92.2%, Loss: 0.1513\n",
      "Global Step: 288000, Training Batch Accuracy:  90.6%, Loss: 0.3095\n",
      "Saved checkpoint.\n",
      "Global Step: 288100, Training Batch Accuracy:  96.9%, Loss: 0.0737\n",
      "Global Step: 288200, Training Batch Accuracy:  98.4%, Loss: 0.0638\n",
      "Global Step: 288300, Training Batch Accuracy:  92.2%, Loss: 0.1370\n",
      "Global Step: 288400, Training Batch Accuracy: 100.0%, Loss: 0.0865\n",
      "Global Step: 288500, Training Batch Accuracy:  96.9%, Loss: 0.0817\n",
      "Global Step: 288600, Training Batch Accuracy:  98.4%, Loss: 0.0793\n",
      "Global Step: 288700, Training Batch Accuracy:  92.2%, Loss: 0.3399\n",
      "Global Step: 288800, Training Batch Accuracy:  98.4%, Loss: 0.0657\n",
      "Global Step: 288900, Training Batch Accuracy:  95.3%, Loss: 0.1284\n",
      "Global Step: 289000, Training Batch Accuracy:  96.9%, Loss: 0.1222\n",
      "Saved checkpoint.\n",
      "Global Step: 289100, Training Batch Accuracy:  92.2%, Loss: 0.2295\n",
      "Global Step: 289200, Training Batch Accuracy:  95.3%, Loss: 0.1206\n",
      "Global Step: 289300, Training Batch Accuracy:  95.3%, Loss: 0.1245\n",
      "Global Step: 289400, Training Batch Accuracy:  98.4%, Loss: 0.1138\n",
      "Global Step: 289500, Training Batch Accuracy:  90.6%, Loss: 0.2705\n",
      "Global Step: 289600, Training Batch Accuracy: 100.0%, Loss: 0.0349\n",
      "Global Step: 289700, Training Batch Accuracy:  95.3%, Loss: 0.0826\n",
      "Global Step: 289800, Training Batch Accuracy:  96.9%, Loss: 0.0901\n",
      "Global Step: 289900, Training Batch Accuracy:  95.3%, Loss: 0.1488\n",
      "Global Step: 290000, Training Batch Accuracy:  92.2%, Loss: 0.2040\n",
      "Saved checkpoint.\n",
      "Global Step: 290100, Training Batch Accuracy:  96.9%, Loss: 0.1173\n",
      "Global Step: 290200, Training Batch Accuracy:  93.8%, Loss: 0.2009\n",
      "Global Step: 290300, Training Batch Accuracy:  93.8%, Loss: 0.1760\n",
      "Global Step: 290400, Training Batch Accuracy:  96.9%, Loss: 0.0949\n",
      "Global Step: 290500, Training Batch Accuracy:  96.9%, Loss: 0.1725\n",
      "Global Step: 290600, Training Batch Accuracy:  96.9%, Loss: 0.1062\n",
      "Global Step: 290700, Training Batch Accuracy:  95.3%, Loss: 0.1003\n",
      "Global Step: 290800, Training Batch Accuracy:  95.3%, Loss: 0.1503\n",
      "Global Step: 290900, Training Batch Accuracy:  96.9%, Loss: 0.1478\n",
      "Global Step: 291000, Training Batch Accuracy:  93.8%, Loss: 0.1749\n",
      "Saved checkpoint.\n",
      "Global Step: 291100, Training Batch Accuracy:  95.3%, Loss: 0.1197\n",
      "Global Step: 291200, Training Batch Accuracy:  93.8%, Loss: 0.1850\n",
      "Global Step: 291300, Training Batch Accuracy:  93.8%, Loss: 0.1344\n",
      "Global Step: 291400, Training Batch Accuracy:  96.9%, Loss: 0.1217\n",
      "Global Step: 291500, Training Batch Accuracy:  93.8%, Loss: 0.1981\n",
      "Global Step: 291600, Training Batch Accuracy:  96.9%, Loss: 0.0462\n",
      "Global Step: 291700, Training Batch Accuracy:  93.8%, Loss: 0.1247\n",
      "Global Step: 291800, Training Batch Accuracy:  92.2%, Loss: 0.1625\n",
      "Global Step: 291900, Training Batch Accuracy:  95.3%, Loss: 0.1619\n",
      "Global Step: 292000, Training Batch Accuracy:  96.9%, Loss: 0.0556\n",
      "Saved checkpoint.\n",
      "Global Step: 292100, Training Batch Accuracy:  96.9%, Loss: 0.0933\n",
      "Global Step: 292200, Training Batch Accuracy:  93.8%, Loss: 0.1926\n",
      "Global Step: 292300, Training Batch Accuracy:  93.8%, Loss: 0.1660\n",
      "Global Step: 292400, Training Batch Accuracy:  92.2%, Loss: 0.2320\n",
      "Global Step: 292500, Training Batch Accuracy:  93.8%, Loss: 0.2035\n",
      "Global Step: 292600, Training Batch Accuracy:  89.1%, Loss: 0.3142\n",
      "Global Step: 292700, Training Batch Accuracy:  93.8%, Loss: 0.1786\n",
      "Global Step: 292800, Training Batch Accuracy:  95.3%, Loss: 0.0831\n",
      "Global Step: 292900, Training Batch Accuracy:  90.6%, Loss: 0.1953\n",
      "Global Step: 293000, Training Batch Accuracy:  95.3%, Loss: 0.1690\n",
      "Saved checkpoint.\n",
      "Global Step: 293100, Training Batch Accuracy:  95.3%, Loss: 0.0982\n",
      "Global Step: 293200, Training Batch Accuracy: 100.0%, Loss: 0.0554\n",
      "Global Step: 293300, Training Batch Accuracy:  95.3%, Loss: 0.1249\n",
      "Global Step: 293400, Training Batch Accuracy:  93.8%, Loss: 0.1893\n",
      "Global Step: 293500, Training Batch Accuracy:  93.8%, Loss: 0.1194\n",
      "Global Step: 293600, Training Batch Accuracy:  93.8%, Loss: 0.1187\n",
      "Global Step: 293700, Training Batch Accuracy: 100.0%, Loss: 0.0371\n",
      "Global Step: 293800, Training Batch Accuracy:  92.2%, Loss: 0.2506\n",
      "Global Step: 293900, Training Batch Accuracy:  98.4%, Loss: 0.0623\n",
      "Global Step: 294000, Training Batch Accuracy:  92.2%, Loss: 0.1979\n",
      "Saved checkpoint.\n",
      "Global Step: 294100, Training Batch Accuracy:  98.4%, Loss: 0.0990\n",
      "Global Step: 294200, Training Batch Accuracy: 100.0%, Loss: 0.0464\n",
      "Global Step: 294300, Training Batch Accuracy:  95.3%, Loss: 0.2102\n",
      "Global Step: 294400, Training Batch Accuracy: 100.0%, Loss: 0.0269\n",
      "Global Step: 294500, Training Batch Accuracy:  90.6%, Loss: 0.1720\n",
      "Global Step: 294600, Training Batch Accuracy:  93.8%, Loss: 0.1801\n",
      "Global Step: 294700, Training Batch Accuracy:  90.6%, Loss: 0.2046\n",
      "Global Step: 294800, Training Batch Accuracy: 100.0%, Loss: 0.0114\n",
      "Global Step: 294900, Training Batch Accuracy:  98.4%, Loss: 0.0400\n",
      "Global Step: 295000, Training Batch Accuracy:  98.4%, Loss: 0.0848\n",
      "Saved checkpoint.\n",
      "Global Step: 295100, Training Batch Accuracy:  93.8%, Loss: 0.2046\n",
      "Global Step: 295200, Training Batch Accuracy:  96.9%, Loss: 0.0972\n",
      "Global Step: 295300, Training Batch Accuracy:  93.8%, Loss: 0.2191\n",
      "Global Step: 295400, Training Batch Accuracy:  93.8%, Loss: 0.1122\n",
      "Global Step: 295500, Training Batch Accuracy:  92.2%, Loss: 0.1916\n",
      "Global Step: 295600, Training Batch Accuracy:  98.4%, Loss: 0.0554\n",
      "Global Step: 295700, Training Batch Accuracy: 100.0%, Loss: 0.0232\n",
      "Global Step: 295800, Training Batch Accuracy:  92.2%, Loss: 0.1582\n",
      "Global Step: 295900, Training Batch Accuracy: 100.0%, Loss: 0.0560\n",
      "Global Step: 296000, Training Batch Accuracy: 100.0%, Loss: 0.0292\n",
      "Saved checkpoint.\n",
      "Global Step: 296100, Training Batch Accuracy:  98.4%, Loss: 0.0735\n",
      "Global Step: 296200, Training Batch Accuracy:  98.4%, Loss: 0.0655\n",
      "Global Step: 296300, Training Batch Accuracy:  98.4%, Loss: 0.0687\n",
      "Global Step: 296400, Training Batch Accuracy:  96.9%, Loss: 0.0717\n",
      "Global Step: 296500, Training Batch Accuracy:  96.9%, Loss: 0.1624\n",
      "Global Step: 296600, Training Batch Accuracy:  96.9%, Loss: 0.0791\n",
      "Global Step: 296700, Training Batch Accuracy:  93.8%, Loss: 0.1414\n",
      "Global Step: 296800, Training Batch Accuracy:  95.3%, Loss: 0.1228\n",
      "Global Step: 296900, Training Batch Accuracy:  96.9%, Loss: 0.1001\n",
      "Global Step: 297000, Training Batch Accuracy:  98.4%, Loss: 0.0382\n",
      "Saved checkpoint.\n",
      "Global Step: 297100, Training Batch Accuracy:  90.6%, Loss: 0.2356\n",
      "Global Step: 297200, Training Batch Accuracy:  89.1%, Loss: 0.3755\n",
      "Global Step: 297300, Training Batch Accuracy:  93.8%, Loss: 0.1697\n",
      "Global Step: 297400, Training Batch Accuracy:  93.8%, Loss: 0.1948\n",
      "Global Step: 297500, Training Batch Accuracy:  93.8%, Loss: 0.2368\n",
      "Global Step: 297600, Training Batch Accuracy:  95.3%, Loss: 0.1197\n",
      "Global Step: 297700, Training Batch Accuracy:  96.9%, Loss: 0.1771\n",
      "Global Step: 297800, Training Batch Accuracy:  93.8%, Loss: 0.2048\n",
      "Global Step: 297900, Training Batch Accuracy:  95.3%, Loss: 0.0918\n",
      "Global Step: 298000, Training Batch Accuracy:  92.2%, Loss: 0.2454\n",
      "Saved checkpoint.\n",
      "Global Step: 298100, Training Batch Accuracy:  95.3%, Loss: 0.1174\n",
      "Global Step: 298200, Training Batch Accuracy:  96.9%, Loss: 0.1216\n",
      "Global Step: 298300, Training Batch Accuracy:  95.3%, Loss: 0.1404\n",
      "Global Step: 298400, Training Batch Accuracy:  90.6%, Loss: 0.2596\n",
      "Global Step: 298500, Training Batch Accuracy:  93.8%, Loss: 0.1117\n",
      "Global Step: 298600, Training Batch Accuracy:  90.6%, Loss: 0.2257\n",
      "Global Step: 298700, Training Batch Accuracy:  98.4%, Loss: 0.0386\n",
      "Global Step: 298800, Training Batch Accuracy:  93.8%, Loss: 0.2002\n",
      "Global Step: 298900, Training Batch Accuracy:  95.3%, Loss: 0.1718\n",
      "Global Step: 299000, Training Batch Accuracy:  92.2%, Loss: 0.2251\n",
      "Saved checkpoint.\n"
     ]
    },
    {
     "name": "stdout",
     "output_type": "stream",
     "text": [
      "Global Step: 299100, Training Batch Accuracy:  95.3%, Loss: 0.2080\n",
      "Global Step: 299200, Training Batch Accuracy:  95.3%, Loss: 0.0895\n",
      "Global Step: 299300, Training Batch Accuracy:  90.6%, Loss: 0.1449\n",
      "Global Step: 299400, Training Batch Accuracy:  98.4%, Loss: 0.0800\n",
      "Global Step: 299500, Training Batch Accuracy:  90.6%, Loss: 0.2918\n",
      "Global Step: 299600, Training Batch Accuracy:  90.6%, Loss: 0.3835\n",
      "Global Step: 299700, Training Batch Accuracy:  92.2%, Loss: 0.1957\n",
      "Global Step: 299800, Training Batch Accuracy:  93.8%, Loss: 0.1522\n",
      "Global Step: 299900, Training Batch Accuracy:  87.5%, Loss: 0.2399\n",
      "Global Step: 300000, Training Batch Accuracy:  98.4%, Loss: 0.0466\n",
      "Saved checkpoint.\n",
      "Global Step: 300100, Training Batch Accuracy:  95.3%, Loss: 0.1013\n",
      "Global Step: 300200, Training Batch Accuracy:  95.3%, Loss: 0.0970\n",
      "Global Step: 300300, Training Batch Accuracy:  96.9%, Loss: 0.1319\n",
      "Global Step: 300400, Training Batch Accuracy:  96.9%, Loss: 0.0504\n",
      "Global Step: 300500, Training Batch Accuracy:  92.2%, Loss: 0.1781\n",
      "Global Step: 300600, Training Batch Accuracy:  98.4%, Loss: 0.0377\n",
      "Global Step: 300700, Training Batch Accuracy:  98.4%, Loss: 0.0748\n",
      "Global Step: 300800, Training Batch Accuracy:  92.2%, Loss: 0.2088\n",
      "Global Step: 300900, Training Batch Accuracy:  90.6%, Loss: 0.2554\n",
      "Global Step: 301000, Training Batch Accuracy:  90.6%, Loss: 0.2468\n",
      "Saved checkpoint.\n",
      "Global Step: 301100, Training Batch Accuracy:  95.3%, Loss: 0.2406\n",
      "Global Step: 301200, Training Batch Accuracy:  98.4%, Loss: 0.0732\n",
      "Global Step: 301300, Training Batch Accuracy:  95.3%, Loss: 0.1416\n",
      "Global Step: 301400, Training Batch Accuracy:  95.3%, Loss: 0.0870\n",
      "Global Step: 301500, Training Batch Accuracy:  96.9%, Loss: 0.0764\n",
      "Global Step: 301600, Training Batch Accuracy:  95.3%, Loss: 0.2147\n",
      "Global Step: 301700, Training Batch Accuracy:  93.8%, Loss: 0.1152\n",
      "Global Step: 301800, Training Batch Accuracy:  98.4%, Loss: 0.0642\n",
      "Global Step: 301900, Training Batch Accuracy:  95.3%, Loss: 0.1802\n",
      "Global Step: 302000, Training Batch Accuracy:  96.9%, Loss: 0.0554\n",
      "Saved checkpoint.\n",
      "Global Step: 302100, Training Batch Accuracy:  96.9%, Loss: 0.2120\n",
      "Global Step: 302200, Training Batch Accuracy:  93.8%, Loss: 0.1594\n",
      "Global Step: 302300, Training Batch Accuracy:  95.3%, Loss: 0.0733\n",
      "Global Step: 302400, Training Batch Accuracy:  95.3%, Loss: 0.1036\n",
      "Global Step: 302500, Training Batch Accuracy:  96.9%, Loss: 0.1393\n",
      "Global Step: 302600, Training Batch Accuracy:  95.3%, Loss: 0.1106\n",
      "Global Step: 302700, Training Batch Accuracy:  96.9%, Loss: 0.1024\n",
      "Global Step: 302800, Training Batch Accuracy:  89.1%, Loss: 0.3075\n",
      "Global Step: 302900, Training Batch Accuracy:  92.2%, Loss: 0.1520\n",
      "Global Step: 303000, Training Batch Accuracy:  93.8%, Loss: 0.1548\n",
      "Saved checkpoint.\n",
      "Global Step: 303100, Training Batch Accuracy:  90.6%, Loss: 0.3462\n",
      "Global Step: 303200, Training Batch Accuracy:  95.3%, Loss: 0.1644\n",
      "Global Step: 303300, Training Batch Accuracy:  96.9%, Loss: 0.0932\n",
      "Global Step: 303400, Training Batch Accuracy:  93.8%, Loss: 0.2630\n",
      "Global Step: 303500, Training Batch Accuracy:  98.4%, Loss: 0.0970\n",
      "Global Step: 303600, Training Batch Accuracy:  87.5%, Loss: 0.3988\n",
      "Global Step: 303700, Training Batch Accuracy:  95.3%, Loss: 0.1329\n",
      "Global Step: 303800, Training Batch Accuracy:  98.4%, Loss: 0.0815\n",
      "Global Step: 303900, Training Batch Accuracy:  93.8%, Loss: 0.1624\n",
      "Global Step: 304000, Training Batch Accuracy:  98.4%, Loss: 0.0320\n",
      "Saved checkpoint.\n",
      "Global Step: 304100, Training Batch Accuracy: 100.0%, Loss: 0.0303\n",
      "Global Step: 304200, Training Batch Accuracy:  96.9%, Loss: 0.1823\n",
      "Global Step: 304300, Training Batch Accuracy:  95.3%, Loss: 0.2428\n",
      "Global Step: 304400, Training Batch Accuracy:  96.9%, Loss: 0.0961\n",
      "Global Step: 304500, Training Batch Accuracy:  95.3%, Loss: 0.1380\n",
      "Global Step: 304600, Training Batch Accuracy:  93.8%, Loss: 0.2304\n",
      "Global Step: 304700, Training Batch Accuracy:  98.4%, Loss: 0.0556\n",
      "Global Step: 304800, Training Batch Accuracy:  93.8%, Loss: 0.1750\n",
      "Global Step: 304900, Training Batch Accuracy:  90.6%, Loss: 0.2089\n",
      "Global Step: 305000, Training Batch Accuracy:  92.2%, Loss: 0.1862\n",
      "Saved checkpoint.\n",
      "Global Step: 305100, Training Batch Accuracy:  95.3%, Loss: 0.1114\n",
      "Global Step: 305200, Training Batch Accuracy:  92.2%, Loss: 0.1622\n",
      "Global Step: 305300, Training Batch Accuracy:  95.3%, Loss: 0.1338\n",
      "Global Step: 305400, Training Batch Accuracy:  96.9%, Loss: 0.1081\n",
      "Global Step: 305500, Training Batch Accuracy:  98.4%, Loss: 0.1059\n",
      "Global Step: 305600, Training Batch Accuracy:  92.2%, Loss: 0.2754\n",
      "Global Step: 305700, Training Batch Accuracy:  96.9%, Loss: 0.1109\n",
      "Global Step: 305800, Training Batch Accuracy: 100.0%, Loss: 0.0253\n",
      "Global Step: 305900, Training Batch Accuracy:  95.3%, Loss: 0.0840\n",
      "Global Step: 306000, Training Batch Accuracy:  90.6%, Loss: 0.2736\n",
      "Saved checkpoint.\n",
      "Global Step: 306100, Training Batch Accuracy:  95.3%, Loss: 0.1728\n",
      "Global Step: 306200, Training Batch Accuracy:  95.3%, Loss: 0.1090\n",
      "Global Step: 306300, Training Batch Accuracy:  96.9%, Loss: 0.0679\n",
      "Global Step: 306400, Training Batch Accuracy:  96.9%, Loss: 0.0778\n",
      "Global Step: 306500, Training Batch Accuracy:  96.9%, Loss: 0.0788\n",
      "Global Step: 306600, Training Batch Accuracy:  96.9%, Loss: 0.0776\n",
      "Global Step: 306700, Training Batch Accuracy:  95.3%, Loss: 0.0878\n",
      "Global Step: 306800, Training Batch Accuracy:  93.8%, Loss: 0.1729\n",
      "Global Step: 306900, Training Batch Accuracy:  96.9%, Loss: 0.1248\n",
      "Global Step: 307000, Training Batch Accuracy:  90.6%, Loss: 0.3140\n",
      "Saved checkpoint.\n",
      "Global Step: 307100, Training Batch Accuracy:  92.2%, Loss: 0.2549\n",
      "Global Step: 307200, Training Batch Accuracy:  95.3%, Loss: 0.1249\n",
      "Global Step: 307300, Training Batch Accuracy:  98.4%, Loss: 0.0328\n",
      "Global Step: 307400, Training Batch Accuracy:  98.4%, Loss: 0.1544\n",
      "Global Step: 307500, Training Batch Accuracy:  90.6%, Loss: 0.1959\n",
      "Global Step: 307600, Training Batch Accuracy:  96.9%, Loss: 0.1261\n",
      "Global Step: 307700, Training Batch Accuracy:  96.9%, Loss: 0.0647\n",
      "Global Step: 307800, Training Batch Accuracy:  95.3%, Loss: 0.1829\n",
      "Global Step: 307900, Training Batch Accuracy:  96.9%, Loss: 0.0835\n",
      "Global Step: 308000, Training Batch Accuracy:  93.8%, Loss: 0.2433\n",
      "Saved checkpoint.\n",
      "Global Step: 308100, Training Batch Accuracy:  92.2%, Loss: 0.1476\n",
      "Global Step: 308200, Training Batch Accuracy:  96.9%, Loss: 0.1211\n",
      "Global Step: 308300, Training Batch Accuracy:  98.4%, Loss: 0.0611\n",
      "Global Step: 308400, Training Batch Accuracy:  98.4%, Loss: 0.0414\n",
      "Global Step: 308500, Training Batch Accuracy:  93.8%, Loss: 0.1561\n",
      "Global Step: 308600, Training Batch Accuracy:  95.3%, Loss: 0.1546\n",
      "Global Step: 308700, Training Batch Accuracy:  98.4%, Loss: 0.0504\n",
      "Global Step: 308800, Training Batch Accuracy:  93.8%, Loss: 0.1404\n",
      "Global Step: 308900, Training Batch Accuracy:  89.1%, Loss: 0.2584\n",
      "Global Step: 309000, Training Batch Accuracy:  95.3%, Loss: 0.1077\n",
      "Saved checkpoint.\n",
      "Global Step: 309100, Training Batch Accuracy:  89.1%, Loss: 0.2281\n",
      "Global Step: 309200, Training Batch Accuracy:  95.3%, Loss: 0.2007\n",
      "Global Step: 309300, Training Batch Accuracy:  93.8%, Loss: 0.1749\n",
      "Global Step: 309400, Training Batch Accuracy: 100.0%, Loss: 0.0401\n",
      "Global Step: 309500, Training Batch Accuracy:  95.3%, Loss: 0.1911\n",
      "Global Step: 309600, Training Batch Accuracy:  89.1%, Loss: 0.2594\n",
      "Global Step: 309700, Training Batch Accuracy: 100.0%, Loss: 0.0162\n",
      "Global Step: 309800, Training Batch Accuracy:  95.3%, Loss: 0.1938\n",
      "Global Step: 309900, Training Batch Accuracy:  98.4%, Loss: 0.0565\n",
      "Global Step: 310000, Training Batch Accuracy:  95.3%, Loss: 0.0868\n",
      "Saved checkpoint.\n",
      "Global Step: 310100, Training Batch Accuracy:  93.8%, Loss: 0.2712\n",
      "Global Step: 310200, Training Batch Accuracy:  93.8%, Loss: 0.1213\n",
      "Global Step: 310300, Training Batch Accuracy:  98.4%, Loss: 0.0707\n",
      "Global Step: 310400, Training Batch Accuracy: 100.0%, Loss: 0.0191\n",
      "Global Step: 310500, Training Batch Accuracy:  98.4%, Loss: 0.0478\n",
      "Global Step: 310600, Training Batch Accuracy:  90.6%, Loss: 0.1552\n",
      "Global Step: 310700, Training Batch Accuracy:  96.9%, Loss: 0.0654\n",
      "Global Step: 310800, Training Batch Accuracy:  95.3%, Loss: 0.1043\n",
      "Global Step: 310900, Training Batch Accuracy:  93.8%, Loss: 0.1794\n",
      "Global Step: 311000, Training Batch Accuracy:  92.2%, Loss: 0.2038\n",
      "Saved checkpoint.\n"
     ]
    },
    {
     "name": "stdout",
     "output_type": "stream",
     "text": [
      "Global Step: 311100, Training Batch Accuracy:  96.9%, Loss: 0.0969\n",
      "Global Step: 311200, Training Batch Accuracy: 100.0%, Loss: 0.0276\n",
      "Global Step: 311300, Training Batch Accuracy:  98.4%, Loss: 0.0853\n",
      "Global Step: 311400, Training Batch Accuracy:  92.2%, Loss: 0.1763\n",
      "Global Step: 311500, Training Batch Accuracy:  98.4%, Loss: 0.0810\n",
      "Global Step: 311600, Training Batch Accuracy:  92.2%, Loss: 0.1597\n",
      "Global Step: 311700, Training Batch Accuracy:  95.3%, Loss: 0.1862\n",
      "Global Step: 311800, Training Batch Accuracy:  98.4%, Loss: 0.0640\n",
      "Global Step: 311900, Training Batch Accuracy:  98.4%, Loss: 0.0186\n",
      "Global Step: 312000, Training Batch Accuracy:  90.6%, Loss: 0.1618\n",
      "Saved checkpoint.\n",
      "Global Step: 312100, Training Batch Accuracy:  93.8%, Loss: 0.1234\n",
      "Global Step: 312200, Training Batch Accuracy:  92.2%, Loss: 0.2541\n",
      "Global Step: 312300, Training Batch Accuracy:  98.4%, Loss: 0.1333\n",
      "Global Step: 312400, Training Batch Accuracy:  98.4%, Loss: 0.0709\n",
      "Global Step: 312500, Training Batch Accuracy:  93.8%, Loss: 0.2083\n",
      "Global Step: 312600, Training Batch Accuracy:  98.4%, Loss: 0.0553\n",
      "Global Step: 312700, Training Batch Accuracy:  96.9%, Loss: 0.0967\n",
      "Global Step: 312800, Training Batch Accuracy:  93.8%, Loss: 0.1809\n",
      "Global Step: 312900, Training Batch Accuracy:  89.1%, Loss: 0.2659\n",
      "Global Step: 313000, Training Batch Accuracy:  98.4%, Loss: 0.0509\n",
      "Saved checkpoint.\n",
      "Global Step: 313100, Training Batch Accuracy:  92.2%, Loss: 0.2561\n",
      "Global Step: 313200, Training Batch Accuracy:  95.3%, Loss: 0.1503\n",
      "Global Step: 313300, Training Batch Accuracy:  93.8%, Loss: 0.1844\n",
      "Global Step: 313400, Training Batch Accuracy:  95.3%, Loss: 0.0977\n",
      "Global Step: 313500, Training Batch Accuracy:  87.5%, Loss: 0.3191\n",
      "Global Step: 313600, Training Batch Accuracy:  85.9%, Loss: 0.4985\n",
      "Global Step: 313700, Training Batch Accuracy:  93.8%, Loss: 0.1469\n",
      "Global Step: 313800, Training Batch Accuracy:  96.9%, Loss: 0.0822\n",
      "Global Step: 313900, Training Batch Accuracy: 100.0%, Loss: 0.0308\n",
      "Global Step: 314000, Training Batch Accuracy:  96.9%, Loss: 0.1577\n",
      "Saved checkpoint.\n",
      "Global Step: 314100, Training Batch Accuracy:  96.9%, Loss: 0.1194\n",
      "Global Step: 314200, Training Batch Accuracy:  96.9%, Loss: 0.0890\n",
      "Global Step: 314300, Training Batch Accuracy:  96.9%, Loss: 0.0970\n",
      "Global Step: 314400, Training Batch Accuracy:  96.9%, Loss: 0.0849\n",
      "Global Step: 314500, Training Batch Accuracy:  95.3%, Loss: 0.2777\n",
      "Global Step: 314600, Training Batch Accuracy:  96.9%, Loss: 0.1334\n",
      "Global Step: 314700, Training Batch Accuracy:  96.9%, Loss: 0.0709\n",
      "Global Step: 314800, Training Batch Accuracy:  96.9%, Loss: 0.0828\n",
      "Global Step: 314900, Training Batch Accuracy:  96.9%, Loss: 0.1556\n",
      "Global Step: 315000, Training Batch Accuracy:  95.3%, Loss: 0.1147\n",
      "Saved checkpoint.\n",
      "Time usage: 1:47:58\n"
     ]
    }
   ],
   "source": [
    "optimize(num_iterations=100000)"
   ]
  },
  {
   "cell_type": "code",
   "execution_count": null,
   "metadata": {
    "collapsed": true
   },
   "outputs": [],
   "source": []
  },
  {
   "cell_type": "code",
   "execution_count": null,
   "metadata": {
    "collapsed": true
   },
   "outputs": [],
   "source": [
    "# if False:\n",
    "# optimize(num_iterations=1000000)"
   ]
  },
  {
   "cell_type": "markdown",
   "metadata": {},
   "source": [
    "## Results\n",
    "\n",
    "Examples of mis-classifications are plotted below. Some of these are difficult to recognize even for humans and others are reasonable mistakes e.g. between a large car and a truck, or between a cat and a dog, while other mistakes seem a bit strange."
   ]
  },
  {
   "cell_type": "code",
   "execution_count": 61,
   "metadata": {
    "scrolled": true
   },
   "outputs": [
    {
     "name": "stdout",
     "output_type": "stream",
     "text": [
      "Accuracy on Test-Set: 77.0% (7705 / 10000)\n",
      "Example errors:\n"
     ]
    },
    {
     "data": {
      "image/png": "[encoded data removed]",
      "text/plain": [
       "<matplotlib.figure.Figure at 0x7f660dd8b0b8>"
      ]
     },
     "metadata": {},
     "output_type": "display_data"
    },
    {
     "name": "stdout",
     "output_type": "stream",
     "text": [
      "Confusion Matrix:\n",
      "[813  14  38  15  12   9   4  15  42  38] (0) airplane\n",
      "[ 13 870   5   5   5   2   8   3  22  67] (1) automobile\n",
      "[ 41   2 670  53  77  49  41  40  19   8] (2) bird\n",
      "[ 24  14  72 547  54 152  45  39  16  37] (3) cat\n",
      "[  9   3  48  32 769  38  21  64   9   7] (4) deer\n",
      "[  9   5  37 154  43 665  21  44   6  16] (5) dog\n",
      "[ 12   4  45  47  40  18 805  10   9  10] (6) frog\n",
      "[  9   1  27  31  53  44   5 813   6  11] (7) horse\n",
      "[ 39  20  11  13   7   4   6   6 850  44] (8) ship\n",
      "[ 18  36   1   8   2   1   3   5  23 903] (9) truck\n",
      " (0) (1) (2) (3) (4) (5) (6) (7) (8) (9)\n"
     ]
    }
   ],
   "source": [
    "print_test_accuracy(show_example_errors=True,\n",
    "                    show_confusion_matrix=True)"
   ]
  },
  {
   "cell_type": "markdown",
   "metadata": {},
   "source": [
    "### Convolutional Weights\n",
    "\n",
    "The following shows some of the weights (or filters) for the first convolutional layer. There are 3 input channels so there are 3 of these sets, which you may plot by changing the `input_channel`.\n",
    "\n",
    "Note that positive weights are red and negative weights are blue."
   ]
  },
  {
   "cell_type": "code",
   "execution_count": null,
   "metadata": {
    "collapsed": true,
    "scrolled": false
   },
   "outputs": [],
   "source": [
    "plot_conv_weights(weights=weights_conv1, input_channel=0)"
   ]
  },
  {
   "cell_type": "markdown",
   "metadata": {},
   "source": [
    "Plot some of the weights (or filters) for the second convolutional layer. These are apparently closer to zero than the weights for the first convolutional layers, see the lower standard deviation."
   ]
  },
  {
   "cell_type": "code",
   "execution_count": null,
   "metadata": {
    "collapsed": true,
    "scrolled": false
   },
   "outputs": [],
   "source": [
    "plot_conv_weights(weights=weights_conv2, input_channel=1)"
   ]
  },
  {
   "cell_type": "markdown",
   "metadata": {},
   "source": [
    "### Output of convolutional layers"
   ]
  },
  {
   "cell_type": "markdown",
   "metadata": {},
   "source": [
    "Helper-function for plotting an image."
   ]
  },
  {
   "cell_type": "code",
   "execution_count": null,
   "metadata": {
    "collapsed": true
   },
   "outputs": [],
   "source": [
    "def plot_image(image):\n",
    "    # Create figure with sub-plots.\n",
    "    fig, axes = plt.subplots(1, 2)\n",
    "\n",
    "    # References to the sub-plots.\n",
    "    ax0 = axes.flat[0]\n",
    "    ax1 = axes.flat[1]\n",
    "\n",
    "    # Show raw and smoothened images in sub-plots.\n",
    "    ax0.imshow(image, interpolation='nearest')\n",
    "    ax1.imshow(image, interpolation='spline16')\n",
    "\n",
    "    # Set labels.\n",
    "    ax0.set_xlabel('Raw')\n",
    "    ax1.set_xlabel('Smooth')\n",
    "    \n",
    "    # Ensure the plot is shown correctly with multiple plots\n",
    "    # in a single Notebook cell.\n",
    "    plt.show()"
   ]
  },
  {
   "cell_type": "markdown",
   "metadata": {},
   "source": [
    "Plot an image from the test-set. The raw pixelated image is used as input to the neural network."
   ]
  },
  {
   "cell_type": "code",
   "execution_count": null,
   "metadata": {
    "collapsed": true
   },
   "outputs": [],
   "source": [
    "img, cls = get_test_image(16)\n",
    "plot_image(img)"
   ]
  },
  {
   "cell_type": "markdown",
   "metadata": {},
   "source": [
    "Use the raw image as input to the neural network and plot the output of the first convolutional layer."
   ]
  },
  {
   "cell_type": "code",
   "execution_count": null,
   "metadata": {
    "collapsed": true,
    "scrolled": true
   },
   "outputs": [],
   "source": [
    "plot_layer_output(output_conv1, image=img)"
   ]
  },
  {
   "cell_type": "markdown",
   "metadata": {},
   "source": [
    "Using the same image as input to the neural network, now plot the output of the second convolutional layer."
   ]
  },
  {
   "cell_type": "code",
   "execution_count": null,
   "metadata": {
    "collapsed": true,
    "scrolled": true
   },
   "outputs": [],
   "source": [
    "plot_layer_output(output_conv2, image=img)"
   ]
  },
  {
   "cell_type": "markdown",
   "metadata": {},
   "source": [
    "### Predicted class-labels"
   ]
  },
  {
   "cell_type": "markdown",
   "metadata": {},
   "source": [
    "Get the predicted class-label and class-number for this image."
   ]
  },
  {
   "cell_type": "code",
   "execution_count": null,
   "metadata": {
    "collapsed": true
   },
   "outputs": [],
   "source": [
    "label_pred, cls_pred = session.run([y_pred, y_pred_cls],\n",
    "                                   feed_dict={x: [img]})"
   ]
  },
  {
   "cell_type": "markdown",
   "metadata": {},
   "source": [
    "Print the predicted class-label."
   ]
  },
  {
   "cell_type": "code",
   "execution_count": null,
   "metadata": {
    "collapsed": true,
    "scrolled": true
   },
   "outputs": [],
   "source": [
    "# Set the rounding options for numpy.\n",
    "np.set_printoptions(precision=3, suppress=True)\n",
    "\n",
    "# Print the predicted label.\n",
    "print(label_pred[0])"
   ]
  },
  {
   "cell_type": "markdown",
   "metadata": {},
   "source": [
    "The predicted class-label is an array of length 10, with each element indicating how confident the neural network is that the image is the given class.\n",
    "\n",
    "In this case the element with index 3 has a value of 0.493, while the element with index 5 has a value of 0.490. This means the neural network believes the image either shows a class 3 or class 5, which is a cat or a dog, respectively."
   ]
  },
  {
   "cell_type": "code",
   "execution_count": null,
   "metadata": {
    "collapsed": true
   },
   "outputs": [],
   "source": [
    "class_names[3]"
   ]
  },
  {
   "cell_type": "code",
   "execution_count": null,
   "metadata": {
    "collapsed": true
   },
   "outputs": [],
   "source": [
    "class_names[5]"
   ]
  },
  {
   "cell_type": "markdown",
   "metadata": {},
   "source": [
    "## Close TensorFlow Session"
   ]
  },
  {
   "cell_type": "markdown",
   "metadata": {},
   "source": [
    "We are now done using TensorFlow, so we close the session to release its resources."
   ]
  },
  {
   "cell_type": "code",
   "execution_count": null,
   "metadata": {
    "collapsed": true
   },
   "outputs": [],
   "source": [
    "# This has been commented out in case you want to modify and experiment\n",
    "# with the Notebook without having to restart it.\n",
    "session.close()"
   ]
  },
  {
   "cell_type": "markdown",
   "metadata": {},
   "source": [
    "## Homework\n",
    "\n",
    "These are a few suggestions for exercises that may help improve your skills with TensorFlow. It is important to get hands-on experience with TensorFlow in order to learn how to use it properly.\n",
    "\n",
    "You may want to backup this Notebook before making any changes.\n",
    "\n",
    "* Run the optimization for 100,000 iterations and see what the classification accuracy is. This will create a checkpoint that saves all the variables of the TensorFlow graph.\n",
    "* Try changing the structure of the neural network to AlexNet. How does it affect the training time and the classification accuracy? Note that the checkpoints cannot be reloaded when you change the structure of the neural network."
   ]
  }
 ],
 "metadata": {
  "anaconda-cloud": {},
  "kernelspec": {
   "display_name": "Python 3",
   "language": "python",
   "name": "python3"
  },
  "language_info": {
   "codemirror_mode": {
    "name": "ipython",
    "version": 3
   },
   "file_extension": ".py",
   "mimetype": "text/x-python",
   "name": "python",
   "nbconvert_exporter": "python",
   "pygments_lexer": "ipython3",
   "version": "3.6.2"
  }
 },
 "nbformat": 4,
 "nbformat_minor": 1
}
